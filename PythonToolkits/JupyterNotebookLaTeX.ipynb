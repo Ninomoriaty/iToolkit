{
 "cells": [
  {
   "cell_type": "code",
   "execution_count": 1,
   "metadata": {
    "collapsed": true
   },
   "outputs": [
    {
     "data": {
      "text/plain": "<IPython.core.display.Latex object>",
      "text/latex": "# Some Symbols in Quantum Computing\n- vector\n\n$$f(x) = \\begin{cases} \\frac{2} {3} x, & x \\in [0,120] \\\\ x - 40, & x \\in [120,240] \\end{cases}$$\n\n\n"
     },
     "metadata": {},
     "output_type": "display_data"
    }
   ],
   "source": [
    "%%latex\n",
    "# Some Symbols in Quantum Computing\n",
    "- vector\n",
    "\n",
    "$$f(x) = \\begin{cases} \\frac{2} {3} x, & x \\in [0,120] \\\\ x - 40, & x \\in [120,240] \\end{cases}$$\n",
    "\n"
   ]
  }
 ],
 "metadata": {
  "kernelspec": {
   "display_name": "Python 3",
   "language": "python",
   "name": "python3"
  },
  "language_info": {
   "codemirror_mode": {
    "name": "ipython",
    "version": 2
   },
   "file_extension": ".py",
   "mimetype": "text/x-python",
   "name": "python",
   "nbconvert_exporter": "python",
   "pygments_lexer": "ipython2",
   "version": "2.7.6"
  }
 },
 "nbformat": 4,
 "nbformat_minor": 0
}