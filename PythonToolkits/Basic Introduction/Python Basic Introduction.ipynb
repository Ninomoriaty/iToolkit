{
 "cells": [
  {
   "cell_type": "markdown",
   "source": [
    "Guideline Level\n",
    "\n",
    "<center><p style=\"font-size:50px; font-weight:bold\">\n",
    "Python Basic Introduction\n",
    "</p></center>\n",
    "\n",
    "Class, Object, Variables, Basic Operations, Control Structure,\n",
    "Customise Function, Batch Mode"
   ],
   "metadata": {
    "collapsed": false
   }
  },
  {
   "cell_type": "code",
   "execution_count": 1,
   "outputs": [],
   "source": [
    "# Packages and modules\n",
    "## OS and IO\n",
    "import os\n",
    "import shutil\n",
    "import subprocess\n",
    "import sys\n",
    "\n",
    "## Regular Expression\n",
    "import re\n",
    "\n",
    "## String\n",
    "import string\n",
    "\n",
    "## Dictionary\n",
    "from collections import OrderedDict\n",
    "\n",
    "## Scientific Calculation\n",
    "import numpy as np\n",
    "import matplotlib.pylab as plt\n",
    "import pandas\n",
    "import scipy\n",
    "import Bio"
   ],
   "metadata": {
    "collapsed": false,
    "pycharm": {
     "name": "#%%\n"
    }
   }
  },
  {
   "cell_type": "markdown",
   "source": [
    "# Help and Manual"
   ],
   "metadata": {
    "collapsed": false,
    "pycharm": {
     "name": "#%% md\n"
    }
   }
  },
  {
   "cell_type": "code",
   "execution_count": 20,
   "outputs": [
    {
     "name": "stdout",
     "output_type": "stream",
     "text": [
      "Help on built-in function sum in module builtins:\n",
      "\n",
      "sum(iterable, /, start=0)\n",
      "    Return the sum of a 'start' value (default: 0) plus an iterable of numbers\n",
      "    \n",
      "    When the iterable is empty, return the start value.\n",
      "    This function is intended specifically for use with numeric values and may\n",
      "    reject non-numeric types.\n",
      "\n"
     ]
    }
   ],
   "source": [
    "# Check the basic usage of a function/method/module\n",
    "help(sum)\n",
    "\n",
    "# Check the method by enter `tab` twice after the object in IPython (not that useful)\n",
    "# e.g.: os. (Then Press the `tab` key twice )"
   ],
   "metadata": {
    "collapsed": false,
    "pycharm": {
     "name": "#%%\n"
    }
   }
  },
  {
   "cell_type": "markdown",
   "source": [
    "# Inspect Variables"
   ],
   "metadata": {
    "collapsed": false,
    "pycharm": {
     "name": "#%% md\n"
    }
   }
  },
  {
   "cell_type": "code",
   "execution_count": 56,
   "metadata": {
    "collapsed": true
   },
   "outputs": [
    {
     "name": "stdout",
     "output_type": "stream",
     "text": [
      "\n",
      "############# Check Variable Type #############\n",
      "\n",
      "############# Length #############\n",
      "4\n",
      "\n",
      "############# Dimensions #############\n"
     ]
    }
   ],
   "source": [
    "# Assign a variable\n",
    "var = \"test\"\n",
    "\n",
    "# Delete a variable\n",
    "var_del = \"del\"\n",
    "del var_del\n",
    "\n",
    "# Check the data type\n",
    "print(\"\\n############# Check Variable Type #############\")\n",
    "class_var = type(var)\n",
    "\n",
    "# Check the length of list-like objects and dimensions of the dataset\n",
    "print(\"\\n############# Length #############\")\n",
    "length_var = len(var)\n",
    "print(length_var) # `print` function can see the value within the variable\n",
    "## Tips: Additionally, `print` will naturally separate the lines between different `print`\n",
    "\n",
    "print(\"\\n############# Dimensions #############\")"
   ]
  },
  {
   "cell_type": "markdown",
   "source": [
    "# Basic Operations"
   ],
   "metadata": {
    "collapsed": false
   }
  },
  {
   "cell_type": "code",
   "execution_count": 55,
   "outputs": [
    {
     "name": "stdout",
     "output_type": "stream",
     "text": [
      "\n",
      "############# Assign variables #############\n",
      "1 0 0 1 0 0\n"
     ]
    }
   ],
   "source": [
    "# Assign values to multiple variables\n",
    "print(\"\\n############# Assign variables #############\")\n",
    "var1 = var2 = var3 = 0\n",
    "var4, var5, var6 = 1, 0, 0 # common used when return values from functions\n",
    "var1 = var1 + 1\n",
    "print(var1, var2, var3, var4, var5, var6)\n"
   ],
   "metadata": {
    "collapsed": false,
    "pycharm": {
     "name": "#%%\n"
    }
   }
  },
  {
   "cell_type": "markdown",
   "source": [
    "# Data Types\n",
    "**Cc**\n",
    "1. Object: All things in the Python environment could be seen as an object\n",
    "2. Variable:\n",
    "\n",
    "## Numeric data (Integer, Float, Double and Complex (imaginary numbers))"
   ],
   "metadata": {
    "collapsed": false
   }
  },
  {
   "cell_type": "code",
   "execution_count": 5,
   "outputs": [
    {
     "name": "stdout",
     "output_type": "stream",
     "text": [
      "6.0\n",
      "1 1.0\n"
     ]
    }
   ],
   "source": [
    "# Integer\n",
    "var_int = 1.21\n",
    "trans_int = int(var_int)\n",
    "print(trans_int)\n",
    "\n",
    "# Float / Double\n",
    "var_dec = 1.2\n",
    "trans_dec = float(trans_int)\n",
    "print(trans_dec)\n",
    "\n",
    "# Complex\n",
    "var_complex = complex(1.2)\n",
    "\n",
    "# Basic mathematical operator\n",
    "var_cal = 1 + 2 - 3 * 4 / 5 ** 6 % 10 // 3\n",
    "# All operators above can be combined with `=` like:\n",
    "var_cal += var_cal\n",
    "print(var_cal)\n",
    "var_cal -= var_cal\n",
    "print(var_cal)\n",
    "var_cal *= var_cal\n",
    "print(var_cal)\n",
    "\n",
    "# Round the decimal value to n decimal places\n",
    "round(var_cal, 3)\n"
   ],
   "metadata": {
    "collapsed": false,
    "pycharm": {
     "name": "#%%\n"
    }
   }
  },
  {
   "cell_type": "markdown",
   "source": [
    "## Character data / String\n",
    "\n",
    "### Escape Characters\n",
    "| Coded | Meaning                    |\n",
    "| ----- | -------------------------- |\n",
    "| \\\\    | Backslash \\                |\n",
    "| \\'    | Single quote '             |\n",
    "| \\\"    | Double quote \"             |\n",
    "| \\a    | ASCII Bell (BEL)           |\n",
    "| \\b    | ASCII Backspace (BS)       |\n",
    "| \\r    | ASCII Carriage Return (CR) |\n",
    "| \\n    | ASCII Linefeed (LF)        |\n",
    "| \\f    | ASCII Formfeed (FF)        |\n",
    "| \\t    | ASCII Horizontal Tab (TAB) |\n",
    "| \\v    | ASCII Vertical Tab (VT)    |\n",
    "\n",
    "- The Carriage Return (CR) character (0x0D, \\r) moves the cursor to the beginning of the line without advancing to the next line. This character is used as a new line character in Commodore and early Macintosh operating systems (OS-9 and earlier).\n",
    "- The Line Feed (LF) character (0x0A, \\n) moves the cursor down to the next line without returning to the beginning of the line first. This character is used as a new line character in UNIX based systems (Linux, Mac OSX, etc)\n",
    "- The End of Line (EOL) character (0x0D0A, \\r\\n) is actually two ASCII characters and is a combination of the CR and LF characters. It moves the cursor both down to the next line and to the beginning of that line. This character is used as a new line character in most other non-Unix operating systems including Microsoft Windows, Symbian OS and others.\n",
    "- The Form Feed (FF) character (0x0C, \\f) means advance downward to the next \"page\". It was commonly used as page separators, but now can also be used as section separators. (It's uncommonly used in source code to divide logically independent functions or groups of functions.) Text editors can use this character when you \"insert a page break\"."
   ],
   "metadata": {
    "collapsed": false
   }
  },
  {
   "cell_type": "code",
   "execution_count": 7,
   "outputs": [
    {
     "name": "stdout",
     "output_type": "stream",
     "text": [
      "\n",
      "############# String and Raw String #############\n",
      "<class 'str'>\n",
      "Ignore \\n escape characters in raw string\n",
      "Ignore \n",
      " escape characters in raw string\n",
      "\n",
      "############# Quotes #############\n",
      "ATCG678atcg \n",
      "\n",
      "############# Strings from `string` module #############\n",
      "abcdefghijklmnopqrstuvwxyzABCDEFGHIJKLMNOPQRSTUVWXYZ\n",
      "abcdefghijklmnopqrstuvwxyz\n",
      "ABCDEFGHIJKLMNOPQRSTUVWXYZ\n",
      "\n",
      "############# Lowercase or uppercase #############\n",
      "ATCG678atcg atcg678atcg ATCG678ATCG\n",
      "False\n",
      "True\n",
      "\n",
      "############# Check if string starts/ends with substrings #############\n",
      "True\n",
      "False\n",
      "\n",
      "############# Count substrings #############\n",
      "1\n",
      "\n",
      "############# String 'Calculation' #############\n",
      "ATCG678atcgATCG678atcgATCG678atcg\n",
      "1\n",
      "1ATCG678atcgATCG678atcgATCG678atcg\n",
      "\n",
      "############# Link Strings #############\n",
      "ATCG678atcg \n",
      "1ATCG678atcg\n",
      "1 ATCG678atcg\n",
      "\n",
      "############# Split Strings #############\n",
      "['ATCG', 'atcg']\n",
      "['', 'TCG678atcg']\n",
      "\n",
      "############# Replace substrings #############\n",
      "ATCG123atcg\n",
      "\n",
      "############# Remove substrings #############\n",
      "ATCG678atcg\n",
      "CG678atcg\n",
      "ATCG678at\n",
      "\n",
      "############# Find substrings #############\n",
      "4\n",
      "-1\n",
      "-1\n",
      "-1\n"
     ]
    }
   ],
   "source": [
    "# String\n",
    "## Tips: Most methods or functions about string object are case-sensitive\n",
    "print(\"\\n############# String and Raw String #############\")\n",
    "str1 = 'ATCG678atcg'\n",
    "print(str)\n",
    "## Raw String\n",
    "rstr1 = r'escape \\n escape characters in raw string'\n",
    "rstr2 = 'escape \\n escape characters in raw string'\n",
    "print(rstr1)  # raw string can be seen as return escaped escape characters\n",
    "print(rstr2)\n",
    "\n",
    "# Quotes\n",
    "print(\"\\n############# Quotes #############\")\n",
    "str2 = ''\n",
    "str3 = \"'sdes'\"\n",
    "print(str1, str2)\n",
    "## Triple ' are always used to introduce the function parameters\n",
    "def foo(x, y):\n",
    "    \"\"\"\n",
    "    :param x: the first element\n",
    "    :param y: the second element\n",
    "    :return: the sum of the two values\n",
    "    \"\"\"\n",
    "    c = x+y\n",
    "    return c\n",
    "\n",
    "# Transform data into string\n",
    "num_str1 = str(1)\n",
    "\n",
    "# Get the lowercase or uppercase string from string module\n",
    "print(\"\\n############# Strings from `string` module #############\")\n",
    "print(string.ascii_letters) # Tips: The ascii_* is data but not the method for you to call\n",
    "print(string.ascii_lowercase)\n",
    "print(string.ascii_uppercase)\n",
    "\n",
    "# Lowercase or uppercase\n",
    "print(\"\\n############# Lowercase or uppercase #############\")\n",
    "str_lower = str1.lower()\n",
    "str_upper = str1.upper()\n",
    "print(str1, str_lower, str_upper)\n",
    "## Check if all characters are upper\n",
    "print(str1.isupper())\n",
    "print(str_lower.islower())\n",
    "\n",
    "# Check if string starts/ends with substrings\n",
    "print(\"\\n############# Check if string starts/ends with substrings #############\")\n",
    "print(str1.startswith(\"ATCG\"))\n",
    "print(str1.endswith(\"ATCG\"))\n",
    "\n",
    "# Count substrings\n",
    "print(\"\\n############# Count substrings #############\")\n",
    "print(str1.count(\"a\"))\n",
    "\n",
    "# String \"Calculation\"\n",
    "print(\"\\n############# String 'Calculation' #############\")\n",
    "str_multi = str1 * 3\n",
    "print(str_multi)\n",
    "print(1)\n",
    "print(str(1)+str_multi)\n",
    "\n",
    "# Link Strings\n",
    "print(\"\\n############# Link Strings #############\")\n",
    "lk_str = str1 + ' ' + str2\n",
    "print(lk_str)\n",
    "print(num_str1 + str1)\n",
    "print(num_str1, str1)\n",
    "\n",
    "# Split String\n",
    "## Tips: Be careful to the first element when the separator is in the first index\n",
    "## :return list\n",
    "print(\"\\n############# Split Strings #############\")\n",
    "print(str1.split(\"678\"))\n",
    "print(str1.split(\"A\"))\n",
    "\n",
    "# Replace substrings\n",
    "print(\"\\n############# Replace substrings #############\")\n",
    "str_replace = str1.replace(\"678\", \"123\")\n",
    "print(str_replace)\n",
    "\n",
    "# Remove substrings\n",
    "print(\"\\n############# Remove substrings #############\")\n",
    "## Strip: Cumulative pattern\n",
    "print(str1.rstrip()) # basically `rstrip` method will remove the \\n in the end of the str\n",
    "print(str1.strip(\"AT\")) # Remove substrings from the beginning of the string\n",
    "print(str1.rstrip(\"cg\"))  # Remove substrings from the end of the string\n",
    "\n",
    "# Find the positions of substrings\n",
    "## Tips: More methods about finding pattern can be found in the regex part.\n",
    "print(\"\\n############# Find substrings #############\")\n",
    "print(str1.find(\"678\"))  # index from zero\n",
    "print(str1.find(\"xyz\"))  # return -1 means that the substring is not found\n",
    "print(str1.find(\"678\", 7, ))  # search from index 7\n",
    "print(str1.find(\"678\", 7, 10))  # search from index 7 to index 10"
   ],
   "metadata": {
    "collapsed": false,
    "pycharm": {
     "name": "#%%\n"
    }
   }
  },
  {
   "cell_type": "markdown",
   "source": [
    "## Logical data\n",
    "Tips: Logical operators can also be seen in the condition part"
   ],
   "metadata": {
    "collapsed": false
   }
  },
  {
   "cell_type": "code",
   "execution_count": 7,
   "outputs": [
    {
     "name": "stdout",
     "output_type": "stream",
     "text": [
      "\n",
      "############# Logical Operators #############\n",
      "False\n",
      "True\n",
      "False\n",
      "True\n",
      "False\n",
      "\n",
      "############# Bitwise Operators #############\n",
      "0\n",
      "\n",
      "############# ?Is or not #############\n",
      "True\n",
      "True\n",
      "False\n",
      "\n",
      "############# ?Include #############\n",
      "False\n",
      "True\n",
      "\n",
      "############# Numerical comparisons #############\n",
      "False\n",
      "True\n",
      "True\n",
      "True\n",
      "True\n",
      "False\n",
      "True\n"
     ]
    },
    {
     "name": "stderr",
     "output_type": "stream",
     "text": [
      "<>:23: SyntaxWarning: \"is not\" with a literal. Did you mean \"!=\"?\n",
      "<>:24: SyntaxWarning: \"is\" with a literal. Did you mean \"==\"?\n",
      "<>:23: SyntaxWarning: \"is not\" with a literal. Did you mean \"!=\"?\n",
      "<>:24: SyntaxWarning: \"is\" with a literal. Did you mean \"==\"?\n",
      "<ipython-input-7-26e6fb2b8ef3>:23: SyntaxWarning: \"is not\" with a literal. Did you mean \"!=\"?\n",
      "  print(\"\" is not None)  # Tips:None is a special object but not string with nothing\n",
      "<ipython-input-7-26e6fb2b8ef3>:24: SyntaxWarning: \"is\" with a literal. Did you mean \"==\"?\n",
      "  print(\"2\" is 2)  # It works but it is not the best practice\n"
     ]
    }
   ],
   "source": [
    "# Logic Object\n",
    "true = True\n",
    "false = False\n",
    "ls_if = [1, \"1\", 2, \"test\"]\n",
    "\n",
    "# Logical operators\n",
    "print(\"\\n############# Logical Operators #############\")\n",
    "print(true and false)\n",
    "print(true or false)\n",
    "print(not true)\n",
    "print(1 in [1, 2, 3])\n",
    "print(1 not in [1, 2, 3])\n",
    "\n",
    "# Bitwise: Bitwise operators act on operands as if they were a string of binary digits\n",
    "## Lk: https://wiki.python.org/moin/BitwiseOperators\n",
    "# Tips: Simply, the numeric value will be transferred to binary type and each '1' stands\n",
    "# for True and '0' stand for FALSE. Apply the operator to each pair of binary value.\n",
    "print(\"\\n############# Bitwise Operators #############\")\n",
    "x = 10\n",
    "y = 4\n",
    "# Bitwise and\n",
    "print(x & y)\n",
    "# Bitwise or\n",
    "print(x | y)\n",
    "# Bitwise not\n",
    "print(~x)\n",
    "# Bitwise XOR\n",
    "print(x ^ y)\n",
    "# Bitwise right shift\n",
    "print(x >> 2)\n",
    "# Bitwise left shift\n",
    "print(x << 2)\n",
    "\n",
    "# Is or not\n",
    "print(\"\\n############# ?Is or not #############\")\n",
    "print(None is None)\n",
    "print(\"\" is not None)  # Tips:None is a special object but not string with nothing\n",
    "print(\"2\" is 2)  # It works but it is not the best practice\n",
    "\n",
    "# Whether include some element\n",
    "print(\"\\n############# ?Include #############\")\n",
    "print(\"2\" in ls_if)\n",
    "print(2 in ls_if)\n",
    "\n",
    "# Numerical comparisons\n",
    "print(\"\\n############# Numerical comparisons #############\")\n",
    "## Equal\n",
    "print(2 == \"2\")\n",
    "print(3 == 3)\n",
    "print(2 != \"2\")  # not equal to\n",
    "## Larger\n",
    "print(3 > 2)\n",
    "print(3 >= 3) # not less than\n",
    "## Smaller\n",
    "print(3 < 2)\n",
    "print(2 <= 2) # no more than"
   ],
   "metadata": {
    "collapsed": false,
    "pycharm": {
     "name": "#%%\n"
    }
   }
  },
  {
   "cell_type": "markdown",
   "source": [
    "## List"
   ],
   "metadata": {
    "collapsed": false
   }
  },
  {
   "cell_type": "code",
   "execution_count": 8,
   "outputs": [
    {
     "name": "stdout",
     "output_type": "stream",
     "text": [
      "\n",
      "############# Non-redundant list #############\n",
      "[1, 2]\n",
      "\n",
      "############# Sort a list #############\n",
      "[5, 22, 40, 100]\n",
      "[5, 40, 22, 100]\n",
      "[5, 22, 40, 100]\n",
      "\n",
      "############# Slicing #############\n",
      "0\n",
      "[0, 1, 2, 3, 4, 5, 6, 7, 8, 9, 10]\n",
      "[0, 1, 2, 3, 4, 5, 6, 7, 8, 9, 10]\n",
      "[1, 2, 3, 4, 5, 6, 7, 8, 9, 10]\n",
      "[1, 2, 3, 4]\n",
      "[1, 3]\n",
      "[0, 2, 4]\n",
      "[0, 2, 4, 6, 8, 10]\n",
      "[1, 3, 5, 7, 9]\n",
      "[1, 3, 5, 7, 9]\n",
      "\n",
      "############# Add values or connect lists #############\n",
      "[0, 1, 2, 3, 4, 5, 6, 7, 8, 9, 10, 11]\n",
      "[11, 0, 1, 2, 3, 4, 5, 6, 7, 8, 9, 10, 11]\n",
      "[11, 0, 1, 2, 3, 4, 5, 6, 7, 8, 9, 10, 11, 5, 22, 40, 100]\n",
      "\n",
      "############# Remove values from lists #############\n",
      "[0, 1, 2, 3, 4, 5, 6, 7, 8, 9, 10, 11]\n",
      "11 [0, 1, 2, 3, 4, 5, 6, 7, 8, 9, 10]\n",
      "\n",
      "############# Flatten the list #############\n",
      "[1, 2, 3, 4, 5]\n",
      "\n",
      "############# Join elements #############\n",
      "strls\n",
      "strXXXls\n",
      "\n",
      "############# Map function #############\n",
      "['0', '1', '2', '3', '4', '5', '6', '7', '8', '9', '1', '0']\n",
      "['0', '1', '2', '3', '4', '5', '6', '7', '8', '9', '1', '0']\n",
      "\n",
      "############# Trick: Get the content within a list object #############\n",
      "1, 2, 3, 4, 5\n"
     ]
    }
   ],
   "source": [
    "# list\n",
    "ls1 = [0, 1, 2, 3, 4, 5, 6, 7, 8, 9, 10]\n",
    "ls_str = [\"str\", \"ls\"]\n",
    "\n",
    "# Transform to a list\n",
    "ls_range = list(range(1, 10))  # always used for loops\n",
    "ls_set = list({1, 2, 3, 4})\n",
    "\n",
    "# Non-redundant list\n",
    "print(\"\\n############# Non-redundant list #############\")\n",
    "ls_dual = [1,2,1,2]\n",
    "ls_non_redundant = list(set(ls_dual))\n",
    "print(ls_non_redundant)\n",
    "\n",
    "# Sort a list\n",
    "## Tips: The elements for sorted should be comparable.\n",
    "print(\"\\n############# Sort a list #############\")\n",
    "ls_order = [100, 22, 40, 5]\n",
    "print(sorted(ls_order))\n",
    "ls_order.reverse() # but just according to the first number\n",
    "print(ls_order)\n",
    "ls_order.sort()\n",
    "print(ls_order)\n",
    "\n",
    "# Slicing\n",
    "print(\"\\n############# Slicing #############\")\n",
    "## Tips: list, string\n",
    "## Pcp: The : in the list is an operator stands for\n",
    "ls_slicing = [0, 1, 2, 3, 4, 5, 6, 7, 8, 9, 10]\n",
    "print(ls_slicing[0])\n",
    "print(ls_slicing[:])\n",
    "print(ls_slicing[::])\n",
    "print(ls_slicing[1::])\n",
    "print(ls_slicing[1:5])\n",
    "print(ls_slicing[1:5:2])\n",
    "print(ls_slicing[:5:2])\n",
    "print(ls_slicing[::2])\n",
    "### Reverse index\n",
    "print(ls_slicing[-10:-1:2])\n",
    "print(ls_slicing[1:10:2])\n",
    "\n",
    "# Add values or connect lists\n",
    "print(\"\\n############# Add values or connect lists #############\")\n",
    "# Append values to list\n",
    "ls1.append(11)\n",
    "print(ls1)\n",
    "# Insert values to list\n",
    "ls1.insert(0, 11) # Take care of the first place and the last place\n",
    "print(ls1)\n",
    "# Connect two lists\n",
    "ls_plus = ls1 + ls_order\n",
    "print(ls_plus)\n",
    "\n",
    "# Remove values in a list\n",
    "print(\"\\n############# Remove values from lists #############\")\n",
    "# remove elements by the pattern\n",
    "ls1.remove(11)  # only the first one\n",
    "print(ls1)\n",
    "# remove elements by the index\n",
    "# and The extracted value can be assigned to another variable\n",
    "lse_11 = ls1.pop(11)  # By default, the removed element will be the last one\n",
    "print(lse_11, ls1)\n",
    "\n",
    "# Flatten the list\n",
    "print(\"\\n############# Flatten the list #############\")\n",
    "ls_level = [1, [2, 3, 4] ,5]\n",
    "ls_flatten = list(pandas.core.common.flatten(ls_level))\n",
    "print(ls_flatten)\n",
    "\n",
    "# Join elements in a list with a particular separator\n",
    "## Tips: The elements should be string or be converted to string\n",
    "## :return string\n",
    "print(\"\\n############# Join elements #############\")\n",
    "print(\"\".join(ls_str))\n",
    "print(\"XXX\".join(ls_str))\n",
    "\n",
    "# Apply function/method to all element in a list\n",
    "# Ref: Functional Programming Pattern\n",
    "print(\"\\n############# Map function #############\")\n",
    "# Mt1: Common map function\n",
    "print(list(''.join(map(str, ls1))))\n",
    "# Mt2: for loop for a list\n",
    "print(list(\"\".join(str(e) for e in ls1)))\n",
    "\n",
    "# Trick: Get the content within a list object\n",
    "# :return: string\n",
    "## Tips: However, regex provides more general pattern to catch the content within []\n",
    "print(\"\\n############# Trick: Get the content within a list object #############\")\n",
    "numbs = [1,2,3,4,5]\n",
    "print(\"\".join(str(numbs)[1:-1]))"
   ],
   "metadata": {
    "collapsed": false,
    "pycharm": {
     "name": "#%%\n"
    }
   }
  },
  {
   "cell_type": "markdown",
   "source": [
    "## Set\n",
    "### Ab\n",
    "1. The elements in a set is unique and if a list is converted to a set, the list will be unique."
   ],
   "metadata": {
    "collapsed": false
   }
  },
  {
   "cell_type": "code",
   "execution_count": 13,
   "outputs": [
    {
     "name": "stdout",
     "output_type": "stream",
     "text": [
      "{0, 1, 2, 3, 4, 5, 6, 7, 8, 9, 10}\n",
      "\n",
      "############# Get the intersection between two sets #############\n",
      "{0, 1, 2, 3, 4, 5, 6, 7, 8, 9, 10}\n",
      "{0, 1, 2, 3, 4, 5, 6, 7, 8, 9, 10}\n"
     ]
    }
   ],
   "source": [
    "# Sets\n",
    "ls1 = [0, 1, 2, 3, 4, 5, 6, 7, 8, 9, 10]\n",
    "set1 = {0, 1, 2, 3, 4, 5, 6, 7, 8, 9, 10}\n",
    "\n",
    "# Transform variable to a set\n",
    "set_ls = set(ls1)\n",
    "\n",
    "# Get the intersection between two sets\n",
    "print(\"\\n############# Get the intersection between two sets #############\")\n",
    "print(set.intersection(set1, set_ls))\n",
    "print(set1.intersection(set_ls))"
   ],
   "metadata": {
    "collapsed": false,
    "pycharm": {
     "name": "#%%\n"
    }
   }
  },
  {
   "cell_type": "markdown",
   "source": [
    "# Tuple\n",
    "Ab: Immutable, the elements of tuple could not be changed with index.\n"
   ],
   "metadata": {
    "collapsed": false,
    "pycharm": {
     "name": "#%% md\n"
    }
   }
  },
  {
   "cell_type": "code",
   "source": [
    "# Tuple\n",
    "tup1 = (1, 2, 3)\n",
    "\n",
    "# Assign values in tuple\n",
    "e1, e2, e3 = tup1  # The default object for multiple outputs returned from function\n",
    "print(e1, e2, e3)"
   ],
   "metadata": {
    "collapsed": false,
    "pycharm": {
     "name": "#%%\n"
    }
   },
   "execution_count": 15,
   "outputs": [
    {
     "name": "stdout",
     "output_type": "stream",
     "text": [
      "1 2 3\n"
     ]
    }
   ]
  },
  {
   "cell_type": "markdown",
   "source": [
    "# Range\n",
    "Ab: immutable"
   ],
   "metadata": {
    "collapsed": false
   }
  },
  {
   "cell_type": "code",
   "execution_count": null,
   "outputs": [],
   "source": [
    "# range\n",
    "range(5)  # From 0 to 4\n",
    "range(0, 10)  # From 0 to 9\n",
    "\n",
    "# when using in the Python3 loop\n",
    "list(range(0, 10))"
   ],
   "metadata": {
    "collapsed": false,
    "pycharm": {
     "name": "#%%\n"
    }
   }
  },
  {
   "cell_type": "markdown",
   "source": [
    "# Pushdown Stacks\n",
    "**Def**\n",
    "- Container/Array for push/pop element from the front of the list\n",
    "\n",
    "**Ab**\n",
    "- Optimise for insertion(push) and removal(pop)"
   ],
   "metadata": {
    "collapsed": false,
    "pycharm": {
     "name": "#%% md\n"
    }
   }
  },
  {
   "cell_type": "code",
   "execution_count": null,
   "outputs": [],
   "source": [],
   "metadata": {
    "collapsed": false,
    "pycharm": {
     "name": "#%%\n"
    }
   }
  },
  {
   "cell_type": "markdown",
   "source": [
    "## Array (Vector, Matrix, Array)"
   ],
   "metadata": {
    "collapsed": false
   }
  },
  {
   "cell_type": "code",
   "execution_count": null,
   "outputs": [],
   "source": [
    "# Variables\n",
    "vector = np.array([1,2,3,4])\n",
    "matrix = np.array([[1,2,3,4], [2,4,5,6]])\n",
    "array = np.array([[1,2,3,4], [2,4,5,6], [2,4,5,6]])\n",
    "\n",
    "# Matrix Calculation\n",
    "print(matrix+matrix)\n",
    "print(matrix*2)\n",
    "print(array*vector) # Tips: it is not the matrix multiplication\n",
    "print(np.matmul(array, np.matrix.transpose(matrix))) # Matrix multiplication"
   ],
   "metadata": {
    "collapsed": false,
    "pycharm": {
     "name": "#%%\n"
    }
   }
  },
  {
   "cell_type": "markdown",
   "source": [
    "## Dictionary / Hash Tables\n",
    "**Def**\n",
    "- Hash Table\n",
    "- Dictionary is an implementation of Hash tables.\n",
    "\n",
    "**F**\n",
    "- Fast lookups for particular value, especially for strings, sequence or other long seq.\n",
    "- Store `Key`(unique) and `Value` in a variable.\n",
    "- Group variables and reduce chaos caused by too much variables.\n",
    "- Make variables pass more clearly and meaningfully.\n",
    "\n",
    "**Mt-Hash Function**\n",
    "- "
   ],
   "metadata": {
    "collapsed": false,
    "pycharm": {
     "name": "#%% md\n"
    }
   }
  },
  {
   "cell_type": "code",
   "execution_count": 54,
   "outputs": [
    {
     "name": "stdout",
     "output_type": "stream",
     "text": [
      "\n",
      "############# Inspect Dictionary #############\n",
      "2\n",
      "\n",
      "############# Get values from dictionary #############\n",
      "value1\n",
      "value1\n",
      "None\n",
      "Nothing\n",
      "dict_values(['value1', 'value2'])\n",
      "dict_keys(['key1', 'key2'])\n",
      "['key1', 'key2']\n",
      "dict_items([('key1', 'value1'), ('key2', 'value2')])\n",
      "value_new_1\n",
      "dict_items([('key1', 'value_new_1'), ('key2', 'value2'), ('new_key', 'new_value')])\n",
      "{0: 2, 2: 6, 1: 4}\n",
      "8\n",
      "key1value_new_1\n",
      "key2value2\n"
     ]
    }
   ],
   "source": [
    "# Create a dictionary\n",
    "dictionary1 = {\n",
    "    \"key1\" : \"value1\", # separated by comma\n",
    "    \"key2\" : \"value2\"\n",
    "}\n",
    "\n",
    "# Transfer to a dictionary\n",
    "## input: list of pair tuples\n",
    "dictionary2 = dict([(0, 2), (2, 6), (1, 4)])\n",
    "\n",
    "# See the pair number of the dictionary\n",
    "print(\"\\n############# Inspect Dictionary #############\")\n",
    "print(len(dictionary1))\n",
    "\n",
    "# Call the values from a dictionary\n",
    "print(\"\\n############# Get values from dictionary #############\")\n",
    "## Call one value by the key\n",
    "print(dictionary1[\"key1\"])\n",
    "print(dictionary1.get(\"key1\"))\n",
    "### Tips: When using dict[key], it may cause KeyError if the key is dismissed.\n",
    "# KeyError e.g.: print(dictionary1[\"key_None\"])\n",
    "### Tips: But when using `get` method to get the key, it will not get the value and return the None object\n",
    "print(dictionary1.get(\"key_None\"))\n",
    "print(dictionary1.get(\"key_None\", \"Nothing\"))  # You can set the default value if the key is not found\n",
    "## Call all values(list)\n",
    "print(dictionary1.values())\n",
    "## Call all keys(set)\n",
    "print(dictionary1.keys())\n",
    "print(list(dictionary1))  # The default values of dict are keys\n",
    "## Call the key-value pairs as items\n",
    "print(dictionary1.items())\n",
    "\n",
    "# Assign/Add values to keys in dictionaries\n",
    "dictionary1[\"key1\"] = \"value_new_1\"\n",
    "print(dictionary1.get(\"key1\"))\n",
    "dictionary1[\"new_key\"] = \"new_value\"\n",
    "print(dictionary1.items())\n",
    "\n",
    "# Order the dictionary\n",
    "\n",
    "# OrderDict: the dictionary object that remembers the insertion order of items\n",
    "print(dictionary2)\n",
    "dictionary2 = OrderedDict(dictionary2)\n",
    "dictionary2[3] = 8\n",
    "print(dictionary2[3])\n",
    "\n",
    "# Remove the key-value pair in the dictionary\n",
    "## Delete one key-value pair by the key\n",
    "del dictionary1[\"new_key\"]\n",
    "## Remove all items in a dictionary (but the dict is still existing)\n",
    "dictionary2.clear()\n",
    "## Delete the dictionary variable/object\n",
    "del dictionary2\n",
    "\n",
    "# Tips: Loop over the items in the dictionary\n",
    "for key, value in dictionary1.items():\n",
    "    kv = key + value\n",
    "    print(kv)"
   ],
   "metadata": {
    "collapsed": false,
    "pycharm": {
     "name": "#%%\n"
    }
   }
  },
  {
   "cell_type": "markdown",
   "source": [
    "# Control Structure\n",
    "## Conditions\n",
    "Tips: This part can combine many logic objects"
   ],
   "metadata": {
    "collapsed": false
   }
  },
  {
   "cell_type": "code",
   "execution_count": 18,
   "outputs": [
    {
     "ename": "SyntaxError",
     "evalue": "invalid syntax (<ipython-input-18-17cae7f7a0e1>, line 13)",
     "output_type": "error",
     "traceback": [
      "\u001B[0;36m  File \u001B[0;32m\"<ipython-input-18-17cae7f7a0e1>\"\u001B[0;36m, line \u001B[0;32m13\u001B[0m\n\u001B[0;31m    print(assert sum([1, 1]) == 2)\u001B[0m\n\u001B[0m          ^\u001B[0m\n\u001B[0;31mSyntaxError\u001B[0m\u001B[0;31m:\u001B[0m invalid syntax\n"
     ]
    }
   ],
   "source": [
    "# if\n",
    "null = None\n",
    "if (1 <= 2) and (\"a\" in [1, \"a\"]):\n",
    "    print(null is not None)\n",
    "elif null is None:\n",
    "    print(\"Nothing\")\n",
    "else:\n",
    "    print(\"Error\")\n",
    "\n",
    "# try\n",
    "\n",
    "\n",
    "# assert\n",
    "## F:\n",
    "## 1. providing some documentation about the behaviour of the function\n",
    "## 2. reassuring you that your function is giving the right answer\n",
    "## 3. letting you know if you break the function\n",
    "## 4. Demonstrating how the function can be used to other people\n",
    "assert sum([1, 1]) == 2  # if it is true, it will not return anything, else AssertionError\n"
   ],
   "metadata": {
    "collapsed": false,
    "pycharm": {
     "name": "#%%\n"
    }
   }
  },
  {
   "cell_type": "markdown",
   "source": [
    "## Loops"
   ],
   "metadata": {
    "collapsed": false,
    "pycharm": {
     "name": "#%% md\n"
    }
   }
  },
  {
   "cell_type": "code",
   "execution_count": 50,
   "outputs": [
    {
     "name": "stdout",
     "output_type": "stream",
     "text": [
      "4\n",
      "0\n",
      "1\n",
      "while end\n"
     ]
    }
   ],
   "source": [
    "# For Loop\n",
    "for element in [1, 2, 3]:\n",
    "    if element%2 == 0:\n",
    "        element += element\n",
    "    elif element%2 != 0:\n",
    "        continue # continue the next round of the loop\n",
    "    else:\n",
    "        status=1; break # exit the loop and you can also set the status here\n",
    "    print(element)\n",
    "\n",
    "## Tips: `for` loop can be used to read the lines in a file\n",
    "## But `readlines` or operate the content after `read` method will be a better idea.\n",
    "file = open(\"../Data Processing/test/test1.txt\")\n",
    "for line in file:\n",
    "    length = len(line.rstrip('\\n'))\n",
    "    print(length)\n",
    "file.close()\n",
    "\n",
    "# While Loop\n",
    "## Tips: When writing methods to accept possible inputs, use while True to loop until you get the acceptable inputs\n",
    "counter_w = 0\n",
    "while True:\n",
    "    if counter_w <= 1:\n",
    "        print(counter_w)\n",
    "        counter_w += 1\n",
    "    else:\n",
    "        print(\"while end\")\n",
    "        break\n",
    "\n",
    "\n"
   ],
   "metadata": {
    "collapsed": false,
    "pycharm": {
     "name": "#%%\n"
    }
   }
  },
  {
   "cell_type": "markdown",
   "source": [
    "# Functions and Methods\n",
    "## Def\n",
    "Lk: https://stackoverflow.com/questions/155609/whats-the-difference-between-a-method-and-a-function\n",
    "\n",
    "1. A `function` is a piece of code that is called by name. It can be passed data to operate on\n",
    "(i.e. the parameters) and can optionally return data (the return value). All data that is\n",
    "passed to a function is explicitly passed.\n",
    "\n",
    "2.  A `method` is a piece of code that is called by a name that is associated with an object.\n",
    "In most respects it is identical to a function except for two key differences:\n",
    "  1. A method is implicitly passed the object on which it was called.\n",
    "  2. A method is able to operate on data that is contained within the class (remembering\n",
    "that an object is an instance of a class - the class is the definition, the object is an\n",
    "instance of that data).\n",
    "\n",
    "## Pcp\n",
    "1. DON'T write a function that relies on variables created outside of the function\n",
    "2. DON'T write a function that only prints the value instead of returning it"
   ],
   "metadata": {
    "collapsed": false,
    "pycharm": {
     "name": "#%% md\n"
    }
   }
  },
  {
   "cell_type": "code",
   "execution_count": 13,
   "outputs": [
    {
     "name": "stdout",
     "output_type": "stream",
     "text": [
      "3 -1\n"
     ]
    }
   ],
   "source": [
    "# Define a function in a capsule\n",
    "def func(par1, par2=0):  # Default value can be settled like this\n",
    "    result1 = par1 + par2\n",
    "    result2 = par1 - par2\n",
    "    return result1, result2  # Multiple outputs can be separated by comma and stored in a tuple\n",
    "\n",
    "# Call a function\n",
    "re1, re2 = func(par2=2, par1=1)\n",
    "print(re1, re2)\n"
   ],
   "metadata": {
    "collapsed": false,
    "pycharm": {
     "name": "#%%\n"
    }
   }
  },
  {
   "cell_type": "markdown",
   "source": [
    "# Regular Expression(regex)\n",
    "Def:\n",
    "1. A regular expression is a sequence of characters that define a search pattern.\n",
    "2. Regular expressions (aka. \"regex\") are a special mini-language for describing patterns in strings.\n",
    "\n",
    "F:\n",
    "1. string-searching algorithms for \"find\" or \"find and replace\" operations on strings, or\n",
    "2. input validation.\n",
    "\n",
    "Handy for working with patterns in DNA/protein, also text files of many different types.\n",
    "Also find them in other tools, e.g. text editors, grep.\n",
    "\n",
    "Lk:\n",
    "1. More about regex: https://docs.python.org/3/library/re.html"
   ],
   "metadata": {
    "collapsed": false,
    "pycharm": {
     "name": "#%% md\n"
    }
   }
  },
  {
   "cell_type": "code",
   "execution_count": 33,
   "outputs": [
    {
     "name": "stdout",
     "output_type": "stream",
     "text": [
      "<re.Match object; span=(1, 5), match='here'>\n",
      "(1, 5)\n",
      "1\n",
      "5\n",
      "x\n",
      "heres\n",
      "ABSSY CDE: genus is ABSSY, species is CDE\n",
      "EF GHH: genus is EF, species is GHH\n",
      "Here\n",
      "Only Check alternative characters in the []\n",
      "Actually not\n",
      "The start/end of the range will be included\n",
      "############# Basic matched pattern #############\n",
      "Then you will find\n",
      "$ mark the end/newline of the string and find from there.\n",
      "There could be one\n",
      "Repeat from once to twice\n",
      "Repeat 1 or more\n",
      "{1,} is the same as +\n",
      "############# Special string sequences #############\n",
      "\\A means the start of the string, the same as ^\n",
      "The symbol mark the end of the string\n",
      "only at the start/end of a word(without extra characters but symbol will be ok)\n",
      "only not at the start/end of a word(can be many character but not symbol)\n",
      "digital\n",
      "Non white space\n",
      "alphabet\n",
      "non-alphabet\n"
     ]
    }
   ],
   "source": [
    "############# re.search #############\n",
    "# Search if there are values match the pattern in a string or a text file\n",
    "pattern = \"here\"\n",
    "search_content = \"xheres hered here12 heresd\"\n",
    "## Tips: re.search returns the match object\n",
    "print(\"############# Basic Usage #############\")\n",
    "result = re.search(pattern, search_content)\n",
    "print(result)\n",
    "\n",
    "# Search and get the span of the substring\n",
    "print(\"############# Locate the matched substring #############\")\n",
    "span = re.search(pattern, search_content)\n",
    "print(span.span())\n",
    "# Get the start/end of the matched substirng\n",
    "print(span.start())\n",
    "print(span.end())\n",
    "\n",
    "# Return the substrings that match the pattern\n",
    "print(\"############# Return the matched substring in groups #############\")\n",
    "matched_part = re.search(\"^\\w\", search_content).group()\n",
    "print(matched_part)\n",
    "## Tips: group() will return the first matched substring\n",
    "matched_part2 = re.search(\"here\\w\", search_content).group()\n",
    "print(matched_part2)\n",
    "## Extracting multiple groups by () and group index\n",
    "### Tips: The 0 index in the group() is the original string\n",
    "lots_of_animals = [\"ABSSY CDE\", \"EF GHH\"]\n",
    "for this_animal in lots_of_animals :\n",
    "   new_match_obj = re.search('(.+) (.+)',this_animal)\n",
    "   if new_match_obj :\n",
    "     print(this_animal + ': genus is ' + new_match_obj.group(1) + ', species is ' + new_match_obj.group(2))\n",
    "   else :\n",
    "     print('Unable to find a full genus and species pair for ' + this_animal)\n",
    "\n",
    "# Pattern wildcard\n",
    "## Create capture group, & indicate precedence\n",
    "if re.search(r\"(here|res)d\", search_content):\n",
    "    print(\"Here\")\n",
    "\n",
    "## Enclose a set of matchable characters\n",
    "if re.search(r'[here]s', search_content):\n",
    "    print(\"Only Check alternative characters in the []\")\n",
    "### Except the character or character group (but must be settled in the [])\n",
    "if re.search(r\"here[^sd]\", search_content):\n",
    "    print(\"Actually not\")\n",
    "elif re.search(r'here[^s]', search_content):\n",
    "    print(\"Maybe it is right\")\n",
    "### A range of match in the character group\n",
    "if re.search(r'here[e-f]', search_content):\n",
    "    print(\"Alphabet\")\n",
    "elif re.search(r'here[d-s]', search_content):\n",
    "    print(\"The start/end of the range will be included\")\n",
    "\n",
    "print(\"############# Basic matched pattern #############\")\n",
    "## Match start of the whole string (^ means the start of the string)\n",
    "if re.search(\"^here\", search_content):\n",
    "    print(\"Must Start from the beginning of the string\")\n",
    "elif re.search(\"^xhere\", search_content):\n",
    "    print(\"Then you will find\")\n",
    "## Match end of the whole string($ means the position of the end of string)\n",
    "if  re.search(\"s$\", search_content):\n",
    "    print(\"Not Reversely\")\n",
    "elif re.search(\"sd$\", search_content):\n",
    "    print(\"$ mark the end/newline of the string and find from there.\")\n",
    "## (.)Match any character except newline(\\n)\n",
    "if re.search(\"here.$\", search_content):\n",
    "    print(\"Not\")\n",
    "elif re.search(\"here...\", search_content): # Space will be counted as one character\n",
    "    print(\"There could be one\")\n",
    "## Repeated characters(The character before the {})\n",
    "if re.search(\"her{2}e\", search_content):\n",
    "    print(\"Repeat twice\")\n",
    "elif re.search(\"her{1,2}e\", search_content):\n",
    "    print(\"Repeat from once to twice\")\n",
    "    ## +\n",
    "    if re.search(\"he+r\", search_content):\n",
    "        print(\"Repeat 1 or more\")\n",
    "        if re.search(\"he{1,}r\", search_content):\n",
    "            print(\"{1,} is the same as +\")\n",
    "    ## *\n",
    "    elif re.search(\"he*r\", search_content):\n",
    "        print(\"Repeat 0 or more\")\n",
    "        if re.search(\"he{,}r\", search_content):\n",
    "            print(\"{,} is the same as *\")\n",
    "        ## ?\n",
    "        if re.search(\"her?\", search_content):\n",
    "            print(\"Repeat 0 or 1\")\n",
    "            if re.search(\"he{,1}e\", search_content):\n",
    "                print(\"{,1} is the same as ?\")\n",
    "\n",
    "## Special string sequences\n",
    "print(\"############# Special string sequences #############\")\n",
    "### Start of string\n",
    "if re.search(r\"\\Ax\", search_content):\n",
    "    print(\"\\A means the start of the string, the same as ^\")\n",
    "### End of the string\n",
    "if re.search(r\"sd\\Z\", search_content):\n",
    "    print(\"The symbol mark the end of the string\")\n",
    "### Match empty string at the boundary of word\n",
    "if re.search(r\"\\bhered\\b\", search_content):\n",
    "    print(\"only at the start/end of a word(without extra characters but symbol will be ok)\")\n",
    "if re.search(r\"\\Bhe\", search_content):\n",
    "    print(\"only not at the start/end of a word(can be many character but not symbol)\")\n",
    "### Digit\n",
    "if re.search(r'here\\d', search_content):\n",
    "    print(\"digital\")\n",
    "elif re.search(r'here\\D', search_content):\n",
    "    print(\"non-digital\")\n",
    "### White Space including [ \\t\\n\\r\\f\\v]\n",
    "if re.search(r'here\\s', search_content):\n",
    "    print(\"white space\")\n",
    "elif re.search(r\"here\\S\", search_content):\n",
    "    print(\"Non white space\")\n",
    "### Alphabet + Number + _\n",
    "if re.search(r\"here\\w\", search_content):\n",
    "    print(\"alphabet\")\n",
    "if re.search(r\"here12\\W\", search_content):\n",
    "    print(\"non-alphabet\")\n",
    "### Escape characters still obey ASCII and just check the string part"
   ],
   "metadata": {
    "collapsed": false,
    "pycharm": {
     "name": "#%%\n"
    }
   }
  },
  {
   "cell_type": "code",
   "execution_count": null,
   "outputs": [],
   "source": [
    "############# re.split #############\n",
    "# Split a string\n"
   ],
   "metadata": {
    "collapsed": false,
    "pycharm": {
     "name": "#%%\n"
    }
   }
  },
  {
   "cell_type": "code",
   "execution_count": null,
   "outputs": [],
   "source": [
    "############# re.findall #############"
   ],
   "metadata": {
    "collapsed": false,
    "pycharm": {
     "name": "#%%\n"
    }
   }
  },
  {
   "cell_type": "code",
   "execution_count": 3,
   "outputs": [
    {
     "data": {
      "text/plain": "'sdfdsf'"
     },
     "execution_count": 3,
     "metadata": {},
     "output_type": "execute_result"
    }
   ],
   "source": [],
   "metadata": {
    "collapsed": false,
    "pycharm": {
     "name": "#%%\n"
    }
   }
  }
 ],
 "metadata": {
  "kernelspec": {
   "display_name": "Python 3",
   "language": "python",
   "name": "python3"
  },
  "language_info": {
   "codemirror_mode": {
    "name": "ipython",
    "version": 2
   },
   "file_extension": ".py",
   "mimetype": "text/x-python",
   "name": "python",
   "nbconvert_exporter": "python",
   "pygments_lexer": "ipython2",
   "version": "2.7.6"
  }
 },
 "nbformat": 4,
 "nbformat_minor": 0
}