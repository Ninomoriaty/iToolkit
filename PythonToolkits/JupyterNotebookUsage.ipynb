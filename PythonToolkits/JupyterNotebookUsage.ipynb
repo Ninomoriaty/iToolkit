{
 "cells": [
  {
   "source": [
    "Guideline Level\n",
    "\n",
    "<center><p style=\"font-size:50px; font-weight:bold\">\n",
    "Jupyter Notebook in Practice\n",
    "</p></center>\n",
    "\n",
    "Jupyter, Jupyter notebook, Jupyter server"
   ],
   "cell_type": "markdown",
   "metadata": {}
  },
  {
   "source": [
    "# Ref\n",
    "- Offical website: \n",
    "- Offical manual: \n",
    "\n",
    "\n",
    "# Cc\n",
    "- Jupyter\n",
    "- Jupyter Notebook\n",
    "- Jupyter Server\n",
    "- Kernel\n",
    "\n",
    "\n",
    "# F-Why/When Jupyter Notebook\n",
    "- Programming \n",
    "\n",
    "\n",
    "# Problems-Why/When not Jupyter Notebook\n",
    "\n",
    "\n",
    "\n",
    "\n",
    "\n"
   ],
   "cell_type": "markdown",
   "metadata": {}
  },
  {
   "source": [
    "# Mt-Use other programming language/noting language/kernels in Jupyter notebook"
   ],
   "cell_type": "markdown",
   "metadata": {}
  },
  {
   "source": [
    "## Mt-BASH and bash_kernel\n",
    "**Lk**\n",
    "- Bash: Wzinote\n",
    "- BashT: BashToolkits in GitHub repo `iToolkits`\n",
    "- BASH in Python: PythonToolkits\n",
    "    - Python can also interact with bash command and the methods can be found in the PythonToolkits"
   ],
   "cell_type": "markdown",
   "metadata": {}
  },
  {
   "cell_type": "code",
   "execution_count": 13,
   "metadata": {},
   "outputs": [
    {
     "output_type": "stream",
     "name": "stdout",
     "text": [
      "Python 3.8.5\n"
     ]
    }
   ],
   "source": [
    "%%bash\n",
    "\n",
    "# Add %%bash at the top line to activate the bash usage in common jupyter notebook cell to call bash terminal\n",
    "python --version"
   ]
  },
  {
   "cell_type": "code",
   "execution_count": 12,
   "metadata": {},
   "outputs": [
    {
     "output_type": "stream",
     "name": "stdout",
     "text": [
      "Python 3.8.5\n"
     ]
    }
   ],
   "source": [
    "# Use `!` can lable the command line to be executed by BASH\n",
    "!python --version"
   ]
  },
  {
   "source": [
    "## $\\LaTeX$ and Use $\\LaTeX$ in Markdown\n",
    "### Lk\n",
    "- \n",
    "- LaTeX in Markdown Usage: Wiznote\n",
    "\n",
    "**Tips**\n",
    "- Markdown can be used to edit and interpret LaTeX formulas (A more common practice)\n"
   ],
   "cell_type": "markdown",
   "metadata": {}
  },
  {
   "cell_type": "code",
   "execution_count": 11,
   "metadata": {
    "collapsed": true
   },
   "outputs": [
    {
     "output_type": "display_data",
     "data": {
      "text/plain": "<IPython.core.display.Latex object>",
      "text/latex": "$\\rightarrow$\n\n$$f(x) = \\begin{cases} \\frac{2} {3} x, & x \\in [0,120] \\\\ x - 40, & x \\in [120,240] \\end{cases}$$\n\n"
     },
     "metadata": {}
    }
   ],
   "source": [
    "%%latex\n",
    "$\\rightarrow$\n",
    "\n",
    "$$f(x) = \\begin{cases} \\frac{2} {3} x, & x \\in [0,120] \\\\ x - 40, & x \\in [120,240] \\end{cases}$$\n",
    "\n"
   ]
  }
 ],
 "metadata": {
  "kernelspec": {
   "display_name": "Python 3",
   "language": "python",
   "name": "python3"
  }
 },
 "nbformat": 4,
 "nbformat_minor": 0
}