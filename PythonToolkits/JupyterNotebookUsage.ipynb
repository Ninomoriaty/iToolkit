{
 "cells": [
  {
   "source": [
    "Guideline Level\n",
    "\n",
    "<center><p style=\"font-size:50px; font-weight:bold\">\n",
    "Jupyter Notebook Primary Usage\n",
    "</p></center>\n",
    "\n",
    "Jupyter, Jupyter notebook, Jupyter server"
   ],
   "cell_type": "markdown",
   "metadata": {}
  },
  {
   "source": [
    "---\n",
    "---\n",
    "# Ref\n",
    "## Manual or Textbooks\n",
    "- Website: \n",
    "\n",
    "## Websites\n",
    "- Offical manual: \n",
    "\n",
    "\n",
    "# Cc\n",
    "- Jupyter\n",
    "- Jupyter Notebook\n",
    "- Jupyter Server\n",
    "- Kernel\n",
    "\n",
    "\n",
    "# F-Why/When Jupyter Notebook\n",
    "- Project Documentation\n",
    "- Manual/Practice\n",
    "- Presentation\n",
    "\n",
    "\n",
    "# Problems-Why/When not Jupyter Notebook\n",
    "- Project programming\n",
    "\n",
    "# Other\n",
    "\n",
    "\n"
   ],
   "cell_type": "markdown",
   "metadata": {}
  },
  {
   "cell_type": "code",
   "execution_count": null,
   "metadata": {},
   "outputs": [],
   "source": []
  },
  {
   "source": [
    "---\n",
    "---\n",
    "# Editing Skills and Tricks\n",
    "\n",
    "## Add table of content\n"
   ],
   "cell_type": "markdown",
   "metadata": {}
  },
  {
   "source": [
    "---\n",
    "---\n",
    "# vscode extensions and settings\n",
    "## P/Ref\n",
    "- `Jupyter` extension in MarketSpace\n",
    "- \n"
   ],
   "cell_type": "markdown",
   "metadata": {}
  },
  {
   "source": [
    "## Show the outline"
   ],
   "cell_type": "markdown",
   "metadata": {}
  },
  {
   "source": [
    "---\n",
    "---\n",
    "# Other programming languages in Jupyter notebook"
   ],
   "cell_type": "markdown",
   "metadata": {}
  },
  {
   "source": [
    "## BASH and bash_kernel\n",
    "**Lk**\n",
    "- Bash: Wzinote\n",
    "- BashT: BashToolkits in GitHub repo `iToolkits`\n",
    "- BASH in Python: PythonToolkits\n",
    "    - Python can also interact with bash command and the methods can be found in the PythonToolkits\n"
   ],
   "cell_type": "markdown",
   "metadata": {}
  },
  {
   "source": [
    "### Common Usage of BASH command in Jupyter notebook"
   ],
   "cell_type": "markdown",
   "metadata": {}
  },
  {
   "cell_type": "code",
   "execution_count": 13,
   "metadata": {},
   "outputs": [
    {
     "output_type": "stream",
     "name": "stdout",
     "text": [
      "Python 3.8.5\n"
     ]
    }
   ],
   "source": [
    "%%bash\n",
    "\n",
    "# Add %%bash at the top line to activate the bash usage in common jupyter notebook cell to call bash terminal\n",
    "python --version"
   ]
  },
  {
   "cell_type": "code",
   "execution_count": 12,
   "metadata": {},
   "outputs": [
    {
     "output_type": "stream",
     "name": "stdout",
     "text": [
      "Python 3.8.5\n"
     ]
    }
   ],
   "source": [
    "# Use `!` can lable the command line to be executed by BASH\n",
    "!python --version"
   ]
  },
  {
   "source": [
    "### Bash Kernel\n",
    "#### Pc-Config the environment for the notebook\n",
    "- conda/pip\n",
    "- bash kernel\n"
   ],
   "cell_type": "markdown",
   "metadata": {}
  },
  {
   "cell_type": "code",
   "execution_count": null,
   "metadata": {},
   "outputs": [],
   "source": [
    "%%bash\n",
    "\n",
    "# Install the bash kernel by pip or conda\n",
    "pip install bash_kernel\n",
    "python -m bash_kernel.install\n",
    "\n",
    "conda install -c conda-forge bash_kernel"
   ]
  },
  {
   "source": [
    "#### Pc-Use the bash kernel with jupyter notebook server in VScode\n"
   ],
   "cell_type": "markdown",
   "metadata": {}
  },
  {
   "cell_type": "code",
   "execution_count": null,
   "metadata": {},
   "outputs": [],
   "source": [
    "%%bash\n",
    "\n",
    "# Enter the conda env or pip management\n",
    "conda activate PSBenv\n",
    "\n",
    "# Start the terminal and activate the jupyter server\n",
    "jupyter notebook\n",
    "\n",
    "# Then copy the URL to vscode and link the jupyter server\n",
    "# Select the bash kernel `Bash` in your conda env dir as the interpreter and the cells in this notebook could be executed normally."
   ]
  },
  {
   "source": [
    "## $\\LaTeX$ and Use $\\LaTeX$ in Markdown\n",
    "### Lk\n",
    "- \n",
    "- LaTeX in Markdown Usage: Wiznote\n",
    "\n",
    "**Tips**\n",
    "- Markdown can be used to edit and interpret LaTeX formulas (A more common practice)\n"
   ],
   "cell_type": "markdown",
   "metadata": {}
  },
  {
   "cell_type": "code",
   "execution_count": 11,
   "metadata": {
    "collapsed": true
   },
   "outputs": [
    {
     "output_type": "display_data",
     "data": {
      "text/plain": "<IPython.core.display.Latex object>",
      "text/latex": "$\\rightarrow$\n\n$$f(x) = \\begin{cases} \\frac{2} {3} x, & x \\in [0,120] \\\\ x - 40, & x \\in [120,240] \\end{cases}$$\n\n"
     },
     "metadata": {}
    }
   ],
   "source": [
    "%%latex\n",
    "$\\rightarrow$\n",
    "\n",
    "$$f(x) = \\begin{cases} \\frac{2} {3} x, & x \\in [0,120] \\\\ x - 40, & x \\in [120,240] \\end{cases}$$\n",
    "\n"
   ]
  }
 ],
 "metadata": {
  "kernelspec": {
   "display_name": "Python 3",
   "language": "python",
   "name": "python3"
  }
 },
 "nbformat": 4,
 "nbformat_minor": 0
}