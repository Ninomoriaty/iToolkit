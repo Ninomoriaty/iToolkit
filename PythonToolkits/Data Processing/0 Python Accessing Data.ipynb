{
 "cells": [
  {
   "cell_type": "markdown",
   "source": [
    "Guideline Level\n",
    "\n",
    "<center><p style=\"font-size:50px; font-weight:bold\">\n",
    "Python Accessing Data\n",
    "</p></center>\n",
    "\n",
    "I/O user inputs, File System, Data Types, Data Structure"
   ],
   "metadata": {
    "collapsed": false
   }
  },
  {
   "cell_type": "code",
   "execution_count": 28,
   "outputs": [],
   "source": [
    "# Packages and modules\n",
    "## OS\n",
    "import re\n",
    "import os\n",
    "import shutil\n",
    "import subprocess\n",
    "import sys\n",
    "\n",
    "## String\n",
    "import string\n",
    "\n",
    "## Scientific Calculation\n",
    "import numpy as np\n",
    "import matplotlib.pylab as plt\n",
    "import pandas as pd\n",
    "import scipy\n",
    "import Bio"
   ],
   "metadata": {
    "collapsed": false,
    "pycharm": {
     "name": "#%%\n"
    }
   }
  },
  {
   "cell_type": "markdown",
   "source": [
    "# Interact with users(I/O)"
   ],
   "metadata": {
    "collapsed": false
   }
  },
  {
   "cell_type": "code",
   "execution_count": null,
   "outputs": [],
   "source": [
    "# Get input from user interactively\n",
    "para1 = input(\"Message\")\n",
    "## When the script is running, these information will be shown and wait for your inputs\n",
    "## The input will be entered as a string and this can be transform to other data types\n",
    "\n",
    "# Get the parameter inputs when executing the script\n",
    "sys.argv[1] # means the first parameter and how to build a more scalable system is needed to be researched"
   ],
   "metadata": {
    "collapsed": false,
    "pycharm": {
     "name": "#%%\n"
    }
   }
  },
  {
   "cell_type": "markdown",
   "source": [
    "# Operate File System in Python\n",
    "Tips: Most of these processes are stored on the"
   ],
   "metadata": {
    "collapsed": false,
    "pycharm": {
     "name": "#%% md\n"
    }
   }
  },
  {
   "cell_type": "code",
   "execution_count": 35,
   "outputs": [
    {
     "name": "stdout",
     "output_type": "stream",
     "text": [
      "dsfsdfsdf\n",
      "sdfsdf\n",
      "\n",
      "\n"
     ]
    },
    {
     "ename": "TypeError",
     "evalue": "write() takes exactly one argument (0 given)",
     "output_type": "error",
     "traceback": [
      "\u001B[0;31m---------------------------------------------------------------------------\u001B[0m",
      "\u001B[0;31mTypeError\u001B[0m                                 Traceback (most recent call last)",
      "\u001B[0;32m<ipython-input-35-7ee6a6950309>\u001B[0m in \u001B[0;36m<module>\u001B[0;34m\u001B[0m\n\u001B[1;32m     18\u001B[0m \u001B[0;34m\u001B[0m\u001B[0m\n\u001B[1;32m     19\u001B[0m \u001B[0;31m# Write the content in the document\u001B[0m\u001B[0;34m\u001B[0m\u001B[0;34m\u001B[0m\u001B[0;34m\u001B[0m\u001B[0m\n\u001B[0;32m---> 20\u001B[0;31m \u001B[0mfile3\u001B[0m\u001B[0;34m.\u001B[0m\u001B[0mwrite\u001B[0m\u001B[0;34m(\u001B[0m\u001B[0;34m)\u001B[0m \u001B[0;31m# However, `write` method can append content before you close the document\u001B[0m\u001B[0;34m\u001B[0m\u001B[0;34m\u001B[0m\u001B[0m\n\u001B[0m\u001B[1;32m     21\u001B[0m \u001B[0mfile4\u001B[0m\u001B[0;34m.\u001B[0m\u001B[0mwrite\u001B[0m\u001B[0;34m(\u001B[0m\u001B[0;34m)\u001B[0m \u001B[0;31m# `append` mode will keep the original content while the overwrite mode will clear up first\u001B[0m\u001B[0;34m\u001B[0m\u001B[0;34m\u001B[0m\u001B[0m\n\u001B[1;32m     22\u001B[0m \u001B[0;34m\u001B[0m\u001B[0m\n",
      "\u001B[0;31mTypeError\u001B[0m: write() takes exactly one argument (0 given)"
     ]
    }
   ],
   "source": [
    "# Create directory\n",
    "os.mkdir(\"./test/\")  # `mkdir` in bash (empty and new)\n",
    "os.makedirs(\"./test/\", exist_ok=True)  # `mkdir -p` in bash (nested)\n",
    "\n",
    "# Create/Open files and store as a file object in targeted directory\n",
    "## Tips: When using `write` mode, the program will create these documents if the document is not existing.\n",
    "file1 = open(\"./test/test1.txt\")\n",
    "file2 = open(\"./test/test2.txt\", \"r\")  # only read the content without modification\n",
    "file3 = open(\"./test/test3.txt\", \"w\")  # Clear all the content and overwrite the document\n",
    "file4 = open(\"./test/test4.txt\", \"a\")  # Append content rather than overwrite the document\n",
    "\n",
    "# Read the content in the file object\n",
    "## Tips: This content will not be removed when you close the file objects\n",
    "file2_content = file2.read() # generally a string obecject now\n",
    "print(file2_content)\n",
    "\n",
    "# Write the content in the document\n",
    "file3.write(\"Overwrite\") # However, `write` method can append content before you close the document\n",
    "file4.write(\"Append if you execute more than once\") # `append` mode will keep the original content while the overwrite mode will clear up first\n",
    "\n",
    "# Close the files\n",
    "file1.close() # After the modification, remember to close the open file"
   ],
   "metadata": {
    "collapsed": false,
    "pycharm": {
     "name": "#%%\n"
    }
   }
  },
  {
   "cell_type": "markdown",
   "source": [
    "# Call Commands from Shell\n",
    "Tips: The command here interact with a virtual python shell script and connect it to the real shell.\n",
    "Thus the environment variable here is not completely the same as the system shell."
   ],
   "metadata": {
    "collapsed": false,
    "pycharm": {
     "name": "#%% md\n"
    }
   }
  },
  {
   "cell_type": "code",
   "execution_count": 42,
   "outputs": [
    {
     "ename": "TypeError",
     "evalue": "chmod() missing required argument 'path' (pos 1)",
     "output_type": "error",
     "traceback": [
      "\u001B[0;31m---------------------------------------------------------------------------\u001B[0m",
      "\u001B[0;31mTypeError\u001B[0m                                 Traceback (most recent call last)",
      "\u001B[0;32m<ipython-input-42-009d6f40a7a4>\u001B[0m in \u001B[0;36m<module>\u001B[0;34m\u001B[0m\n\u001B[1;32m     11\u001B[0m \u001B[0;34m\u001B[0m\u001B[0m\n\u001B[1;32m     12\u001B[0m \u001B[0;31m# Change the mode/permission of directory or file\u001B[0m\u001B[0;34m\u001B[0m\u001B[0;34m\u001B[0m\u001B[0;34m\u001B[0m\u001B[0m\n\u001B[0;32m---> 13\u001B[0;31m \u001B[0mos\u001B[0m\u001B[0;34m.\u001B[0m\u001B[0mchmod\u001B[0m\u001B[0;34m(\u001B[0m\u001B[0;34m)\u001B[0m  \u001B[0;31m# `chmod` in bash\u001B[0m\u001B[0;34m\u001B[0m\u001B[0;34m\u001B[0m\u001B[0m\n\u001B[0m\u001B[1;32m     14\u001B[0m \u001B[0;34m\u001B[0m\u001B[0m\n\u001B[1;32m     15\u001B[0m \u001B[0;31m# Get environment variable\u001B[0m\u001B[0;34m\u001B[0m\u001B[0;34m\u001B[0m\u001B[0;34m\u001B[0m\u001B[0m\n",
      "\u001B[0;31mTypeError\u001B[0m: chmod() missing required argument 'path' (pos 1)"
     ]
    }
   ],
   "source": [
    "# Tips: Actually most of the commands here can find corresponding shell commands in bash.\n",
    "# Get current working directory\n",
    "os.getcwd() # `pwd` in bash\n",
    "\n",
    "# Get the list of files or directories\n",
    "## :return: the list contain the name of the files and directories\n",
    "os.listdir() # `ls` in bash\n",
    "\n",
    "# Change the workspace directory\n",
    "os.chdir(\"./\")  # `cd` in bash\n",
    "\n",
    "# Change the mode/permission of directory or file\n",
    "os.chmod()  # `chmod` in bash\n",
    "\n",
    "# Get environment variable\n",
    "os.getenv('$USER')\n",
    "\n",
    "# copy a file or directory\n",
    "shutil.copy(\"./test/test1.txt\", \"../test_copy.txt\")  # copy a file; `cp` in bash\n",
    "shutil.copytree(\"./test/\", \"../test2/\") # copy a directory; `cp` in bash\n",
    "\n",
    "# rename a file or directory\n",
    "os.rename(\"../test_copy.txt\", \"../test_copy5.txt\")\n",
    "os.rename(\"./test/\", \"./text/\")\n",
    "\n",
    "# Check if a directory or file is existing (Frequently used in condition)\n",
    "os.path.exists(\"/localdisk/home/myuun/OnLineExamStuff/all_exam_answers.txt\")\n",
    "\n",
    "# Delete the file and directory of the system\n",
    "os.remove(\"../test_copy5.txt\")  # `rm` in bash\n",
    "os.rmdir(\"./text/\")  # `rmdir` in bash. But for empty directory\n",
    "shutil.rmtree(\"./test/\") # `rm -r` in bash. For nested directory\n",
    "\n",
    "# Config the Python shell(temporary)\n",
    "\n",
    "\n",
    "# Call commands from the Python env shell\n",
    "### Tips: The output is the exit status of the command and generally 0 means\n",
    "### that the program works well.\n",
    "## By os module\n",
    "os.system(\"echo 'Hello world from python to shell'\")\n",
    "## By subprocess module\n",
    "subprocess.call(\"/bin/date +%B\", shell=True)\n",
    "output1 = subprocess.check_output(\"/bin/date +%B\", shell=True)  # get the byte string\n",
    "output2 = subprocess.call(\"/bin/date +%B\", shell=True) # result will be transferred to stdout and get the exit status as output s"
   ],
   "metadata": {
    "collapsed": false,
    "pycharm": {
     "name": "#%%\n"
    }
   }
  },
  {
   "cell_type": "markdown",
   "metadata": {
    "collapsed": true,
    "pycharm": {
     "name": "#%% md\n"
    }
   },
   "source": [
    "# Inspect the data\n"
   ]
  },
  {
   "cell_type": "code",
   "execution_count": null,
   "outputs": [],
   "source": [
    "\n",
    "\n"
   ],
   "metadata": {
    "collapsed": false,
    "pycharm": {
     "name": "#%%\n"
    }
   }
  }
 ],
 "metadata": {
  "kernelspec": {
   "display_name": "Python 3",
   "language": "python",
   "name": "python3"
  },
  "language_info": {
   "codemirror_mode": {
    "name": "ipython",
    "version": 2
   },
   "file_extension": ".py",
   "mimetype": "text/x-python",
   "name": "python",
   "nbconvert_exporter": "python",
   "pygments_lexer": "ipython2",
   "version": "2.7.6"
  }
 },
 "nbformat": 4,
 "nbformat_minor": 0
}