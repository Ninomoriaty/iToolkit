{
 "cells": [
  {
   "cell_type": "code",
   "execution_count": null,
   "source": [],
   "outputs": [],
   "metadata": {
    "collapsed": true
   }
  },
  {
   "cell_type": "markdown",
   "source": [
    "Guideline Level (for workflows)\n",
    "\n",
    "<center><p style=\"font-size:50px; font-weight:bold\">\n",
    "Bash/Shell Script\n",
    "</p></center>\n",
    "\n",
    "Shell script writing, Cooperation with high-level language"
   ],
   "metadata": {
    "collapsed": false
   }
  },
  {
   "cell_type": "markdown",
   "source": [
    "# References\n",
    "## Textbook\n",
    "- TLCL 19.01 Part IV\n",
    "- MSc BPSM Course Material in UoE\n",
    "- Bioinformatics in SYSU\n",
    "\n",
    "## Web Resource\n",
    "-\n",
    "\n",
    "# Lk\n",
    "- `~/BashToolkits/LinuxShell.ipynb` in the same folder, which contains the command line and Linux system methods(TLCL 19.01 Part 123)\n",
    "- `~/Practice/*` Shell scripts with integrative methods mentioned in this jupyter notebook\n",
    "- `~/BioIToolkits/*` Some biological workflows implemented with shell scripts and other programming languages\n",
    "\n",
    "# Pcp-Edit\n",
    "- This notebook summarises the preliminary usage of bash/shell practice.\n",
    "\n",
    "\n",
    "\n",
    "\n",
    "\n",
    "\n",
    "\n",
    "\n",
    "\n",
    "\n",
    "\n",
    "\n",
    "\n",
    "\n",
    "\n",
    "\n",
    "\n"
   ],
   "metadata": {
    "collapsed": false
   }
  },
  {
   "cell_type": "markdown",
   "source": [
    "# Mt-Notebook Environment\n",
    "Lk: The same as the environment mentioned in `LinuxShell.ipynb`."
   ],
   "metadata": {}
  },
  {
   "cell_type": "markdown",
   "source": [
    "<center><p style=\"font-size:50px; font-weight:bold\">\n",
    "Part I Basic Concepts and Structure\n",
    "</p></center>\n",
    "\n",
    "Shell script writing, Cooperation with high-level language"
   ],
   "metadata": {}
  },
  {
   "cell_type": "markdown",
   "source": [
    "---\n",
    "---\n",
    "# Cc-Basic\n",
    "\n",
    "- **The Internal Field Separator (IFS): **The symbols used for word splitting; it has default values of space( ), tab(\\t), and newline(\\n).\n",
    "\n",
    "\n",
    "# Pcp/Ab-Bash Shell Scripts\n",
    "\n",
    "- Space sensitive\n",
    "- String would be combine 'without' operator \n",
    "\n",
    "\n",
    "\n",
    "\n",
    "\n"
   ],
   "metadata": {}
  },
  {
   "cell_type": "code",
   "execution_count": null,
   "source": [
    "\n",
    "# set the IFS\n",
    "IFS=\"_\"\n",
    "\n",
    "# reset the IFS to the default value\n",
    "unset IFS"
   ],
   "outputs": [],
   "metadata": {}
  },
  {
   "cell_type": "markdown",
   "source": [
    "---\n",
    "---\n",
    "# Mt-Perform shell scirpts in terminal\n"
   ],
   "metadata": {}
  },
  {
   "cell_type": "code",
   "execution_count": null,
   "source": [
    "\n",
    "# Execute a shell scripts in terminal\n",
    "## Tips: Before execute the shell script, you should make sure that the script is executable with proper permission.\n",
    "#$ script [options] [shell_script]\n",
    "## Options\n",
    "#(TODO) execute multiple scripts in one command line\n",
    "\n",
    "script ./Practice/p1.sh\n",
    "\n",
    "\n",
    "# Execute a script with specific interpreter\n",
    "## Tips: It should be found in other programming language learning and the reason why it is here is that it is relative with shebang.\n",
    "perl null.pl\n",
    "python null.py\n",
    "\n",
    "# "
   ],
   "outputs": [],
   "metadata": {}
  },
  {
   "cell_type": "markdown",
   "source": [
    "---\n",
    "---\n",
    "# St-Shell script\n",
    "## Cpn\n",
    "- Shebang: \"bang\" line or \"shebang\" line\n",
    "    - Def: The first line of the shell script to announce the executor/interpreter of the script\n",
    "    - Pcp: Must be the first line in the script file.\n",
    "    - Ab: Start with `#!`\n",
    "    - F: Announce the particular executor/interpreter\n",
    "    - Tips: Without the line above, you should specify shell terminal when you exec the .sh or python\n",
    "- "
   ],
   "metadata": {}
  },
  {
   "cell_type": "code",
   "execution_count": null,
   "source": [
    "# Some example of shebang line\n",
    "#!/bin/bash\n",
    "#!/usr/bin/awk -f\n",
    "#!/usr/bin/perl\n",
    "#!/usr/bin/python"
   ],
   "outputs": [],
   "metadata": {}
  },
  {
   "cell_type": "markdown",
   "source": [
    "<center><p style=\"font-size:50px; font-weight:bold\">\n",
    "Part II Practice\n",
    "</p></center>\n",
    "\n",
    "Shell script writing, Cooperation with high-level language"
   ],
   "metadata": {}
  },
  {
   "cell_type": "markdown",
   "source": [
    "---\n",
    "---\n",
    "# Basic"
   ],
   "metadata": {}
  },
  {
   "cell_type": "markdown",
   "source": [
    "## Arithmetic Operators\n",
    "![Screenshot from 2020-10-01 02-33-30.png](https://i.loli.net/2020/10/01/QERfpuOT5Mh1Io3.png)"
   ],
   "metadata": {}
  },
  {
   "cell_type": "code",
   "execution_count": null,
   "source": [],
   "outputs": [],
   "metadata": {}
  },
  {
   "cell_type": "markdown",
   "source": [
    "## Quoting\n",
    "F: selectively suppress unwanted expansions.\n",
    "\n",
    "### Single Quotes\n",
    "\n",
    "F:  suppress all expansions\n",
    "\n",
    "Tips: The F also means single quotes could only include string while double quotes could include other command and class.\n",
    "\n",
    "### Double Quotes\n",
    "\n",
    "F: All the special characters used by the shell lose their special meaning and are\n",
    "treated as ordinary characters. <u>The exceptions are $, \\ (backslash), and ` (back-quote).</u>(pathname expansion, arithmetic expansion, command substitution, escaping character)\n"
   ],
   "metadata": {}
  },
  {
   "cell_type": "code",
   "execution_count": null,
   "source": [
    "# Single Quoting\n",
    "# Differences between single quoting and double quoting\n",
    "echo text ~/*.txt {a,b} $(echo foo) $((2+2)) $USER\n",
    "text /home/me/ls-output.txt a b foo 4 me\n",
    "echo \"text ~/*.txt {a,b} $(echo foo) $((2+2)) $USER\" \n",
    "text ~/*.txt {a,b} foo 4 me\n",
    "echo 'text ~/*.txt {a,b} $(echo foo) $((2+2)) $USER'\n",
    "text ~/*.txt {a,b} \n",
    "$(echo foo) $((2+2)) $USER\n",
    "\n",
    "# Another exmaple\n",
    "## single quotes could not include other class within it while double quotes can include. \n",
    "# e.g. below\n",
    "echo '$(echo \"upg\")'$ $(echo \"upg\") # return \n",
    "echo \"$(echo \"upg\")\"$ upg # return\n",
    "\n",
    "# Double Quoting\n",
    "ls -l \"two words.txt\"\n"
   ],
   "outputs": [],
   "metadata": {}
  },
  {
   "cell_type": "markdown",
   "source": [
    "---\n",
    "## Escaping Character: \\ backslash\n",
    "\n",
    "F: \n",
    "\n",
    "1. suppress the expansion/special meaning even it is an exception in single/double quotes.\n",
    "2. And it is a Cpn of control codes\n",
    "\n",
    "![Screenshot from 2020-10-01 12-43-56.png](https://i.loli.net/2020/10/01/MYuyLvBlgGbkjRN.png)\n",
    "\n"
   ],
   "metadata": {}
  },
  {
   "cell_type": "code",
   "execution_count": null,
   "source": [
    "echo \"This apple\\'s price is $2300\"\n",
    "## Outputs: This apple's price is\n",
    "echo This apple\\'s price is \\$2300 \\& it is wonderful\\! \\\\\\\\\n",
    "## Outputs: This apple's price is $2300 & it is wonderful! \\\\\n",
    "\n",
    "# Sp \\a\n",
    "sleep 10; echo -e \"Time's up\\a\" # -e would be interpret the escape sequence\n",
    "sleep 10; echo \"Time's up\" $'\\a' # '\\a' is a variable and capable of exec\n",
    "\n"
   ],
   "outputs": [],
   "metadata": {}
  },
  {
   "cell_type": "markdown",
   "source": [
    "---\n",
    "---\n",
    "# Expansion, Grabbing and Regular Expressions\n",
    "**Cc/Tips**\n",
    "- Sequences\n",
    "    - {a..z} # from a to z in alphbet\n",
    "    - {00..99} \n",
    "    - others could be seen in grabbing\n",
    "- Grabbing\n",
    "    - \n"
   ],
   "metadata": {}
  },
  {
   "cell_type": "markdown",
   "source": [
    "---\n",
    "## Expansion\n",
    "- Def: expanded into something else before the shell acts upon it.\n"
   ],
   "metadata": {}
  },
  {
   "cell_type": "code",
   "execution_count": null,
   "source": [
    "#!/bin/bash\n",
    "\n",
    "# Pathname Expansion\n",
    "## Tips: default not reveal the hidden filesecho /usr/*/share \n",
    "## show all the branch with share branch, good trick\n",
    "echo [[:upper:]]*\n",
    "## How to show the hidden files\n",
    "echo .*  # however, current dir and last dir shown as . and .. would be included\n",
    "echo .[!.]*  # only hidden files would be included.\n",
    "echo .?*  # explanation for the last command why it would not include current dir .\n",
    "\n",
    "# Tilde Expansion:  tilde character (~)\n",
    "echo ~ # show the home dir of current user\n",
    "echo ~[usr_name] # show the home dir of the user named [user_name]\n",
    "\n",
    "# Arithmetic Expansion: exec calculation$((expression)) \n",
    "# only integers\n",
    "$((2+(3**2)/3-2%2*3)) \n",
    "# e.g.\n",
    "\n",
    "# Brace Expansion: create multiple text strings from a pattern containing braces\n",
    "echo Front-{A,B,C}-Back\n",
    "## Outputs: Front-A-Back Front-B-Back Front-C-Back\n",
    "echo x_{1..5} # preamble 1 and postscript 5 limit the range of the list and .. means the other elements in the range\n",
    "## Outputs: x_1 x_2 x_3 x_4 x_5\n",
    "echo y_{01..015} # zero-padded would be ok and the result would like this: \n",
    "## Outputs: $ y_001 y_002 y_003 y_004 y_005 y_006 y_007 y_008 y_009 y_010 y_011 y_012 y_013 y_014 y_015\n",
    "echo {A..Z}\n",
    "## Outputs: $ A B C D E F G H I J K L M N O P Q R S T U V W X Y Z\n",
    "echo x_{A{1..5},B{2..8}}_y\n",
    "## Outputs: $ x_A1_y x_A2_y x_A3_y x_A4_y x_A5_y x_B2_y x_B3_y x_B4_y x_B5_y x_B6_y x_B7_y x_B8_y\n",
    "\n",
    "# Parameter Expansion: $[var]\n",
    "echo $USER  # Parameter contains the USER name of this environment\n",
    "echo $HOME  # show the home dir of your current user\n",
    "printenv | less # show all the user name fo this environment\n",
    "\n",
    "# Command Substitution: allows us to use the output of a command as an expansion.\n",
    "$([command_or_pipelines])\n",
    "ls -l $(which cp)\n",
    "ls -l `which cp`\n"
   ],
   "outputs": [],
   "metadata": {}
  },
  {
   "cell_type": "markdown",
   "source": [
    "---\n",
    "## Grabbing/Wildcards\n",
    "- Wildcard: Specify a group of file name(e.g.: Ref: Table 4-3: Wildcard Examples)\n",
    "- ![Screenshot from 2020-09-23 16-23-44.png](https://i.loli.net/2020/09/25/sjmtqpzwgRlVXUJ.png)\n",
    "- **Tips**: In Nautilus/Files (the file manager for GNOME), you can select files using wildcards in the Search box\n",
    "- **Further Reading**: https://linuxhint.com/bash_globbing_tutorial/"
   ],
   "metadata": {}
  },
  {
   "cell_type": "code",
   "execution_count": null,
   "source": [
    "# check the manual of Globbing\n",
    "man 7 glob  # Wildcard Meaning   \n",
    "* # Matches any characters   \n",
    "? # Matches any single character   \n",
    "[characters] # Matches any character that is a member of the set characters   \n",
    "[!characters] # Matches any character that is not a member of the set characters   \n",
    "[[:class:]] # Matches any character that is a member of the specified class# check the manual of Globbing\n",
    "man 7 glob  # Wildcard Meaning   \n",
    "* # Matches any characters   \n",
    "? # Matches any single character   \n",
    "[characters] # Matches any character that is a member of the set characters   \n",
    "[!characters] # Matches any character that is not a member of the set characters   \n",
    "[[:class:]] # Matches any character that is a member of the specified class\n",
    "## Character Classes\n",
    "[:alnum:] # Matches any alphanumeric character\n",
    "[:alpha:] # Matches any alphabetic character\n",
    "[:digit:] # Matches any numeral\n",
    "[:lower:] # Matches any lowercase letter\n",
    "[:upper:] # Matches any uppercase letter"
   ],
   "outputs": [],
   "metadata": {}
  },
  {
   "cell_type": "markdown",
   "source": [
    "---\n",
    "## Regular Expressions(Regex)\n",
    "Att: Don't input spaces between commas(,) and objects in shell\n",
    "\n",
    "Tips: Actually, the path name expansions is somehow similar with the regular expression, I think it may be because the path name expansion is naturally suitable for the regular expressions.\n",
    "\n",
    "F: In fact, I think it could be considered as an universal syntax and it could be used in many situations, like expansions, grabbing. However, if the chart below is correct, they are quite different."
   ],
   "metadata": {}
  },
  {
   "cell_type": "code",
   "execution_count": null,
   "source": [
    ". matches any single character\n",
    "? the preceding character matches 0 or 1 times\n",
    "* the preceding character matches 0 or more times\n",
    "+ the preceding character matches 1 or more times\n",
    "x{n} the preceding character x matches exactly n times\n",
    "x{n,m} the preceding character x matches at least n times and not more than m times\n",
    "x{n,} the preceding character x matches at least n times\n",
    "x{,m} the preceding character x matches not more than m times\n",
    "[agd] the character is one of those included within the square brackets\n",
    "[^agd] the character is NOT one of those included within the square brackets\n",
    "[c-f] the dash within the square brackets operates as a range, in this case meaning any of the letters c, d, e, or f\n",
    "(la) group several characters together, so (la){3} matches lalala.\n",
    "(X|Y)  the logical OR operation\n",
    "^x matches x (anchors) the beginning of the line\n",
    "x$ matches x at the end of the line"
   ],
   "outputs": [],
   "metadata": {}
  },
  {
   "cell_type": "markdown",
   "source": [
    "---\n",
    "---\n",
    "# System Control\n"
   ],
   "metadata": {}
  },
  {
   "cell_type": "code",
   "execution_count": null,
   "source": [
    "# Wait for the specified number of seconds\n",
    "sleep 10"
   ],
   "outputs": [],
   "metadata": {}
  }
 ],
 "metadata": {
  "kernelspec": {
   "display_name": "Bash",
   "language": "bash",
   "name": "bash"
  },
  "language_info": {
   "codemirror_mode": {
    "name": "ipython",
    "version": 2
   },
   "file_extension": ".py",
   "mimetype": "text/x-python",
   "name": "bash",
   "nbconvert_exporter": "python",
   "pygments_lexer": "ipython2",
   "version": "2.7.6"
  }
 },
 "nbformat": 4,
 "nbformat_minor": 2
}