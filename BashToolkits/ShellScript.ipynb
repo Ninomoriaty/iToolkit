{
 "cells": [
  {
   "cell_type": "code",
   "execution_count": null,
   "metadata": {
    "collapsed": true
   },
   "outputs": [],
   "source": []
  },
  {
   "cell_type": "markdown",
   "source": [
    "Guideline Level (for workflows)\n",
    "\n",
    "<center><p style=\"font-size:50px; font-weight:bold\">\n",
    "Bash/Shell Script\n",
    "</p></center>\n",
    "\n",
    "Shell script writing, Cooperation with high-level language"
   ],
   "metadata": {
    "collapsed": false
   }
  },
  {
   "cell_type": "markdown",
   "source": [
    "# References\n",
    "## Textbook\n",
    "- TLCL 19.01 Part IV\n",
    "\n",
    "## Web Resource\n",
    "-\n",
    "\n",
    "# Lk\n",
    "- `~/BashToolkits/LinuxShell.ipynb` in the same folder, which contains the command line and Linux system methods(TLCL 19.01 Part 123)\n",
    "- `~/Practice/*` Shell scripts with integrative methods mentioned in this jupyter notebook\n",
    "- `~/BioIToolkits/*` Some biological workflows implemented with shell scripts and other programming languages\n",
    "\n",
    "# Pcp-Edit\n",
    "- This notebook summarises the preliminary usage of bash/shell practice.\n",
    "\n",
    "\n",
    "\n",
    "\n",
    "\n",
    "\n",
    "\n",
    "\n",
    "\n",
    "\n",
    "\n",
    "\n",
    "\n",
    "\n",
    "\n",
    "\n",
    "\n"
   ],
   "metadata": {
    "collapsed": false
   }
  }
 ],
 "metadata": {
  "kernelspec": {
   "display_name": "Python 3",
   "language": "python",
   "name": "python3"
  },
  "language_info": {
   "codemirror_mode": {
    "name": "ipython",
    "version": 2
   },
   "file_extension": ".py",
   "mimetype": "text/x-python",
   "name": "python",
   "nbconvert_exporter": "python",
   "pygments_lexer": "ipython2",
   "version": "2.7.6"
  }
 },
 "nbformat": 4,
 "nbformat_minor": 0
}