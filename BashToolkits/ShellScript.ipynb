{
 "cells": [
  {
   "cell_type": "code",
   "execution_count": null,
   "metadata": {
    "collapsed": true
   },
   "outputs": [],
   "source": []
  },
  {
   "cell_type": "markdown",
   "source": [
    "Guideline Level (for workflows)\n",
    "\n",
    "<center><p style=\"font-size:50px; font-weight:bold\">\n",
    "Bash/Shell Script\n",
    "</p></center>\n",
    "\n",
    "Shell script writing, Cooperation with high-level language"
   ],
   "metadata": {
    "collapsed": false
   }
  },
  {
   "cell_type": "markdown",
   "source": [
    "# References\n",
    "## Textbook\n",
    "- TLCL 19.01 Part IV\n",
    "\n",
    "## Web Resource\n",
    "-\n",
    "\n",
    "# Lk\n",
    "- `~/BashToolkits/LinuxShell.ipynb` in the same folder, which contains the command line and Linux system methods(TLCL 19.01 Part 123)\n",
    "- `~/Practice/*` Shell scripts with integrative methods mentioned in this jupyter notebook\n",
    "- `~/BioIToolkits/*` Some biological workflows implemented with shell scripts and other programming languages\n",
    "\n",
    "# Pcp-Edit\n",
    "- This notebook summarises the preliminary usage of bash/shell practice.\n",
    "\n",
    "\n",
    "\n",
    "\n",
    "\n",
    "\n",
    "\n",
    "\n",
    "\n",
    "\n",
    "\n",
    "\n",
    "\n",
    "\n",
    "\n",
    "\n",
    "\n"
   ],
   "metadata": {
    "collapsed": false
   }
  },
  {
   "source": [
    "# Mt-Notebook Environment\n",
    "Lk: The same as the environment mentioned in `LinuxShell.ipynb`."
   ],
   "cell_type": "markdown",
   "metadata": {}
  },
  {
   "source": [],
   "cell_type": "markdown",
   "metadata": {}
  },
  {
   "cell_type": "code",
   "execution_count": null,
   "metadata": {},
   "outputs": [],
   "source": []
  }
 ],
 "metadata": {
  "kernelspec": {
   "display_name": "Bash",
   "language": "bash",
   "name": "python385jvsc74a57bd0817d0a3841ebdd2a1cc36d840618b60456b5940c254da1e77a1b0a18f63766d5"
  },
  "language_info": {
   "codemirror_mode": {
    "name": "ipython",
    "version": 2
   },
   "file_extension": ".py",
   "mimetype": "text/x-python",
   "name": "bash",
   "nbconvert_exporter": "python",
   "pygments_lexer": "ipython2",
   "version": "2.7.6"
  }
 },
 "nbformat": 4,
 "nbformat_minor": 0
}