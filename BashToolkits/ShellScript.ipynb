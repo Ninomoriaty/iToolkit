{
 "cells": [
  {
   "cell_type": "code",
   "execution_count": null,
   "metadata": {
    "collapsed": true
   },
   "outputs": [],
   "source": []
  },
  {
   "cell_type": "markdown",
   "source": [
    "Guideline Level (for workflows)\n",
    "\n",
    "<center><p style=\"font-size:50px; font-weight:bold\">\n",
    "Bash/Shell Script\n",
    "</p></center>\n",
    "\n",
    "Shell script writing, Cooperation with high-level language"
   ],
   "metadata": {
    "collapsed": false
   }
  },
  {
   "cell_type": "markdown",
   "source": [
    "# References\n",
    "## Textbook\n",
    "- TLCL 19.01 Part IV\n",
    "\n",
    "## Web Resource\n",
    "-\n",
    "\n",
    "# Lk\n",
    "- `~/BashToolkits/LinuxShell.ipynb` in the same folder, which contains the command line and Linux system methods(TLCL 19.01 Part 123)\n",
    "- `~/Practice/*` Shell scripts with integrative methods mentioned in this jupyter notebook\n",
    "- `~/BioIToolkits/*` Some biological workflows implemented with shell scripts and other programming languages\n",
    "\n",
    "# Pcp-Edit\n",
    "- This notebook summarises the preliminary usage of bash/shell practice.\n",
    "\n",
    "\n",
    "\n",
    "\n",
    "\n",
    "\n",
    "\n",
    "\n",
    "\n",
    "\n",
    "\n",
    "\n",
    "\n",
    "\n",
    "\n",
    "\n",
    "\n"
   ],
   "metadata": {
    "collapsed": false
   }
  },
  {
   "source": [
    "# Mt-Notebook Environment\n",
    "Lk: The same as the environment mentioned in `LinuxShell.ipynb`."
   ],
   "cell_type": "markdown",
   "metadata": {}
  },
  {
   "source": [
    "<center><p style=\"font-size:50px; font-weight:bold\">\n",
    "Part I Basic Concepts and Structure\n",
    "</p></center>\n",
    "\n",
    "Shell script writing, Cooperation with high-level language"
   ],
   "cell_type": "markdown",
   "metadata": {}
  },
  {
   "source": [
    "---\n",
    "---\n",
    "# Cc-Basic\n",
    "\n",
    "- **The Internal Field Separator (IFS): **The symbols used for word splitting; it has default values of space( ), tab(\\t), and newline(\\n).\n",
    "\n",
    "\n",
    "# Pcp/Ab-Bash Shell Scripts\n",
    "\n",
    "- Space sensitive\n",
    "- String would be combine 'without' operator \n",
    "\n",
    "\n",
    "\n",
    "\n",
    "\n"
   ],
   "cell_type": "markdown",
   "metadata": {}
  },
  {
   "cell_type": "code",
   "execution_count": null,
   "metadata": {},
   "outputs": [],
   "source": [
    "\n",
    "# set the IFS\n",
    "IFS=\"_\"\n",
    "\n",
    "# reset the IFS to the default value\n",
    "unset IFS"
   ]
  },
  {
   "source": [
    "---\n",
    "---\n",
    "# Mt-Perform shell scirpts in terminal\n"
   ],
   "cell_type": "markdown",
   "metadata": {}
  },
  {
   "cell_type": "code",
   "execution_count": null,
   "metadata": {},
   "outputs": [],
   "source": [
    "\n",
    "# Execute a shell scripts in terminal\n",
    "#$ script [options] [shell_script]\n",
    "## Options\n",
    "#(TODO) execute multiple scripts in one command line\n",
    "\n",
    "script ./Practice/p1.sh\n",
    "\n",
    "\n",
    "# Execute a script with specific interpreter\n",
    "## Tips: It should be found in other programming language learning and the reason why it is here is that it is relative with shebang.\n",
    "perl null.pl\n",
    "python null.py\n",
    "\n",
    "# "
   ]
  },
  {
   "source": [
    "---\n",
    "---\n",
    "# St-Shell script\n",
    "## Cpn\n",
    "- Shebang: \"bang\" line or \"shebang\" line\n",
    "    - Def: The first line of the shell script to announce the executor/interpreter of the script\n",
    "    - Pcp: Must be the first line in the script file.\n",
    "    - Ab: Start with `#!`\n",
    "    - F: Announce the particular executor/interpreter\n",
    "    - Tips: Without the line above, you should specify shell terminal when you exec the .sh or python\n",
    "- "
   ],
   "cell_type": "markdown",
   "metadata": {}
  },
  {
   "cell_type": "code",
   "execution_count": null,
   "metadata": {},
   "outputs": [],
   "source": [
    "# Some example of shebang line\n",
    "#!/bin/bash\n",
    "#!/usr/bin/awk -f\n",
    "#!/usr/bin/perl\n",
    "#!/usr/bin/python"
   ]
  },
  {
   "source": [
    "<center><p style=\"font-size:50px; font-weight:bold\">\n",
    "Part II Practice\n",
    "</p></center>\n",
    "\n",
    "Shell script writing, Cooperation with high-level language"
   ],
   "cell_type": "markdown",
   "metadata": {}
  },
  {
   "source": [
    "---\n",
    "---\n",
    "# Mt-Write shell scripts\n"
   ],
   "cell_type": "markdown",
   "metadata": {}
  },
  {
   "source": [],
   "cell_type": "markdown",
   "metadata": {}
  },
  {
   "source": [
    "---\n",
    "---\n",
    "# Expansion, Grabbing and Regular Expressions\n",
    "**Cc/Tips**\n",
    "- Grabbing/Sequences\n",
    "    - {a..z} # from a to z in alphbet\n",
    "    - {00..99} \n",
    "    - others could be seen in grabbing"
   ],
   "cell_type": "markdown",
   "metadata": {}
  }
 ],
 "metadata": {
  "kernelspec": {
   "display_name": "Bash",
   "language": "bash",
   "name": "bash"
  },
  "language_info": {
   "codemirror_mode": {
    "name": "ipython",
    "version": 2
   },
   "file_extension": ".py",
   "mimetype": "text/x-python",
   "name": "bash",
   "nbconvert_exporter": "python",
   "pygments_lexer": "ipython2",
   "version": "2.7.6"
  }
 },
 "nbformat": 4,
 "nbformat_minor": 0
}