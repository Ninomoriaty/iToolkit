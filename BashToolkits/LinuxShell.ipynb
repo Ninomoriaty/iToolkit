{
 "cells": [
  {
   "cell_type": "markdown",
   "metadata": {},
   "source": [
    "Guideline Level\n",
    "\n",
    "<center><p style=\"font-size:50px; font-weight:bold\">\n",
    "Linux Command Collections\n",
    "</p></center>\n",
    "\n",
    "Linux Command line, Linux System Usage, Customisation,"
   ]
  },
  {
   "cell_type": "markdown",
   "metadata": {},
   "source": [
    "---\n",
    "\n",
    "# References\n",
    "## Textbook\n",
    "- TLCL 19.01 Part I - Part III\n",
    "\n",
    "## Web Resource\n",
    "\n",
    "\n",
    "# Lk\n",
    "- `ShellScript.ipynb` in the same folder, which contains the script writing methods(TLCL 19.01 Part IV and MSc BPSM), and the cooperation with IPython console.\n",
    "\n",
    "\n",
    "# Pcp-Edit\n",
    "- This notebook summarises the preliminary usage of bash/shell practice.\n",
    "\n"
   ]
  },
  {
   "source": [
    "---\n",
    "# Mt-Notebook Environment\n",
    "## Pc-Config the environment for the notebook\n",
    "- conda/pip\n",
    "- bash kernel\n"
   ],
   "cell_type": "markdown",
   "metadata": {}
  },
  {
   "cell_type": "code",
   "execution_count": null,
   "metadata": {},
   "outputs": [],
   "source": [
    "# Install the bash kernel by pip or conda\n",
    "pip install bash_kernel\n",
    "python -m bash_kernel.install\n",
    "\n",
    "conda install -c conda-forge bash_kernel"
   ]
  },
  {
   "source": [
    "## Pc-Use the bash kernel with jupyter notebook server in VScode\n"
   ],
   "cell_type": "markdown",
   "metadata": {}
  },
  {
   "cell_type": "code",
   "execution_count": null,
   "metadata": {},
   "outputs": [],
   "source": [
    "# Enter the conda env or pip management\n",
    "conda activate PSBenv\n",
    "\n",
    "# Start the terminal and activate the jupyter server\n",
    "jupyter notebook\n",
    "\n",
    "# Then copy the URL to vscode and link the jupyter server\n",
    "# Select the bash kernel as the interpreter and the cells in this notebook could be executed normally."
   ]
  },
  {
   "cell_type": "markdown",
   "metadata": {
    "pycharm": {
     "name": "#%% md\n"
    }
   },
   "source": [
    "---\n",
    "# Introduction to Shell Command\n",
    "## Cc\n",
    "- POSIX: The Portable Operating System Interface (POSIX) is a family of standards specified by the Institute of Electrical and Electronics Engineers (IEEE, \"I triple E\") Computer Society for maintaining compatibility between operating systems.\n",
    "  - F: defines the application programming interface (API), along with command line shells and utility interfaces, for software compatibility with variants of Unix and other operating systems.\"\n",
    "- Basic format of command in shell\n",
    "  - St: command -options arguments\n",
    "  - Short options could be list <u>together</u> with one dash.\n",
    "  - Long options should be separated by two dashes for each one.\n",
    "\n",
    "## How to read the command instruction\n",
    "**Def**\n",
    "\n",
    "1. **Square brackets:** indicate <u>optional items</u> in the description of a command's syntax.\n",
    "2. **Vertical bar character: ** indicates mutually exclusive items.\n",
    "\n",
    "**e.g.-cd notation**\n",
    "\n",
    "`cd [-L|[-P[-e]]] [dir]`\n",
    "\n",
    "This notation says that the command `cd` may be followed optionally by either a `-L` or a `-P` ,and further, if the `-P` option is specified the `-e` option may also be included followed by the optional argument `[dir]`.\n",
    "\n",
    "## Pcp/Ab-Conventions on BASH\n",
    "1. Case-sensitive\n",
    "2. hyphens(-), underscores(_), and full stops(.) are naturally supported.\n",
    "3. commas(,), space( ) are not permitted in the filenames and pathnames.(Although this could be walk-around by the \"\")\n",
    "\n",
    "## Cat-Shell\n",
    "1. Bash(Bourne-Again Shell): default shell in most Unix distribution\n",
    "2. CSH(C Shell): syntax and usage to C programming language\n",
    "3. TCSH: enhanced CSH\n",
    "4. Korn Shell: Base POSIX shell standard specifications."
   ]
  },
  {
   "cell_type": "markdown",
   "metadata": {
    "pycharm": {
     "name": "#%% md\n"
    }
   },
   "source": [
    "---\n",
    "# Help and Manual"
   ]
  },
  {
   "cell_type": "code",
   "execution_count": null,
   "metadata": {
    "pycharm": {
     "name": "#%%\n"
    },
    "tags": []
   },
   "outputs": [],
   "source": [
    "echo \"---------- Help Page ----------\"\n",
    "# Mt-Call help page\n",
    "#$ [command] --help\n",
    "#$ help [command]  # special for the shell builtins\n",
    "\n",
    "cd --help\n",
    "help cd\n",
    "\n"
   ]
  },
  {
   "cell_type": "code",
   "execution_count": null,
   "metadata": {},
   "outputs": [],
   "source": [
    "\n",
    "echo \"---------- Manual Page ----------\"\n",
    "# man [program]  # show the manual page\n",
    "# man [section_num] [search_term] # use to search other section/manual of\n",
    "#     1. user commands\n",
    "#     2. programming interfaces for kernel system calls\n",
    "#     3. programming interfaces for the C library\n",
    "#     4. special files such as device nodes and drivers\n",
    "#     5. file formats\n",
    "#     6. Games and amusements such as screen savers\n",
    "#     7. Miscellaneous\n",
    "#     8. system administration commands\n",
    "# e.g.\n",
    "# man 5 passwd\n",
    "\n",
    "man mkdir\n",
    "\n",
    "# Options\n",
    "man -k [program] # the same as `apropos`\n",
    "\n",
    "echo \"---------- Other methods ----------\"\n",
    "# whatis [command]\n",
    "\n",
    "whatis python"
   ]
  },
  {
   "cell_type": "markdown",
   "metadata": {
    "pycharm": {
     "name": "#%% md\n"
    }
   },
   "source": [
    "## Mt-Search the list of man page for possible match text\n",
    "\n",
    "```bash\n",
    "apropos [text_to_match]\n",
    "```"
   ]
  },
  {
   "cell_type": "code",
   "execution_count": null,
   "metadata": {
    "pycharm": {
     "name": "#%%\n"
    }
   },
   "outputs": [],
   "source": [
    "apropos python"
   ]
  },
  {
   "cell_type": "markdown",
   "metadata": {
    "pycharm": {
     "name": "#%% md\n"
    }
   },
   "source": [
    "## Mt-Search items in Manual Page\n",
    "\n",
    "1. Type the `/` in the manual page\n",
    "2. type the item that you want to search\n",
    "3. Press `Enter`\n",
    "4. The search results could be jumped forwards and backwards by `N` and `Shift+N`"
   ]
  },
  {
   "cell_type": "markdown",
   "metadata": {
    "pycharm": {
     "name": "#%% md\n"
    }
   },
   "source": [
    "## Info Entry for GNU Project\n",
    "\n",
    "**Tips:**  Info files contain hyperlinks that can move the reader from node to node by press `Enter` key when the cursor upon the hyperlink.\n",
    "\n",
    "```bash\n",
    "info [command]\n",
    "```\n",
    "\n",
    "How to move in the <u>Info files</u>?(same)\n",
    "![Screenshot from 2020-09-23 14-40-34.png](https://i.loli.net/2020/09/23/Pm3DJjGhHZLkWqa.png)"
   ]
  },
  {
   "cell_type": "markdown",
   "metadata": {
    "pycharm": {
     "name": "#%% md\n"
    }
   },
   "source": [
    "---\n",
    "# Terminal Operations\n",
    "**Tips**: bash uses a library *Readline* to implement command line editing, even for the shortcut keys.\n",
    "\n",
    "## Basic Operation\n",
    "- Open/Add new terminals\n",
    "    - (Open/Add) New windows:`Ctrl+Alt+T`\n",
    "    - Tabs: `Ctrl+Shift+N`\n",
    "- Exit the terminal\n",
    "    - (`Ctrl+D`)\n",
    "    - End of File (EOF)\n",
    "    - ```bash\n",
    "      exit\n",
    "      ```\n",
    "\n",
    "## Virtual terminals/consoles\n",
    "\n",
    "\n",
    "\n",
    "## Edit Commands\n",
    "\n",
    "\n",
    "\n",
    "\n"
   ]
  },
  {
   "cell_type": "markdown",
   "metadata": {
    "pycharm": {
     "name": "#%% md\n"
    }
   },
   "source": [
    "---\n",
    "# Linux File System\n",
    "\n",
    "## Special Symbol when using file system\n",
    "\n",
    "## Show Directory Inforamtion\n",
    "\n",
    "## Manipulate Files and Directories\n",
    "\n",
    "## Download files and further process\n",
    "\n",
    "## Navigate in file system\n",
    "sdfsdf"
   ]
  },
  {
   "cell_type": "markdown",
   "metadata": {
    "pycharm": {
     "name": "#%% md\n"
    }
   },
   "source": [
    "---\n",
    "# System Administration\n",
    "\n",
    "## Statistics of current system"
   ]
  },
  {
   "cell_type": "code",
   "execution_count": 10,
   "metadata": {
    "pycharm": {
     "name": "#%%\n"
    }
   },
   "outputs": [
    {
     "output_type": "stream",
     "name": "stdout",
     "text": [
      "---------- Mt-Memory, Swap and Buffers ----------\n",
      "              total        used        free      shared  buff/cache   available\n",
      "Mem:       16254076     4932972     6004112      203328     5316992    10800124\n",
      "Swap:       2097148           0     2097148\n",
      "              total        used        free      shared  buff/cache   available\n",
      "Mem:           15Gi       4.7Gi       5.7Gi       198Mi       5.1Gi        10Gi\n",
      "Swap:         2.0Gi          0B       2.0Gi\n",
      "              total        used        free      shared  buff/cache   available\n",
      "Mem:             16           5           6           0           5          11\n",
      "Swap:             2           0           2\n",
      "----- free Help Page -----\n",
      "\n",
      "Usage:\n",
      " free [options]\n",
      "\n",
      "Options:\n",
      " -b, --bytes         show output in bytes\n",
      "     --kilo          show output in kilobytes\n",
      "     --mega          show output in megabytes\n",
      "     --giga          show output in gigabytes\n",
      "     --tera          show output in terabytes\n",
      "     --peta          show output in petabytes\n",
      " -k, --kibi          show output in kibibytes\n",
      " -m, --mebi          show output in mebibytes\n",
      " -g, --gibi          show output in gibibytes\n",
      "     --tebi          show output in tebibytes\n",
      "     --pebi          show output in pebibytes\n",
      " -h, --human         show human-readable output\n",
      "     --si            use powers of 1000 not 1024\n",
      " -l, --lohi          show detailed low and high memory statistics\n",
      " -t, --total         show total for RAM + swap\n",
      " -s N, --seconds N   repeat printing every N seconds\n",
      " -c N, --count N     repeat printing N times, then exit\n",
      " -w, --wide          wide output\n",
      "\n",
      "     --help     display this help and exit\n",
      " -V, --version  output version information, and exit\n",
      "\n",
      "For more details, see free(1).\n",
      "---------- Mt-Memory, Swap and Buffers ----------\n",
      "\u001b[?2004h"
     ]
    },
    {
     "output_type": "error",
     "ename": "",
     "evalue": "1",
     "traceback": []
    }
   ],
   "source": [
    "\n",
    "echo \"---------- Mt-Memory, Swap and Buffers ----------\"\n",
    "# Mt-Check the memory/swap space resource usage\n",
    "#$ free\n",
    "\n",
    "## Basic info\n",
    "free\n",
    "## Options\n",
    "free -h  # Show output in human readable style(With the unit of space, commonly Gigabytes)\n",
    "free --giga  # Show output in gigabytes (However, without units)\n",
    "## Help page\n",
    "echo \"----- free Help Page -----\"; free --help  # Other methods\n",
    "\n",
    "# output:\n",
    "#               total        used        free      shared  buff/cache   available\n",
    "# Mem:       16254076     6595876     4110600      181472     5547600     9178232\n",
    "# Swap:       2097148           0     2097148\n"
   ]
  },
  {
   "cell_type": "markdown",
   "metadata": {
    "pycharm": {
     "name": "#%% md\n"
    }
   },
   "source": [
    "## Storage Media/Disk Management\n",
    "**Tips**: Not all the command is suitable for your system."
   ]
  },
  {
   "source": [
    "### Mt-Check existing devices\n",
    "\n",
    "**Tips**: Common devices directory `/dev/`\n",
    "\n"
   ],
   "cell_type": "markdown",
   "metadata": {}
  },
  {
   "cell_type": "code",
   "execution_count": 11,
   "metadata": {},
   "outputs": [
    {
     "output_type": "stream",
     "name": "stdout",
     "text": [
      "---------- Mt-Check existing devices ----------\n",
      "\u001b[0m\u001b[40;33;01macpi_thermal_rel\u001b[0m  \u001b[01;34mlightnvm\u001b[0m          \u001b[40;33;01mppp\u001b[0m       \u001b[40;33;01mtty37\u001b[0m      \u001b[40;33;01mttyS25\u001b[0m\n",
      "\u001b[40;33;01mautofs\u001b[0m            \u001b[01;36mlog\u001b[0m               \u001b[40;33;01mpsaux\u001b[0m     \u001b[40;33;01mtty38\u001b[0m      \u001b[40;33;01mttyS26\u001b[0m\n",
      "\u001b[01;34mblock\u001b[0m             \u001b[40;33;01mloop0\u001b[0m             \u001b[40;33;01mptmx\u001b[0m      \u001b[40;33;01mtty39\u001b[0m      \u001b[40;33;01mttyS27\u001b[0m\n",
      "\u001b[01;34mbsg\u001b[0m               \u001b[40;33;01mloop1\u001b[0m             \u001b[01;34mpts\u001b[0m       \u001b[40;33;01mtty4\u001b[0m       \u001b[40;33;01mttyS28\u001b[0m\n",
      "\u001b[40;33;01mbtrfs-control\u001b[0m     \u001b[40;33;01mloop10\u001b[0m            \u001b[40;33;01mrandom\u001b[0m    \u001b[40;33;01mtty40\u001b[0m      \u001b[40;33;01mttyS29\u001b[0m\n",
      "\u001b[01;34mbus\u001b[0m               \u001b[40;33;01mloop11\u001b[0m            \u001b[40;33;01mrfkill\u001b[0m    \u001b[40;33;01mtty41\u001b[0m      \u001b[40;33;01mttyS3\u001b[0m\n",
      "\u001b[01;34mchar\u001b[0m              \u001b[40;33;01mloop12\u001b[0m            \u001b[01;36mrtc\u001b[0m       \u001b[40;33;01mtty42\u001b[0m      \u001b[40;33;01mttyS30\u001b[0m\n",
      "\u001b[40;33;01mconsole\u001b[0m           \u001b[40;33;01mloop13\u001b[0m            \u001b[40;33;01mrtc0\u001b[0m      \u001b[40;33;01mtty43\u001b[0m      \u001b[40;33;01mttyS31\u001b[0m\n",
      "\u001b[01;36mcore\u001b[0m              \u001b[40;33;01mloop14\u001b[0m            \u001b[40;33;01msda\u001b[0m       \u001b[40;33;01mtty44\u001b[0m      \u001b[40;33;01mttyS4\u001b[0m\n",
      "\u001b[01;34mcpu\u001b[0m               \u001b[40;33;01mloop15\u001b[0m            \u001b[40;33;01msda1\u001b[0m      \u001b[40;33;01mtty45\u001b[0m      \u001b[40;33;01mttyS5\u001b[0m\n",
      "\u001b[40;33;01mcpu_dma_latency\u001b[0m   \u001b[40;33;01mloop16\u001b[0m            \u001b[40;33;01msg0\u001b[0m       \u001b[40;33;01mtty46\u001b[0m      \u001b[40;33;01mttyS6\u001b[0m\n",
      "\u001b[40;33;01mcuse\u001b[0m              \u001b[40;33;01mloop17\u001b[0m            \u001b[40;33;01msg1\u001b[0m       \u001b[40;33;01mtty47\u001b[0m      \u001b[40;33;01mttyS7\u001b[0m\n",
      "\u001b[01;34mdisk\u001b[0m              \u001b[40;33;01mloop18\u001b[0m            \u001b[30;42mshm\u001b[0m       \u001b[40;33;01mtty48\u001b[0m      \u001b[40;33;01mttyS8\u001b[0m\n",
      "\u001b[01;34mdma_heap\u001b[0m          \u001b[40;33;01mloop19\u001b[0m            \u001b[40;33;01msnapshot\u001b[0m  \u001b[40;33;01mtty49\u001b[0m      \u001b[40;33;01mttyS9\u001b[0m\n",
      "\u001b[01;34mdri\u001b[0m               \u001b[40;33;01mloop2\u001b[0m             \u001b[01;34msnd\u001b[0m       \u001b[40;33;01mtty5\u001b[0m       \u001b[40;33;01mudmabuf\u001b[0m\n",
      "\u001b[40;33;01mdrm_dp_aux0\u001b[0m       \u001b[40;33;01mloop20\u001b[0m            \u001b[01;36mstderr\u001b[0m    \u001b[40;33;01mtty50\u001b[0m      \u001b[40;33;01muhid\u001b[0m\n",
      "\u001b[40;33;01mecryptfs\u001b[0m          \u001b[40;33;01mloop21\u001b[0m            \u001b[01;36mstdin\u001b[0m     \u001b[40;33;01mtty51\u001b[0m      \u001b[40;33;01muinput\u001b[0m\n",
      "\u001b[40;33;01mfb0\u001b[0m               \u001b[40;33;01mloop3\u001b[0m             \u001b[01;36mstdout\u001b[0m    \u001b[40;33;01mtty52\u001b[0m      \u001b[40;33;01murandom\u001b[0m\n",
      "\u001b[01;36mfd\u001b[0m                \u001b[40;33;01mloop4\u001b[0m             \u001b[40;33;01mtpm0\u001b[0m      \u001b[40;33;01mtty53\u001b[0m      \u001b[01;34musb\u001b[0m\n",
      "\u001b[40;33;01mfull\u001b[0m              \u001b[40;33;01mloop5\u001b[0m             \u001b[40;33;01mtpmrm0\u001b[0m    \u001b[40;33;01mtty54\u001b[0m      \u001b[40;33;01muserio\u001b[0m\n",
      "\u001b[40;33;01mfuse\u001b[0m              \u001b[40;33;01mloop6\u001b[0m             \u001b[40;33;01mtty\u001b[0m       \u001b[40;33;01mtty55\u001b[0m      \u001b[01;34mv4l\u001b[0m\n",
      "\u001b[40;33;01mgpiochip0\u001b[0m         \u001b[40;33;01mloop7\u001b[0m             \u001b[40;33;01mtty0\u001b[0m      \u001b[40;33;01mtty56\u001b[0m      \u001b[40;33;01mvcs\u001b[0m\n",
      "\u001b[40;33;01mhidraw0\u001b[0m           \u001b[40;33;01mloop8\u001b[0m             \u001b[40;33;01mtty1\u001b[0m      \u001b[40;33;01mtty57\u001b[0m      \u001b[40;33;01mvcs1\u001b[0m\n",
      "\u001b[40;33;01mhidraw1\u001b[0m           \u001b[40;33;01mloop9\u001b[0m             \u001b[40;33;01mtty10\u001b[0m     \u001b[40;33;01mtty58\u001b[0m      \u001b[40;33;01mvcs2\u001b[0m\n",
      "\u001b[40;33;01mhidraw2\u001b[0m           \u001b[40;33;01mloop-control\u001b[0m      \u001b[40;33;01mtty11\u001b[0m     \u001b[40;33;01mtty59\u001b[0m      \u001b[40;33;01mvcs3\u001b[0m\n",
      "\u001b[40;33;01mhidraw3\u001b[0m           \u001b[01;34mmapper\u001b[0m            \u001b[40;33;01mtty12\u001b[0m     \u001b[40;33;01mtty6\u001b[0m       \u001b[40;33;01mvcs4\u001b[0m\n",
      "\u001b[40;33;01mhidraw4\u001b[0m           \u001b[40;33;01mmcelog\u001b[0m            \u001b[40;33;01mtty13\u001b[0m     \u001b[40;33;01mtty60\u001b[0m      \u001b[40;33;01mvcs5\u001b[0m\n",
      "\u001b[40;33;01mhidraw5\u001b[0m           \u001b[40;33;01mmedia0\u001b[0m            \u001b[40;33;01mtty14\u001b[0m     \u001b[40;33;01mtty61\u001b[0m      \u001b[40;33;01mvcs6\u001b[0m\n",
      "\u001b[40;33;01mhidraw6\u001b[0m           \u001b[40;33;01mmei0\u001b[0m              \u001b[40;33;01mtty15\u001b[0m     \u001b[40;33;01mtty62\u001b[0m      \u001b[40;33;01mvcsa\u001b[0m\n",
      "\u001b[40;33;01mhidraw7\u001b[0m           \u001b[40;33;01mmem\u001b[0m               \u001b[40;33;01mtty16\u001b[0m     \u001b[40;33;01mtty63\u001b[0m      \u001b[40;33;01mvcsa1\u001b[0m\n",
      "\u001b[40;33;01mhidraw8\u001b[0m           \u001b[30;42mmqueue\u001b[0m            \u001b[40;33;01mtty17\u001b[0m     \u001b[40;33;01mtty7\u001b[0m       \u001b[40;33;01mvcsa2\u001b[0m\n",
      "\u001b[40;33;01mhpet\u001b[0m              \u001b[01;34mnet\u001b[0m               \u001b[40;33;01mtty18\u001b[0m     \u001b[40;33;01mtty8\u001b[0m       \u001b[40;33;01mvcsa3\u001b[0m\n",
      "\u001b[01;34mhugepages\u001b[0m         \u001b[40;33;01mnull\u001b[0m              \u001b[40;33;01mtty19\u001b[0m     \u001b[40;33;01mtty9\u001b[0m       \u001b[40;33;01mvcsa4\u001b[0m\n",
      "\u001b[40;33;01mhwrng\u001b[0m             \u001b[40;33;01mnvidia0\u001b[0m           \u001b[40;33;01mtty2\u001b[0m      \u001b[40;33;01mttyprintk\u001b[0m  \u001b[40;33;01mvcsa5\u001b[0m\n",
      "\u001b[40;33;01mi2c-0\u001b[0m             \u001b[40;33;01mnvidiactl\u001b[0m         \u001b[40;33;01mtty20\u001b[0m     \u001b[40;33;01mttyS0\u001b[0m      \u001b[40;33;01mvcsa6\u001b[0m\n",
      "\u001b[40;33;01mi2c-1\u001b[0m             \u001b[40;33;01mnvidia-modeset\u001b[0m    \u001b[40;33;01mtty21\u001b[0m     \u001b[40;33;01mttyS1\u001b[0m      \u001b[40;33;01mvcsu\u001b[0m\n",
      "\u001b[40;33;01mi2c-10\u001b[0m            \u001b[40;33;01mnvidia-uvm\u001b[0m        \u001b[40;33;01mtty22\u001b[0m     \u001b[40;33;01mttyS10\u001b[0m     \u001b[40;33;01mvcsu1\u001b[0m\n",
      "\u001b[40;33;01mi2c-11\u001b[0m            \u001b[40;33;01mnvidia-uvm-tools\u001b[0m  \u001b[40;33;01mtty23\u001b[0m     \u001b[40;33;01mttyS11\u001b[0m     \u001b[40;33;01mvcsu2\u001b[0m\n",
      "\u001b[40;33;01mi2c-12\u001b[0m            \u001b[40;33;01mnvme0\u001b[0m             \u001b[40;33;01mtty24\u001b[0m     \u001b[40;33;01mttyS12\u001b[0m     \u001b[40;33;01mvcsu3\u001b[0m\n",
      "\u001b[40;33;01mi2c-13\u001b[0m            \u001b[40;33;01mnvme0n1\u001b[0m           \u001b[40;33;01mtty25\u001b[0m     \u001b[40;33;01mttyS13\u001b[0m     \u001b[40;33;01mvcsu4\u001b[0m\n",
      "\u001b[40;33;01mi2c-2\u001b[0m             \u001b[40;33;01mnvme0n1p1\u001b[0m         \u001b[40;33;01mtty26\u001b[0m     \u001b[40;33;01mttyS14\u001b[0m     \u001b[40;33;01mvcsu5\u001b[0m\n",
      "\u001b[40;33;01mi2c-3\u001b[0m             \u001b[40;33;01mnvme0n1p2\u001b[0m         \u001b[40;33;01mtty27\u001b[0m     \u001b[40;33;01mttyS15\u001b[0m     \u001b[40;33;01mvcsu6\u001b[0m\n",
      "\u001b[40;33;01mi2c-4\u001b[0m             \u001b[40;33;01mnvme0n1p3\u001b[0m         \u001b[40;33;01mtty28\u001b[0m     \u001b[40;33;01mttyS16\u001b[0m     \u001b[01;34mvfio\u001b[0m\n",
      "\u001b[40;33;01mi2c-5\u001b[0m             \u001b[40;33;01mnvme0n1p4\u001b[0m         \u001b[40;33;01mtty29\u001b[0m     \u001b[40;33;01mttyS17\u001b[0m     \u001b[40;33;01mvga_arbiter\u001b[0m\n",
      "\u001b[40;33;01mi2c-6\u001b[0m             \u001b[40;33;01mnvme0n1p5\u001b[0m         \u001b[40;33;01mtty3\u001b[0m      \u001b[40;33;01mttyS18\u001b[0m     \u001b[40;33;01mvhci\u001b[0m\n",
      "\u001b[40;33;01mi2c-7\u001b[0m             \u001b[40;33;01mnvme0n1p6\u001b[0m         \u001b[40;33;01mtty30\u001b[0m     \u001b[40;33;01mttyS19\u001b[0m     \u001b[40;33;01mvhost-net\u001b[0m\n",
      "\u001b[40;33;01mi2c-8\u001b[0m             \u001b[40;33;01mnvme1\u001b[0m             \u001b[40;33;01mtty31\u001b[0m     \u001b[40;33;01mttyS2\u001b[0m      \u001b[40;33;01mvhost-vsock\u001b[0m\n",
      "\u001b[40;33;01mi2c-9\u001b[0m             \u001b[40;33;01mnvme1n1\u001b[0m           \u001b[40;33;01mtty32\u001b[0m     \u001b[40;33;01mttyS20\u001b[0m     \u001b[40;33;01mvideo0\u001b[0m\n",
      "\u001b[01;36minitctl\u001b[0m           \u001b[40;33;01mnvme1n1p1\u001b[0m         \u001b[40;33;01mtty33\u001b[0m     \u001b[40;33;01mttyS21\u001b[0m     \u001b[40;33;01mvideo1\u001b[0m\n",
      "\u001b[01;34minput\u001b[0m             \u001b[40;33;01mnvme1n1p2\u001b[0m         \u001b[40;33;01mtty34\u001b[0m     \u001b[40;33;01mttyS22\u001b[0m     \u001b[40;33;01mzero\u001b[0m\n",
      "\u001b[40;33;01mkmsg\u001b[0m              \u001b[40;33;01mnvram\u001b[0m             \u001b[40;33;01mtty35\u001b[0m     \u001b[40;33;01mttyS23\u001b[0m     \u001b[40;33;01mzfs\u001b[0m\n",
      "\u001b[40;33;01mkvm\u001b[0m               \u001b[40;33;01mport\u001b[0m              \u001b[40;33;01mtty36\u001b[0m     \u001b[40;33;01mttyS24\u001b[0m\n",
      "\u001b[?2004h"
     ]
    },
    {
     "output_type": "error",
     "ename": "",
     "evalue": "1",
     "traceback": []
    }
   ],
   "source": [
    "echo \"---------- Mt-Check existing devices ----------\"\n",
    "ls /dev"
   ]
  },
  {
   "cell_type": "markdown",
   "metadata": {
    "pycharm": {
     "name": "#%% md\n"
    }
   },
   "source": [
    "### Mt-Mount"
   ]
  },
  {
   "cell_type": "code",
   "execution_count": null,
   "metadata": {
    "pycharm": {
     "name": "#%%\n"
    }
   },
   "outputs": [],
   "source": [
    "echo \"---------- Mt-Mount ----------\"\n",
    "# Mt-Display mounted file systems\n",
    "#$ mount\n",
    "\n",
    "mount  \n",
    "\n",
    "# output-e.g.: [device] on [mount_point] type [file_system_type] ([options]).\n",
    "\n",
    "# Mt-Mount device to a mount point\n",
    "#$ mount [removable_dev] [dir_mount_point]\n",
    "#$ mount -t [file_system_type] [device_name] [dir_mount_point]\n",
    "\n",
    "mount /dev/sdb1 /mnt/flash\n",
    "mount -t iso9660 /dev/sdc /mnt/cdrom\n",
    "\n",
    "\n"
   ]
  },
  {
   "cell_type": "markdown",
   "metadata": {
    "pycharm": {
     "name": "#%% md\n"
    }
   },
   "source": [
    "### Mt-Unmount\n",
    "**Pcp**\n",
    "- If a device is used by other processes, it can not be unmounted.\n",
    "\n",
    "\n",
    "**F**\n",
    "- Unmounting a device entails writing all the remaining data to the device so that it\n",
    "can be safely removed. \n",
    "- file system corruption, one of the worst things that can happen on a computer.\n",
    "- \n",
    "\n"
   ]
  },
  {
   "cell_type": "code",
   "execution_count": null,
   "metadata": {
    "pycharm": {
     "name": "#%%\n"
    }
   },
   "outputs": [],
   "source": [
    "echo \"---------- Mt-Unmount ----------\"\n",
    "# Mt-Unmount a device\n",
    "# umount [device_name]  # Tips: umount not unmount\n",
    "\n",
    "su -\n",
    "umount /dev/sdc\n",
    "\n",
    "\n"
   ]
  },
  {
   "source": [
    "### Mt-Device naming pattern\n",
    "\n",
    "**Common device names and meaning**\n",
    "\n",
    "| Pattern  | Device                                                       |\n",
    "| -------- | ------------------------------------------------------------ |\n",
    "| /dev/fd* | Floppy disk drives.                                          |\n",
    "| /dev/hd* | IDE (PATA) disks on older systems. Typical motherboards contain two IDE connectors or channels, each with a cable with two attachment points for drives. The first drive on the cable is called the master device, and the second is called the slave device. The device names are ordered such that /dev/hda refers to the master device on the first channel, /dev/hdb is the slave device on the first channel; /dev/hdc is the master device on the second channel, and so on. A trailing digit indicates the partition number on the device. For example, /dev/hda1 refers to the first partition on the first hard drive on the system, while /dev/hda refers to the entire drive. |\n",
    "| /dev/lp* | Printers.                                                    |\n",
    "| /dev/sd* | SCSI disks. On modern Linux systems, the kernel treats all disk- like devices (including PATA/SATA hard disks, flash drives, and USB mass storage devices such as portable music players and digital cameras) as SCSI disks. The rest of the naming system is similar to the older /dev/hd* naming scheme described above. |\n",
    "| /dev/sr* | Optical drives (CD/DVD readers and burners).                 |\n",
    "\n",
    "\n",
    "\n"
   ],
   "cell_type": "markdown",
   "metadata": {}
  },
  {
   "cell_type": "code",
   "execution_count": 1,
   "metadata": {},
   "outputs": [],
   "source": [
    "# Mt-Check the name of a device\n",
    "#$ sudo tail -f /var/log/messages  # Actually, different distributions contain different log files.\n",
    "\n",
    "# \n",
    "\n"
   ]
  },
  {
   "cell_type": "markdown",
   "metadata": {
    "pycharm": {
     "name": "#%% md\n"
    }
   },
   "source": [
    "---\n",
    "# Edit in command line\n"
   ]
  },
  {
   "cell_type": "code",
   "execution_count": null,
   "metadata": {
    "pycharm": {
     "name": "#%%\n"
    }
   },
   "outputs": [],
   "source": []
  }
 ],
 "metadata": {
  "interpreter": {
   "hash": "817d0a3841ebdd2a1cc36d840618b60456b5940c254da1e77a1b0a18f63766d5"
  },
  "kernelspec": {
   "name": "bash",
   "display_name": "Bash",
   "language": "bash"
  },
  "language_info": {
   "codemirror_mode": "shell",
   "file_extension": ".sh",
   "mimetype": "text/x-sh",
   "name": "bash",
   "version": "3.8.5"
  }
 },
 "nbformat": 4,
 "nbformat_minor": 1
}