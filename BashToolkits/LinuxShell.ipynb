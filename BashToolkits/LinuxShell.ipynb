{
 "cells": [
  {
   "cell_type": "markdown",
   "source": [
    "Guideline Level\n",
    "\n",
    "<center><p style=\"font-size:50px; font-weight:bold\">\n",
    "Linux Command Collections\n",
    "</p></center>\n",
    "\n",
    "Linux Commandline,"
   ],
   "metadata": {
    "collapsed": false
   }
  },
  {
   "cell_type": "markdown",
   "source": [
    "# References\n",
    "## Textbook\n",
    "- TLCL 19.01 Part I - Part III\n",
    "\n",
    "## Web Resource\n",
    "\n",
    "\n",
    "# Lk\n",
    "- `ShellScript.ipynb` in the same folder, which contains the script writing methods(TLCL 19.01 Part IV and MSc BPSM), and the cooperation with IPython console.\n",
    "\n",
    "\n",
    "# Pcp-Edit\n",
    "- This notebook summarises the preliminary usage of bash/shell practice.\n"
   ],
   "metadata": {
    "collapsed": false
   }
  },
  {
   "cell_type": "markdown",
   "source": [
    "# Introduction to Shell Command\n",
    "## Cc\n",
    "- POSIX: The Portable Operating System Interface (POSIX) is a family of standards specified by the Institute of Electrical and Electronics Engineers (IEEE, \"I triple E\") Computer Society for maintaining compatibility between operating systems.\n",
    "  - F: defines the application programming interface (API), along with command line shells and utility interfaces, for software compatibility with variants of Unix and other operating systems.\"\n",
    "- Basic format of command in shell\n",
    "  - St: command -options arguments\n",
    "  - Short options could be list <u>together</u> with one dash.\n",
    "  - Long options should be separated by two dashes for each one.\n",
    "\n",
    "## How to read the command instruction\n",
    "**Def**\n",
    "\n",
    "1. **Square brackets:** indicate <u>optional items</u> in the description of a command's syntax.\n",
    "2. **Vertical bar character: ** indicates mutually exclusive items.\n",
    "\n",
    "**e.g.-cd notation**\n",
    "\n",
    "`cd [-L|[-P[-e]]] [dir]`\n",
    "\n",
    "This notation says that the command `cd` may be followed optionally by either a `-L` or a `-P` ,and further, if the `-P` option is specified the `-e` option may also be included followed by the optional argument `[dir]`.\n",
    "\n",
    "## Pcp/Ab-Conventions on BASH\n",
    "1. Case-sensitive\n",
    "2. hyphens(-), underscores(_), and full stops(.) are naturally supported.\n",
    "3. commas(,), space( ) are not permitted in the filenames and pathnames.(Although this could be walk-around by the \"\")\n",
    "\n",
    "## Cat-Shell\n",
    "1. Bash(Bourne-Again Shell): default shell in most Unix distribution\n",
    "2. CSH(C Shell): syntax and usage to C programming language\n",
    "3. TCSH: enhanced CSH\n",
    "4. Korn Shell: Base POSIX shell standard specifications."
   ],
   "metadata": {
    "collapsed": false,
    "pycharm": {
     "name": "#%% md\n"
    }
   }
  },
  {
   "cell_type": "markdown",
   "source": [
    "# Help and Manual\n",
    "\n",
    "## Mt-Recall the help/man page\n",
    "```bash\n",
    "# Help page provided by the program or command\n",
    "[command] --help\n",
    "help [command] # special for the shell builtins\n",
    "```\n",
    "\n",
    "```bash\n",
    "# Man page provide by the program\n",
    "# man usage\n",
    "man [program] # show the manual page\n",
    "man [section_num] [search_term] # use to search other section/manual of\n",
    "    1. user commands\n",
    "    2. programming interfaces for kernel system calls\n",
    "    3. programming interfaces for the C library\n",
    "    4. special files such as device nodes and drivers\n",
    "    5. file formats\n",
    "    6. Games and amusements such as screen savers\n",
    "    7. Miscellaneous\n",
    "    8. system administration commands\n",
    "e.g.\n",
    "\tman 5 passwd\n",
    "\n",
    "# Options\n",
    "man -k [program] # the same as `apropos`\n",
    "```\n",
    "\n",
    "```bash\n",
    "# Other methods\n",
    "whatis [command]\n",
    "```"
   ],
   "metadata": {
    "collapsed": false,
    "pycharm": {
     "name": "#%% md\n"
    }
   }
  },
  {
   "cell_type": "code",
   "execution_count": 17,
   "outputs": [
    {
     "name": "stdout",
     "output_type": "stream",
     "text": [
      "---------- Help Page ----------\n",
      "cd: cd [-L|[-P [-e]] [-@]] [dir]\n",
      "    Change the shell working directory.\n",
      "    \n",
      "    Change the current directory to DIR.  The default DIR is the value of the\n",
      "    HOME shell variable.\n",
      "    \n",
      "    The variable CDPATH defines the search path for the directory containing\n",
      "    DIR.  Alternative directory names in CDPATH are separated by a colon (:).\n",
      "    A null directory name is the same as the current directory.  If DIR begins\n",
      "    with a slash (/), then CDPATH is not used.\n",
      "    \n",
      "    If the directory is not found, and the shell option `cdable_vars' is set,\n",
      "    the word is assumed to be  a variable name.  If that variable has a value,\n",
      "    its value is used for DIR.\n",
      "    \n",
      "    Options:\n",
      "      -L\tforce symbolic links to be followed: resolve symbolic\n",
      "    \t\tlinks in DIR after processing instances of `..'\n",
      "      -P\tuse the physical directory structure without following\n",
      "    \t\tsymbolic links: resolve symbolic links in DIR before\n",
      "    \t\tprocessing instances of `..'\n",
      "      -e\tif the -P option is supplied, and the current working\n",
      "    \t\tdirectory cannot be determined successfully, exit with\n",
      "    \t\ta non-zero status\n",
      "      -@\ton systems that support it, present a file with extended\n",
      "    \t\tattributes as a directory containing the file attributes\n",
      "    \n",
      "    The default is to follow symbolic links, as if `-L' were specified.\n",
      "    `..' is processed by removing the immediately previous pathname component\n",
      "    back to a slash or the beginning of DIR.\n",
      "    \n",
      "    Exit Status:\n",
      "    Returns 0 if the directory is changed, and if $PWD is set successfully when\n",
      "    -P is used; non-zero otherwise.\n",
      "cd: cd [-L|[-P [-e]] [-@]] [dir]\n",
      "    Change the shell working directory.\n",
      "    \n",
      "    Change the current directory to DIR.  The default DIR is the value of the\n",
      "    HOME shell variable.\n",
      "    \n",
      "    The variable CDPATH defines the search path for the directory containing\n",
      "    DIR.  Alternative directory names in CDPATH are separated by a colon (:).\n",
      "    A null directory name is the same as the current directory.  If DIR begins\n",
      "    with a slash (/), then CDPATH is not used.\n",
      "    \n",
      "    If the directory is not found, and the shell option `cdable_vars' is set,\n",
      "    the word is assumed to be  a variable name.  If that variable has a value,\n",
      "    its value is used for DIR.\n",
      "    \n",
      "    Options:\n",
      "      -L\tforce symbolic links to be followed: resolve symbolic\n",
      "    \t\tlinks in DIR after processing instances of `..'\n",
      "      -P\tuse the physical directory structure without following\n",
      "    \t\tsymbolic links: resolve symbolic links in DIR before\n",
      "    \t\tprocessing instances of `..'\n",
      "      -e\tif the -P option is supplied, and the current working\n",
      "    \t\tdirectory cannot be determined successfully, exit with\n",
      "    \t\ta non-zero status\n",
      "      -@\ton systems that support it, present a file with extended\n",
      "    \t\tattributes as a directory containing the file attributes\n",
      "    \n",
      "    The default is to follow symbolic links, as if `-L' were specified.\n",
      "    `..' is processed by removing the immediately previous pathname component\n",
      "    back to a slash or the beginning of DIR.\n",
      "    \n",
      "    Exit Status:\n",
      "    Returns 0 if the directory is changed, and if $PWD is set successfully when\n",
      "    -P is used; non-zero otherwise.\n",
      "---------- Manual Page ----------\n",
      "MKDIR(1)                         User Commands                        MKDIR(1)\n",
      "\n",
      "NAME\n",
      "       mkdir - make directories\n",
      "\n",
      "SYNOPSIS\n",
      "       mkdir [OPTION]... DIRECTORY...\n",
      "\n",
      "DESCRIPTION\n",
      "       Create the DIRECTORY(ies), if they do not already exist.\n",
      "\n",
      "       Mandatory  arguments  to  long  options are mandatory for short options\n",
      "       too.\n",
      "\n",
      "       -m, --mode=MODE\n",
      "              set file mode (as in chmod), not a=rwx - umask\n",
      "\n",
      "       -p, --parents\n",
      "              no error if existing, make parent directories as needed\n",
      "\n",
      "       -v, --verbose\n",
      "              print a message for each created directory\n",
      "\n",
      "       -Z     set SELinux security context of each created  directory  to  the\n",
      "              default type\n",
      "\n",
      "       --context[=CTX]\n",
      "              like  -Z,  or  if CTX is specified then set the SELinux or SMACK\n",
      "              security context to CTX\n",
      "\n",
      "       --help display this help and exit\n",
      "\n",
      "       --version\n",
      "              output version information and exit\n",
      "\n",
      "AUTHOR\n",
      "       Written by David MacKenzie.\n",
      "\n",
      "REPORTING BUGS\n",
      "       GNU coreutils online help: <https://www.gnu.org/software/coreutils/>\n",
      "       Report mkdir translation bugs to <https://translationproject.org/team/>\n",
      "\n",
      "COPYRIGHT\n",
      "       Copyright © 2018 Free Software Foundation, Inc.   License  GPLv3+:  GNU\n",
      "       GPL version 3 or later <https://gnu.org/licenses/gpl.html>.\n",
      "       This  is  free  software:  you  are free to change and redistribute it.\n",
      "       There is NO WARRANTY, to the extent permitted by law.\n",
      "\n",
      "SEE ALSO\n",
      "       mkdir(2)\n",
      "\n",
      "       Full documentation at: <https://www.gnu.org/software/coreutils/mkdir>\n",
      "       or available locally via: info '(coreutils) mkdir invocation'\n",
      "\n",
      "GNU coreutils 8.30              September 2019                        MKDIR(1)\n",
      "---------- Other methods ----------\n",
      "python3.8 (1)        - an interpreted, interactive, object-oriented programmi...\n",
      "\u001B[H\u001B[2J"
     ]
    }
   ],
   "source": [
    "%%bash\n",
    "\n",
    "# e.g.\n",
    "echo \"---------- Help Page ----------\";\n",
    "cd --help;\n",
    "help cd;\n",
    "\n",
    "echo \"---------- Manual Page ----------\";\n",
    "man mkdir;\n",
    "\n",
    "echo \"---------- Other methods ----------\";\n",
    "whatis python;\n"
   ],
   "metadata": {
    "collapsed": false,
    "pycharm": {
     "name": "#%%\n"
    }
   }
  },
  {
   "cell_type": "markdown",
   "source": [
    "## Mt-Search the list of man page for possible match text\n",
    "\n",
    "```bash\n",
    "apropos [text_to_match]\n",
    "```"
   ],
   "metadata": {
    "collapsed": false,
    "pycharm": {
     "name": "#%% md\n"
    }
   }
  },
  {
   "cell_type": "code",
   "execution_count": 25,
   "outputs": [
    {
     "name": "stdout",
     "output_type": "stream",
     "text": [
      "2to3-2.7 (1)         - Python2 to Python3 converter\n",
      "dh_python2 (1)       - calculates Python dependencies, adds maintainer script...\n",
      "keyring (1)          - Python-Keyring command-line utility\n",
      "pdb2 (1)             - the Python debugger\n",
      "pdb2.7 (1)           - the Python debugger\n",
      "pdb3 (1)             - the Python debugger\n",
      "pdb3.8 (1)           - the Python debugger\n",
      "py3compile (1)       - byte compile Python 3 source files\n",
      "py3versions (1)      - print python3 version information\n",
      "pycompile (1)        - byte compile Python source files\n",
      "pydoc2 (1)           - the Python documentation tool\n",
      "pydoc2.7 (1)         - the Python documentation tool\n",
      "pydoc3 (1)           - the Python documentation tool\n",
      "pydoc3.8 (1)         - the Python documentation tool\n",
      "pygettext2 (1)       - Python equivalent of xgettext(1)\n",
      "pygettext2.7 (1)     - Python equivalent of xgettext(1)\n",
      "pygettext3 (1)       - Python equivalent of xgettext(1)\n",
      "pygettext3.8 (1)     - Python equivalent of xgettext(1)\n",
      "pyjwt3 (1)           - Python implementation of JSON Web Token\n",
      "python3.8 (1)        - an interpreted, interactive, object-oriented programmi...\n",
      "python2 (1)          - an interpreted, interactive, object-oriented programmi...\n",
      "python2.7 (1)        - an interpreted, interactive, object-oriented programmi...\n",
      "python3 (1)          - an interpreted, interactive, object-oriented programmi...\n",
      "pyversions (1)       - print python version information\n"
     ]
    }
   ],
   "source": [
    "%%bash\n",
    "\n",
    "apropos python"
   ],
   "metadata": {
    "collapsed": false,
    "pycharm": {
     "name": "#%%\n"
    }
   }
  },
  {
   "cell_type": "markdown",
   "source": [
    "## Mt-Search items in Manual Page\n",
    "\n",
    "1. Type the `/` in the manual page\n",
    "2. type the item that you want to search\n",
    "3. Press `Enter`\n",
    "4. The search results could be jumped forwards and backwards by `N` and `Shift+N`"
   ],
   "metadata": {
    "collapsed": false,
    "pycharm": {
     "name": "#%% md\n"
    }
   }
  },
  {
   "cell_type": "markdown",
   "source": [
    "## Info Entry for GNU Project\n",
    "\n",
    "**Tips:**  Info files contain hyperlinks that can move the reader from node to node by press `Enter` key when the cursor upon the hyperlink.\n",
    "\n",
    "```bash\n",
    "info [command]\n",
    "```\n",
    "\n",
    "How to move in the <u>Info files</u>?(same)\n",
    "![Screenshot from 2020-09-23 14-40-34.png](https://i.loli.net/2020/09/23/Pm3DJjGhHZLkWqa.png)"
   ],
   "metadata": {
    "collapsed": false,
    "pycharm": {
     "name": "#%% md\n"
    }
   }
  },
  {
   "cell_type": "markdown",
   "source": [
    "# Terminal Operations\n",
    "**Tips**: bash uses a library *Readline* to implement command line editing, even for the shortcut keys.\n",
    "\n",
    "## Basic Operation\n",
    "- Open/Add new terminals\n",
    "    - (Open/Add) New windows:`Ctrl+Alt+T`\n",
    "    - Tabs: `Ctrl+Shift+N`\n",
    "- Exit the terminal\n",
    "    - (`Ctrl+D`)\n",
    "    - End of File (EOF)\n",
    "    - ```bash\n",
    "      exit\n",
    "      ```\n",
    "\n",
    "## Virtual terminals/consoles\n",
    "\n",
    "\n",
    "\n",
    "## Edit Commands\n",
    "\n",
    "\n",
    "\n",
    "\n"
   ],
   "metadata": {
    "collapsed": false,
    "pycharm": {
     "name": "#%% md\n"
    }
   }
  }
 ],
 "metadata": {
  "kernelspec": {
   "display_name": "Python 3",
   "language": "python",
   "name": "python3"
  },
  "language_info": {
   "codemirror_mode": {
    "name": "ipython",
    "version": 2
   },
   "file_extension": ".py",
   "mimetype": "text/x-python",
   "name": "python",
   "nbconvert_exporter": "python",
   "pygments_lexer": "ipython2",
   "version": "2.7.6"
  }
 },
 "nbformat": 4,
 "nbformat_minor": 0
}