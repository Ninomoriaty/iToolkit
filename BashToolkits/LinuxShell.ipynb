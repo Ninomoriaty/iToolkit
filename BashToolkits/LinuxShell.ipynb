{
 "cells": [
  {
   "cell_type": "markdown",
   "metadata": {},
   "source": [
    "Guideline Level\n",
    "\n",
    "<center><p style=\"font-size:50px; font-weight:bold\">\n",
    "Linux Command Collections\n",
    "</p></center>\n",
    "\n",
    "Linux Command line, Linux System Usage, Customisation,"
   ]
  },
  {
   "cell_type": "markdown",
   "metadata": {},
   "source": [
    "---\n",
    "\n",
    "# References\n",
    "## Textbook\n",
    "- TLCL 19.01 Part I - Part III\n",
    "\n",
    "## Web Resource\n",
    "\n",
    "\n",
    "# Lk\n",
    "- `ShellScript.ipynb` in the same folder, which contains the script writing methods(TLCL 19.01 Part IV and MSc BPSM), and the cooperation with IPython console.\n",
    "\n",
    "\n",
    "# Pcp-Edit\n",
    "- This notebook summarises the preliminary usage of bash/shell practice.\n",
    "\n"
   ]
  },
  {
   "source": [
    "---\n",
    "# Mt-Notebook Environment\n",
    "## Pc-Config the environment for the notebook\n",
    "- conda/pip\n",
    "- bash kernel\n"
   ],
   "cell_type": "markdown",
   "metadata": {}
  },
  {
   "cell_type": "code",
   "execution_count": 8,
   "metadata": {},
   "outputs": [
    {
     "output_type": "error",
     "ename": "Error",
     "evalue": "Debugging while attached to a remote server is not currently supported.",
     "traceback": [
      "Error: Debugging while attached to a remote server is not currently supported.",
      "at _.connectToRemote (/home/ninomoriaty/.vscode/extensions/ms-toolsai.jupyter-2021.6.999662501/out/client/extension.js:90:161264)",
      "at _.connect (/home/ninomoriaty/.vscode/extensions/ms-toolsai.jupyter-2021.6.999662501/out/client/extension.js:90:159023)",
      "at runMicrotasks (<anonymous>)",
      "at processTicksAndRejections (internal/process/task_queues.js:93:5)",
      "at async _.startDebugSession (/home/ninomoriaty/.vscode/extensions/ms-toolsai.jupyter-2021.6.999662501/out/client/extension.js:90:158235)",
      "at async D.submitCode (/home/ninomoriaty/.vscode/extensions/ms-toolsai.jupyter-2021.6.999662501/out/client/extension.js:37:636585)",
      "at async D.handleRunByLine (/home/ninomoriaty/.vscode/extensions/ms-toolsai.jupyter-2021.6.999662501/out/client/extension.js:37:624528)"
     ]
    }
   ],
   "source": [
    "# Install the bash kernel by pip or conda\n",
    "pip install bash_kernel\n",
    "python -m bash_kernel.install\n",
    "\n",
    "conda install -c conda-forge bash_kernel"
   ]
  },
  {
   "source": [
    "## Pc-Use the bash kernel with jupyter notebook server in VScode\n"
   ],
   "cell_type": "markdown",
   "metadata": {}
  },
  {
   "cell_type": "code",
   "execution_count": null,
   "metadata": {},
   "outputs": [],
   "source": [
    "# Enter the conda env or pip management\n",
    "conda activate PSBenv\n",
    "\n",
    "# Start the terminal and activate the jupyter server\n",
    "jupyter notebook\n",
    "\n",
    "# Then copy the URL to vscode and link the jupyter server\n",
    "# Select the bash kernel as the interpreter and the cells in this notebook could be executed normally."
   ]
  },
  {
   "cell_type": "markdown",
   "metadata": {
    "pycharm": {
     "name": "#%% md\n"
    }
   },
   "source": [
    "---\n",
    "# Introduction to Shell Command\n",
    "## Cc\n",
    "- POSIX: The Portable Operating System Interface (POSIX) is a family of standards specified by the Institute of Electrical and Electronics Engineers (IEEE, \"I triple E\") Computer Society for maintaining compatibility between operating systems.\n",
    "  - F: defines the application programming interface (API), along with command line shells and utility interfaces, for software compatibility with variants of Unix and other operating systems.\"\n",
    "- Basic format of command in shell\n",
    "  - St: command -options arguments\n",
    "  - Short options could be list <u>together</u> with one dash.\n",
    "  - Long options should be separated by two dashes for each one.\n",
    "\n",
    "## How to read the command instruction\n",
    "**Def**\n",
    "\n",
    "1. **Square brackets:** indicate <u>optional items</u> in the description of a command's syntax.\n",
    "2. **Vertical bar character: ** indicates mutually exclusive items.\n",
    "\n",
    "**e.g.-cd notation**\n",
    "\n",
    "`cd [-L|[-P[-e]]] [dir]`\n",
    "\n",
    "This notation says that the command `cd` may be followed optionally by either a `-L` or a `-P` ,and further, if the `-P` option is specified the `-e` option may also be included followed by the optional argument `[dir]`.\n",
    "\n",
    "## Pcp/Ab-Conventions on BASH\n",
    "1. Case-sensitive\n",
    "2. hyphens(-), underscores(_), and full stops(.) are naturally supported.\n",
    "3. commas(,), space( ) are not permitted in the filenames and pathnames.(Although this could be walk-around by the \"\")\n",
    "\n",
    "## Cat-Shell\n",
    "1. Bash(Bourne-Again Shell): default shell in most Unix distribution\n",
    "2. CSH(C Shell): syntax and usage to C programming language\n",
    "3. TCSH: enhanced CSH\n",
    "4. Korn Shell: Base POSIX shell standard specifications."
   ]
  },
  {
   "cell_type": "markdown",
   "metadata": {
    "pycharm": {
     "name": "#%% md\n"
    }
   },
   "source": [
    "---\n",
    "# Help and Manual"
   ]
  },
  {
   "cell_type": "code",
   "execution_count": 2,
   "metadata": {
    "pycharm": {
     "name": "#%%\n"
    },
    "tags": []
   },
   "outputs": [
    {
     "output_type": "stream",
     "name": "stdout",
     "text": [
      "---------- Help Page ----------\n",
      "cd: cd [-L|[-P [-e]] [-@]] [dir]\n",
      "    Change the shell working directory.\n",
      "    \n",
      "    Change the current directory to DIR.  The default DIR is the value of the\n",
      "    HOME shell variable.\n",
      "    \n",
      "    The variable CDPATH defines the search path for the directory containing\n",
      "    DIR.  Alternative directory names in CDPATH are separated by a colon (:).\n",
      "    A null directory name is the same as the current directory.  If DIR begins\n",
      "    with a slash (/), then CDPATH is not used.\n",
      "    \n",
      "    If the directory is not found, and the shell option `cdable_vars' is set,\n",
      "    the word is assumed to be  a variable name.  If that variable has a value,\n",
      "    its value is used for DIR.\n",
      "    \n",
      "    Options:\n",
      "      -L\tforce symbolic links to be followed: resolve symbolic\n",
      "    \t\tlinks in DIR after processing instances of `..'\n",
      "      -P\tuse the physical directory structure without following\n",
      "    \t\tsymbolic links: resolve symbolic links in DIR before\n",
      "    \t\tprocessing instances of `..'\n",
      "      -e\tif the -P option is supplied, and the current working\n",
      "    \t\tdirectory cannot be determined successfully, exit with\n",
      "    \t\ta non-zero status\n",
      "      -@\ton systems that support it, present a file with extended\n",
      "    \t\tattributes as a directory containing the file attributes\n",
      "    \n",
      "    The default is to follow symbolic links, as if `-L' were specified.\n",
      "    `..' is processed by removing the immediately previous pathname component\n",
      "    back to a slash or the beginning of DIR.\n",
      "    \n",
      "    Exit Status:\n",
      "    Returns 0 if the directory is changed, and if $PWD is set successfully when\n",
      "    -P is used; non-zero otherwise.\n",
      "cd: cd [-L|[-P [-e]] [-@]] [dir]\n",
      "    Change the shell working directory.\n",
      "    \n",
      "    Change the current directory to DIR.  The default DIR is the value of the\n",
      "    HOME shell variable.\n",
      "    \n",
      "    The variable CDPATH defines the search path for the directory containing\n",
      "    DIR.  Alternative directory names in CDPATH are separated by a colon (:).\n",
      "    A null directory name is the same as the current directory.  If DIR begins\n",
      "    with a slash (/), then CDPATH is not used.\n",
      "    \n",
      "    If the directory is not found, and the shell option `cdable_vars' is set,\n",
      "    the word is assumed to be  a variable name.  If that variable has a value,\n",
      "    its value is used for DIR.\n",
      "    \n",
      "    Options:\n",
      "      -L\tforce symbolic links to be followed: resolve symbolic\n",
      "    \t\tlinks in DIR after processing instances of `..'\n",
      "      -P\tuse the physical directory structure without following\n",
      "    \t\tsymbolic links: resolve symbolic links in DIR before\n",
      "    \t\tprocessing instances of `..'\n",
      "      -e\tif the -P option is supplied, and the current working\n",
      "    \t\tdirectory cannot be determined successfully, exit with\n",
      "    \t\ta non-zero status\n",
      "      -@\ton systems that support it, present a file with extended\n",
      "    \t\tattributes as a directory containing the file attributes\n",
      "    \n",
      "    The default is to follow symbolic links, as if `-L' were specified.\n",
      "    `..' is processed by removing the immediately previous pathname component\n",
      "    back to a slash or the beginning of DIR.\n",
      "    \n",
      "    Exit Status:\n",
      "    Returns 0 if the directory is changed, and if $PWD is set successfully when\n",
      "    -P is used; non-zero otherwise.\n",
      "\u001b[?2004h"
     ]
    },
    {
     "output_type": "error",
     "ename": "",
     "evalue": "1",
     "traceback": []
    }
   ],
   "source": [
    "echo \"---------- Help Page ----------\"\n",
    "# Mt-Call help page\n",
    "#$ [command] --help\n",
    "#$ help [command]  # special for the shell builtins\n",
    "\n",
    "cd --help\n",
    "help cd\n",
    "\n"
   ]
  },
  {
   "cell_type": "code",
   "execution_count": null,
   "metadata": {},
   "outputs": [],
   "source": [
    "\n",
    "echo \"---------- Manual Page ----------\"\n",
    "# man [program]  # show the manual page\n",
    "# man [section_num] [search_term] # use to search other section/manual of\n",
    "#     1. user commands\n",
    "#     2. programming interfaces for kernel system calls\n",
    "#     3. programming interfaces for the C library\n",
    "#     4. special files such as device nodes and drivers\n",
    "#     5. file formats\n",
    "#     6. Games and amusements such as screen savers\n",
    "#     7. Miscellaneous\n",
    "#     8. system administration commands\n",
    "# e.g.\n",
    "# man 5 passwd\n",
    "\n",
    "man mkdir\n",
    "\n",
    "# Options\n",
    "man -k [program] # the same as `apropos`\n",
    "\n",
    "echo \"---------- Other methods ----------\"\n",
    "# whatis [command]\n",
    "\n",
    "whatis python"
   ]
  },
  {
   "cell_type": "markdown",
   "metadata": {
    "pycharm": {
     "name": "#%% md\n"
    }
   },
   "source": [
    "## Mt-Search the list of man page for possible match text\n",
    "\n",
    "```bash\n",
    "apropos [text_to_match]\n",
    "```"
   ]
  },
  {
   "cell_type": "code",
   "execution_count": 25,
   "metadata": {
    "pycharm": {
     "name": "#%%\n"
    }
   },
   "outputs": [
    {
     "name": "stdout",
     "output_type": "stream",
     "text": [
      "2to3-2.7 (1)         - Python2 to Python3 converter\n",
      "dh_python2 (1)       - calculates Python dependencies, adds maintainer script...\n",
      "keyring (1)          - Python-Keyring command-line utility\n",
      "pdb2 (1)             - the Python debugger\n",
      "pdb2.7 (1)           - the Python debugger\n",
      "pdb3 (1)             - the Python debugger\n",
      "pdb3.8 (1)           - the Python debugger\n",
      "py3compile (1)       - byte compile Python 3 source files\n",
      "py3versions (1)      - print python3 version information\n",
      "pycompile (1)        - byte compile Python source files\n",
      "pydoc2 (1)           - the Python documentation tool\n",
      "pydoc2.7 (1)         - the Python documentation tool\n",
      "pydoc3 (1)           - the Python documentation tool\n",
      "pydoc3.8 (1)         - the Python documentation tool\n",
      "pygettext2 (1)       - Python equivalent of xgettext(1)\n",
      "pygettext2.7 (1)     - Python equivalent of xgettext(1)\n",
      "pygettext3 (1)       - Python equivalent of xgettext(1)\n",
      "pygettext3.8 (1)     - Python equivalent of xgettext(1)\n",
      "pyjwt3 (1)           - Python implementation of JSON Web Token\n",
      "python3.8 (1)        - an interpreted, interactive, object-oriented programmi...\n",
      "python2 (1)          - an interpreted, interactive, object-oriented programmi...\n",
      "python2.7 (1)        - an interpreted, interactive, object-oriented programmi...\n",
      "python3 (1)          - an interpreted, interactive, object-oriented programmi...\n",
      "pyversions (1)       - print python version information\n"
     ]
    }
   ],
   "source": [
    "apropos python"
   ]
  },
  {
   "cell_type": "markdown",
   "metadata": {
    "pycharm": {
     "name": "#%% md\n"
    }
   },
   "source": [
    "## Mt-Search items in Manual Page\n",
    "\n",
    "1. Type the `/` in the manual page\n",
    "2. type the item that you want to search\n",
    "3. Press `Enter`\n",
    "4. The search results could be jumped forwards and backwards by `N` and `Shift+N`"
   ]
  },
  {
   "cell_type": "markdown",
   "metadata": {
    "pycharm": {
     "name": "#%% md\n"
    }
   },
   "source": [
    "## Info Entry for GNU Project\n",
    "\n",
    "**Tips:**  Info files contain hyperlinks that can move the reader from node to node by press `Enter` key when the cursor upon the hyperlink.\n",
    "\n",
    "```bash\n",
    "info [command]\n",
    "```\n",
    "\n",
    "How to move in the <u>Info files</u>?(same)\n",
    "![Screenshot from 2020-09-23 14-40-34.png](https://i.loli.net/2020/09/23/Pm3DJjGhHZLkWqa.png)"
   ]
  },
  {
   "cell_type": "markdown",
   "metadata": {
    "pycharm": {
     "name": "#%% md\n"
    }
   },
   "source": [
    "---\n",
    "# Terminal Operations\n",
    "**Tips**: bash uses a library *Readline* to implement command line editing, even for the shortcut keys.\n",
    "\n",
    "## Basic Operation\n",
    "- Open/Add new terminals\n",
    "    - (Open/Add) New windows:`Ctrl+Alt+T`\n",
    "    - Tabs: `Ctrl+Shift+N`\n",
    "- Exit the terminal\n",
    "    - (`Ctrl+D`)\n",
    "    - End of File (EOF)\n",
    "    - ```bash\n",
    "      exit\n",
    "      ```\n",
    "\n",
    "## Virtual terminals/consoles\n",
    "\n",
    "\n",
    "\n",
    "## Edit Commands\n",
    "\n",
    "\n",
    "\n",
    "\n"
   ]
  },
  {
   "cell_type": "markdown",
   "metadata": {
    "pycharm": {
     "name": "#%% md\n"
    }
   },
   "source": [
    "---\n",
    "# Linux File System\n",
    "\n",
    "## Special Symbol when using file system\n",
    "\n",
    "## Show Directory Inforamtion\n",
    "\n",
    "## Manipulate Files and Directories\n",
    "\n",
    "## Download files and further process\n",
    "\n",
    "## Navigate in file system\n",
    "sdfsdf"
   ]
  },
  {
   "cell_type": "markdown",
   "metadata": {
    "pycharm": {
     "name": "#%% md\n"
    }
   },
   "source": [
    "---\n",
    "# System Administration\n",
    "\n",
    "## Statistics of current system"
   ]
  },
  {
   "cell_type": "markdown",
   "metadata": {
    "pycharm": {
     "name": "#%% md\n"
    }
   },
   "source": [
    "### Memory Usage"
   ]
  },
  {
   "cell_type": "code",
   "execution_count": null,
   "metadata": {
    "pycharm": {
     "name": "#%%\n"
    }
   },
   "outputs": [],
   "source": [
    "\n",
    "!echo \"---------- Mt-Memory, Swap and Buffers ----------\"\n",
    "# free\n",
    "!free\n",
    "# output:\n",
    "#               total        used        free      shared  buff/cache   available\n",
    "# Mem:       16254076     6595876     4110600      181472     5547600     9178232\n",
    "# Swap:       2097148           0     2097148\n",
    "\n"
   ]
  },
  {
   "cell_type": "markdown",
   "metadata": {
    "pycharm": {
     "name": "#%% md\n"
    }
   },
   "source": [
    "## Storage Media/Disk Management"
   ]
  },
  {
   "cell_type": "markdown",
   "metadata": {
    "pycharm": {
     "name": "#%% md\n"
    }
   },
   "source": [
    "### Mt-Mount"
   ]
  },
  {
   "cell_type": "code",
   "execution_count": 3,
   "metadata": {
    "pycharm": {
     "name": "#%%\n"
    }
   },
   "outputs": [
    {
     "name": "stdout",
     "output_type": "stream",
     "text": [
      "---------- Mt-Display mounted file systems ----------\n",
      "sysfs on /sys type sysfs (rw,nosuid,nodev,noexec,relatime)\n",
      "proc on /proc type proc (rw,nosuid,nodev,noexec,relatime)\n",
      "udev on /dev type devtmpfs (rw,nosuid,noexec,relatime,size=8096928k,nr_inodes=2024232,mode=755)\n",
      "devpts on /dev/pts type devpts (rw,nosuid,noexec,relatime,gid=5,mode=620,ptmxmode=000)\n",
      "tmpfs on /run type tmpfs (rw,nosuid,nodev,noexec,relatime,size=1625408k,mode=755)\n",
      "/dev/nvme1n1p2 on / type ext4 (rw,relatime,errors=remount-ro)\n",
      "securityfs on /sys/kernel/security type securityfs (rw,nosuid,nodev,noexec,relatime)\n",
      "tmpfs on /dev/shm type tmpfs (rw,nosuid,nodev)\n",
      "tmpfs on /run/lock type tmpfs (rw,nosuid,nodev,noexec,relatime,size=5120k)\n",
      "tmpfs on /sys/fs/cgroup type tmpfs (ro,nosuid,nodev,noexec,mode=755)\n",
      "cgroup2 on /sys/fs/cgroup/unified type cgroup2 (rw,nosuid,nodev,noexec,relatime,nsdelegate)\n",
      "cgroup on /sys/fs/cgroup/systemd type cgroup (rw,nosuid,nodev,noexec,relatime,xattr,name=systemd)\n",
      "pstore on /sys/fs/pstore type pstore (rw,nosuid,nodev,noexec,relatime)\n",
      "efivarfs on /sys/firmware/efi/efivars type efivarfs (rw,nosuid,nodev,noexec,relatime)\n",
      "none on /sys/fs/bpf type bpf (rw,nosuid,nodev,noexec,relatime,mode=700)\n",
      "cgroup on /sys/fs/cgroup/perf_event type cgroup (rw,nosuid,nodev,noexec,relatime,perf_event)\n",
      "cgroup on /sys/fs/cgroup/hugetlb type cgroup (rw,nosuid,nodev,noexec,relatime,hugetlb)\n",
      "cgroup on /sys/fs/cgroup/net_cls,net_prio type cgroup (rw,nosuid,nodev,noexec,relatime,net_cls,net_prio)\n",
      "cgroup on /sys/fs/cgroup/freezer type cgroup (rw,nosuid,nodev,noexec,relatime,freezer)\n",
      "cgroup on /sys/fs/cgroup/blkio type cgroup (rw,nosuid,nodev,noexec,relatime,blkio)\n",
      "cgroup on /sys/fs/cgroup/cpuset type cgroup (rw,nosuid,nodev,noexec,relatime,cpuset)\n",
      "cgroup on /sys/fs/cgroup/cpu,cpuacct type cgroup (rw,nosuid,nodev,noexec,relatime,cpu,cpuacct)\n",
      "cgroup on /sys/fs/cgroup/rdma type cgroup (rw,nosuid,nodev,noexec,relatime,rdma)\n",
      "cgroup on /sys/fs/cgroup/pids type cgroup (rw,nosuid,nodev,noexec,relatime,pids)\n",
      "cgroup on /sys/fs/cgroup/memory type cgroup (rw,nosuid,nodev,noexec,relatime,memory)\n",
      "cgroup on /sys/fs/cgroup/devices type cgroup (rw,nosuid,nodev,noexec,relatime,devices)\n",
      "systemd-1 on /proc/sys/fs/binfmt_misc type autofs (rw,relatime,fd=28,pgrp=1,timeout=0,minproto=5,maxproto=5,direct,pipe_ino=26174)\n",
      "hugetlbfs on /dev/hugepages type hugetlbfs (rw,relatime,pagesize=2M)\n",
      "mqueue on /dev/mqueue type mqueue (rw,nosuid,nodev,noexec,relatime)\n",
      "debugfs on /sys/kernel/debug type debugfs (rw,nosuid,nodev,noexec,relatime)\n",
      "tracefs on /sys/kernel/tracing type tracefs (rw,nosuid,nodev,noexec,relatime)\n",
      "fusectl on /sys/fs/fuse/connections type fusectl (rw,nosuid,nodev,noexec,relatime)\n",
      "configfs on /sys/kernel/config type configfs (rw,nosuid,nodev,noexec,relatime)\n",
      "/var/lib/snapd/snaps/code_66.snap on /snap/code/66 type squashfs (ro,nodev,relatime,x-gdu.hide)\n",
      "/var/lib/snapd/snaps/core18_2066.snap on /snap/core18/2066 type squashfs (ro,nodev,relatime,x-gdu.hide)\n",
      "/var/lib/snapd/snaps/gnome-3-34-1804_66.snap on /snap/gnome-3-34-1804/66 type squashfs (ro,nodev,relatime,x-gdu.hide)\n",
      "/var/lib/snapd/snaps/gtk-common-themes_1514.snap on /snap/gtk-common-themes/1514 type squashfs (ro,nodev,relatime,x-gdu.hide)\n",
      "/var/lib/snapd/snaps/gtk-common-themes_1515.snap on /snap/gtk-common-themes/1515 type squashfs (ro,nodev,relatime,x-gdu.hide)\n",
      "/var/lib/snapd/snaps/notion-snap_6.snap on /snap/notion-snap/6 type squashfs (ro,nodev,relatime,x-gdu.hide)\n",
      "/var/lib/snapd/snaps/code_67.snap on /snap/code/67 type squashfs (ro,nodev,relatime,x-gdu.hide)\n",
      "/var/lib/snapd/snaps/gnome-3-28-1804_145.snap on /snap/gnome-3-28-1804/145 type squashfs (ro,nodev,relatime,x-gdu.hide)\n",
      "/var/lib/snapd/snaps/snap-store_547.snap on /snap/snap-store/547 type squashfs (ro,nodev,relatime,x-gdu.hide)\n",
      "/var/lib/snapd/snaps/gnome-3-34-1804_72.snap on /snap/gnome-3-34-1804/72 type squashfs (ro,nodev,relatime,x-gdu.hide)\n",
      "/dev/nvme0n1p2 on /boot/efi type vfat (rw,relatime,fmask=0077,dmask=0077,codepage=437,iocharset=iso8859-1,shortname=mixed,errors=remount-ro)\n",
      "/var/lib/snapd/snaps/wine-platform-runtime_216.snap on /snap/wine-platform-runtime/216 type squashfs (ro,nodev,relatime,x-gdu.hide)\n",
      "/var/lib/snapd/snaps/wine-platform-5-stable_16.snap on /snap/wine-platform-5-stable/16 type squashfs (ro,nodev,relatime,x-gdu.hide)\n",
      "/var/lib/snapd/snaps/core_11316.snap on /snap/core/11316 type squashfs (ro,nodev,relatime,x-gdu.hide)\n",
      "/var/lib/snapd/snaps/core18_2074.snap on /snap/core18/2074 type squashfs (ro,nodev,relatime,x-gdu.hide)\n",
      "/var/lib/snapd/snaps/snap-store_542.snap on /snap/snap-store/542 type squashfs (ro,nodev,relatime,x-gdu.hide)\n",
      "/var/lib/snapd/snaps/snapd_12159.snap on /snap/snapd/12159 type squashfs (ro,nodev,relatime,x-gdu.hide)\n",
      "/var/lib/snapd/snaps/snapd_12398.snap on /snap/snapd/12398 type squashfs (ro,nodev,relatime,x-gdu.hide)\n",
      "/var/lib/snapd/snaps/core_11187.snap on /snap/core/11187 type squashfs (ro,nodev,relatime,x-gdu.hide)\n",
      "/var/lib/snapd/snaps/wine-platform-runtime_220.snap on /snap/wine-platform-runtime/220 type squashfs (ro,nodev,relatime,x-gdu.hide)\n",
      "/var/lib/snapd/snaps/gitkraken_178.snap on /snap/gitkraken/178 type squashfs (ro,nodev,relatime,x-gdu.hide)\n",
      "/var/lib/snapd/snaps/teams-for-linux_156.snap on /snap/teams-for-linux/156 type squashfs (ro,nodev,relatime,x-gdu.hide)\n",
      "tmpfs on /run/user/125 type tmpfs (rw,nosuid,nodev,relatime,size=1625404k,mode=700,uid=125,gid=130)\n",
      "gvfsd-fuse on /run/user/125/gvfs type fuse.gvfsd-fuse (rw,nosuid,nodev,relatime,user_id=125,group_id=130)\n",
      "tmpfs on /run/user/1000 type tmpfs (rw,nosuid,nodev,relatime,size=1625404k,mode=700,uid=1000,gid=1000)\n",
      "gvfsd-fuse on /run/user/1000/gvfs type fuse.gvfsd-fuse (rw,nosuid,nodev,relatime,user_id=1000,group_id=1000)\n",
      "/dev/fuse on /run/user/1000/doc type fuse (rw,nosuid,nodev,relatime,user_id=1000,group_id=1000)\n",
      "tmpfs on /run/snapd/ns type tmpfs (rw,nosuid,nodev,noexec,relatime,size=1625408k,mode=755)\n",
      "nsfs on /run/snapd/ns/snap-store.mnt type nsfs (rw)\n",
      "/dev/sda1 on /media/ninomoriaty/My Passport type fuseblk (rw,nosuid,nodev,relatime,user_id=0,group_id=0,default_permissions,allow_other,blksize=4096,uhelper=udisks2)\n",
      "WizNote-x86_64-ubuntu-18-2020-09-29.AppImage on /tmp/.mount_WizNot8FvWFF type fuse.WizNote-x86_64-ubuntu-18-2020-09-29.AppImage (ro,nosuid,nodev,relatime,user_id=1000,group_id=1000)\n"
     ]
    }
   ],
   "source": [
    "%%bash\n",
    "\n",
    "echo \"---------- Mt-Mount ----------\"\n",
    "# Mt-Display mounted file systems\n",
    "mount  # output-e.g.: [device] on [mount_point] type [file_system_type] ([options]).\n",
    "\n",
    "# Mt-Mount device to a mount point\n",
    "# mount -t [file_system_type] [device_name] [dir_mount_point]\n",
    "mount -t iso9660 /dev/sdc /mnt/cdrom"
   ]
  },
  {
   "cell_type": "markdown",
   "metadata": {
    "pycharm": {
     "name": "#%% md\n"
    }
   },
   "source": [
    "### Mt-Unmount\n",
    "**Pcp**\n",
    "- If a device is used by other processes, it can not be unmounted.\n"
   ]
  },
  {
   "cell_type": "code",
   "execution_count": null,
   "metadata": {
    "pycharm": {
     "name": "#%%\n"
    }
   },
   "outputs": [],
   "source": [
    "echo \"---------- Mt-Unmount ----------\"\n",
    "# Mt-Unmount a device\n",
    "# umount [device_name]  # Tips: umount not unmount\n",
    "su -\n",
    "umount /dev/sdc\n",
    "\n",
    "\n"
   ]
  },
  {
   "cell_type": "markdown",
   "metadata": {
    "pycharm": {
     "name": "#%% md\n"
    }
   },
   "source": [
    "---\n",
    "# Edit in command line\n"
   ]
  },
  {
   "cell_type": "code",
   "execution_count": null,
   "metadata": {
    "pycharm": {
     "name": "#%%\n"
    }
   },
   "outputs": [],
   "source": []
  }
 ],
 "metadata": {
  "interpreter": {
   "hash": "817d0a3841ebdd2a1cc36d840618b60456b5940c254da1e77a1b0a18f63766d5"
  },
  "kernelspec": {
   "name": "bash",
   "display_name": "Bash",
   "language": "bash"
  },
  "language_info": {
   "codemirror_mode": "shell",
   "file_extension": ".sh",
   "mimetype": "text/x-sh",
   "name": "bash",
   "version": "3.8.5"
  }
 },
 "nbformat": 4,
 "nbformat_minor": 1
}