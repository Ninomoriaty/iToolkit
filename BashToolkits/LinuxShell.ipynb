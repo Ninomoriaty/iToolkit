{
 "cells": [
  {
   "cell_type": "markdown",
   "source": [
    "Guideline Level\n",
    "\n",
    "<center><p style=\"font-size:50px; font-weight:bold\">\n",
    "Linux Collections\n",
    "</p></center>\n",
    "\n",
    "Linux Command line, Linux System Usage, Customisation,"
   ],
   "metadata": {}
  },
  {
   "cell_type": "markdown",
   "source": [
    "---\n",
    "---\n",
    "## References\n",
    "- TLCL 19.01 Part I - Part III, Learning from commands, a good idea to manage the learning of Linux system\n",
    "    - TLCL website: https://linuxcommand.org/\n",
    "- `\n",
    "\n",
    "# Lk\n",
    "- `ShellScript.ipynb` in the same folder, which contains the script writing methods(TLCL 19.01 Part IV and MSc BPSM), and the cooperation with IPython console.\n",
    "\n",
    "\n",
    "# Pcp-Edit\n",
    "- This notebook summarises the preliminary usage of bash/shell practice.\n",
    "- Symbols and shortcuts follow the Wiznote > jibenfenleidanyuan(TODO) principles.\n",
    "- Most commands could be tested in terminal or code cell in jupyter notebook with Bash kernel\n"
   ],
   "metadata": {}
  },
  {
   "cell_type": "markdown",
   "source": [
    "---\n",
    "---\n",
    "# Table of Content\n",
    "\n",
    "Tips: There will be outline features in vscode insiders but it seems that it is still not added into stable version.\n",
    "\n",
    "\n",
    "\n",
    "\n"
   ],
   "metadata": {}
  },
  {
   "cell_type": "markdown",
   "source": [
    "---\n",
    "---\n",
    "# Mt-Notebook Environment\n",
    "## Pc-Config the environment for the notebook\n",
    "- conda/pip\n",
    "- bash kernel\n"
   ],
   "metadata": {}
  },
  {
   "cell_type": "code",
   "execution_count": null,
   "source": [
    "# Install the bash kernel by pip or conda\n",
    "pip install bash_kernel\n",
    "python -m bash_kernel.install\n",
    "\n",
    "conda install -c conda-forge bash_kernel"
   ],
   "outputs": [],
   "metadata": {}
  },
  {
   "cell_type": "markdown",
   "source": [
    "## Pc-Use the bash kernel with jupyter notebook server in VScode\n"
   ],
   "metadata": {}
  },
  {
   "cell_type": "code",
   "execution_count": null,
   "source": [
    "# Enter the conda env or pip management\n",
    "conda activate PSBenv\n",
    "\n",
    "# Start the terminal and activate the jupyter server\n",
    "jupyter notebook\n",
    "\n",
    "# Then copy the URL to vscode and link the jupyter server\n",
    "# Select the bash kernel `Bash` in your conda env dir as the interpreter and the cells in this notebook could be executed normally."
   ],
   "outputs": [],
   "metadata": {}
  },
  {
   "source": [
    "<center><p style=\"font-size:50px; font-weight:bold\">\n",
    "Part I Terminal, Shell and Commands\n",
    "</p></center>\n",
    "\n",
    "Terminal operations, Terminal configration/customisation, "
   ],
   "cell_type": "markdown",
   "metadata": {}
  },
  {
   "cell_type": "markdown",
   "source": [
    "---\n",
    "---\n",
    "# Introduction\n",
    "## Cc\n",
    "- POSIX: The Portable Operating System Interface (POSIX) is a family of standards specified by the Institute of Electrical and Electronics Engineers (IEEE, \"I triple E\") Computer Society for maintaining compatibility between operating systems.\n",
    "  - F: defines the application programming interface (API), along with command line shells and utility interfaces, for software compatibility with variants of Unix and other operating systems.\"\n",
    "- Basic format of command in shell\n",
    "  - St: command -options arguments\n",
    "  - Short options could be list <u>together</u> with one dash.\n",
    "  - Long options should be separated by two dashes for each one.\n",
    "\n",
    "## How to read the command instruction\n",
    "**Def**\n",
    "\n",
    "1. **Square brackets:** indicate <u>optional items</u> in the description of a command's syntax.\n",
    "2. **Vertical bar character: ** indicates mutually exclusive items.\n",
    "\n",
    "**e.g.-cd notation**\n",
    "\n",
    "`cd [-L|[-P[-e]]] [dir]`\n",
    "\n",
    "This notation says that the command `cd` may be followed optionally by either a `-L` or a `-P` ,and further, if the `-P` option is specified the `-e` option may also be included followed by the optional argument `[dir]`.\n",
    "\n",
    "## Pcp/Ab-Conventions on BASH\n",
    "1. Case-sensitive\n",
    "2. hyphens(-), underscores(_), and full stops(.) are naturally supported.\n",
    "3. commas(,), space( ) are not permitted in the filenames and pathnames.(Although this could be walk-around by the \"\")\n",
    "\n",
    "## Cat-Shell\n",
    "1. Bash(Bourne-Again Shell): default shell in most Unix distribution\n",
    "2. CSH(C Shell): syntax and usage to C programming language\n",
    "3. TCSH: enhanced CSH\n",
    "4. Korn Shell: Base POSIX shell standard specifications."
   ],
   "metadata": {
    "pycharm": {
     "name": "#%% md\n"
    }
   }
  },
  {
   "cell_type": "markdown",
   "source": [
    "---\n",
    "---\n",
    "# Help and Manual"
   ],
   "metadata": {
    "pycharm": {
     "name": "#%% md\n"
    }
   }
  },
  {
   "cell_type": "code",
   "execution_count": null,
   "source": [
    "echo \"---------- Help Page ----------\"\n",
    "# Mt-Call help page\n",
    "#$ [command] --help\n",
    "#$ help [command]  # special for the shell builtins\n",
    "\n",
    "cd --help\n",
    "help cd\n",
    "\n"
   ],
   "outputs": [],
   "metadata": {
    "pycharm": {
     "name": "#%%\n"
    },
    "tags": []
   }
  },
  {
   "cell_type": "code",
   "execution_count": null,
   "source": [
    "\n",
    "echo \"---------- Manual Page ----------\"\n",
    "# man [program]  # show the manual page\n",
    "# man [section_num] [search_term] # use to search other section/manual of\n",
    "#     1. user commands\n",
    "#     2. programming interfaces for kernel system calls\n",
    "#     3. programming interfaces for the C library\n",
    "#     4. special files such as device nodes and drivers\n",
    "#     5. file formats\n",
    "#     6. Games and amusements such as screen savers\n",
    "#     7. Miscellaneous\n",
    "#     8. system administration commands\n",
    "# e.g.\n",
    "# man 5 passwd\n",
    "\n",
    "man mkdir\n",
    "\n",
    "# Options\n",
    "man -k [program] # the same as `apropos`\n",
    "\n",
    "echo \"---------- Other methods ----------\"\n",
    "# whatis [command]\n",
    "\n",
    "whatis python"
   ],
   "outputs": [],
   "metadata": {}
  },
  {
   "cell_type": "markdown",
   "source": [
    "---\n",
    "## Mt-Search the list of man page for possible match text\n",
    "\n",
    "```bash\n",
    "apropos [text_to_match]\n",
    "```"
   ],
   "metadata": {
    "pycharm": {
     "name": "#%% md\n"
    }
   }
  },
  {
   "cell_type": "code",
   "execution_count": null,
   "source": [
    "apropos python"
   ],
   "outputs": [],
   "metadata": {
    "pycharm": {
     "name": "#%%\n"
    }
   }
  },
  {
   "cell_type": "markdown",
   "source": [
    "---\n",
    "## Mt-Search items in Manual Page\n",
    "\n",
    "1. Type the `/` in the manual page\n",
    "2. type the item that you want to search\n",
    "3. Press `Enter`\n",
    "4. The search results could be jumped forwards and backwards by `N` and `Shift+N`"
   ],
   "metadata": {
    "pycharm": {
     "name": "#%% md\n"
    }
   }
  },
  {
   "cell_type": "markdown",
   "source": [
    "---\n",
    "## Info Entry for GNU Project\n",
    "\n",
    "**Tips:**  Info files contain hyperlinks that can move the reader from node to node by press `Enter` key when the cursor upon the hyperlink.\n",
    "\n",
    "```bash\n",
    "info [command]\n",
    "```\n",
    "\n",
    "How to move in the <u>Info files</u>?(same)\n",
    "\n",
    "![Screenshot from 2020-09-23 14-40-34.png](https://i.loli.net/2020/09/23/Pm3DJjGhHZLkWqa.png)"
   ],
   "metadata": {
    "pycharm": {
     "name": "#%% md\n"
    }
   }
  },
  {
   "cell_type": "markdown",
   "source": [
    "---\n",
    "---\n",
    "# Terminal and Shell"
   ],
   "metadata": {
    "pycharm": {
     "name": "#%% md\n"
    }
   }
  },
  {
   "source": [
    "---\n",
    "## Terminal Operations\n",
    "**Tips**: bash uses a library *Readline* to implement command line editing, even for the shortcut keys.\n",
    "\n",
    "\n",
    "## Cc-Basic\n",
    "- Terminal:\n",
    "- Console:\n",
    "- Shell:\n",
    "- (In Ubuntu, tty1 would always be the login screen for tty2 and tty2 would be the original graphical system, while tty7 is usually used by Xorg(a windows system to support the graphical system) so the virtual terminals could be actually used would be F3-F6 and it would be hard to exit by `Alt+F7`)\n",
    "\n",
    "## Basic Operation\n",
    "- Open/Add new terminals\n",
    "    - (Open/Add) New windows:`Ctrl+Alt+T`\n",
    "    - Tabs: `Ctrl+Shift+N`\n",
    "- Exit the terminal\n",
    "    - (`Ctrl+D`)\n",
    "    - End of File (EOF)\n",
    "    - Enter `exit`\n",
    "- Execute multiple commands\n",
    "    - Enter multiple command separated with `;`\n",
    "- Combine command in multiple lines\n",
    "    - Lk: ShellScript.sh\n",
    "    - `\\` at the end of these lines can combine these lines to form a completed command.\n",
    "- AutoComplete\n",
    "    - Lk: Personalise the autocomplate list\n",
    "    - `Tab` will complete the some program/file in current dir\n",
    "    - `Tab Tab` will show all matched programs/files \n",
    "\n",
    "\n",
    "## Edit Operations\n",
    "\n",
    "1. **copy and paste** text in terminal\n",
    "\n",
    "   1. select, then simply copy and paste with shortcut `Ctrl+Shift+C`and`Ctrl+Shift+V`\n",
    "   2. Ctrl+mouse meta programming(G hub)\n",
    "   3. drag with left mouse button to select and press the middle button where you want to paste\n",
    "2. Scroll in the command line: `Shift+PgUp` and `Shift+PgDn`\n",
    "3. Cursor Movement\n",
    "   1. `Ctrl+a` Move cursor to <u>the beginning of the line</u>.\n",
    "   2. `Ctrl+e` Move cursor to <u>the end of the line</u>.\n",
    "   3. `Ctrl+f` Move cursor forward one character; <u>same as the right arrow key.</u>\n",
    "   4. `Ctrl+h` Equal to `Backspace`\n",
    "   5. `Ctrl+b` Move cursor backward one character; <u>same as the left arrow key.</u>\n",
    "   6. `Alt+f` Move cursor <u>forward one word</u>. (from left to right)\n",
    "   7. `Alt+b` Move cursor <u>backward one word.</u> (from right to left)\n",
    "   8. `Ctrl+l` Clear the screen (except the current command line) and move the cursor to the top-left corner by moving other command lines out of the terminal windows. The `clear` command clear those command lines, which means that it is not the same as what `Ctrl-l` does.\n",
    "4. Modifying Text on the command line\n",
    "   1. `Ctrl-d` Delete the character at the cursor location. (`Del` would be better)\n",
    "   2. `Ctrl-t` Transpose (exchange) the character at the cursor location with the one preceding it. (e.g when the cursor is located on b, this key could transpose ab to ba )\n",
    "   3. `Ctrl+u` clean the <u>line</u> from the cursor from right to left\n",
    "   4. `Ctrl+w` clean the <u>word</u> from the cursor from right to left\n",
    "   5. `Alt-t` Transpose the word at the cursor location with the one preceding it. (The same as `Ctrl+t`)\n",
    "   6. `Alt-l` Convert the characters <u>from the cursor location to the end of the word to **lowercase**</u>. (strange key would not be usd...but interesting)\n",
    "   7. `Alt-u` Convert the characters <u>from the cursor location to the end of the word to **uppercase**</u>.\n",
    "5. Killing(Cut) and Yanking(Paste) on the command line\n",
    "   1. Tips: Items that are cut are stored in a buffer (a temporary storage area in memory) called the **kill-ring.**\n",
    "   2. `Ctrl-k` Kill text from the cursor location <u>to the end of line</u>.\n",
    "   3. `Ctrl-u` Kill text from the cursor location <u>to the beginning of the line.</u>\n",
    "   4. `Alt-d` Kill text from the cursor location <u>to the end of the current word</u>. \n",
    "   5. `Alt-Backspace` Kill text from the cursor location <u>to the beginning of the current word.</u> If the cursor is at the beginning of a word, kill the previous word. (Realise that the Cursor could be considered as a | before the word)\n",
    "   6. `Ctrl-y` Yank text from the kill-ring and insert it at the cursor location.\n",
    "6. Completion\n",
    "   1. `Tab`or `Alt+?` could be used to complete commands /pathnames /variables($) /user name(~) /host-name(@) listed in /etc/hosts. if the clue is directed to a unique answer. \n",
    "   2. `Alt+*` could insert all possible completions.\n",
    "   3. `set | less` could see the programmable completion.\n",
    "   4. \n",
    "\n",
    "\n"
   ],
   "cell_type": "markdown",
   "metadata": {}
  },
  {
   "source": [
    "## Mt-Clear the command line"
   ],
   "cell_type": "markdown",
   "metadata": {}
  },
  {
   "cell_type": "code",
   "execution_count": null,
   "metadata": {},
   "outputs": [],
   "source": [
    "# close all process and reset all commands if they execute in half\n",
    "reset\n",
    "\n",
    "# clear command text in the terminal page but do not close the process\n",
    "clear"
   ]
  },
  {
   "cell_type": "markdown",
   "source": [
    "---\n",
    "## Virtual terminals/consoles\n",
    "- Enter different virtual terminals: `Ctrl + F1/F2/.../F6` (tty1-tty6)\n",
    "- Switch between different virtual terminals `Alt + F1/F2/.../F6`\n",
    "- Exit `Alt+F7`"
   ],
   "metadata": {}
  },
  {
   "source": [
    "---\n",
    "## Prompts\n",
    "\n"
   ],
   "cell_type": "markdown",
   "metadata": {}
  },
  {
   "cell_type": "code",
   "execution_count": null,
   "metadata": {},
   "outputs": [],
   "source": [
    "# Special symbol for superuser/root(#)\n",
    "[root@linuxbox ~]# exit\n"
   ]
  },
  {
   "source": [
    "## Mt-Customising the Prompt\n",
    "**Ref**\n",
    "- TLCL Chapter 13 – Customizing the Prompt\n",
    "- The Bash Prompt HOWTO from the Linux Documentation Project provides a\n",
    "  pretty complete discussion of what the shell prompt can be made to do. It is available at:\n",
    "  - https://tldp.org/\n",
    "  - http://tldp.org/HOWTO/Bash-Prompt-HOWTO/\n",
    "- \n",
    "\n",
    "**St-Prompt**\n",
    "\n",
    "Def: Based on PS1(Prompt string 1) env var in different Linux distribution\n",
    "\n",
    "**Cpn-Common**\n",
    "\n",
    "- username\n",
    "- host name\n",
    "- current dir\n",
    "\n",
    "**Cpn-Backslash-escaped special characters**\n",
    "\n",
    "**Ref**: Table 13-1 in TLCL\n",
    "\n",
    "**Space**: Shell Prompt\n",
    "\n",
    "**Tips**: The double \\ is also be considered as escape characters for some special symbols and thus, in this table, the presenting sequence is the real sequences.\n",
    "\n",
    "### Prompt Basic Info\n",
    "\n",
    "| Sequence      | Value Displayed                                              |\n",
    "| ------------- | ------------------------------------------------------------ |\n",
    "| **Others**    |                                                              |\n",
    "| \\a            | ASCII bell. This makes the computer beep when it is encountered. |\n",
    "|               |                                                              |\n",
    "| **Host**      |                                                              |\n",
    "| \\h            | Hostname of the local machine minus the trailing domain name. |\n",
    "| \\H            | Full hostname.                                               |\n",
    "| \\j            | Number of jobs running in the current shell session.         |\n",
    "| \\j            | Name of the current terminal device.                         |\n",
    "|               |                                                              |\n",
    "| **Shell**     |                                                              |\n",
    "| \\s            | Name of the shell program.                                   |\n",
    "| \\v            | Version number of the shell.                                 |\n",
    "| \\V            | Version and release numbers of the shell.                    |\n",
    "|               |                                                              |\n",
    "| **Time**      |                                                              |\n",
    "| \\t            | Current time in 24-hour hours:minutes:seconds format.        |\n",
    "| \\T            | Current time in 12-hour format.                              |\n",
    "| \\@            | Current time in 12-hour AM/PM format.                        |\n",
    "| \\A            | Current time in 24-hour hours:minutes format.                |\n",
    "| \\d            | Current date in day, month, date format. For example, “Mon May 26.” |\n",
    "|               |                                                              |\n",
    "| **User**      |                                                              |\n",
    "| \\u            | Username of the current user.                                |\n",
    "|               |                                                              |\n",
    "| **Directory** |                                                              |\n",
    "| \\w            | Name of the current working directory.                       |\n",
    "| \\W            | Last part of the current working directory name.             |\n",
    "|               |                                                              |\n",
    "| **Command**   |                                                              |\n",
    "| \\!            | History number of the current command.                       |\n",
    "| \\\\#           | Number of commands entered during this shell session.        |\n",
    "|               |                                                              |\n",
    "| **Edit**      |                                                              |\n",
    "| \\n            | A newline character.                                         |\n",
    "| \\r            | A carriage return.                                           |\n",
    "| \\\\$           | This displays a “$” character unless we have superuser privileges. In that case, it displays a “#” instead. |\n",
    "| \\\\[           | Signals the start of a series of one or more non-printing characters. This is used to embed <u>non-printing control characters</u> that manipulate the terminal emulator in some way, <u>such as moving the cursor or changing text colors</u>. |\n",
    "| \\\\]           | Signals the end of a non-printing character sequence.        |\n",
    "\n",
    "### Colors\n",
    "\n",
    "\n",
    "| **Color**            | **Ref**: Table 13- 2 in TLCL **Ab**: ANSI escape code with character attributes before `;` |\n",
    "| -------------------- | ------------------------------------------------------------ |\n",
    "| \\033[0;30m           | Black                                                        |\n",
    "| \\033[1;30m           | Dark gray                                                    |\n",
    "|                      |                                                              |\n",
    "| **Background color** | **Ref**: Table 13-3 in TLCL                                  |\n",
    "| \\033[0;40m           | Black                                                        |\n",
    "|                      |                                                              |\n",
    "|                      |                                                              |\n",
    "|                      |                                                              |\n",
    "| \\033[0m              | Turn off color. This affects both the text and the background. |\n",
    "\n",
    "### Cursor Movement\n",
    "\n",
    "| **Cursor Movement** | **Ref**: Table 13-4 in TLCL                                  |\n",
    "| ------------------- | ------------------------------------------------------------ |\n",
    "| \\033[l;cH           | Move the cursor to line l and column c                       |\n",
    "| \\033[nA             | Move the cursor up n lines                                   |\n",
    "| \\033[nB             | Move the cursor down n lines                                 |\n",
    "| \\033[nC             | Move the cursor forward n characters                         |\n",
    "| \\033[nD             | Move the cursor backward n characters                        |\n",
    "| \\033[2J             | Clear the screen and move the cursor to the upper-left corner (line 0, column 0) |\n",
    "| \\033[K              | Clear from the cursor position to the end of the current line |\n",
    "| \\033[s              | Store the current cursor position                            |\n",
    "| \\033[u              | Recall the stored cursor position                            |\n",
    "\n"
   ],
   "cell_type": "markdown",
   "metadata": {}
  },
  {
   "cell_type": "code",
   "execution_count": null,
   "metadata": {},
   "outputs": [],
   "source": [
    "# Shown prompt\n",
    "[<username>@<host> <dir>]$\n",
    "\n",
    "# Prompt env var\n",
    "\n",
    "## St-General \n",
    "$PS1=\"\\[<embedded methods>\\]\"\n",
    "\n",
    "# Save the prompt in .bashrc file\n",
    "PS1=\"\\[\\033[s\\033[0;0H\\033[0;41m\\033[K\\033[1;33m\\t\\033[0m\\033[u\\]<\\u@\\h \\W>\\$ \"\n",
    "export PS1\n",
    "## e.g.\n",
    "\\[\\e]0;\\u@\\h: \\w\\a\\]${debian_chroot:+($debian_chroot)}\\[\\033[01;32m\\]\\u@\\h\\[\\033[00m\\]:\\[\\033[01;34m\\]\\w\\[\\033[00m\\]\\$"
   ]
  },
  {
   "source": [
    "---\n",
    "---\n",
    "# Shell"
   ],
   "cell_type": "markdown",
   "metadata": {}
  },
  {
   "source": [
    "---\n",
    "## Basic Information of shell"
   ],
   "cell_type": "markdown",
   "metadata": {}
  },
  {
   "cell_type": "code",
   "execution_count": null,
   "metadata": {},
   "outputs": [],
   "source": [
    "# Check the shell program in your system\n",
    "echo \"---------- Mt-List all shells in your system ----------\"\n",
    "cat /etc/shells\n",
    "\n",
    "echo \"---------- Mt-Check the default shell ----------\"\n",
    "# Tips: $SHELL usually is the environmental variable\n",
    "echo $SHELL  "
   ]
  },
  {
   "source": [
    "---\n",
    "## Configure the Environment\n",
    "\n",
    "**Cc**\n",
    "- **Environment**: a body of information about process environment for the command and shell session\n",
    "- **Configuration files**: Files that store program settings and terminal settings which can adjust shell experience with environment variables.\n",
    "\n",
    "**Cpn**\n",
    "- **Environment variables** (env var): Other vars defined by the programs and functions\n",
    "    - Ab: vars could be used in the  parameter expansion\n",
    "- **Shell variables**: data placed by bash/shell\n",
    "- some **programmatic data**, namely <u>aliases</u> and <u>shell functions</u>\n",
    "\n",
    "**Common env var table**\n",
    "\n",
    "| DISPLAY  | The name of the display if we are running a graphical environment . When the value of this var is 0, it means that the first display is generated by the X server |\n",
    "| -------- | ------------------------------------------------------------ |\n",
    "| EDITOR   | The name of the program to be used for text editing (Default editor like nano or vim) |\n",
    "| SHELL    | The name of the user's default shell program (Default bash)  |\n",
    "| HOME     | The pathname of your home directory                          |\n",
    "| LANG     | Defines the character set and collation order of your language |\n",
    "| OLDPWD   | The previous working directory                               |\n",
    "| AGER     | The name of the program to be used for paging output. (Default /usr/bin/less) |\n",
    "| **PATH** | A <u>colon-separated list</u> of <u>directories</u> that are searched when we enter the <u>name</u> of a <u>executable program</u> or commands. Tells the shell where to look for executable files in response to commands issued by a user. |\n",
    "| PS1      | This stands for \"prompt string 1.\" This defines the contents of the shell prompt. As we will later see, this can be extensively customised. |\n",
    "| PWD      | The current working directory.(The same as the output of `pwd`) |\n",
    "| TERM     | The name of your terminal type. Unix-like systems support many terminal protocols; this variable sets the protocol to be used with your terminal emulator. |\n",
    "| TZ       | Specifies your time zone. Most Unix-like systems maintain the computer's internal clock in Coordinated Universal Time (UTC) and then display the local time by applying an offset specified by this variable. |\n",
    "| USER     | Your username.                                               |\n",
    "| HOSTNAME | The host server name                                         |\n",
    "| HOSTTYPE | The system type(for examplek, x86_64)                        |\n",
    "\n",
    "**F**\n",
    "- Customise the shell experience\n",
    "\n",
    "**Tips**\n",
    "- Most of important shell scripts are stored in the **ls -al /etc/profile.d**. Avoid to modify this files.\n",
    "\n",
    "\n"
   ],
   "cell_type": "markdown",
   "metadata": {}
  },
  {
   "source": [
    "## Cpn-Configuration files for BASH\n",
    "\n",
    "Tips: (Also see the **Startup Files**)\n",
    "\n",
    "- `/etc/profile` : the <u>systemwide initialization</u> file, executed for login shells\n",
    "- `$HOME/.bash_profile` : the <u>personal initialization file</u>, executed for login shells, which calls `$HOME/.bashrc` and `/etc/bashrc` (`/etc/bash.bashrc`)\n",
    "- `/etc/bash.bashrc` : non-standard, systemwide <u>per-interactive-shell startup</u> file (we don't have it on our installation)\n",
    "- `$HOME/.bashrc` : the <u>individual per-interactive-shell startup</u> file executed for non-login shells (Interactive shells use bashrc)\n",
    "- `$HOME/.inputrc` : individual <u>readline initialization</u> file\n",
    "- `/etc/bash.logout` : the <u>systemwide login shell cleanup</u> file, executed when a login shell exits\n",
    "- `$HOME/.bash_logout` : the <u>individual login shell cleanup</u> file, executed when a login shell exits\n",
    "- `$HOME/.bash_login`\n",
    "- `$HOME/.profile`"
   ],
   "cell_type": "markdown",
   "metadata": {}
  },
  {
   "source": [
    "## Mt-Check the status of environment"
   ],
   "cell_type": "markdown",
   "metadata": {}
  },
  {
   "cell_type": "code",
   "execution_count": null,
   "metadata": {},
   "outputs": [],
   "source": [
    "# Show env vars in alphabetical order\n",
    "printenv\n",
    "\n",
    "# List the value of a specific variable [var] like echo $[var].\n",
    "#$ printenv [vars] \n",
    "\n",
    "printenv USER\n",
    "\n",
    "# Check the env var in the less editor or other editor you like\n",
    "printenv | less\n",
    "printenv | vim\n",
    "\n",
    "# Show all vars as well as any defined shell functions in alphabetical order\n",
    "set\n",
    "\n",
    "# Check env vars and shell vars with editors\n",
    "set | less\n",
    "\n",
    "# echo can also be used to check var if you have known them.\n",
    "echo $USER"
   ]
  },
  {
   "source": [
    "## Mt-Establish an Environment\n",
    "\n",
    "**Cc**\n",
    "\n",
    "- **Startup Files**: files that define the default environment <u>shared by all users</u>\n",
    "\n",
    "\n",
    "**Pcp-Edit start up files**\n",
    "\n",
    "- **# are comments**. You can comment out and uncomment some commands to deactivate or activate some command lines.\n",
    "\n",
    "\n",
    "**Cat**\n",
    "\n",
    "**Login shell sessions**: prompt for our username and password when using the virtual console session or login in the Unix system. (System-wide)\n",
    "\n",
    "| <font color=black>File</font> | <font color=black>Contents</font>                            |\n",
    "| ----------------------------- | ------------------------------------------------------------ |\n",
    "| /etc/profile                  | A <u>global</u> configuration script that applies to all users |\n",
    "| ~/.bash_profile               | A user's <u>personal startup file</u>. This can be used to extend or override settings in the global  configuration script. |\n",
    "| ~/.bash_login                 | If ~/.bash_profile is not found, bash attempts to read this script. |\n",
    "| ~/.profile                    | If neither ~/.bash_profile nor ~/.bash_login is found, bash attempts to read this file. This is the default in Debian-based distributions, such as Ubuntu. |\n",
    "\n",
    "\n",
    "**Non-login shell sessions**: apply when we launch a terminal session in the GUI with current/default user. (User-direct)\n",
    "\n",
    "**Ab**: <u>Non-login shells inherit</u> the environment from their parent process, <u>usually a login shell</u>.\n",
    "\n",
    "| <font color=black>File</font> | <font color=black>Contents</font>                            |\n",
    "| ----------------------------- | ------------------------------------------------------------ |\n",
    "| /etc/bash.bashrc              | A <u>global</u> configuration script that applies to all users |\n",
    "| ~/.bashrc                     | A <u>user's personal startup file.</u> It can be used to extend or override settings in the global configuration script. |\n",
    "\n",
    "      \n",
    "\n",
    "\n",
    "\n"
   ],
   "cell_type": "markdown",
   "metadata": {}
  },
  {
   "source": [
    "## Mt-Modify an Environment\n",
    "\n",
    "**Pcp**\n",
    "\n",
    "- Unless you know that the modification should be applied to the global environment, you should modify the configuration files within the home directory for particular user.\n",
    "\n",
    "**Obj2-config files to modification**\n",
    "\n",
    "- `.profile` can be modified for adding dir to PATH or env variables\n",
    "- `.bashrc` can be modified for other env changes but actually in most case this modification can be activated as long as you use the command line shell.\n",
    "- More about config files can be seen in the Cc part of Mt-Establish an Environment.\n",
    "\n",
    "**Pc**\n",
    "\n",
    "- Set shell options(show all vars)\n",
    "- Export environment\n",
    "- Make the modification of config files usable (Reload the configs)\n",
    "  - Tips: Restart or Log in/out will reload the configs. But temp configs will be refresh as well."
   ],
   "cell_type": "markdown",
   "metadata": {}
  },
  {
   "cell_type": "code",
   "execution_count": null,
   "metadata": {},
   "outputs": [],
   "source": [
    "echo \"---------- Modification Example ----------\"\n",
    "# Tips: Generally, this modification should be conducted in the config files rather than settling them temporarily. \n",
    "# Set common variables\n",
    "echo ${var := [value]}  # echo: Set the default value of a variable\n",
    "\n",
    "# Set PATH variable\n",
    "PATH=$PATH:$HOME/bin  # Add dir to PATH var\n",
    "export PATH  # Make the content of PATH var available to child processes of this shell\n",
    "export PATH=$PATH:$HOME/bin  # Add dir to PATH and make the change available\n",
    "\n",
    "# Set alias\n",
    "# Tips Again: without configuration, alias would be vanished after closing the terminal\n",
    "# Tips Again and Again: you could set the alias in the `.bash_profile` configuration files (or other environment configurations).\n",
    "alias  # Show all alias\n",
    "alias [alias_name]='[commands in string type]' # Set alias\n",
    "unalias [alias_name]  # Remove the alias\n",
    "\n",
    "\n",
    "## e.g.alias juno='Launch_JuliaPro'alias l.='ls -d .* --color=auto'\n",
    "\n",
    "echo \"---------- Source the config ----------\"\n",
    "# Activate the modification\n",
    "source $HOME/.bashrc\n",
    "source $HOME/.bash_profile\n",
    ". ~/.profile  # Tips: . is a bash builtin and . means source in command (not dir)\n",
    "\n",
    "\n"
   ]
  },
  {
   "cell_type": "markdown",
   "source": [
    "---\n",
    "---\n",
    "# Commands\n"
   ],
   "metadata": {}
  },
  {
   "source": [
    "---\n",
    "## History of your commands\n",
    "Space: .bash_history"
   ],
   "cell_type": "markdown",
   "metadata": {}
  },
  {
   "cell_type": "code",
   "execution_count": null,
   "metadata": {
    "tags": [
     "outputPrepend"
    ]
   },
   "outputs": [],
   "source": [
    "echo \"---------- View previous commands ----------\"\n",
    "# List all the history of commands in .bash_history\n",
    "history\n",
    "history | less  # or other editor like code/vim/nvim\n",
    "\n",
    "\n",
    "echo \"---------- Repeat commands ----------\"\n",
    "# Repeat and execute the last command/event (`up arrow` button will be more confortable for modification.)\n",
    "!!\n",
    "\n",
    "# Repeat the [num]th command/event listed in .bash_history\n",
    "## Tips: Not the last [num]th but the [num]th in common order. Check the [num] before trying to execute it.\n",
    "#$ ![num]\n",
    "\n",
    "!1441\n",
    "\n",
    "# Repeat the last command containing string [str] in .bash_history\n",
    "#$ !?[str]\n",
    "\n",
    "!?python\n",
    "\n",
    "# Repeat the last command starting with string [str] in .bash_history\n",
    "#$ ![str]\n",
    "\n",
    "!python\n",
    "\n",
    "\n",
    "echo \"---------- Related env vars ----------\"\n",
    "export HISTCONTROL=ignoredups  # Ignore dupilicates in the command history\n",
    "export HISTSIZE=1000  # Change the maximum size of the history command line records\n",
    "\n"
   ]
  },
  {
   "source": [
    "---\n",
    "---\n",
    "# I/O Redirection\n"
   ],
   "cell_type": "markdown",
   "metadata": {}
  },
  {
   "source": [
    "## Redirect Output(Redirection Operators for Outputs)\n"
   ],
   "cell_type": "markdown",
   "metadata": {}
  },
  {
   "cell_type": "code",
   "execution_count": null,
   "metadata": {},
   "outputs": [],
   "source": [
    "echo \"---------- Redirection ----------\"\n",
    "# > redirection operator \n",
    "# F: store the output of a command as a file\n",
    "## Tips: Always rewrite and if truncation, will generate an empty document.\n",
    "#$ [command_create_an_input] > [output_dir/filename]\n",
    "#$ [command_create_an_input] 1> [output_dir/filename]\n",
    "\n",
    "ls -l playground > output.txt\n",
    "\n",
    "\n",
    "# >> redirection operator \n",
    "# F:append output to a file rather than rewrite\n",
    "## input file and output file should not be the same\n",
    "#$ [command_create_an_input] >> [output_dir/filename]\n",
    "\n",
    "ls -l playground >> output.txt\n",
    "\n",
    "\n",
    "# < redirection operator\n",
    "#$ [command_needs_input_arguement] < [Input] # but some info lost      \n",
    "\n",
    "cat < land.txt # provide input for the cat command\n",
    "\n",
    "\n",
    "echo \"---------- Assign ----------\"\n",
    "# <<< assign the values in a variable\n",
    "#$ [assigned_vars] <<< [value/var/command that could produce values]\n",
    "\n",
    "read d1 <<< date\n",
    "\n",
    "\n",
    "echo \"---------- Pipeline in Bash ----------\"\n",
    "# Pipe operator | (vertical bar): Pass output of a command to another command\n",
    "#$ [command1] | [command2] | [command3] ...\n",
    "\n",
    "ls -l | write new.txt\n",
    "\n",
    "\n",
    "# `tee`: provide two > redirection and one must be stdout. \n",
    "# F: redirection and present the result at the same time\n",
    "# Tips: if not combined with pipelines, it would be a simply cat function somehow.\n",
    "#$ tee [input] [output]  # anotehr output will be systemd-mount\n",
    "\n",
    "\n",
    "echo \"---------- Others ----------\"\n",
    "# `echo`: display a line of text on standard output\n",
    "#$ echo [string]\n",
    "\n",
    "echo test is good  # even without the quotes\n",
    "echo 'Mesages for users'now=$(\"date\")\n",
    "echo -e 'Date: \\n $now'\n",
    "echo -e \"Date: \\n $now\"\n",
    "echo -e \"Date: \\n \\$now\"\n",
    "\n",
    "## Options\n",
    "#-e  # enable interpretation of following backslash escapes\n",
    " "
   ]
  },
  {
   "source": [
    "## Redirect Error(Redirection by file descriptor)"
   ],
   "cell_type": "markdown",
   "metadata": {}
  },
  {
   "cell_type": "code",
   "execution_count": null,
   "metadata": {},
   "outputs": [],
   "source": [
    "# file descriptor: stream 2\n",
    "## Tips: internal file descriptor: 0 input 1 output 2 error\n",
    "#$ [command_create_an_input] 2> [output_dir/filename]\n",
    "\n",
    "ls -l playground 2> error.txt"
   ]
  },
  {
   "cell_type": "code",
   "execution_count": null,
   "metadata": {},
   "outputs": [],
   "source": [
    "echo \"---------- Combination Methods ----------\"\n",
    "# Redirecting Standard Output and Standard Error to One File\n",
    "ls -l /bin/usr > ls-output.txt 2>&1  ## Tips: The order of the redirections is significant. redirection of stdout then redirection of stderrd\n",
    "\n",
    "# A more pipeline method\n",
    "ls -l /bin/usr &> ls-output.txtls -l /bin/usr &>> ls-output.txt # append\n",
    "\n",
    "# dispose output/error message by Null Device\n",
    "ls -l /bin/usr > /dev/null # or other operators  ## Tips: null device is a device file that discards all data written to it but reports that the write operation succeeded\n",
    "\n",
    "# redirect the document content and cp in I/O Redirection\n",
    "cat [file1] <(echo \"string\") > [file2] # add file1 content and echo string into file2, actually just cp would be a better method.\n"
   ]
  },
  {
   "source": [
    "## Redirect  Input\n",
    "\n",
    "Concatenate files: reads one or more files and <u>copies all materials in them to standard output</u>\n",
    "\n",
    "**Tips**: If cat is not given any arguments, it reads from standard input and since standard input is, by default, attached to the keyboard, it's waiting for us to type something!"
   ],
   "cell_type": "markdown",
   "metadata": {}
  },
  {
   "cell_type": "code",
   "execution_count": null,
   "metadata": {},
   "outputs": [],
   "source": [
    "cat [filename] [file2]\n",
    "# Sp\n",
    "cat [file1] [file2] ... [filen] > [combined_file]\n",
    "cat # then wait for your input until EOF\n",
    "cat > land.txt # your standard input could be ouput like this"
   ]
  },
  {
   "cell_type": "code",
   "execution_count": null,
   "metadata": {},
   "outputs": [],
   "source": []
  },
  {
   "cell_type": "code",
   "execution_count": null,
   "metadata": {},
   "outputs": [],
   "source": []
  },
  {
   "cell_type": "code",
   "execution_count": null,
   "metadata": {},
   "outputs": [],
   "source": []
  },
  {
   "cell_type": "code",
   "execution_count": null,
   "metadata": {},
   "outputs": [],
   "source": []
  },
  {
   "source": [
    "Guideline Level (for workflows)\n",
    "\n",
    "<center><p style=\"font-size:50px; font-weight:bold\">\n",
    "Part II Linux System Management\n",
    "</p></center>\n",
    "\n",
    "Linux system commands"
   ],
   "cell_type": "markdown",
   "metadata": {}
  },
  {
   "cell_type": "markdown",
   "source": [
    "---\n",
    "---\n",
    "# Linux File System\n",
    "\n",
    "## Ref\n",
    "\n",
    "- TLCL\n",
    "  - Chapter 2 Navigation\n",
    "\n",
    "\n",
    "## Cc-Linux File System Tree\n",
    "\n",
    "- Linux system is a single file system tree with attached devices.\n",
    "- Different from MS-DOS and Windows System which separate file system trees for different devices.\n",
    "- \n",
    "\n",
    "\n",
    "\n",
    "## Special Symbol when using file system\n",
    "\n",
    "**Colour indicator**\n",
    "\n",
    "1. green: files\n",
    "2. blue: directory\n",
    "3. blue with green background: directory with branch directory\n",
    "4. red: display broken links\n",
    "\n",
    "**Long Format of file information**\n",
    "\n",
    "1. Cpn: [Access rights] [File's number of hard links] [username] [group name] [size] [last modification time] [filename]\n",
    "2. e.g.: drwxrwxrwx 210 ninomoriaty ninomoriaty  12K Sep  4 18:48 anaconda3\n",
    "3. Mt-Read the access rights\n",
    "   1. first character: file(-), directory(d), symbolic link(l), \n",
    "   2. next 3 character(for file's owner): r(readable)w(writable)x(executable) \n",
    "   3. another 3 character(for group): r(readable)w(writable)x(executable) \n",
    "   4. final 3 character(for everyone): r(readable)w(writable)x(executable) \n",
    "\n"
   ],
   "metadata": {
    "pycharm": {
     "name": "#%% md\n"
    }
   }
  },
  {
   "source": [
    "---\n",
    "## Directory Info"
   ],
   "cell_type": "markdown",
   "metadata": {}
  },
  {
   "cell_type": "code",
   "execution_count": null,
   "metadata": {},
   "outputs": [],
   "source": [
    "echo \"---------- List dir ----------\"\n",
    "# List contents in directories\n",
    "# Tips: `ls` is the alias of `ls color=auto`; `ll` is the alias of `ls -l color=auto`\n",
    "# directory-related\n",
    "ls # list visable content in current directory\n",
    "ls [pathname] # list contents in the specific directoryls [pathname] \n",
    "[pathname] # show contents in more directories\n",
    "# flags (common used, please help)\n",
    "ls -a # list all content\n",
    "ls --all\n",
    "\n",
    "ls -A # list all content except . and .. shown in -a option\n",
    "ls --almost-all # but actually it can...\n",
    "\n",
    "ls -d [pattern] # list directories themselves in a pattern\n",
    "ls --directory [pattern]\n",
    "\n",
    "ls -F # show an file-type indicator character to the end of each name\n",
    "$ environment.yml*  # `*` means files\n",
    "CLionProject/  # `/` means directories\n",
    "\n",
    "ls --classify\n",
    "ls -h \n",
    "\n",
    "# display file size in human readable format in long format, always used with -l\n",
    "ls --human-readable\n",
    "\n",
    "ls -i # print the index number(inode) of each file\n",
    "ls --inode\n",
    "ls -l # show details(wxr) about all contents in the directories\n",
    "\n",
    "ll # the alias of ls -l --color=auto\n",
    "\n",
    "ls -r # display the result in reverse order\n",
    "ls -R # show the dir structure in a recursive way (somehow like tree structure)\n",
    "\n",
    "ls -s # sort results by file size\n",
    "ls -t # sort the content according to the the files' modification time\n",
    "ls -1 # show only the filename in one line.\n",
    "\n",
    "\n",
    "echo \"---------- Tree dir ----------\"\n",
    "# Show the hierarchical file system in a **tree pattern**\n",
    "sudo apt install tree # install the tree package and dependencies\n",
    "tree # show the hierarchical structure of workspace\n",
    "tree [pathname] # show the hierarchcial file system of current directory\n",
    "\n",
    "\n",
    "echo \"---------- Other methods ----------\"\n",
    "# Count the number of documents in a directory (save the original files.)\n",
    "ls | cat -n | while read n fdo cp \"$f\" \"reads-$n\"done\n",
    "\n"
   ]
  },
  {
   "source": [
    "---\n",
    "## File Info"
   ],
   "cell_type": "markdown",
   "metadata": {}
  },
  {
   "cell_type": "code",
   "execution_count": null,
   "metadata": {},
   "outputs": [],
   "source": [
    "echo \"---------- Info of file ----------\"\n",
    "# Determine the file's type and get brief file introduction\n",
    "file [filename] # show brief info of the file\n",
    "\n",
    "\n",
    "echo \"---------- View the content of file ----------\"\n",
    "# Check the header and tailer of files\n",
    "#$ head [file]  # By default, `head` command will list the first 10 lines\n",
    "#$ tail [file]  # By default, `tail` command will list the last 10 lines\n",
    "## Options\n",
    "#-n # the first/last n lines\n",
    "\n",
    "head -n 3 environment.yml\n",
    "head -n3 environment.yml\n",
    "tail -n 3 environment.yml\n",
    "tail -n3 environment.yml\n",
    "\n",
    "\n",
    "# Check the content of the file(by different command line editor)\n",
    "# Lk: Different editors' notebook in Wiznote\n",
    "less [filename] # view the text file in a Vim-like model, show files a page at a time\n",
    "## Tips: `man` command also use less to show the manual pages \n",
    "# vim family\n",
    "vim [filename]\n",
    "neovim [filename]\n",
    "# nano\n",
    "nano [filename]\n",
    "#gedit: Graphical editor\n",
    "gedit [filename]\n",
    "\n",
    "\n",
    "echo \"---------- Statistics of files ----------\"\n",
    "# wc (word count) : Returns the number of lines, words, and bytes in a file\n",
    "#$ wc [files] # wildcards would also be acceptable arguments\n",
    "# Options\n",
    "#-l # count the lines in the files, only lines number, not similar to `ls`\n",
    "#-w # count the words in the files\n",
    "\n",
    "\n",
    "echo \"---------- Other methods ----------\"\n",
    "# Sp.Mt-output the doc with headhead \n",
    "# it would accept the stdin and output to the stdout\n",
    "[command] | head # could show the result in stdout\n",
    "\n"
   ]
  },
  {
   "source": [
    "---\n",
    "## Navigate in file system"
   ],
   "cell_type": "markdown",
   "metadata": {}
  },
  {
   "cell_type": "code",
   "execution_count": null,
   "metadata": {},
   "outputs": [],
   "source": [
    "echo \"---------- Print workplace directory ----------\"\n",
    "# Print workplace directory\n",
    "pwd\n",
    "\n",
    "echo \"---------- Change directory ----------\"\n",
    "# Absolute Pathname\n",
    "#$ cd [absolute pathname] \n",
    "# Tips: ./ would be the default prefix and if absolute pathname, you should specify / in the prefix.\n",
    "cd /usr/bin  # example of absolute path\n",
    "cd ./anaconda3  # example of relative path\n",
    "cd ~/anaconda3 # emm, an user-oriented reltative pathname\n",
    "\n",
    "# Relative Pathname\n",
    "#$ cd [relative pathname]\n",
    "cd ./CLionProjects  # example\n",
    "cd CLionProjects/test/ # actually if you just type a directroy, it would be recognized as relative pathname\n",
    "# Other Usage\n",
    "cd # return to the home directory\n",
    "cd ~ # return to the home directory\n",
    "cd ~[user_name] # Changes the working directory to the home directory of [user_name].\n",
    "cd - # Changes the working directory to the previous working directory\n",
    "cd . # just current directory(Ref: relative pathname)\n",
    "cd .. # return to the parent directory of current directory\n",
    "cd ../.. # relatvie pathnaem chain would be acceptable and this would make the command more easier.\n"
   ]
  },
  {
   "source": [
    "---\n",
    "## Manipulate Files and Directories\n",
    "\n",
    "**Ref**\n",
    "- TLCL Chapter 4 Manipulating Files and Directories\n",
    "- TLCL Chapter 17 Searching for Files\n",
    "\n"
   ],
   "cell_type": "markdown",
   "metadata": {}
  },
  {
   "cell_type": "code",
   "execution_count": null,
   "metadata": {},
   "outputs": [],
   "source": [
    "echo \"---------- Locate and Search targets ----------\"\n",
    "# locate\n",
    "# Search and Locate the path to files or directories through particular substring\n",
    "# Mt-Installation\n",
    "#$ sudo apt install mlocate \n",
    "# Mt-basic usage\n",
    "#$ locate <substring> \n",
    "\n",
    "locate prosite.dat\n",
    "\n",
    "\n",
    "# find\n",
    "\n",
    "\n",
    "# \n",
    "\n",
    "\n",
    "\n",
    "echo \"---------- Create/Make directories or files ----------\"\n",
    "# Create Directory\n",
    "mkdir [dir1] [dir2] ...\n",
    "## Options\n",
    "#-p  # make parent dirs if needed when create subdir\n",
    "\n",
    "# Create files\n",
    "touch [file1] [file2]\n",
    "# Create files in a pattern\n",
    "touch filenumber_{1,2,3} # create files named like a1, a2, a3\n",
    "\n",
    "\n",
    "\n",
    "echo \"---------- Copy and Paste dir or file ----------\"\n",
    "# Tips: `cp` will silently (meaning there will be no warning when overwriting files.)\n",
    "#$ cp [item1] [item2] \n",
    "# The second one could be the new-named copy or final dir (existing)\n",
    "cp [item1] [item2] ... [final dir] \n",
    "## Options\n",
    "#-a, --archive # copy the file attributes (dir needed)\n",
    "#-i, --interactive # before overwriting, prompt the user for confirmation\n",
    "#-r, -R, --recursive # copy hierarchical dirs and subdir (dir needed)\n",
    "#-u, --update # copy newer version or new files\n",
    "#-v, --verbose # Display information of copy process by %\n",
    "\n",
    "cp dir1/* dir2  # copy all files in dir1(not in all branches) into dir2\n",
    "cp -r dir1 dir2  # dir2 could be not existing\n",
    "\n",
    "\n",
    "echo \"---------- Move/Cut/Rename dir or file ----------\"\n",
    "# Move & Rename files and directories\n",
    "#$ mv [item1] [item2] ... [final dir]\n",
    "#$ mv [item1] [item2]  # Add: `mv` command could be also used to rename.\n",
    "## Options\n",
    "#-i --interactive # before overwriting, prompt the user for confirmation\n",
    "#-u --update # copy newer version or new files\n",
    "#-v --verbose # Display information of copy process by %\n",
    "\n",
    "mv dir1 dir2 # would directly move all subdir and dir2 could be not existing\n",
    "\n",
    "\n",
    "echo \"---------- Remove files and directories ----------\"\n",
    "#$ rm [item1] [item2] ... \n",
    "## specific for dir\n",
    "#$ rmdir [dir1] [dir2] ... # however, only empty dir could be removed by `rmdir`.\n",
    "## Options\n",
    "#-i --interactive # before overwriting, prompt the user for confirmation\n",
    "#-r --recursive # copy hierarchical dirs and subdir (dir needed)\n",
    "#-v --verbose # Display information of copy process by %\n",
    "#-f --force # override the -i option and it would ignore nonexistent files and do not prompt\n",
    "## Tips:  \n",
    "#1. whenever you use wildcards with rm (besides carefully checking your typing!), test the wildcard first with `ls` and check if the pre-deleted items are those you want to delete.\n",
    "#2. And it would be a more safe method to create a directory as \"rubbish bin\" and you could use `mv` rather than `rm` for possible recovery.\n",
    "\n",
    "rm -rf null\n",
    "rmdir null\n",
    "\n",
    "\n",
    "echo \"---------- Create hard and symbolic links ----------\"\n",
    "#$ ln [options] [file] [link]\n",
    "## Options\n",
    "#-s [file/dir] [link]   # Symbolic Link\n",
    "#-r  # the same as ls and rm\n",
    "## GUI Methods\n",
    "# 1. `Ctrl+Shift` keys while `Dragging a file `will create a symbolic link rather than copying (or moving) the file\n",
    "\n",
    "# Tips: A method to settle specified version of Python, somehow similar to alias\n",
    "sudo ln -fs /usr/bin/python3.5 /usr/bin/python\n"
   ]
  },
  {
   "source": [
    "---\n",
    "## Compress and Extract"
   ],
   "cell_type": "markdown",
   "metadata": {}
  },
  {
   "cell_type": "code",
   "execution_count": null,
   "metadata": {},
   "outputs": [],
   "source": [
    "echo \"---------- Zip: zip ----------\"\n",
    "# Compress\n",
    "#$ zip [options] [zipped_filename] [files]\n",
    "# Add files to the zipped files\n",
    "#$ zip [options like -u and -f] [zipped_file] [files]\n",
    "## Options\n",
    "#-u # update: only new files and changed files\n",
    "#-f # refresh zipped file with changed files\n",
    "#-m # move files into a zipped file\n",
    "#-e # set the enter passwd\n",
    "\n",
    "# Extract\n",
    "#$ unzip [options] [zipped_filename] [dir]\n",
    "## Options\n",
    "#-d # the extracted directory\n",
    "\n",
    "\n",
    "echo \"---------- GNU zip: .gz .gzip .tgz ----------\"\n",
    "#$ gzip [options] [file]gunzip [options] [file]\n",
    "## Options\n",
    "#-c, --stdout, -to-stdout # write the output file to the stdout. keep original files unchanged\n",
    "#-k, --keep # keep the original input files during compression or decompression\n",
    "\n",
    "\n",
    "echo \"---------- Tape archive: .tar .tgz ----------\"\n",
    "#$ tar -xf [zipped_file_pathname] -C [target_dir]\n",
    "## Options\n",
    "#-x # Extract files from an archive\n",
    "#-f # specifies the archive FILE to read\n",
    "#-a # automatically handles the decompression\n",
    "#-C, --directory # dir for the extracted files\n",
    "#-v # verbose, similar to mv and cp \n",
    "\n",
    "\n",
    "echo \"---------- Other methods relative to compressed files ----------\"\n",
    "# Mt-See the content in a zipped file\n",
    "#$ zcat [zip_compressed_file]  # inspect the file with zip compression\n",
    "#$ zless [zip_compressed_file]\n",
    "#$ less [zip_compressed_file]  # would regularly unzip the compressed file and see the content\n",
    "# Mt-\n",
    "\n",
    "\n"
   ]
  },
  {
   "source": [
    "---\n",
    "## Permission\n",
    "\n",
    "**Cc-Identity Information files**  \n",
    "\n",
    "`/etc/passwd` : user name+uid+gid+real name+home  dir+login shell.\n",
    "\n",
    " `/etc/group`: group name\n",
    "\n",
    " `/etc/shadow`:passwords\n",
    "\n",
    "**Sp**: superuser(uid 0)\n",
    "\n",
    "\n",
    "**Cc-Access of files and directories**\n",
    "\n",
    "1. read access: r\n",
    "2. write access: w\n",
    "3. execution access: x\n",
    "\n",
    "![Screenshot from 2020-10-01 19-45-38.png](https://i.loli.net/2020/10/02/C6eRw1aEAgnU8Yd.png)\n",
    "\n",
    "4. Special Permissions\n",
    "   1. setuid bit: make real user access permissions of file/dir owner by making files created in a dir belonging to the group of user.\n",
    "   2. setgid bit: make real group access permissions of file/dir group\n",
    "   3. sticky bit:  prevents users from deleting or renaming dir unless the user is either the owner of the directory, the owner of the file, or the superuser. \n",
    "\n",
    "**St-File attributes**\n",
    "\n",
    "1. **Cpn**\n",
    "   1. <u>file type</u>\n",
    "      1. Space: first character\n",
    "      2. Cat:\n",
    "         1. `-` regular file\n",
    "         2. `d` dir\n",
    "         3. `l` symbolic link, not shown the real file mode\n",
    "         4. `c` character special file, a device that handles data as a stream of bytes (e.g. terminal, /dev/null)\n",
    "         5. `b` block special file, a device that handles data in blocks (e.g. hard device and DVD drive)\n",
    "   2. <u>file mode</u>\n",
    "      1. Space: next nine characters\n",
    "      2. three letters mode : Owner(rwx)Group(rwx)World(rwx)\n",
    "\n",
    "\n",
    "\n",
    "**Pcp-Octal Number or Binary Number Representation**\n",
    "\n",
    "![ocbi](https://i.loli.net/2020/10/02/Hj2dErg1sfJpvV7.png)\n",
    "\n",
    "\n",
    "\n",
    "**Pcp-Symbolic Expression Representation**\n",
    "\n",
    "1. Obj1-who would be affected\n",
    "   1. `u` User who owns the file or dir (means the first triple numbers)\n",
    "   2. `g` Group Owner (means the second triple numbers)\n",
    "   3. `o` Other people and World (means the third triple numbers)\n",
    "   4. `a` All of the three. Combination of `u`, `g` and `o` (Default)\n",
    "2. Cc-Operations and Permission\n",
    "   1. `+` add permissions\n",
    "   2. `-` remove permissions\n",
    "   3. `=` assign the permissions and overwrite.\n",
    "3. Mt-Symbolic Notation Examples\n",
    "   1. u+r,-w,go=rx\n",
    "4. Sp.Mt-Directory Permission Only\n",
    "   1. RWX could be used to modify the permissions of directories except for files. \n",
    "\n",
    "\n",
    "If you're passing them to `chmod` (the command-line program), there is no difference. \n",
    "\n",
    "\n",
    "\n",
    "But in a C program or similar, `0777` is recognised as octal by the prefix zero (three sets of three 1 bits, which is what you intend), while `777` is decimal, and it's quite a different bit pattern. For example:\n",
    "\n",
    "0777 (octal)   == binary `0b 111 111 111`  == permissions `rwxrwxrwx`  (== decimal `511`)\n",
    "\n",
    "777 (decimal) == binary `0b 1 100 001 001` == permissions `sr----x--x` (== octal `1411`)\n",
    "\n",
    "\n",
    "\n",
    "(`chmod` will interpret any numeric argument as octal, hence no leading zero is necessary.) \n"
   ],
   "cell_type": "markdown",
   "metadata": {}
  },
  {
   "source": [
    "## Set Permission for your files \n",
    "\n",
    "\n",
    "### Add Mt-Set the permission with the GUI\n",
    "\n",
    "`right-click + Permissions Tab + Edit`\n",
    "\n",
    "\n",
    "### Change the permissions of files (Change Mode)\n",
    "**Obj1:** owner of the file or superuser\n"
   ],
   "cell_type": "markdown",
   "metadata": {}
  },
  {
   "cell_type": "code",
   "execution_count": null,
   "metadata": {},
   "outputs": [],
   "source": [
    "# Octal expression\n",
    "#$ chmod [octal/binary_number*3] [file/dir]\n",
    "# Symbolic expression\n",
    "#$ chmod +[permission] [file/dir]\n",
    "## options\n",
    "#-R, --recursive # the same as ls and rm\n",
    "#-v # verbose, the same as ls and rm\n",
    "\n",
    "chmod 660 environment.yml\n",
    "chomd 0660 environment.yml  # See the Difference between 0777 and 777 in mode\n",
    "chmod u+rwx,-w,go=rx,o= environment.yml # `o=` means others' permissions would be assigned as --- or 0 in octal`\n",
    "\n",
    "# Special permissions\n",
    "## setuid bit\n",
    "chmod u+s program # Output Permission: -rwsr-xr-x\n",
    "## setgid bit\n",
    "chmod g+s dir  # Output Permission: drwxrwsr-x\n",
    "## sticky bit\n",
    "chmod +t dir  # Output Permission: ddrwxrwxrwt\n",
    "\n",
    "## Sp.Mt-Directory Permission Only\n",
    "chmod u+rwX test_dir # dir+rwx file+rw \n"
   ]
  },
  {
   "source": [
    "### Set the default permission\n",
    "\n",
    "**Ab**: octal presenting mask\n",
    "\n",
    "**Mt**-understand: \n",
    "\n",
    "1. 4 (octal 1 number > binary 3 number). \n",
    "2. when 1, removed the permission. \n",
    "3. The first octal number represent some special Permissions shown in the box on page 124 \n",
    "\n",
    "**F**: controls the default permissions given to a file when it is created"
   ],
   "cell_type": "markdown",
   "metadata": {}
  },
  {
   "cell_type": "code",
   "execution_count": null,
   "metadata": {},
   "outputs": [],
   "source": [
    "#$ unmask [permission]\n",
    "\n",
    "umask # see the current mask value for files\n",
    "umask 0002 \n",
    "\n",
    "# special permission\n",
    "umask 4000 # setuid bit\n",
    "umask 2000 # setgid bit\n",
    "umask 1000 # sticky bit"
   ]
  },
  {
   "source": [
    "### Change a file's ownership(user or group)\n",
    "\n",
    "P: Superuser privileges are required"
   ],
   "cell_type": "markdown",
   "metadata": {}
  },
  {
   "cell_type": "code",
   "execution_count": null,
   "metadata": {},
   "outputs": [],
   "source": [
    "# change a file/dir's owner or group owner\n",
    "#$ chown [owner][:[group]] [file]\n",
    "\n",
    "chown nino environment.yml # the user of the file would be transfered as nino\n",
    "chown nino: environment.yml # the user would be changed and the group owner would be the group contains the user called nino.\n",
    "chown :team environment.yml # change the group owner\n",
    "chown nino:team environment.yml # change the user and the group owner\n",
    "\n",
    "# check existiong groups in the system\n",
    "groups\n",
    "\n",
    "# change the group ownership to the [group]\n",
    "chgrp [group] [items]  \n",
    "\n",
    "# TODO: add other commands that can be used to manage a group\n",
    "adduser\n",
    "useradd\n",
    "groupadd\n"
   ]
  },
  {
   "source": [
    "## Set user/group's ownership\n",
    "\n",
    "### Create a group\n",
    "\n",
    "Using the graphical user management tool, bill creates a group called music and adds users bill and karen to it\n",
    "\n",
    "### Display the identity of a user\n",
    "\n"
   ],
   "cell_type": "markdown",
   "metadata": {}
  },
  {
   "cell_type": "code",
   "execution_count": null,
   "metadata": {},
   "outputs": [],
   "source": [
    "# Check the identity of current user\n",
    "#$ id\n",
    "# uid means user identity and gid means primary group identity\n",
    "# Outputs: uid=1000(ninomoriaty) gid=1000(ninomoriaty) groups=1000(ninomoriaty),4(adm),24(cdrom),27(sudo),30(dip),46(plugdev),120(lpadmin),131(lxd),132(sambashare),998(docker)\n",
    "\n",
    "# Check the identity of particular user\n",
    "#$id [opitons] [users]"
   ]
  },
  {
   "source": [
    "### Change Identities\n",
    "\n",
    "1. Mt-log in as an alternative user\n",
    "\n",
    "2. Mt-su command family"
   ],
   "cell_type": "markdown",
   "metadata": {}
  },
  {
   "cell_type": "code",
   "execution_count": null,
   "metadata": {},
   "outputs": [],
   "source": [
    "# su\n",
    "## F: assume the identity of another user and either start a new shell session with that user's ID, or to issue a single command as that user. \n",
    "#$ su [options] [-] [user_name] \n",
    "# and then type the passwd would login in the administrator account\n",
    "## Options\n",
    "#-l, --login # login shell and change the home dir to the user in the argument. Default Superuser.\n",
    "#-c, --command '<command>' # exec the command with the permissions of specified user. Tips: enclose the command in quotes\n",
    "\n",
    "# sudo\n",
    "## F: set up a configuration file called /etc/sudoers and define specific commands that particular users are permitted to execute as a different user (usually the superuser) under an assumed identity.\n",
    "## Ab: \n",
    "## 1. sudo does not require access to the superuser's password, but requires the user’s own password.\n",
    "## 2. does not start a new shell, nor does it load another user's environment\n",
    "#$ sudo [commands]  # use the administrator authority for particular commands\n",
    "## Options\n",
    "#-i  # start an interactive superuser session\n",
    "#-l  # see the priviledge of sudo"
   ]
  },
  {
   "source": [
    "## Set Password for different users/groups"
   ],
   "cell_type": "markdown",
   "metadata": {}
  },
  {
   "cell_type": "code",
   "execution_count": null,
   "metadata": {},
   "outputs": [],
   "source": [
    "# change a user's password\n",
    "passwd [user] \n",
    "\n",
    "# TODO: find the superuser function used to lock the user, password expiration"
   ]
  },
  {
   "source": [
    "---\n",
    "---\n",
    "# Program Packages Management"
   ],
   "cell_type": "markdown",
   "metadata": {}
  },
  {
   "source": [
    "---\n",
    "## Commands/Programs Management\n",
    "\n",
    "1. Figure out command type (commands, functions, builtin,  programs, alias)\n",
    "\n",
    "   Tips: it could also test if a command is a builtin\n",
    "\n",
    "   ```bash\n",
    "   type [command] [name]# Options-a # display all the locations containting exe named [name]\n",
    "   ```\n",
    "\n",
    "2. Find the executable programs' locations($PATH)\n",
    "\n",
    "   **Tips:** When you suppose the executable program has many version in your Linux system, it would be a good method to figure out which version you have installed\n",
    "\n",
    "   ```bash\n",
    "   which [exe/alias] # only works for executable programs, not builtins nor aliases.\n",
    "   ```\n",
    "\n",
    "\n"
   ],
   "cell_type": "markdown",
   "metadata": {}
  },
  {
   "source": [
    "---\n",
    "## Package Management\n",
    "\n",
    "### Ref\n",
    "\n",
    "- The Debian GNU/Linux FAQ chapter on package management provides an overview of package management on Debian systems :\n",
    "  http://www.debian.org/doc/FAQ/ch-pkgtools.en.html\n",
    "- The home page for the RPM project:\n",
    "  http://www.rpm.org\n",
    "- The home page for the YUM project:\n",
    "  http://yum.baseurl.org\n",
    "- For a little background, the Wikipedia has an article on metadata:\n",
    "  http://en.wikipedia.org/wiki/Metadata\n",
    "\n",
    "### Cc\n",
    "\n",
    "- **Package management**: a method of installing and maintaining software on the system\n",
    "- **Package (management) system**: package complied/install methods based on different packaging technologies for a series of distributions\n",
    "  - **Cpn**\n",
    "    - **Package files**: compressed collection of files that comprise the software package\n",
    "      - numerous programs and data files that support the programs\n",
    "      - Metadata about the package\n",
    "      - pre- and post-installation scripts (e.g. configuration processes)\n",
    "    - **Package Tools**\n",
    "      - **Cat**\n",
    "        - **High level Package Tools**: perform metadata searching and dependency resolution\n",
    "        - **Low level Package Tools**:  handle tasks such as installing and removing package files\n",
    "  - **Cat**\n",
    "    - .deb camp: Debian, Ubuntu, Linux Mint, Raspbian\n",
    "      - Low level package tools: dpkg\n",
    "      - High level package tools: apt, apt-get, aptitude\n",
    "    - .rpm camp: Fedora, CentOS, Red Hat Enterprise Linux, OpenSUSE\n",
    "      - Low level package tools: rpm\n",
    "      - High level package tools: yum, dnf\n",
    "- **Package maintainer**: The staff to receive source code from upstream provider(author) and modify/complie/manage it into package files that can be integrated into package system. \n",
    "- **Repositories**: container of many thousands of packages, each specially built and maintained for the distribution.\n",
    "  - development repo\n",
    "  - testing repo\n",
    "  - third party repo\n",
    "- **Dependencies**: If a package requires a shared resource such as a shared library with routines, it is said to have a dependency\n",
    "  - **Mt-dependency resolution**\n",
    "    - **F**: ensure the dependencies for a program will be installed when the program is installed\n",
    "\n",
    "\n",
    "\n",
    "## `.deb` package management system\n",
    "\n",
    "### apt \n",
    "### snap\n",
    "### dpkg\n",
    "\n",
    "## `.rpm` Package Management System\n",
    "- \n",
    "\n",
    "\n"
   ],
   "cell_type": "markdown",
   "metadata": {}
  },
  {
   "source": [
    "### Mt-Find a package in a repo\n",
    "\n",
    "#### F: Search the metadata by High level package tools\n",
    "\n",
    "#### Pc\n",
    "\n",
    "1. Check if packages were installed\n",
    "    - **Obj2**: Low level package tools\n",
    "2. Search existing/non-existing package\n",
    "    - **Obj2**:  High level package tools\n"
   ],
   "cell_type": "markdown",
   "metadata": {}
  },
  {
   "cell_type": "code",
   "execution_count": null,
   "metadata": {},
   "outputs": [],
   "source": [
    "echo \"---------- deb ----------\"\n",
    "# Pc-1. Check Installed or not\n",
    "dpkg -s <package_name>\n",
    "dpkg --status <package_name>  ## Alternative\n",
    "\n",
    "\n",
    "# Pc-2. Search pkg in repo\n",
    "apt-get update\n",
    "apt-cache search <search_string>\n",
    "\n",
    "\n",
    "\n",
    "echo \"---------- rpm ----------\"\n",
    "# Pc-1. Check Installed or not\n",
    "rpm -q <package_name>\n",
    "\n",
    "\n",
    "# Pc-2. Search pkg in repo\n",
    "yum search <search_string>\n",
    "\n"
   ]
  },
  {
   "source": [
    "### Mt-Installing a Package\n",
    "\n",
    "#### Pc- from a Repository\n",
    "\n",
    "**Obj2**: High level package tools\n",
    "\n",
    "**Ab**: With dependency resolution and license\n",
    "\n",
    "#### Pc-from a Package File\n",
    "\n",
    "**Obj2**: Low level package tools\n",
    "\n",
    "**Ab**: Without dependency resolution\n"
   ],
   "cell_type": "markdown",
   "metadata": {}
  },
  {
   "cell_type": "code",
   "execution_count": null,
   "metadata": {},
   "outputs": [],
   "source": [
    "## GUI methods\n",
    "# direct install by software manager, however the GUI software is somehow awkard\n",
    "\n",
    "echo \"---------- deb ----------\"\n",
    "# From a repo\n",
    "# apt\n",
    "apt-get update\n",
    "sudo apt-get install [package_name]\n",
    "# snap\n",
    "sudo snap install [package_name]\n",
    "\n",
    "# From a pkg file\n",
    "## get .deb installed (gdebi)\n",
    "#$ gdebi [options] [deb_pkg]\n",
    "## dpkg\n",
    "#$ dpkg -i [.deb_pkg]\n",
    "\n",
    "\n",
    "echo \"---------- rpm ----------\"\n",
    "# From a repo\n",
    "yum install <package_name>\n",
    "\n",
    "# From a pkg file\n",
    "rpm -i <package_file>"
   ]
  },
  {
   "source": [
    "### Mt-Remove a Package\n",
    "\n",
    "**Obj2**: High/Low level package tools"
   ],
   "cell_type": "markdown",
   "metadata": {}
  },
  {
   "cell_type": "code",
   "execution_count": null,
   "metadata": {},
   "outputs": [],
   "source": [
    "echo \"---------- deb ----------\"\n",
    "# High level\n",
    "apt-get remove <package_name>\n",
    "apt-get purge <package_name>\n",
    "\n",
    "\n",
    "echo \"---------- rpm ----------\"\n",
    "# High level\n",
    "yum erase <package_name>\n"
   ]
  },
  {
   "source": [
    "### Mt-Update Packages\n",
    "\n",
    "#### Pc-From a Repo\n",
    "\n",
    "**Obj2**: High level package tools\n",
    "\n",
    "#### Pc-From a Package File\n",
    "\n",
    "**Obj2**: Low level package tools\\\n",
    "\n",
    "**Ab**: Replace previous version of package"
   ],
   "cell_type": "markdown",
   "metadata": {}
  },
  {
   "cell_type": "code",
   "execution_count": null,
   "metadata": {},
   "outputs": [],
   "source": [
    "echo \"---------- deb ----------\"\n",
    "# repo\n",
    "apt-get update\n",
    "apt-get upgrade\n",
    "\n",
    "# pkg\n",
    "dpkg -i <new_version_package_file>\n",
    "\n",
    "\n",
    "echo \"---------- rpm ----------\"\n",
    "# repo\n",
    "yum update\n",
    "\n",
    "# pkg\n",
    "rpm -U <new_version_package_file>\n"
   ]
  },
  {
   "source": [
    "### Mt-List Installed Packages\n",
    "\n",
    "**Obj2**: Low level package tools"
   ],
   "cell_type": "markdown",
   "metadata": {}
  },
  {
   "cell_type": "code",
   "execution_count": null,
   "metadata": {},
   "outputs": [],
   "source": [
    "echo \"---------- deb ----------\"\n",
    "dpkg -l\n",
    "\n",
    "\n",
    "echo \"---------- rpm ----------\"\n",
    "rpm -qa\n"
   ]
  },
  {
   "source": [
    "### Mt-Display the info about an installed package\n",
    "\n",
    "**Obj2**: High level package tools"
   ],
   "cell_type": "markdown",
   "metadata": {}
  },
  {
   "cell_type": "code",
   "execution_count": null,
   "metadata": {},
   "outputs": [],
   "source": [
    "echo \"---------- deb ----------\"\n",
    "apt-cache show <package_name>\n",
    "\n",
    "\n",
    "echo \"---------- rpm ----------\"\n",
    "yum info <package_name>"
   ]
  },
  {
   "source": [
    "### Mt-Finding Which Package Installed a File\n",
    "\n",
    "**F**:  determine what package is responsible for the installation of a particular file\n",
    "\n",
    "**Obj2**: Low level package tools"
   ],
   "cell_type": "markdown",
   "metadata": {}
  },
  {
   "cell_type": "code",
   "execution_count": null,
   "metadata": {},
   "outputs": [],
   "source": [
    "echo \"---------- deb ----------\"\n",
    "dpkg -S <package_file>\n",
    "\n",
    "\n",
    "echo \"---------- rpm ----------\"\n",
    "rpm -qf <package_file>\n",
    "\n"
   ]
  },
  {
   "source": [
    "---\n",
    "## Package/Environment Managers\n",
    "**Lk**: Related Wiznote notebooks\n",
    "\n",
    "### `pip`\n",
    "\n",
    "\n",
    "### `conda`\n"
   ],
   "cell_type": "markdown",
   "metadata": {}
  },
  {
   "cell_type": "markdown",
   "source": [
    "---\n",
    "---\n",
    "# System Administration\n",
    "Tips: Hardwares or system level\n",
    "\n",
    "Tips: Some methods are related to the installation of the Linux system and the more official manual should be checked in the official websites of different distribution.\n",
    "\n",
    "**Ref**\n",
    "- TLCL 19.01 Chapter 15 Storage Media"
   ],
   "metadata": {
    "pycharm": {
     "name": "#%% md\n"
    }
   }
  },
  {
   "source": [
    "---\n",
    "## System Call"
   ],
   "cell_type": "markdown",
   "metadata": {}
  },
  {
   "cell_type": "code",
   "execution_count": null,
   "metadata": {},
   "outputs": [],
   "source": [
    "# Shutdown or reboot the system\n",
    "## Pcp: superuser priviledge\n",
    "## Pc:  the orderly termination of all the processes on the system, as well as performing some vital housekeeping chores (such as syncing all of the mounted file systems) before the system powers off.\n",
    "\n",
    "#$ halt\n",
    "\n",
    "#$ poweroff\n",
    "\n",
    "#$ reboot\n",
    "## Options\n",
    "#$ reboot-h <time> # provide a time delay for the shutdown\n",
    "\n",
    "#$ shutdown [options] [argument]\n",
    "## options\n",
    "#-r  # \n",
    "\n"
   ]
  },
  {
   "cell_type": "markdown",
   "source": [
    "---\n",
    "## Statistics of current system"
   ],
   "metadata": {}
  },
  {
   "cell_type": "code",
   "execution_count": null,
   "source": [
    "echo \"---------- Mt-Memory, Swap and Buffers ----------\"\n",
    "# Mt-Check the memory/swap space resource usage\n",
    "#$ free\n",
    "## Options\n",
    "#-h  # Show output in human readable style(With the unit of space, commonly Gigabytes)\n",
    "#--giga  # Show output in gigabytes (However, without units)\n",
    "#--help  # Other methods\n",
    "## Output:\n",
    "#               total        used        free      shared  buff/cache   available\n",
    "# Mem:       16254076     6595876     4110600      181472     5547600     9178232\n",
    "# Swap:       2097148           0     2097148\n",
    "\n",
    "\n",
    "free\n",
    "free -h\n",
    "free --giga\n",
    "\n",
    "\n",
    "# Show a snapshot of system resource usage\n",
    "#$ vmstat # output the snapshot now\n",
    "#$ vmstat [time] # output the system resource usage snapshot in [time] seconds for updates\n",
    "\n",
    "vmstat\n",
    "vmstat 5\n",
    "\n",
    "# Draws a graph showing system load over time\n",
    "#$ xload  # with a graphical program\n",
    "#$ tload  # shown in the terminal.\n",
    "\n",
    "xload\n",
    "tload\n"
   ],
   "outputs": [],
   "metadata": {
    "pycharm": {
     "name": "#%%\n"
    }
   }
  },
  {
   "source": [
    "---\n",
    "## Process Management and Inspection\n"
   ],
   "cell_type": "markdown",
   "metadata": {}
  },
  {
   "source": [
    "### Monitor Process\n",
    "\n",
    "\n",
    "#### Expansion for the fields shown by `ps`\n",
    "\n",
    "   1. **USER**:  User ID/name. This is the owner of the process\n",
    "\n",
    "   2. **Process ID (PID)**: identity assigned in ascending order to keep track of process and corresponding resources usage.\n",
    "\n",
    "   3. **%CPU**: CPU usage in percent.\n",
    "\n",
    "   4. **%MEM**: Memory usage in percent.\n",
    "\n",
    "   5. **VSZ:** Virtual memory size\n",
    "\n",
    "   6. **RSS:** Resident set size. This is the amount of physical memory (RAM) the process is using in kilobytes.\n",
    "\n",
    "   7. **TTY** is short for “teletype,” and refers to the controlling terminal for the process.  (Lk: Virtual terminals or virtual consoles)\n",
    "\n",
    "   8. **STAT**: is short for “state” and reveals the current status of the process\n",
    "\n",
    "      <img src=\"https://i.loli.net/2020/10/03/aPXhTruizMfoAG3.png\" alt=\"Screenshot from 2020-10-03 12-59-26.png\" style=\"zoom:150%;\" />\n",
    "\n",
    "   9. **START**: Time when the process started. For values over 24 hours, a date is used.\n",
    "\n",
    "   10. **TIME** field is the amount of CPU time consumed by the process\n",
    "\n",
    "   11. **Command**: The command of the processes\n",
    "\n",
    "   12. \n",
    "\n",
    "\n",
    "\n",
    "#### Display tasks dynamically by `top`\n",
    "\n",
    "- **Ab**: by default, every three seconds refresh the info\n",
    "\n",
    "- **St-Console Interface**\n",
    "\n",
    "- **Cpn**: \n",
    "\n",
    "  1. System summary\n",
    "\n",
    "     1. first row\n",
    "\n",
    "        1. **top**: name of the program\n",
    "\n",
    "        2. **current time**\n",
    "\n",
    "        3. **uptime**: the amount of time since the machine was last booted\n",
    "\n",
    "        4. **users number**: the number of logged in users\n",
    "\n",
    "        5. **load average**: the number of processes that are in a runnable state, sharing the CPU and waiting to run.  Values less than 1.0 indicate that the machine is not busy. \n",
    "\n",
    "           The three average values are calculated in different time periods.\n",
    "\n",
    "           1. The first is the average for the last 60 seconds\n",
    "           2. the next the previous 5 minutes\n",
    "           3. finally the previous 15 minutes.: \n",
    "\n",
    "     2. second row: **Tasks**\n",
    "\n",
    "        1.  summarize the number of processes and their various process states\n",
    "\n",
    "     3. third row: **Cpu(s)**:  describes the character of the activities that the CPU is performing\n",
    "\n",
    "        1. **us**: percentage of the CPU is being used for <u>user processes (not kernel)</u>\n",
    "        2. **sy**: percent of the CPU is being used for <u>system (kernel) processes</u>\n",
    "        3. **ni**:  percent of the CPU is being used by “nice” (low-priority) processes\n",
    "        4. **id**: percent of the CPU is idle\n",
    "        5. **wa**: percent of the CPU is waiting for I/O\n",
    "        6. **hi**: \n",
    "        7. **si**:\n",
    "        8. **st**:\n",
    "\n",
    "     4. forth row: MiB **MEM**:\n",
    "\n",
    "        1. how physical RAM is being used\n",
    "\n",
    "     5. fifth row: MiB **Swap**:\n",
    "\n",
    "        1. how swap space (virtual memory) is being used.\n",
    "\n",
    "  2. Table of processes sorted by CPU activity\n",
    "\n",
    "- Mt-Navigate the top interface\n",
    "\n",
    "  1.  `q` Exit\n",
    "  2.  `h` Help Manual\n",
    "   \n",
    "   \n"
   ],
   "cell_type": "markdown",
   "metadata": {}
  },
  {
   "cell_type": "code",
   "execution_count": null,
   "metadata": {},
   "outputs": [],
   "source": [
    "# Report a snapshot of current processes\n",
    "#$ ps [options]\n",
    "## Options(Tips: without `-`)\n",
    "#x  # list all the processes that the system is doing, regardless of what terminal (if any) they are controlled by(shown as ? in TTY)\n",
    "#aux # more detailed information of processes\n",
    "\n",
    "\n",
    "# Display tasks dynamically\n",
    "# Ab: by default, every three seconds refresh the info\n",
    "#$ top\n",
    "\n",
    "\n",
    "# Progress bar viewer\n",
    "#$ pv [OPTION] [FILE]\n",
    "## installation\n",
    "# sudo apt install pv\n",
    "\n",
    "pv\n",
    "\n",
    "\n",
    "# progress\n",
    "#$ [command] [options] [argument] | progress\n",
    "\n",
    "\n",
    "\n",
    "# Watch the process of a command running in the background\n",
    "#$ watch [command] [options] [argument] # seems like a log of the command running process\n",
    "\n",
    "\n",
    "# Show the hierahcical structure of processes\n",
    "#$ pstree [options] [username/PID]\n",
    "\n",
    "\n",
    "# Check the log file modification in read time\n",
    "#$ tail -f [logfile]\n",
    "\n",
    "tail -f /var/log/messages"
   ]
  },
  {
   "source": [
    "### Control the Process\n",
    "\n",
    "#### Cc\n",
    "**Signals**: \n",
    "\n",
    "1. one of several ways that the operating system communicates with programs\n",
    "\n",
    "**Pcp**:\n",
    "\n",
    "1. Only the owner of a process (or the superuser) can send it signals with kill\n",
    "\n",
    "**Ab**: \n",
    "\n",
    "1. `SIG` could be prefixed in the [signal_name]\n",
    "\n",
    "**Cat-Signals with signal number** : ('()' means the meaningful words for the signal, could not be used in commands)\n",
    "\n",
    "1. 1 HUP(Hangup): \n",
    "   1. F: \n",
    "      1. many daemon programs: cause a reinitialization\n",
    "      2. (foreground) programs: means control terminal/process has “hung up.”/terminated\n",
    "   2. e.g. Apache Web Server\n",
    "2. 2 INT(Interrupt)`Ctrl+C` : terminate a program with cleaning up and save option.\n",
    "3. 3 QUIT: quit the process\n",
    "4. 9 KILL: immediately terminates the process without cleaning up and saving when this signal is sent to kernel. \n",
    "5. 11 SEGV(Segmentation violation): This signal is sent if a program makes illegal use of memory\n",
    "6. 15 TERM (terminate) : <u>Default signal</u>.  Terminate an active program. (However, the stopped processes would not be terminated)\n",
    "7. 18 CONT(Continue): Restore a process after a STOP or TSTP signal. (bg and fg would use this signal to restore the process)\n",
    "8. 19 STOP: Pause a process without terminating and the signal is sent to the kernel which could not be ignored.\n",
    "9. 20 TSTP(Terminal Stop)`Ctrl+Z`  : Pause a process . This signal is sent to the program and it could be ignored by program.\n",
    "10. 28 WINCH(Window change):the signal sent by the system when a window changes size. Some programs , such as top and less will respond to this signal by redrawing themselves to fit the new window dimensions.\n",
    "\n"
   ],
   "cell_type": "markdown",
   "metadata": {}
  },
  {
   "cell_type": "code",
   "execution_count": null,
   "metadata": {},
   "outputs": [],
   "source": [
    "# Interrupt the Process\n",
    "# 1. Interrupt: `Ctrl+C`\n",
    "# 2. Stop: `Ctrl+Z`\n",
    "\n",
    "\n",
    "echo \"---------- Job Inspection ----------\"\n",
    "# List active jobs\n",
    "#$ jobs \n",
    "# list the jobs shown processing on the terminal\n",
    "#$ [jobspec]+ [status] [command] \n",
    "\n",
    "jobs\n",
    "[1]+ Running xlogo &\n",
    "\n",
    "\n",
    "echo \"---------- Background or foreground switch ----------\"\n",
    "# Place a job/process in/to the background\n",
    "# & operator (background operator)\n",
    "# place a specific command in the background with ampersand (&) character\n",
    "#$[command] &\n",
    "#$ [tty] [pid] \n",
    "\n",
    "zotero &\n",
    "[1] 12312  \n",
    "\n",
    "\n",
    "# Resume the background jobs\n",
    "#$ bg %[jobspec] \n",
    "\n",
    "bg %1\n",
    "\n",
    "\n",
    "# Place/Return a job in the foreground\n",
    "#$ fg %[jobspec] \n",
    "\n",
    "fg %1\n",
    "\n",
    "\n",
    "echo \"---------- Signals ----------\"\n",
    "# Tips: Only the owner of a process (or the superuser) can send it signals with kill\n",
    "\n",
    "# Send a signal to a process\n",
    "#$ kill [-signal_number/signal_name] [jobspec/pid]\n",
    "## Options\n",
    "#-l  # list all signals\n",
    "\n",
    "kill -1 12312\n",
    "kill -SIGHUP %1\n",
    "kill -KILL 12312\n",
    "\n",
    "\n",
    "# Sending Signals to Multiple Processes\n",
    "#$ killall [-u user] [-signal] [process_name]\n",
    "\n",
    "\n"
   ]
  },
  {
   "source": [
    "### Parallel\n",
    "\n",
    "**GNU Parallel**\n",
    "\n",
    "homepage: https://www.gnu.org/software/parallel/"
   ],
   "cell_type": "markdown",
   "metadata": {}
  },
  {
   "cell_type": "code",
   "execution_count": null,
   "metadata": {},
   "outputs": [],
   "source": [
    "ls mouse_exons.bed.?? | ~/parallel -j 4 wc"
   ]
  },
  {
   "cell_type": "code",
   "execution_count": null,
   "metadata": {},
   "outputs": [],
   "source": []
  },
  {
   "cell_type": "markdown",
   "source": [
    "---\n",
    "## Storage Media/Disk Management\n",
    "**Tips**: Not all the command is suitable for your system.\n",
    "\n",
    "### Ref\n",
    "\n",
    "- TLCL Chapter 15 Storage Media\n",
    "\n",
    "### Cc\n",
    "\n",
    "- **Mounting**: Attach devices to file system tree and allow the devices to interact with the operating system\n",
    "- **Mount point**: Directories can be considered as mount points in Linux file systems\n",
    "- **LVM(Logical Volume Manager)**: \n",
    "- **CD-ROM**:"
   ],
   "metadata": {
    "pycharm": {
     "name": "#%% md\n"
    }
   }
  },
  {
   "cell_type": "markdown",
   "source": [
    "### Mt-Check existing devices\n",
    "\n",
    "**Tips**: Common devices directory `/dev/`\n",
    "\n"
   ],
   "metadata": {}
  },
  {
   "cell_type": "code",
   "execution_count": null,
   "source": [
    "echo \"---------- Mt-Check existing devices ----------\"\n",
    "ls /dev\n",
    "\n",
    "echo \"---------- Mt-Check the dev spaces ----------\"\n",
    "df"
   ],
   "outputs": [],
   "metadata": {}
  },
  {
   "cell_type": "markdown",
   "source": [
    "### Mt-Mount Info\n",
    "\n",
    "Soc: `/etc/fstab` (short for “file system table”) lists the devices (typically\n",
    "hard disk partitions) that are to be mounted at boot time.\n",
    "\n",
    "\n",
    "| Contents         | Description                                                  |\n",
    "| ---------------- | ------------------------------------------------------------ |\n",
    "| Device           | UUID(Universally Unique Identifier)/Text Label/Actual Name of a  device file associated with physical devices. |\n",
    "| Mount point      | The dir where the device is attached to file system tree     |\n",
    "| File system type | File system type, e.g.: Fourth Extended File System (ext4), but many others are supported, such as FAT16 (msdos), FAT32 (vfat), NTFS(ntfs), CD-ROM (iso9660) |\n",
    "| Options          | Options, e.g. read/execute permissions                       |\n",
    "| Frequency        | A number specifying if and when a file is to be backed up with the `dump` command. |\n",
    "| Order            | A single number that specifies in what order file systems should be checked with the fsck command. |\n",
    "|                  |                                                              |\n",
    "\n"
   ],
   "metadata": {
    "pycharm": {
     "name": "#%% md\n"
    }
   }
  },
  {
   "cell_type": "code",
   "execution_count": null,
   "source": [
    "echo \"---------- Mt-Mount ----------\"\n",
    "# Mt-Display mounted file systems\n",
    "#$ mount\n",
    "## Outputs\n",
    "#[Device]\t[Mount point]\t[File system type]\t[Options]\t[Frequency]\t[Order]\n",
    "# e.g.\n",
    "#LABEL=/boot /boot ext4 defaults 1 2\n",
    "\n",
    "mount  \n",
    "\n",
    "# output-e.g.: [device] on [mount_point] type [file_system_type] ([options]).\n",
    "\n",
    "# Mt-Mount device to a mount point\n",
    "#$ mount [removable_dev] [dir_mount_point]\n",
    "#$ mount -t [file_system_type] [device_name] [dir_mount_point]\n",
    "\n",
    "mount /dev/sdb1 /mnt/flash\n",
    "mount -t iso9660 /dev/sdc /mnt/cdrom\n",
    "\n",
    "\n"
   ],
   "outputs": [],
   "metadata": {
    "pycharm": {
     "name": "#%%\n"
    }
   }
  },
  {
   "cell_type": "markdown",
   "source": [
    "### Mt-Unmount\n",
    "**Pcp**\n",
    "- If a device is used by other processes, it can not be unmounted.\n",
    "\n",
    "\n",
    "**F**\n",
    "- Unmounting a device entails writing all the remaining data to the device so that it\n",
    "can be safely removed. \n",
    "- file system corruption, one of the worst things that can happen on a computer.\n",
    "- \n",
    "\n"
   ],
   "metadata": {
    "pycharm": {
     "name": "#%% md\n"
    }
   }
  },
  {
   "cell_type": "code",
   "execution_count": null,
   "source": [
    "echo \"---------- Mt-Unmount ----------\"\n",
    "# Mt-Unmount a device\n",
    "# umount [device_name]  # Tips: umount not unmount\n",
    "\n",
    "su -\n",
    "umount /dev/sdc\n",
    "\n",
    "\n"
   ],
   "outputs": [],
   "metadata": {
    "pycharm": {
     "name": "#%%\n"
    }
   }
  },
  {
   "cell_type": "markdown",
   "source": [
    "### Cpn-Device naming pattern\n",
    "\n",
    "**Common device names and meaning**\n",
    "\n",
    "| Pattern  | Device                                                       |\n",
    "| -------- | ------------------------------------------------------------ |\n",
    "| /dev/fd* | Floppy disk drives.                                          |\n",
    "| /dev/hd* | IDE (PATA) disks on older systems. Typical motherboards contain two IDE connectors or channels, each with a cable with two attachment points for drives. The first drive on the cable is called the master device, and the second is called the slave device. The device names are ordered such that /dev/hda refers to the master device on the first channel, /dev/hdb is the slave device on the first channel; /dev/hdc is the master device on the second channel, and so on. A trailing digit indicates the partition number on the device. For example, /dev/hda1 refers to the first partition on the first hard drive on the system, while /dev/hda refers to the entire drive. |\n",
    "| /dev/lp* | Printers.                                                    |\n",
    "| /dev/sd* | SCSI disks. On modern Linux systems, the kernel treats all disk- like devices (including PATA/SATA hard disks, flash drives, and USB mass storage devices such as portable music players and digital cameras) as SCSI disks. The rest of the naming system is similar to the older /dev/hd* naming scheme described above. |\n",
    "| /dev/sr* | Optical drives (CD/DVD readers and burners).                 |\n",
    "\n",
    "\n",
    "\n"
   ],
   "metadata": {}
  },
  {
   "cell_type": "code",
   "execution_count": null,
   "source": [
    "# Mt-Check the name of a device\n",
    "#$ sudo tail -f /var/log/messages  # Actually, different distributions contain different log files.\n",
    "\n",
    "# \n",
    "\n"
   ],
   "outputs": [],
   "metadata": {}
  },
  {
   "cell_type": "markdown",
   "source": [
    "### Mt-Create new file system and Reformat\n",
    "**Cc**\n",
    "- `fdisk`\n",
    "    - Def: A host of program on disk-like devices interactions\n",
    "    - F: Edit, delete, and create partitions on the device\n",
    "- \n",
    "\n",
    "**Pc-Workflow**\n",
    "- (optional) Create a new partition layout if the existing one is not to our liking.\n",
    "- Create a new, empty file system on the drive.\n",
    "\n",
    "**Problem**\n",
    "- make absolutely sure you are specifying the correct device name for your\n",
    "system, not the one shown in the text. Failure to heed this warning could re-\n",
    "sult in you formatting (i.e., erasing) the wrong drive!\n",
    "\n"
   ],
   "metadata": {}
  },
  {
   "cell_type": "markdown",
   "source": [
    "#### Pc-Manipulating Partitions with `fdisk`\n",
    "\n",
    "**Change the partition type for particular system**\n",
    "- Command p: examine the existing partition layout and find out what ID is used to identify a Linux partition\n",
    "- Command l: see ID for our existing partition type and what partition type for Linux.\n",
    "- Command t: change a partition's system id\n",
    "- Command w: write the modified partition table to the device and exit. \n",
    "\n"
   ],
   "metadata": {}
  },
  {
   "cell_type": "code",
   "execution_count": null,
   "source": [
    "sudo umount /dev/sdb1\n",
    "sudo fdisk /dev/sdb\n",
    "\n",
    "# prompt:\n",
    "Command (m for help):\n",
    "\n",
    "# Help and Options\n",
    "Command action\n",
    "a toggle a bootable flag\n",
    "b edit bsd disklabel\n",
    "c toggle the dos compatibility flag\n",
    "d delete a partition\n",
    "l list known partition types\n",
    "m print this menu\n",
    "n add a new partition\n",
    "o create a new empty DOS partition table\n",
    "p print the partition table\n",
    "q quit without saving changes\n",
    "s create a new empty Sun disklabel\n",
    "t change a partition's system id\n",
    "u change display/entry units\n",
    "v verify the partition table\n",
    "w write table to disk and exit\n",
    "x extra functionality (experts only)\n",
    "Command (m for help):\n",
    "\n"
   ],
   "outputs": [],
   "metadata": {}
  },
  {
   "cell_type": "markdown",
   "source": [
    "#### Pc- Manipulating Partitions with `mkfs`\n",
    "**Cc**\n",
    "- `mkfs`(MaKe File System): \n",
    "    - F: create file systems in a variety of formats\n",
    "\n",
    "**Cpn**\n",
    "- file_system_type\n",
    "    - FAT32: vfat\n",
    "    - EXT4: ext4\n"
   ],
   "metadata": {}
  },
  {
   "cell_type": "code",
   "execution_count": null,
   "source": [
    "# Create file systems\n",
    "#$ mkfs -t [file_system_type] [dev_name]\n",
    "## Options\n",
    "#-t [file_system_type]\n",
    "\n",
    "sudo mkfs -t ext4 /dev/sdb1\n",
    "\n"
   ],
   "outputs": [],
   "metadata": {}
  },
  {
   "cell_type": "markdown",
   "source": [
    "### Mt-Moving Data Directly to and from Devices\n",
    "**Cc**\n",
    "- `dd`(Data Definition) \n",
    "    - F: copy blocks of data in hardware level from one space to another\n"
   ],
   "metadata": {}
  },
  {
   "cell_type": "code",
   "execution_count": null,
   "source": [
    "# \n",
    "#$ dd if=input_file of=output_file [bs=block_size [count=blocks]]\n",
    "#$ dd if=[dev_name1] of=[dev_name2]\n",
    "#$ dd if=[dev_name1] of=[file/image_name]\n"
   ],
   "outputs": [],
   "metadata": {}
  },
  {
   "cell_type": "markdown",
   "source": [
    "---\n",
    "## Testing and Repairing File Systems\n",
    "**Cc**\n",
    "- `fsck`(File System Check)\n",
    "    - F\n",
    "        - checking the integrity of file systems\n",
    "        - repair corrupt file systems\n",
    "- `fstab`\n"
   ],
   "metadata": {}
  },
  {
   "cell_type": "code",
   "execution_count": null,
   "source": [
    "#$ mkfs [dev_name]\n",
    "\n",
    "sudo fsck /dev/sdb1\n"
   ],
   "outputs": [],
   "metadata": {}
  },
  {
   "cell_type": "markdown",
   "source": [
    "---\n",
    "## Mt-Create and Maintain Images\n",
    "**Pc**\n",
    "- Create the iso image file of the system\n",
    "- Write the iso image onto CD-ROM device\n"
   ],
   "metadata": {}
  },
  {
   "cell_type": "markdown",
   "source": [
    "### Pc-Create Images\n",
    "Ref: TLCL 15 Creating CD-ROM Images\n",
    "\n",
    "\n",
    "Tips: Not Completed, Not comprehensive at all\n",
    "\n"
   ],
   "metadata": {}
  },
  {
   "cell_type": "code",
   "execution_count": null,
   "source": [
    "# make an ISO image of an existing CD-ROM (not work for audio CD)\n",
    "\n",
    "dd if=/dev/cdrom of=ubuntu.iso\n",
    "\n",
    "# audio CD\n",
    "cdrdao\n"
   ],
   "outputs": [],
   "metadata": {}
  },
  {
   "cell_type": "code",
   "execution_count": null,
   "source": [
    "# create an ISO image file containing the contents of a directory\n",
    "#$ genisoimage [options] [ISO_image_name] [dir]\n",
    "## Options\n",
    "#-R  # adds metadata for the Rock Ridge extensions, which allows the use of long filenames and POSIX-style file permissions\n",
    "#-J  # enables the Jolietextensions, which permit long filenames for Windows\n",
    "\n",
    "genisoimage -o cd-rom.iso -R -J ~/cd-rom-files\n",
    "\n",
    "\n"
   ],
   "outputs": [],
   "metadata": {}
  },
  {
   "cell_type": "markdown",
   "source": [
    "### Pc-Writing CD-ROM Images"
   ],
   "metadata": {}
  },
  {
   "cell_type": "code",
   "execution_count": null,
   "source": [
    "# Mounting an ISO Image rather than really write it on a new device\n",
    "mkdir /mnt/iso_image\n",
    "mount -t iso9660 -o loop image.iso /mnt/iso_image\n",
    "\n",
    "# Blanking a Rewritable CD-ROM\n",
    "\n",
    "wodim dev=/dev/cdrw blank=fast  # specifying the device name for the CD writer and the type of blanking to be performed\n",
    "\n",
    "\n",
    "# Writing an Image\n",
    "## Options\n",
    "-v for verbose output\n",
    "-dao disc-at-once mode. This mode should be used if you are preparing a disc for commercial re-production. \n",
    "The default mode for wodim is track-at-once, which is useful for recording music tracks.\n",
    "\n",
    "wodim dev=/dev/cdrw image.iso  # specifying the name of the optical media writer device and the name of the image file\n",
    "\n",
    "\n",
    "\n"
   ],
   "outputs": [],
   "metadata": {}
  },
  {
   "cell_type": "markdown",
   "source": [
    "## Checksum file\n",
    "- `checksum`: The result of an exotic mathematical calculation resulting in a number that represents the content of the target file.\n",
    "- `md5sum`: The program to generate checksum \n",
    "    - F\n",
    "        - Verify the integrity of an ISO image after downloading the image\n",
    "        - Verify newly written optical media/image device\n",
    "        - "
   ],
   "metadata": {}
  },
  {
   "cell_type": "code",
   "execution_count": null,
   "source": [
    "# Verify the integrity of an ISO image after downloading the image\n",
    "\n",
    "md5sum image.iso\n",
    "\n",
    "\n",
    "# Verify newly written optical media/image device\n",
    "\n",
    "md5sum /dev/cdrom\n",
    "\n",
    "## e.g. check the integrity of the image file dvd-image.iso and the disc in the DVD reader /dev/dvd. by determining the number of 2,048-byte blocks the image contains\n",
    "md5sum dvd-image.iso; dd if=/dev/dvd bs=2048 count=$(( $(stat -c \"%s\"\n",
    "dvd-image.iso) / 2048 )) | md5sum\n",
    "\n"
   ],
   "outputs": [],
   "metadata": {}
  },
  {
   "source": [
    "---\n",
    "## Back Up and Recovery"
   ],
   "cell_type": "markdown",
   "metadata": {}
  },
  {
   "cell_type": "markdown",
   "source": [
    "---\n",
    "---\n",
    "# Edit in command line\n",
    "**Ref**\n",
    "- TLCL Vim\n",
    "\n",
    "**Lk**\n",
    "- Wiznote: Sp. Text Editor > Vim and Neovim Manual > Vim and Neovim Guideline Notebook\n",
    "\n"
   ],
   "metadata": {
    "pycharm": {
     "name": "#%% md\n"
    }
   }
  },
  {
   "source": [
    "---\n",
    "## Editors\n",
    "\n",
    "### Less\n",
    "\n",
    "How to move after use less to view a text document(see `help(h)` after `less`)\n",
    "\n",
    "![Screenshot from 2020-09-23 14-40-34.png](https://i.loli.net/2020/09/23/Pm3DJjGhHZLkWqa.png)\n",
    "\n",
    "### Vim/NeoVim\n",
    "### Gedit\n",
    "### Emacs\n",
    "### Nano\n",
    "### vscode / code\n",
    "### "
   ],
   "cell_type": "markdown",
   "metadata": {}
  },
  {
   "source": [
    "---\n",
    "## Filters and Slices\n",
    "\n"
   ],
   "cell_type": "markdown",
   "metadata": {
    "pycharm": {
     "name": "#%%\n"
    }
   }
  },
  {
   "source": [
    "`egrep` and `grep`: Searching text files for <u>lines</u> matching a regular expression\n",
    "\n",
    "Difference between `egrep` and `grep`\n",
    "\n",
    "1. `egrep` simply activates an **e**xtended syntax for **regular expression**s which is slightly simpler to work with.\n",
    "2. \n",
    "\n",
    "Tips: \n",
    "\n",
    "1. Red high-light shows the matched string\n",
    "2. Pattern could be settled as **regular expressions** in `egrep`\n",
    "3. "
   ],
   "cell_type": "markdown",
   "metadata": {}
  },
  {
   "cell_type": "code",
   "execution_count": null,
   "metadata": {},
   "outputs": [],
   "source": [
    "# grep\n",
    "#$ grep [options] [pattern] [file]\n",
    "## Options\n",
    "#-c # count the number of lines that match the pattern\n",
    "#-i # ignore case when searching\n",
    "#--ignore-case # suppress the case sensitive function\n",
    "#-v # show the lines that do not match the pattern\n",
    "#-w, --word-regexp # match only whole words\n",
    "#--invert-search -m[number] [pattern] # get [number] items/lines that match the [pattern]\n",
    "#-n # report the line numbers when showing the lines with pattern\n",
    "\n",
    "# egrep\n",
    "#$ egrep [pattern] [file]\n",
    "## Options\n",
    "#-o # only shows the match part and could be counted"
   ]
  },
  {
   "source": [
    "`cut`: cut out selected <u>columns</u> (e.g. fields) of each line of a file\n"
   ],
   "cell_type": "markdown",
   "metadata": {}
  },
  {
   "cell_type": "code",
   "execution_count": null,
   "metadata": {},
   "outputs": [],
   "source": [
    "# Cut\n",
    "#$ cut [options] [columns_or_fields]"
   ]
  },
  {
   "source": [
    "`split` use to separate the text file into chunks\n"
   ],
   "cell_type": "markdown",
   "metadata": {}
  },
  {
   "cell_type": "code",
   "execution_count": null,
   "metadata": {},
   "outputs": [],
   "source": [
    "# Split\n",
    "# split according to the number of lines \n",
    "split -n l/10 mouse_exons.bed mouse_exons.bed.\n",
    "# set the suffixes for multiple outputs\n",
    "split -l 9940 --numeric-suffixes=1 Test_dataset.fa split_reads_directory/reads-\n",
    "## Options\n",
    "#-n <pattern/size> # enerate CHUNKS output files; see explanation below\n",
    "#-l <num> # put <num> lines/records per output file\n",
    "#-d # the same as -numeric_suffixes=0\n",
    "#-numeric_suffixes=1 # set the suffix for outputs"
   ]
  },
  {
   "source": [
    "`sort` the sequences"
   ],
   "cell_type": "markdown",
   "metadata": {}
  },
  {
   "cell_type": "code",
   "execution_count": null,
   "metadata": {},
   "outputs": [],
   "source": [
    "# sort in order\n",
    "sort [file] \n",
    "# sort order of a file alphebetically\n",
    "## Options\n",
    "#-d, --dictionary-order  # dictionary order: consider only blanks and alphebet characters\n",
    "#-k  # sort via a key; KEYDEF gives location and type\n",
    "#-n, --numeric-sort  # sort numerically: according to string numerical value\n",
    "#-r  # reverse\n",
    "\n",
    "sort -k 1.2,1n file # Explanation:The -k 1.2,1n option to sort means \"sort using the data from the first column's second character, numerically\". This does a sorting of the numerical values in the first column in ascending order. Use -k 1.2,1nr to sort in reverse order.The ,1 in that option's argument stops sort from using the rest of the line as the sorting key.\n",
    "# To clean up the alignment of the columns a bit, pass the result through column -t\n",
    "sort -k 1.2,1n file | column -t"
   ]
  },
  {
   "source": [
    "`uniq`: Remove any redundant\n",
    "\n",
    "Tips: before you use the `uniq`, the files and the text should be `sort`ed first."
   ],
   "cell_type": "markdown",
   "metadata": {}
  },
  {
   "cell_type": "code",
   "execution_count": null,
   "metadata": {},
   "outputs": [],
   "source": [
    "# unique elements\n",
    "#$ uniq [file] # receive sorted lists and remove duplicates in the list\n",
    "## Options\n",
    "#-c, --count # prefix line with the number of occurances\n",
    "#-d ## Tips: if needed to list duplicates rather thanr remove them, try -d option"
   ]
  },
  {
   "source": [
    "`awk`: Aho, Weinberger and Kernighan(Author names)\n",
    "\n",
    "F: pattern scanning(if match) and processing(then actions)"
   ],
   "cell_type": "markdown",
   "metadata": {}
  },
  {
   "cell_type": "code",
   "execution_count": null,
   "metadata": {},
   "outputs": [],
   "source": [
    "awk '/search_pattern/condition {actions}' file\n",
    "\n",
    "BEGIN {FS=\"\\t\";OFS=\"_\";IFS=\"_\"}\n",
    "\n",
    "# Cpn-Conditions\n",
    "search pattern /SNV//*section/\n",
    "\n",
    "# condition judegement\n",
    "&& # and\n",
    "== # explicitly equal\n",
    "> # more than \n",
    "< # less than\n",
    ">= <= ~ # occuretnce of the element\n",
    "\n",
    "# specify the column/fields. \n",
    "FS(Field Separator) of Space $24. \n",
    "\n",
    "# Commands only done at the END of ALL input \n",
    "END{print \"The total for \"count\" lines was \" int(total) > \"awkoutputfile.txt\"; print \"Script run complete.\" >> \"awkoutputfile.txt\" ; print \"Script run complete.\"system(\"ls -alrt *awk*\")}\n",
    "\n",
    "# Cpn-Actions\n",
    "(Commands and next Pipelines)\n",
    "# Options\n",
    "#-f # read program/command from file\n",
    "awk '($4 > 100)' someinputfile\n",
    "awk '/SNV/ && $4 == “A” && $5 ~ “T” {print $3}' \n",
    "xxx.vcf | headgit log |  awk '{if($1==\"Author:\") {$2=\"Bxxxxxx-2020\";$3=\"<email_not_provided>\"; }print $0;}' | head -3"
   ]
  },
  {
   "source": [
    "`sed`: stream editor"
   ],
   "cell_type": "markdown",
   "metadata": {}
  },
  {
   "cell_type": "code",
   "execution_count": null,
   "metadata": {},
   "outputs": [],
   "source": [
    "# Search and Replace\n",
    "#$ sed -i 's/search_pattern/replacement/g' myfile"
   ]
  },
  {
   "cell_type": "markdown",
   "source": [
    "---\n",
    "---\n",
    "# Networking and Servers\n",
    "**Tips**\n",
    "- Totally not enough\n",
    "\n",
    "**Ref**\n",
    "- TLCL 16 Networking\n",
    "- Linux Network Administrator’s Guide: http://tldp.org/LDP/nag2/index.html\n",
    "- (TODO) TCP/IP\n",
    "\n",
    "**Cc**\n",
    "- Firewalls\n",
    "- Routers\n",
    "- Name servers\n",
    "- Network-attached storage (NAS) boxes\n",
    "- Internet protocol (IP) address: A numerical label assigned to each device connected to a computer network that uses the Internet Protocol for communication\n",
    "    - F: host or network interface identification and location addressing\n",
    "- Host and domain name*: a label that is assigned to a device connected to a computer network and that is used to identify the device in various forms of electronic communication\n",
    "    - F: \n",
    "- Uniform resource identifier (URI): a unique sequence of characters that identifies a logical or physical resource used by web technologies\n",
    "- Dynamic Host Configuration Protocol(DHCP): \n",
    "- Local Area Network(LAN):\n",
    "\n",
    "\n"
   ],
   "metadata": {}
  },
  {
   "cell_type": "markdown",
   "source": [
    "---\n",
    "## TCP/IP Related\n",
    "**P**\n",
    "- `net-tools` on Ubuntu\n",
    "\n",
    "**Cc-Program**\n",
    "- `ping`\n",
    "    - Tips: The test will continue until interruption.\n",
    "    - F: Send an ICMP ECHO_REQUEST to network hosts and verify the network connections and performance.\n",
    "- `traceroute` / `tracepath`\n",
    "    - F: Lists all the “hops” network traffic/route packets takes to get from the local system to a specified host\n",
    "- `ip`\n",
    "    - Def: multi-purpose network configuration tool\n",
    "    - F: Show / manipulate routing, devices, policy routing and tunnels\n",
    "- `netstat`\n",
    "    - F: Print network connections, routing tables, interface statistics, masquerade connections, and multicast memberships\n",
    "\n",
    "**Cc-Network Interface**\n",
    "- lo(loopback interface)\n",
    "    - Def: A virtual interface\n",
    "    - F: Talk to system itself\n",
    "- eth0(Ethernet interface)\n",
    "- docker0\n",
    "\n",
    "\n"
   ],
   "metadata": {}
  },
  {
   "cell_type": "code",
   "execution_count": null,
   "source": [
    "# Verify the connection to network hosts\n",
    "#$ ping [url/website]\n",
    "## Options\n",
    "# \n",
    "\n",
    "ping linuxcommand.org\n",
    " "
   ],
   "outputs": [],
   "metadata": {}
  },
  {
   "cell_type": "code",
   "execution_count": null,
   "source": [
    "# Trace the network route\n",
    "#$ traceroute [host]\n",
    "## Options\n",
    "#-T overcome the not-provided identifying information\n",
    "#-I \n",
    "## Outputs\n",
    "# [num] [host_name] ([IP address]) [round_trip time]\n",
    "\n",
    "traceroute slashdot.org\n",
    "traceroute6 slashdot.org  # Ubuntu\n",
    "\n"
   ],
   "outputs": [],
   "metadata": {}
  },
  {
   "cell_type": "code",
   "execution_count": null,
   "source": [
    "# Examine a system's network interfaces and routing table\n",
    "#$ ip \n",
    "## Outputs\n",
    "# [num]: [network interface]: <UP/enable stat> ... \n",
    "# ...\n",
    "# inet [IP address]\n",
    "\n",
    "ip a"
   ],
   "outputs": [],
   "metadata": {}
  },
  {
   "cell_type": "code",
   "execution_count": null,
   "source": [
    "# Check the network settings\n",
    "#$ netstat [options]\n",
    "## options\n",
    "#-ie network interface\n",
    "#-r display the kernel’s network routing table\n",
    "\n",
    "netstat -ie\n",
    "netstat -r"
   ],
   "outputs": [],
   "metadata": {}
  },
  {
   "cell_type": "markdown",
   "source": [
    "---\n",
    "## Examining and Monitoring a Network\n"
   ],
   "metadata": {}
  },
  {
   "cell_type": "code",
   "execution_count": null,
   "source": [],
   "outputs": [],
   "metadata": {}
  },
  {
   "cell_type": "markdown",
   "source": [
    "---\n",
    "## Mt-Files Transfermation\n",
    "**Cc**\n",
    "- `ftp`(File Transfer Protocol): Internet file transfer program\n",
    "    - \n",
    "- `lftp`: \n",
    "- `wget`: Non-interactive network downloader\n",
    "- `curl`\n",
    "    - F: Search and Download the documents from the repos or webisite remotely\n"
   ],
   "metadata": {}
  },
  {
   "cell_type": "code",
   "execution_count": null,
   "source": [
    "\n",
    "echo \"---------- ftp ----------\"\n",
    "# Invoke the ftp program\n",
    "ftp\n",
    "\n",
    "# In ftp program and show the help manual\n",
    "#ftp> help\n",
    "\n",
    "# Connect to ftp server (Always anonymous)\n",
    "#$ ftp [server]\n",
    "\n",
    "ftp fileserver\n",
    "\n",
    "\n",
    "# Change to the directory on the remote system. \n",
    "## Tips: public downloading fie dir: pub directory.\n",
    "#$ cd [dir_on_ftp_server]\n",
    "\n",
    "\n",
    "# List the dir on the remote system\n",
    "#$ ls\n",
    "\n",
    "# Change the directory on the local system\n",
    "#$ lcd [local_dir]\n",
    "\n",
    "# Upload files from local to remote\n",
    "#$ (TODO)\n",
    "\n",
    "\n",
    "# Download files from remote to local\n",
    "#$ get [remote_file]\n",
    "\n",
    "\n",
    "# Leave the ftp programm\n",
    "## Tips: Other methods can interrupt a process can also be used but it may not totally cut off the login with remote servers\n",
    "bye\n",
    "exit\n",
    "quit\n",
    "\n",
    "\n",
    "echo \"---------- lftp ----------\"\n",
    "# Another better ftp\n",
    "#$ lftp"
   ],
   "outputs": [],
   "metadata": {}
  },
  {
   "cell_type": "code",
   "execution_count": null,
   "source": [
    "\n",
    "echo \"---------- wget ----------\"\n",
    "# From website http or ftp etc.wget [download_link_to_file]\n",
    "#$ wget <url_file>\n",
    "# Options\n",
    "#-O  # the outputfile\n",
    "#-q  # quiet\n",
    "\n"
   ],
   "outputs": [],
   "metadata": {}
  },
  {
   "cell_type": "code",
   "execution_count": null,
   "source": [
    "# common usage\n",
    "#$ curl [options] <website>\n",
    "curl -s https://get.nextflow.io | bash\n",
    "\n",
    "\n",
    "# GitHub repo related methods\n",
    "## use the github API to search repos in specific user\n",
    "curl -u [user] -X [command] [API] -d [search_pattern]\n",
    "## get repo\n",
    "curl -u B000000-2019 https://api.github.com/user/repos -d '{\"name\":\"Assignment1\"}'\n",
    "## delete the repo\n",
    "curl -u Bxxxxxx-2020 -X \"DELETE\" https://api.github.com/repos/Bxxxxxx-2020/repositoryname"
   ],
   "outputs": [],
   "metadata": {}
  },
  {
   "cell_type": "markdown",
   "source": [
    "---\n",
    "## Remote Hosts Communication\n",
    "\n",
    "**Ref**\n",
    "- https://www.digitalocean.com/community/tutorials/how-to-use-ssh-to-connect-to-a-remote-server\n",
    "\n",
    "**Cc**\n",
    "- `ssh`(OpenSSH SSH client (remote login program))\n",
    "    - Ab\n",
    "        - authenticates that the remote host \n",
    "        - Encrypts all of the communications\n",
    "        - TCP port 22\n",
    "    - Cpn\n",
    "        - SSH Server listening to requests\n",
    "        - SSH Client send communication requests\n",
    "    - F: Link to Remote Host\n",
    "- Virtual private network (VPN)\n",
    "    - Ab\n",
    "        - Encrypted tunnel\n",
    "- PuTTY\n",
    "    - Def: The ssh client on MS Windows"
   ],
   "metadata": {}
  },
  {
   "cell_type": "code",
   "execution_count": null,
   "source": [
    "echo \"---------- ssh server and client: Installation ----------\"\n",
    "# Installation\n",
    "#$ sudo apt install ssh  # By default, ssh client will be installed on Ubuntu and Red Hat\n",
    "#$ sudo apt install openssh-server\n",
    "\n",
    "\n",
    "echo \"---------- ssh client: Connect ----------\"\n",
    "#$ ssh [remote_host]\n",
    "#$ ssh -l [login_name] [server_dir]\n",
    "#$ ssh [user_name]@[remote_host]\n",
    "#$ ssh [remote_host] '[commands_str]'\n",
    "## Options\n",
    "#-l  # login in methods\n",
    "#+X  # X11 GUI system is allowed to be transferred\n",
    "\n",
    "## For Bioinformsc5ssh \n",
    "s2059232@bioinfmsc5.bio.ed.ac.uk\n",
    "## Enable the X11 \n",
    "ssh +X s2059232@bioinfmsc5.bio.ed.ac.uk\n",
    "\n",
    "# Show the remote X11 system on the local system\n",
    "# Space: remote server\n",
    "#$ xload\n",
    "\n",
    "# Transfer files by ssh tunnel\n",
    "# Secure Copy\n",
    "## Space: From home dir\n",
    "#$ scp [remote_dir2file] [local_dir]  # Within the remote system\n",
    "#$ scp [remote_host]:[remote_dir2file] [local_dir]  # Without invoking the remote system\n",
    "#$ scp [user_name]@[remote_host]:[remote_dir2file] [local_dir] # Apply a username to the beginning of the remote host’s name\n",
    "# SSH file-copying program\n",
    "## Ab: any remote machine that can connect with the SSH client can also be used as an FTP-like server.\n",
    "## Ab: it does not require an FTP server to be running on the remote host. It requires only the SSH server. \n",
    "#$ sftp [user_name]@[remote_host]  # login in to the remote server and other process is the same as ftp\n",
    "\n",
    "\n",
    "echo \"---------- ssh client: Disconnect ----------\"\n",
    "#$ exit\n",
    "\n",
    "\n",
    "echo \"---------- ssh server: Configure ssh server ----------\"\n",
    "# Configure ssh\n",
    "\n",
    "\n",
    "\n",
    "\n",
    "\n"
   ],
   "outputs": [],
   "metadata": {}
  },
  {
   "source": [
    "---\n",
    "---\n",
    "# Tricks Colletions (Other 'strange' methods)\n"
   ],
   "cell_type": "markdown",
   "metadata": {}
  },
  {
   "source": [
    "---\n",
    "# Time and Date"
   ],
   "cell_type": "markdown",
   "metadata": {}
  },
  {
   "cell_type": "code",
   "execution_count": null,
   "metadata": {},
   "outputs": [],
   "source": [
    "# Show the date\n",
    "date\n",
    "\n",
    "# The date in calendar\n",
    "cal\n"
   ]
  },
  {
   "source": [
    "---\n",
    "# Others\n"
   ],
   "cell_type": "markdown",
   "metadata": {}
  },
  {
   "cell_type": "code",
   "execution_count": null,
   "metadata": {},
   "outputs": [],
   "source": [
    "# Check if the X11 is activated by using an animation\n",
    "xeyes"
   ]
  },
  {
   "cell_type": "code",
   "execution_count": null,
   "metadata": {},
   "outputs": [],
   "source": [
    "# The command to show the user usage log\n",
    "who\n",
    "# The command to call the env var $USER which store the info of user\n",
    "echo $USER "
   ]
  },
  {
   "source": [
    "---\n",
    "---\n",
    "# Key Directorys of Linux System\n",
    "\n",
    "**Ref**: TLCL Table 3-4: Directories Found on Linux Systems\n",
    "\n",
    "**Shell Functions**\n",
    "\n",
    "1. /etc/profile.d contain most of important shell scripts\n",
    "\n",
    "**Common and Core**\n",
    "\n",
    "1. Root Directory: /\n",
    "2. Root user's home directory: /root\n",
    "3. Binary for the system to boot and run: /bin\n",
    "4. Shared library files for core system: /lib\n",
    "5. Boot: /boot\n",
    "   1. Kernel: /boot/vmlinuz\n",
    "   2. Boot loader: /boot/grub/grub.conf\n",
    "6. Device Nodes: /dev\n",
    "7. Configuration Files and Device Starting Scripts: /etc\n",
    "8. System Recovery: /lost+found\n",
    "9. The <u>mount points</u> for <u>removable media</u> such as USB drives, CD-ROMs, etc. that are mounted automatically at insertion: /media\n",
    "10. The same as /media: /mnt\n",
    "11. \"Optional\" Software but needed to be installed in the system: /opt\n",
    "12. Virtual file system used to supervise the real file sytstem by the Linux kernel: /proc\n",
    "13. Virtual file system binaries: /sbin\n",
    "14. Storage of temporary, transient files created by various programs: /tmp\n",
    "15. The /var directory tree is where data that is likely to change is stored: /var\n",
    "16. System activity log files: /var/log\n",
    "\n",
    "**User**\n",
    "\n",
    "1.  It contains all the programs and support files used by regular users: /usr\n",
    "2.  Home Directory for Normal User:/home\n",
    "3.  Executable programs installed by the Linux distribution: /usr/bin\n",
    "4.  The shared libraries for the programs in /usr/bin: /usr/lib\n",
    "5.  Programs that are not included with the distribution but are intended for systemwide use are installed: /usr/local\n",
    "6.  More system administration programs: /usr/sbin\n",
    "7.  Contains all the shared data used by programs in /usr/bin: /usr/share \n",
    "8.  Documents for each packages: /usr/share/doc\n",
    "\n",
    "\n",
    "\n",
    "\n",
    "\n"
   ],
   "cell_type": "markdown",
   "metadata": {}
  },
  {
   "source": [
    "\n",
    "# END\n",
    "---\n",
    "---"
   ],
   "cell_type": "markdown",
   "metadata": {}
  }
 ],
 "metadata": {
  "interpreter": {
   "hash": "817d0a3841ebdd2a1cc36d840618b60456b5940c254da1e77a1b0a18f63766d5"
  },
  "kernelspec": {
   "name": "bash",
   "display_name": "Bash",
   "language": "bash"
  },
  "language_info": {
   "name": "bash",
   "codemirror_mode": "shell",
   "mimetype": "text/x-sh",
   "file_extension": ".sh",
   "version": "3.8.5"
  }
 },
 "nbformat": 4,
 "nbformat_minor": 1
}