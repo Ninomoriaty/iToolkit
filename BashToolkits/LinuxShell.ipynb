{
 "cells": [
  {
   "cell_type": "markdown",
   "source": [
    "Guideline Level\n",
    "\n",
    "<center><p style=\"font-size:50px; font-weight:bold\">\n",
    "Linux Collections\n",
    "</p></center>\n",
    "\n",
    "Linux Command line, Linux System Usage, Customisation,"
   ],
   "metadata": {}
  },
  {
   "cell_type": "markdown",
   "source": [
    "---\n",
    "---\n",
    "## References\n",
    "- TLCL 19.01 Part I - Part III, Learning from commands, a good idea to manage the learning of Linux system\n",
    "    - TLCL website: https://linuxcommand.org/\n",
    "- `\n",
    "\n",
    "# Lk\n",
    "- `ShellScript.ipynb` in the same folder, which contains the script writing methods(TLCL 19.01 Part IV and MSc BPSM), and the cooperation with IPython console.\n",
    "\n",
    "\n",
    "# Pcp-Edit\n",
    "- This notebook summarises the preliminary usage of bash/shell practice.\n",
    "- Symbols and shortcuts follow the Wiznote > jibenfenleidanyuan(TODO) principles.\n",
    "- Most commands could be tested in terminal or code cell in jupyter notebook with Bash kernel\n"
   ],
   "metadata": {}
  },
  {
   "cell_type": "markdown",
   "source": [
    "---\n",
    "---\n",
    "# Table of Content\n",
    "\n",
    "Tips: There will be outline features in vscode insiders but it seems that it is still not added into stable version.\n",
    "\n",
    "\n",
    "\n",
    "\n"
   ],
   "metadata": {}
  },
  {
   "cell_type": "markdown",
   "source": [
    "---\n",
    "---\n",
    "# Mt-Notebook Environment\n",
    "## Pc-Config the environment for the notebook\n",
    "- conda/pip\n",
    "- bash kernel\n"
   ],
   "metadata": {}
  },
  {
   "cell_type": "code",
   "execution_count": null,
   "source": [
    "# Install the bash kernel by pip or conda\n",
    "pip install bash_kernel\n",
    "python -m bash_kernel.install\n",
    "\n",
    "conda install -c conda-forge bash_kernel"
   ],
   "outputs": [],
   "metadata": {}
  },
  {
   "cell_type": "markdown",
   "source": [
    "## Pc-Use the bash kernel with jupyter notebook server in VScode\n"
   ],
   "metadata": {}
  },
  {
   "cell_type": "code",
   "execution_count": null,
   "source": [
    "# Enter the conda env or pip management\n",
    "conda activate PSBenv\n",
    "\n",
    "# Start the terminal and activate the jupyter server\n",
    "jupyter notebook\n",
    "\n",
    "# Then copy the URL to vscode and link the jupyter server\n",
    "# Select the bash kernel `Bash` in your conda env dir as the interpreter and the cells in this notebook could be executed normally."
   ],
   "outputs": [],
   "metadata": {}
  },
  {
   "source": [
    "<center><p style=\"font-size:50px; font-weight:bold\">\n",
    "Part I Terminal, Shell and Commands\n",
    "</p></center>\n",
    "\n",
    "Terminal operations, Terminal configration/customisation, "
   ],
   "cell_type": "markdown",
   "metadata": {}
  },
  {
   "cell_type": "markdown",
   "source": [
    "---\n",
    "---\n",
    "# Introduction\n",
    "## Cc\n",
    "- POSIX: The Portable Operating System Interface (POSIX) is a family of standards specified by the Institute of Electrical and Electronics Engineers (IEEE, \"I triple E\") Computer Society for maintaining compatibility between operating systems.\n",
    "  - F: defines the application programming interface (API), along with command line shells and utility interfaces, for software compatibility with variants of Unix and other operating systems.\"\n",
    "- Basic format of command in shell\n",
    "  - St: command -options arguments\n",
    "  - Short options could be list <u>together</u> with one dash.\n",
    "  - Long options should be separated by two dashes for each one.\n",
    "\n",
    "## How to read the command instruction\n",
    "**Def**\n",
    "\n",
    "1. **Square brackets:** indicate <u>optional items</u> in the description of a command's syntax.\n",
    "2. **Vertical bar character: ** indicates mutually exclusive items.\n",
    "\n",
    "**e.g.-cd notation**\n",
    "\n",
    "`cd [-L|[-P[-e]]] [dir]`\n",
    "\n",
    "This notation says that the command `cd` may be followed optionally by either a `-L` or a `-P` ,and further, if the `-P` option is specified the `-e` option may also be included followed by the optional argument `[dir]`.\n",
    "\n",
    "## Pcp/Ab-Conventions on BASH\n",
    "1. Case-sensitive\n",
    "2. hyphens(-), underscores(_), and full stops(.) are naturally supported.\n",
    "3. commas(,), space( ) are not permitted in the filenames and pathnames.(Although this could be walk-around by the \"\")\n",
    "\n",
    "## Cat-Shell\n",
    "1. Bash(Bourne-Again Shell): default shell in most Unix distribution\n",
    "2. CSH(C Shell): syntax and usage to C programming language\n",
    "3. TCSH: enhanced CSH\n",
    "4. Korn Shell: Base POSIX shell standard specifications."
   ],
   "metadata": {
    "pycharm": {
     "name": "#%% md\n"
    }
   }
  },
  {
   "cell_type": "markdown",
   "source": [
    "---\n",
    "---\n",
    "# Help and Manual"
   ],
   "metadata": {
    "pycharm": {
     "name": "#%% md\n"
    }
   }
  },
  {
   "cell_type": "code",
   "execution_count": null,
   "source": [
    "echo \"---------- Help Page ----------\"\n",
    "# Mt-Call help page\n",
    "#$ [command] --help\n",
    "#$ help [command]  # special for the shell builtins\n",
    "\n",
    "cd --help\n",
    "help cd\n",
    "\n"
   ],
   "outputs": [],
   "metadata": {
    "pycharm": {
     "name": "#%%\n"
    },
    "tags": []
   }
  },
  {
   "cell_type": "code",
   "execution_count": null,
   "source": [
    "\n",
    "echo \"---------- Manual Page ----------\"\n",
    "# man [program]  # show the manual page\n",
    "# man [section_num] [search_term] # use to search other section/manual of\n",
    "#     1. user commands\n",
    "#     2. programming interfaces for kernel system calls\n",
    "#     3. programming interfaces for the C library\n",
    "#     4. special files such as device nodes and drivers\n",
    "#     5. file formats\n",
    "#     6. Games and amusements such as screen savers\n",
    "#     7. Miscellaneous\n",
    "#     8. system administration commands\n",
    "# e.g.\n",
    "# man 5 passwd\n",
    "\n",
    "man mkdir\n",
    "\n",
    "# Options\n",
    "man -k [program] # the same as `apropos`\n",
    "\n",
    "echo \"---------- Other methods ----------\"\n",
    "# whatis [command]\n",
    "\n",
    "whatis python"
   ],
   "outputs": [],
   "metadata": {}
  },
  {
   "cell_type": "markdown",
   "source": [
    "---\n",
    "## Mt-Search the list of man page for possible match text\n",
    "\n",
    "```bash\n",
    "apropos [text_to_match]\n",
    "```"
   ],
   "metadata": {
    "pycharm": {
     "name": "#%% md\n"
    }
   }
  },
  {
   "cell_type": "code",
   "execution_count": null,
   "source": [
    "apropos python"
   ],
   "outputs": [],
   "metadata": {
    "pycharm": {
     "name": "#%%\n"
    }
   }
  },
  {
   "cell_type": "markdown",
   "source": [
    "---\n",
    "## Mt-Search items in Manual Page\n",
    "\n",
    "1. Type the `/` in the manual page\n",
    "2. type the item that you want to search\n",
    "3. Press `Enter`\n",
    "4. The search results could be jumped forwards and backwards by `N` and `Shift+N`"
   ],
   "metadata": {
    "pycharm": {
     "name": "#%% md\n"
    }
   }
  },
  {
   "cell_type": "markdown",
   "source": [
    "---\n",
    "## Info Entry for GNU Project\n",
    "\n",
    "**Tips:**  Info files contain hyperlinks that can move the reader from node to node by press `Enter` key when the cursor upon the hyperlink.\n",
    "\n",
    "```bash\n",
    "info [command]\n",
    "```\n",
    "\n",
    "How to move in the <u>Info files</u>?(same)\n",
    "\n",
    "![Screenshot from 2020-09-23 14-40-34.png](https://i.loli.net/2020/09/23/Pm3DJjGhHZLkWqa.png)"
   ],
   "metadata": {
    "pycharm": {
     "name": "#%% md\n"
    }
   }
  },
  {
   "cell_type": "markdown",
   "source": [
    "---\n",
    "---\n",
    "# Terminal and Shell"
   ],
   "metadata": {
    "pycharm": {
     "name": "#%% md\n"
    }
   }
  },
  {
   "source": [
    "---\n",
    "## Terminal Operations\n",
    "**Tips**: bash uses a library *Readline* to implement command line editing, even for the shortcut keys.\n",
    "\n",
    "\n",
    "## Cc-Basic\n",
    "- Terminal:\n",
    "- Console:\n",
    "- Shell:\n",
    "- (In Ubuntu, tty1 would always be the login screen for tty2 and tty2 would be the original graphical system, while tty7 is usually used by Xorg(a windows system to support the graphical system) so the virtual terminals could be actually used would be F3-F6 and it would be hard to exit by `Alt+F7`)\n",
    "\n",
    "## Basic Operation\n",
    "- Open/Add new terminals\n",
    "    - (Open/Add) New windows:`Ctrl+Alt+T`\n",
    "    - Tabs: `Ctrl+Shift+N`\n",
    "- Exit the terminal\n",
    "    - (`Ctrl+D`)\n",
    "    - End of File (EOF)\n",
    "    - Enter `exit`\n",
    "- Execute multiple commands\n",
    "    - Enter multiple command separated with `;`\n",
    "- Combine command in multiple lines\n",
    "    - Lk: ShellScript.sh\n",
    "    - `\\` at the end of these lines can combine these lines to form a completed command.\n",
    "- AutoComplete\n",
    "    - Lk: Personalise the autocomplate list\n",
    "    - `Tab` will complete the some program/file in current dir\n",
    "    - `Tab Tab` will show all matched programs/files \n"
   ],
   "cell_type": "markdown",
   "metadata": {}
  },
  {
   "source": [
    "## Mt-Clear the command line"
   ],
   "cell_type": "markdown",
   "metadata": {}
  },
  {
   "cell_type": "code",
   "execution_count": null,
   "metadata": {},
   "outputs": [],
   "source": [
    "# close all process and reset all commands if they execute in half\n",
    "reset\n",
    "\n",
    "# clear command text in the terminal page but do not close the process\n",
    "clear"
   ]
  },
  {
   "cell_type": "markdown",
   "source": [
    "---\n",
    "## Virtual terminals/consoles\n",
    "- Enter different virtual terminals: `Ctrl + F1/F2/.../F6` (tty1-tty6)\n",
    "- Switch between different virtual terminals `Alt + F1/F2/.../F6`\n",
    "- Exit `Alt+F7`"
   ],
   "metadata": {}
  },
  {
   "source": [
    "---\n",
    "## Prompts"
   ],
   "cell_type": "markdown",
   "metadata": {}
  },
  {
   "source": [
    "## Mt-Customising the Prompt\n",
    "**Ref**\n",
    "- TLCL Chapter 13 – Customizing the Prompt\n",
    "- The Bash Prompt HOWTO from the Linux Documentation Project provides a\n",
    "  pretty complete discussion of what the shell prompt can be made to do. It is available at:\n",
    "  - https://tldp.org/\n",
    "  - http://tldp.org/HOWTO/Bash-Prompt-HOWTO/\n",
    "- \n",
    "\n",
    "**St-Prompt**\n",
    "\n",
    "Def: Based on PS1(Prompt string 1) env var in different Linux distribution\n",
    "\n",
    "**Cpn-Common**\n",
    "\n",
    "- username\n",
    "- host name\n",
    "- current dir\n",
    "\n",
    "**Cpn-Backslash-escaped special characters**\n",
    "\n",
    "**Ref**: Table 13-1 in TLCL\n",
    "\n",
    "**Space**: Shell Prompt\n",
    "\n",
    "**Tips**: The double \\ is also be considered as escape characters for some special symbols and thus, in this table, the presenting sequence is the real sequences.\n",
    "\n",
    "### Prompt Basic Info\n",
    "\n",
    "| Sequence      | Value Displayed                                              |\n",
    "| ------------- | ------------------------------------------------------------ |\n",
    "| **Others**    |                                                              |\n",
    "| \\a            | ASCII bell. This makes the computer beep when it is encountered. |\n",
    "|               |                                                              |\n",
    "| **Host**      |                                                              |\n",
    "| \\h            | Hostname of the local machine minus the trailing domain name. |\n",
    "| \\H            | Full hostname.                                               |\n",
    "| \\j            | Number of jobs running in the current shell session.         |\n",
    "| \\j            | Name of the current terminal device.                         |\n",
    "|               |                                                              |\n",
    "| **Shell**     |                                                              |\n",
    "| \\s            | Name of the shell program.                                   |\n",
    "| \\v            | Version number of the shell.                                 |\n",
    "| \\V            | Version and release numbers of the shell.                    |\n",
    "|               |                                                              |\n",
    "| **Time**      |                                                              |\n",
    "| \\t            | Current time in 24-hour hours:minutes:seconds format.        |\n",
    "| \\T            | Current time in 12-hour format.                              |\n",
    "| \\@            | Current time in 12-hour AM/PM format.                        |\n",
    "| \\A            | Current time in 24-hour hours:minutes format.                |\n",
    "| \\d            | Current date in day, month, date format. For example, “Mon May 26.” |\n",
    "|               |                                                              |\n",
    "| **User**      |                                                              |\n",
    "| \\u            | Username of the current user.                                |\n",
    "|               |                                                              |\n",
    "| **Directory** |                                                              |\n",
    "| \\w            | Name of the current working directory.                       |\n",
    "| \\W            | Last part of the current working directory name.             |\n",
    "|               |                                                              |\n",
    "| **Command**   |                                                              |\n",
    "| \\!            | History number of the current command.                       |\n",
    "| \\\\#           | Number of commands entered during this shell session.        |\n",
    "|               |                                                              |\n",
    "| **Edit**      |                                                              |\n",
    "| \\n            | A newline character.                                         |\n",
    "| \\r            | A carriage return.                                           |\n",
    "| \\\\$           | This displays a “$” character unless we have superuser privileges. In that case, it displays a “#” instead. |\n",
    "| \\\\[           | Signals the start of a series of one or more non-printing characters. This is used to embed <u>non-printing control characters</u> that manipulate the terminal emulator in some way, <u>such as moving the cursor or changing text colors</u>. |\n",
    "| \\\\]           | Signals the end of a non-printing character sequence.        |\n",
    "\n",
    "### Colors\n",
    "\n",
    "\n",
    "| **Color**            | **Ref**: Table 13- 2 in TLCL **Ab**: ANSI escape code with character attributes before `;` |\n",
    "| -------------------- | ------------------------------------------------------------ |\n",
    "| \\033[0;30m           | Black                                                        |\n",
    "| \\033[1;30m           | Dark gray                                                    |\n",
    "|                      |                                                              |\n",
    "| **Background color** | **Ref**: Table 13-3 in TLCL                                  |\n",
    "| \\033[0;40m           | Black                                                        |\n",
    "|                      |                                                              |\n",
    "|                      |                                                              |\n",
    "|                      |                                                              |\n",
    "| \\033[0m              | Turn off color. This affects both the text and the background. |\n",
    "\n",
    "### Cursor Movement\n",
    "\n",
    "| **Cursor Movement** | **Ref**: Table 13-4 in TLCL                                  |\n",
    "| ------------------- | ------------------------------------------------------------ |\n",
    "| \\033[l;cH           | Move the cursor to line l and column c                       |\n",
    "| \\033[nA             | Move the cursor up n lines                                   |\n",
    "| \\033[nB             | Move the cursor down n lines                                 |\n",
    "| \\033[nC             | Move the cursor forward n characters                         |\n",
    "| \\033[nD             | Move the cursor backward n characters                        |\n",
    "| \\033[2J             | Clear the screen and move the cursor to the upper-left corner (line 0, column 0) |\n",
    "| \\033[K              | Clear from the cursor position to the end of the current line |\n",
    "| \\033[s              | Store the current cursor position                            |\n",
    "| \\033[u              | Recall the stored cursor position                            |\n",
    "\n"
   ],
   "cell_type": "markdown",
   "metadata": {}
  },
  {
   "cell_type": "code",
   "execution_count": null,
   "metadata": {},
   "outputs": [],
   "source": [
    "# Shown prompt\n",
    "[<username>@<host> <dir>]$\n",
    "\n",
    "# Prompt env var\n",
    "\n",
    "## St-General \n",
    "$PS1=\"\\[<embedded methods>\\]\"\n",
    "\n",
    "# Save the prompt in .bashrc file\n",
    "PS1=\"\\[\\033[s\\033[0;0H\\033[0;41m\\033[K\\033[1;33m\\t\\033[0m\\033[u\\]<\\u@\\h \\W>\\$ \"\n",
    "export PS1\n",
    "## e.g.\n",
    "\\[\\e]0;\\u@\\h: \\w\\a\\]${debian_chroot:+($debian_chroot)}\\[\\033[01;32m\\]\\u@\\h\\[\\033[00m\\]:\\[\\033[01;34m\\]\\w\\[\\033[00m\\]\\$"
   ]
  },
  {
   "source": [
    "---\n",
    "---\n",
    "# Shell"
   ],
   "cell_type": "markdown",
   "metadata": {}
  },
  {
   "source": [
    "---\n",
    "## Basic Information of shell"
   ],
   "cell_type": "markdown",
   "metadata": {}
  },
  {
   "cell_type": "code",
   "execution_count": null,
   "metadata": {},
   "outputs": [],
   "source": [
    "# Check the shell program in your system\n",
    "echo \"---------- Mt-List all shells in your system ----------\"\n",
    "cat /etc/shells\n",
    "\n",
    "echo \"---------- Mt-Check the default shell ----------\"\n",
    "# Tips: $SHELL usually is the environmental variable\n",
    "echo $SHELL  "
   ]
  },
  {
   "source": [
    "---\n",
    "## Configure the Environment\n",
    "\n",
    "**Cc**\n",
    "- **Environment**: a body of information about process environment for the command and shell session\n",
    "- **Configuration files**: Files that store program settings and terminal settings which can adjust shell experience with environment variables.\n",
    "\n",
    "**Cpn**\n",
    "- **Environment variables** (env var): Other vars defined by the programs and functions\n",
    "    - Ab: vars could be used in the  parameter expansion\n",
    "- **Shell variables**: data placed by bash/shell\n",
    "- some **programmatic data**, namely <u>aliases</u> and <u>shell functions</u>\n",
    "\n",
    "**Common env var table**\n",
    "\n",
    "| DISPLAY  | The name of the display if we are running a graphical environment . When the value of this var is 0, it means that the first display is generated by the X server |\n",
    "| -------- | ------------------------------------------------------------ |\n",
    "| EDITOR   | The name of the program to be used for text editing (Default editor like nano or vim) |\n",
    "| SHELL    | The name of the user's default shell program (Default bash)  |\n",
    "| HOME     | The pathname of your home directory                          |\n",
    "| LANG     | Defines the character set and collation order of your language |\n",
    "| OLDPWD   | The previous working directory                               |\n",
    "| AGER     | The name of the program to be used for paging output. (Default /usr/bin/less) |\n",
    "| **PATH** | A <u>colon-separated list</u> of <u>directories</u> that are searched when we enter the <u>name</u> of a <u>executable program</u> or commands. Tells the shell where to look for executable files in response to commands issued by a user. |\n",
    "| PS1      | This stands for \"prompt string 1.\" This defines the contents of the shell prompt. As we will later see, this can be extensively customised. |\n",
    "| PWD      | The current working directory.(The same as the output of `pwd`) |\n",
    "| TERM     | The name of your terminal type. Unix-like systems support many terminal protocols; this variable sets the protocol to be used with your terminal emulator. |\n",
    "| TZ       | Specifies your time zone. Most Unix-like systems maintain the computer's internal clock in Coordinated Universal Time (UTC) and then display the local time by applying an offset specified by this variable. |\n",
    "| USER     | Your username.                                               |\n",
    "| HOSTNAME | The host server name                                         |\n",
    "| HOSTTYPE | The system type(for examplek, x86_64)                        |\n",
    "\n",
    "**F**\n",
    "- Customise the shell experience\n",
    "\n",
    "**Tips**\n",
    "- Most of important shell scripts are stored in the **ls -al /etc/profile.d**. Avoid to modify this files.\n",
    "\n",
    "\n"
   ],
   "cell_type": "markdown",
   "metadata": {}
  },
  {
   "source": [
    "## Cpn-Configuration files for BASH\n",
    "\n",
    "Tips: (Also see the **Startup Files**)\n",
    "\n",
    "- `/etc/profile` : the <u>systemwide initialization</u> file, executed for login shells\n",
    "- `$HOME/.bash_profile` : the <u>personal initialization file</u>, executed for login shells, which calls `$HOME/.bashrc` and `/etc/bashrc` (`/etc/bash.bashrc`)\n",
    "- `/etc/bash.bashrc` : non-standard, systemwide <u>per-interactive-shell startup</u> file (we don't have it on our installation)\n",
    "- `$HOME/.bashrc` : the <u>individual per-interactive-shell startup</u> file executed for non-login shells (Interactive shells use bashrc)\n",
    "- `$HOME/.inputrc` : individual <u>readline initialization</u> file\n",
    "- `/etc/bash.logout` : the <u>systemwide login shell cleanup</u> file, executed when a login shell exits\n",
    "- `$HOME/.bash_logout` : the <u>individual login shell cleanup</u> file, executed when a login shell exits\n",
    "- `$HOME/.bash_login`\n",
    "- `$HOME/.profile`"
   ],
   "cell_type": "markdown",
   "metadata": {}
  },
  {
   "source": [
    "## Mt-Check the status of environment"
   ],
   "cell_type": "markdown",
   "metadata": {}
  },
  {
   "cell_type": "code",
   "execution_count": null,
   "metadata": {},
   "outputs": [],
   "source": [
    "# Show env vars in alphabetical order\n",
    "printenv\n",
    "\n",
    "# List the value of a specific variable [var] like echo $[var].\n",
    "#$ printenv [vars] \n",
    "\n",
    "printenv USER\n",
    "\n",
    "# Check the env var in the less editor or other editor you like\n",
    "printenv | less\n",
    "printenv | vim\n",
    "\n",
    "# Show all vars as well as any defined shell functions in alphabetical order\n",
    "set\n",
    "\n",
    "# Check env vars and shell vars with editors\n",
    "set | less\n",
    "\n",
    "# echo can also be used to check var if you have known them.\n",
    "echo $USER"
   ]
  },
  {
   "source": [
    "## Mt-Establish an Environment\n",
    "\n",
    "**Cc**\n",
    "\n",
    "- **Startup Files**: files that define the default environment <u>shared by all users</u>\n",
    "\n",
    "\n",
    "**Pcp-Edit start up files**\n",
    "\n",
    "- **# are comments**. You can comment out and uncomment some commands to deactivate or activate some command lines.\n",
    "\n",
    "\n",
    "**Cat**\n",
    "\n",
    "**Login shell sessions**: prompt for our username and password when using the virtual console session or login in the Unix system. (System-wide)\n",
    "\n",
    "| <font color=black>File</font> | <font color=black>Contents</font>                            |\n",
    "| ----------------------------- | ------------------------------------------------------------ |\n",
    "| /etc/profile                  | A <u>global</u> configuration script that applies to all users |\n",
    "| ~/.bash_profile               | A user's <u>personal startup file</u>. This can be used to extend or override settings in the global  configuration script. |\n",
    "| ~/.bash_login                 | If ~/.bash_profile is not found, bash attempts to read this script. |\n",
    "| ~/.profile                    | If neither ~/.bash_profile nor ~/.bash_login is found, bash attempts to read this file. This is the default in Debian-based distributions, such as Ubuntu. |\n",
    "\n",
    "\n",
    "**Non-login shell sessions**: apply when we launch a terminal session in the GUI with current/default user. (User-direct)\n",
    "\n",
    "**Ab**: <u>Non-login shells inherit</u> the environment from their parent process, <u>usually a login shell</u>.\n",
    "\n",
    "| <font color=black>File</font> | <font color=black>Contents</font>                            |\n",
    "| ----------------------------- | ------------------------------------------------------------ |\n",
    "| /etc/bash.bashrc              | A <u>global</u> configuration script that applies to all users |\n",
    "| ~/.bashrc                     | A <u>user's personal startup file.</u> It can be used to extend or override settings in the global configuration script. |\n",
    "\n",
    "      \n",
    "\n",
    "\n",
    "\n"
   ],
   "cell_type": "markdown",
   "metadata": {}
  },
  {
   "source": [
    "## Mt-Modify an Environment\n",
    "\n",
    "**Pcp**\n",
    "\n",
    "- Unless you know that the modification should be applied to the global environment, you should modify the configuration files within the home directory for particular user.\n",
    "\n",
    "**Obj2-config files to modification**\n",
    "\n",
    "- `.profile` can be modified for adding dir to PATH or env variables\n",
    "- `.bashrc` can be modified for other env changes but actually in most case this modification can be activated as long as you use the command line shell.\n",
    "- More about config files can be seen in the Cc part of Mt-Establish an Environment.\n",
    "\n",
    "**Pc**\n",
    "\n",
    "- Set shell options(show all vars)\n",
    "- Export environment\n",
    "- Make the modification of config files usable (Reload the configs)\n",
    "  - Tips: Restart or Log in/out will reload the configs. But temp configs will be refresh as well."
   ],
   "cell_type": "markdown",
   "metadata": {}
  },
  {
   "cell_type": "code",
   "execution_count": null,
   "metadata": {},
   "outputs": [],
   "source": [
    "echo \"---------- Modification Example ----------\"\n",
    "# Tips: Generally, this modification should be conducted in the config files rather than settling them temporarily. \n",
    "# Set common variables\n",
    "echo ${var := [value]}  # echo: Set the default value of a variable\n",
    "\n",
    "# Set PATH variable\n",
    "PATH=$PATH:$HOME/bin  # Add dir to PATH var\n",
    "export PATH  # Make the content of PATH var available to child processes of this shell\n",
    "export PATH=$PATH:$HOME/bin  # Add dir to PATH and make the change available\n",
    "\n",
    "# Set alias\n",
    "# Tips Again: without configuration, alias would be vanished after closing the terminal\n",
    "# Tips Again and Again: you could set the alias in the `.bash_profile` configuration files (or other environment configurations).\n",
    "alias  # Show all alias\n",
    "alias [alias_name]='[commands in string type]' # Set alias\n",
    "unalias [alias_name]  # Remove the alias\n",
    "\n",
    "\n",
    "## e.g.alias juno='Launch_JuliaPro'alias l.='ls -d .* --color=auto'\n",
    "\n",
    "echo \"---------- Source the config ----------\"\n",
    "# Activate the modification\n",
    "source $HOME/.bashrc\n",
    "source $HOME/.bash_profile\n",
    ". ~/.profile  # Tips: . is a bash builtin and . means source in command (not dir)\n",
    "\n",
    "\n"
   ]
  },
  {
   "cell_type": "markdown",
   "source": [
    "---\n",
    "---\n",
    "# Commands\n"
   ],
   "metadata": {}
  },
  {
   "source": [
    "---\n",
    "## History of your commands\n",
    "Space: .bash_history"
   ],
   "cell_type": "markdown",
   "metadata": {}
  },
  {
   "cell_type": "code",
   "execution_count": null,
   "metadata": {
    "tags": [
     "outputPrepend"
    ]
   },
   "outputs": [],
   "source": [
    "echo \"---------- View previous commands ----------\"\n",
    "# List all the history of commands in .bash_history\n",
    "history\n",
    "history | less  # or other editor like code/vim/nvim\n",
    "\n",
    "\n",
    "echo \"---------- Repeat commands ----------\"\n",
    "# Repeat and execute the last command/event (`up arrow` button will be more confortable for modification.)\n",
    "!!\n",
    "\n",
    "# Repeat the [num]th command/event listed in .bash_history\n",
    "## Tips: Not the last [num]th but the [num]th in common order. Check the [num] before trying to execute it.\n",
    "#$ ![num]\n",
    "\n",
    "!1441\n",
    "\n",
    "# Repeat the last command containing string [str] in .bash_history\n",
    "#$ !?[str]\n",
    "\n",
    "!?python\n",
    "\n",
    "# Repeat the last command starting with string [str] in .bash_history\n",
    "#$ ![str]\n",
    "\n",
    "!python\n",
    "\n",
    "\n",
    "echo \"---------- Related env vars ----------\"\n",
    "export HISTCONTROL=ignoredups  # Ignore dupilicates in the command history\n",
    "export HISTSIZE=1000  # Change the maximum size of the history command line records\n",
    "\n"
   ]
  },
  {
   "source": [
    "Guideline Level (for workflows)\n",
    "\n",
    "<center><p style=\"font-size:50px; font-weight:bold\">\n",
    "Part II Linux System Management\n",
    "</p></center>\n",
    "\n",
    "Linux system commands"
   ],
   "cell_type": "markdown",
   "metadata": {}
  },
  {
   "cell_type": "markdown",
   "source": [
    "---\n",
    "---\n",
    "# Linux File System\n",
    "\n",
    "## Ref\n",
    "\n",
    "- TLCL\n",
    "  - Chapter 2 Navigation\n",
    "\n",
    "\n",
    "## Cc-Linux File System Tree\n",
    "\n",
    "- Linux system is a single file system tree with attached devices.\n",
    "- Different from MS-DOS and Windows System which separate file system trees for different devices.\n",
    "- \n",
    "\n",
    "\n",
    "\n",
    "## Special Symbol when using file system\n",
    "\n",
    "**Colour indicator**\n",
    "\n",
    "1. green: files\n",
    "2. blue: directory\n",
    "3. blue with green background: directory with branch directory\n",
    "4. red: display broken links\n",
    "\n",
    "**Long Format of file information**\n",
    "\n",
    "1. Cpn: [Access rights] [File's number of hard links] [username] [group name] [size] [last modification time] [filename]\n",
    "2. e.g.: drwxrwxrwx 210 ninomoriaty ninomoriaty  12K Sep  4 18:48 anaconda3\n",
    "3. Mt-Read the access rights\n",
    "   1. first character: file(-), directory(d), symbolic link(l), \n",
    "   2. next 3 character(for file's owner): r(readable)w(writable)x(executable) \n",
    "   3. another 3 character(for group): r(readable)w(writable)x(executable) \n",
    "   4. final 3 character(for everyone): r(readable)w(writable)x(executable) \n",
    "\n"
   ],
   "metadata": {
    "pycharm": {
     "name": "#%% md\n"
    }
   }
  },
  {
   "source": [
    "---\n",
    "## Directory Info"
   ],
   "cell_type": "markdown",
   "metadata": {}
  },
  {
   "cell_type": "code",
   "execution_count": null,
   "metadata": {},
   "outputs": [],
   "source": [
    "echo \"---------- List dir ----------\"\n",
    "# List contents in directories\n",
    "# Tips: `ls` is the alias of `ls color=auto`; `ll` is the alias of `ls -l color=auto`\n",
    "# directory-related\n",
    "ls # list visable content in current directory\n",
    "ls [pathname] # list contents in the specific directoryls [pathname] \n",
    "[pathname] # show contents in more directories\n",
    "# flags (common used, please help)\n",
    "ls -a # list all content\n",
    "ls --all\n",
    "\n",
    "ls -A # list all content except . and .. shown in -a option\n",
    "ls --almost-all # but actually it can...\n",
    "\n",
    "ls -d [pattern] # list directories themselves in a pattern\n",
    "ls --directory [pattern]\n",
    "\n",
    "ls -F # show an file-type indicator character to the end of each name\n",
    "$ environment.yml*  # `*` means files\n",
    "CLionProject/  # `/` means directories\n",
    "\n",
    "ls --classify\n",
    "ls -h \n",
    "\n",
    "# display file size in human readable format in long format, always used with -l\n",
    "ls --human-readable\n",
    "\n",
    "ls -i # print the index number(inode) of each file\n",
    "ls --inode\n",
    "ls -l # show details(wxr) about all contents in the directories\n",
    "\n",
    "ll # the alias of ls -l --color=auto\n",
    "\n",
    "ls -r # display the result in reverse order\n",
    "ls -R # show the dir structure in a recursive way (somehow like tree structure)\n",
    "\n",
    "ls -s # sort results by file size\n",
    "ls -t # sort the content according to the the files' modification time\n",
    "ls -1 # show only the filename in one line.\n",
    "\n",
    "\n",
    "echo \"---------- Tree dir ----------\"\n",
    "# Show the hierarchical file system in a **tree pattern**\n",
    "sudo apt install tree # install the tree package and dependencies\n",
    "tree # show the hierarchical structure of workspace\n",
    "tree [pathname] # show the hierarchcial file system of current directory\n",
    "\n",
    "\n",
    "echo \"---------- Other methods ----------\"\n",
    "# Count the number of documents in a directory (save the original files.)\n",
    "ls | cat -n | while read n fdo cp \"$f\" \"reads-$n\"done\n",
    "\n"
   ]
  },
  {
   "source": [
    "---\n",
    "## File Info"
   ],
   "cell_type": "markdown",
   "metadata": {}
  },
  {
   "cell_type": "code",
   "execution_count": null,
   "metadata": {},
   "outputs": [],
   "source": [
    "echo \"---------- Info of file ----------\"\n",
    "# Determine the file's type and get brief file introduction\n",
    "file [filename] # show brief info of the file\n",
    "\n",
    "\n",
    "echo \"---------- View the content of file ----------\"\n",
    "# Check the header and tailer of files\n",
    "#$ head [file]  # By default, `head` command will list the first 10 lines\n",
    "#$ tail [file]  # By default, `tail` command will list the last 10 lines\n",
    "## Options\n",
    "#-n # the first/last n lines\n",
    "\n",
    "head -n 3 environment.yml\n",
    "head -n3 environment.yml\n",
    "tail -n 3 environment.yml\n",
    "tail -n3 environment.yml\n",
    "\n",
    "\n",
    "# Check the content of the file(by different command line editor)\n",
    "# Lk: Different editors' notebook in Wiznote\n",
    "less [filename] # view the text file in a Vim-like model, show files a page at a time\n",
    "## Tips: `man` command also use less to show the manual pages \n",
    "# vim family\n",
    "vim [filename]\n",
    "neovim [filename]\n",
    "# nano\n",
    "nano [filename]\n",
    "#gedit: Graphical editor\n",
    "gedit [filename]\n",
    "\n",
    "\n",
    "echo \"---------- Statistics of files ----------\"\n",
    "# wc (word count) : Returns the number of lines, words, and bytes in a file\n",
    "#$ wc [files] # wildcards would also be acceptable arguments\n",
    "# Options\n",
    "#-l # count the lines in the files, only lines number, not similar to `ls`\n",
    "#-w # count the words in the files\n",
    "\n",
    "\n",
    "echo \"---------- Other methods ----------\"\n",
    "# Sp.Mt-output the doc with headhead \n",
    "# it would accept the stdin and output to the stdout\n",
    "[command] | head # could show the result in stdout\n",
    "\n"
   ]
  },
  {
   "source": [
    "---\n",
    "## Navigate in file system"
   ],
   "cell_type": "markdown",
   "metadata": {}
  },
  {
   "cell_type": "code",
   "execution_count": null,
   "metadata": {},
   "outputs": [],
   "source": [
    "echo \"---------- Print workplace directory ----------\"\n",
    "# Print workplace directory\n",
    "pwd\n",
    "\n",
    "echo \"---------- Change directory ----------\"\n",
    "# Absolute Pathname\n",
    "#$ cd [absolute pathname] \n",
    "# Tips: ./ would be the default prefix and if absolute pathname, you should specify / in the prefix.\n",
    "cd /usr/bin  # example of absolute path\n",
    "cd ./anaconda3  # example of relative path\n",
    "cd ~/anaconda3 # emm, an user-oriented reltative pathname\n",
    "\n",
    "# Relative Pathname\n",
    "#$ cd [relative pathname]\n",
    "cd ./CLionProjects  # example\n",
    "cd CLionProjects/test/ # actually if you just type a directroy, it would be recognized as relative pathname\n",
    "# Other Usage\n",
    "cd # return to the home directory\n",
    "cd ~ # return to the home directory\n",
    "cd ~[user_name] # Changes the working directory to the home directory of [user_name].\n",
    "cd - # Changes the working directory to the previous working directory\n",
    "cd . # just current directory(Ref: relative pathname)\n",
    "cd .. # return to the parent directory of current directory\n",
    "cd ../.. # relatvie pathnaem chain would be acceptable and this would make the command more easier.\n"
   ]
  },
  {
   "source": [
    "---\n",
    "## Manipulate Files and Directories\n",
    "\n",
    "\n"
   ],
   "cell_type": "markdown",
   "metadata": {}
  },
  {
   "cell_type": "code",
   "execution_count": null,
   "metadata": {},
   "outputs": [],
   "source": [
    "echo \"---------- Locate and Search targets ----------\"\n",
    "# Search and Locate the path to files or directories through particular substring\n",
    "# Mt-Installation\n",
    "#$ sudo apt install mlocate \n",
    "# Mt-basic usage\n",
    "#$ locate <substring> \n",
    "\n",
    "locate prosite.dat\n",
    "\n",
    "\n",
    "echo \"---------- Create/Make directories or files ----------\"\n",
    "# Create Directory\n",
    "mkdir [dir1] [dir2] ...\n",
    "## Options\n",
    "#-p  # make parent dirs if needed when create subdir\n",
    "\n",
    "# Create files\n",
    "touch [file1] [file2]\n",
    "# Create files in a pattern\n",
    "touch filenumber_{1,2,3} # create files named like a1, a2, a3\n",
    "\n",
    "\n",
    "\n",
    "echo \"---------- Copy and Paste dir or file ----------\"\n",
    "# Tips: `cp` will silently (meaning there will be no warning when overwriting files.)\n",
    "#$ cp [item1] [item2] \n",
    "# The second one could be the new-named copy or final dir (existing)\n",
    "cp [item1] [item2] ... [final dir] \n",
    "## Options\n",
    "#-a, --archive # copy the file attributes (dir needed)\n",
    "#-i, --interactive # before overwriting, prompt the user for confirmation\n",
    "#-r, -R, --recursive # copy hierarchical dirs and subdir (dir needed)\n",
    "#-u, --update # copy newer version or new files\n",
    "#-v, --verbose # Display information of copy process by %\n",
    "\n",
    "cp dir1/* dir2  # copy all files in dir1(not in all branches) into dir2\n",
    "cp -r dir1 dir2  # dir2 could be not existing\n",
    "\n",
    "\n",
    "echo \"---------- Move/Cut/Rename dir or file ----------\"\n",
    "# Move & Rename files and directories\n",
    "#$ mv [item1] [item2] ... [final dir]\n",
    "#$ mv [item1] [item2]  # Add: `mv` command could be also used to rename.\n",
    "## Options\n",
    "#-i --interactive # before overwriting, prompt the user for confirmation\n",
    "#-u --update # copy newer version or new files\n",
    "#-v --verbose # Display information of copy process by %\n",
    "\n",
    "mv dir1 dir2 # would directly move all subdir and dir2 could be not existing\n",
    "\n",
    "\n",
    "echo \"---------- Remove files and directories ----------\"\n",
    "#$ rm [item1] [item2] ... \n",
    "## specific for dir\n",
    "#$ rmdir [dir1] [dir2] ... # however, only empty dir could be removed by `rmdir`.\n",
    "## Options\n",
    "#-i --interactive # before overwriting, prompt the user for confirmation\n",
    "#-r --recursive # copy hierarchical dirs and subdir (dir needed)\n",
    "#-v --verbose # Display information of copy process by %\n",
    "#-f --force # override the -i option and it would ignore nonexistent files and do not prompt\n",
    "## Tips:  \n",
    "#1. whenever you use wildcards with rm (besides carefully checking your typing!), test the wildcard first with `ls` and check if the pre-deleted items are those you want to delete.\n",
    "#2. And it would be a more safe method to create a directory as \"rubbish bin\" and you could use `mv` rather than `rm` for possible recovery.\n",
    "\n",
    "rm -rf null\n",
    "rmdir null\n",
    "\n",
    "\n",
    "echo \"---------- Create hard and symbolic links ----------\"\n",
    "#$ ln [options] [file] [link]\n",
    "## Options\n",
    "#-s [file/dir] [link]   # Symbolic Link\n",
    "#-r  # the same as ls and rm\n",
    "## GUI Methods\n",
    "# 1. `Ctrl+Shift` keys while `Dragging a file `will create a symbolic link rather than copying (or moving) the file\n",
    "\n",
    "# Tips: A method to settle specified version of Python, somehow similar to alias\n",
    "sudo ln -fs /usr/bin/python3.5 /usr/bin/python\n"
   ]
  },
  {
   "source": [
    "---\n",
    "## Compress and Extract"
   ],
   "cell_type": "markdown",
   "metadata": {}
  },
  {
   "cell_type": "code",
   "execution_count": null,
   "metadata": {},
   "outputs": [],
   "source": [
    "echo \"---------- Zip: zip ----------\"\n",
    "# Compress\n",
    "#$ zip [options] [zipped_filename] [files]\n",
    "# Add files to the zipped files\n",
    "#$ zip [options like -u and -f] [zipped_file] [files]\n",
    "## Options\n",
    "#-u # update: only new files and changed files\n",
    "#-f # refresh zipped file with changed files\n",
    "#-m # move files into a zipped file\n",
    "#-e # set the enter passwd\n",
    "\n",
    "# Extract\n",
    "#$ unzip [options] [zipped_filename] [dir]\n",
    "## Options\n",
    "#-d # the extracted directory\n",
    "\n",
    "\n",
    "echo \"---------- GNU zip: .gz .gzip .tgz ----------\"\n",
    "#$ gzip [options] [file]gunzip [options] [file]\n",
    "## Options\n",
    "#-c, --stdout, -to-stdout # write the output file to the stdout. keep original files unchanged\n",
    "#-k, --keep # keep the original input files during compression or decompression\n",
    "\n",
    "\n",
    "echo \"---------- Tape archive: .tar .tgz ----------\"\n",
    "#$ tar -xf [zipped_file_pathname] -C [target_dir]\n",
    "## Options\n",
    "#-x # Extract files from an archive\n",
    "#-f # specifies the archive FILE to read\n",
    "#-a # automatically handles the decompression\n",
    "#-C, --directory # dir for the extracted files\n",
    "#-v # verbose, similar to mv and cp \n",
    "\n",
    "\n",
    "echo \"---------- Other methods relative to compressed files ----------\"\n",
    "# Mt-See the content in a zipped file\n",
    "#$ zcat [zip_compressed_file]  # inspect the file with zip compression\n",
    "#$ zless [zip_compressed_file]\n",
    "#$ less [zip_compressed_file]  # would regularly unzip the compressed file and see the content\n",
    "# Mt-\n",
    "\n",
    "\n"
   ]
  },
  {
   "source": [
    "---\n",
    "---\n",
    "# Program Packages Management"
   ],
   "cell_type": "markdown",
   "metadata": {}
  },
  {
   "source": [
    "---\n",
    "## `.deb` package management system\n",
    "\n",
    "### apt \n",
    "### snap\n",
    "### dpkg\n"
   ],
   "cell_type": "markdown",
   "metadata": {}
  },
  {
   "cell_type": "code",
   "execution_count": null,
   "metadata": {},
   "outputs": [],
   "source": [
    "echo \"---------- Basic Usage ----------\"\n",
    "# Install .deb program\n",
    "## GUI methods\n",
    "# direct install by software manager, however the GUI software is somehow awkard\n",
    "## get .deb installed (gdebi)\n",
    "#$ gdebi [options] [deb_pkg]\n",
    "## dpkg\n",
    "#$ dpkg -i [.deb_pkg]\n"
   ]
  },
  {
   "cell_type": "code",
   "execution_count": null,
   "metadata": {},
   "outputs": [],
   "source": [
    "# apt\n",
    "sudo apt-get install [package_name]\n",
    "# snap\n",
    "sudo snap install [package_name]"
   ]
  },
  {
   "source": [
    "---\n",
    "## Package/Environment Managers\n",
    "**Lk**: Related Wiznote notebooks\n",
    "\n",
    "### `pip`\n",
    "\n",
    "\n",
    "### `conda`\n"
   ],
   "cell_type": "markdown",
   "metadata": {}
  },
  {
   "cell_type": "markdown",
   "source": [
    "---\n",
    "---\n",
    "# System Administration\n",
    "Tips: Hardwares or system level\n",
    "\n",
    "**Ref**\n",
    "- TLCL 19.01 Chapter 15 Storage Media"
   ],
   "metadata": {
    "pycharm": {
     "name": "#%% md\n"
    }
   }
  },
  {
   "cell_type": "markdown",
   "source": [
    "---\n",
    "## Statistics of current system"
   ],
   "metadata": {}
  },
  {
   "cell_type": "code",
   "execution_count": null,
   "source": [
    "echo \"---------- Mt-Memory, Swap and Buffers ----------\"\n",
    "# Mt-Check the memory/swap space resource usage\n",
    "#$ free\n",
    "## Options\n",
    "#-h  # Show output in human readable style(With the unit of space, commonly Gigabytes)\n",
    "#--giga  # Show output in gigabytes (However, without units)\n",
    "#--help  # Other methods\n",
    "## Output:\n",
    "#               total        used        free      shared  buff/cache   available\n",
    "# Mem:       16254076     6595876     4110600      181472     5547600     9178232\n",
    "# Swap:       2097148           0     2097148\n",
    "\n",
    "## Basic info of memory\n",
    "free\n",
    "## Options test\n",
    "free -h\n",
    "free --giga\n",
    "\n",
    "\n"
   ],
   "outputs": [],
   "metadata": {
    "pycharm": {
     "name": "#%%\n"
    }
   }
  },
  {
   "cell_type": "markdown",
   "source": [
    "---\n",
    "## Storage Media/Disk Management\n",
    "**Tips**: Not all the command is suitable for your system."
   ],
   "metadata": {
    "pycharm": {
     "name": "#%% md\n"
    }
   }
  },
  {
   "cell_type": "markdown",
   "source": [
    "### Mt-Check existing devices\n",
    "\n",
    "**Tips**: Common devices directory `/dev/`\n",
    "\n"
   ],
   "metadata": {}
  },
  {
   "cell_type": "code",
   "execution_count": null,
   "source": [
    "echo \"---------- Mt-Check existing devices ----------\"\n",
    "ls /dev\n",
    "\n",
    "echo \"---------- Mt-Check the dev spaces ----------\"\n",
    "df"
   ],
   "outputs": [],
   "metadata": {}
  },
  {
   "cell_type": "markdown",
   "source": [
    "### Mt-Mount"
   ],
   "metadata": {
    "pycharm": {
     "name": "#%% md\n"
    }
   }
  },
  {
   "cell_type": "code",
   "execution_count": null,
   "source": [
    "echo \"---------- Mt-Mount ----------\"\n",
    "# Mt-Display mounted file systems\n",
    "#$ mount\n",
    "\n",
    "mount  \n",
    "\n",
    "# output-e.g.: [device] on [mount_point] type [file_system_type] ([options]).\n",
    "\n",
    "# Mt-Mount device to a mount point\n",
    "#$ mount [removable_dev] [dir_mount_point]\n",
    "#$ mount -t [file_system_type] [device_name] [dir_mount_point]\n",
    "\n",
    "mount /dev/sdb1 /mnt/flash\n",
    "mount -t iso9660 /dev/sdc /mnt/cdrom\n",
    "\n",
    "\n"
   ],
   "outputs": [],
   "metadata": {
    "pycharm": {
     "name": "#%%\n"
    }
   }
  },
  {
   "cell_type": "markdown",
   "source": [
    "### Mt-Unmount\n",
    "**Pcp**\n",
    "- If a device is used by other processes, it can not be unmounted.\n",
    "\n",
    "\n",
    "**F**\n",
    "- Unmounting a device entails writing all the remaining data to the device so that it\n",
    "can be safely removed. \n",
    "- file system corruption, one of the worst things that can happen on a computer.\n",
    "- \n",
    "\n"
   ],
   "metadata": {
    "pycharm": {
     "name": "#%% md\n"
    }
   }
  },
  {
   "cell_type": "code",
   "execution_count": null,
   "source": [
    "echo \"---------- Mt-Unmount ----------\"\n",
    "# Mt-Unmount a device\n",
    "# umount [device_name]  # Tips: umount not unmount\n",
    "\n",
    "su -\n",
    "umount /dev/sdc\n",
    "\n",
    "\n"
   ],
   "outputs": [],
   "metadata": {
    "pycharm": {
     "name": "#%%\n"
    }
   }
  },
  {
   "cell_type": "markdown",
   "source": [
    "### Cpn-Device naming pattern\n",
    "\n",
    "**Common device names and meaning**\n",
    "\n",
    "| Pattern  | Device                                                       |\n",
    "| -------- | ------------------------------------------------------------ |\n",
    "| /dev/fd* | Floppy disk drives.                                          |\n",
    "| /dev/hd* | IDE (PATA) disks on older systems. Typical motherboards contain two IDE connectors or channels, each with a cable with two attachment points for drives. The first drive on the cable is called the master device, and the second is called the slave device. The device names are ordered such that /dev/hda refers to the master device on the first channel, /dev/hdb is the slave device on the first channel; /dev/hdc is the master device on the second channel, and so on. A trailing digit indicates the partition number on the device. For example, /dev/hda1 refers to the first partition on the first hard drive on the system, while /dev/hda refers to the entire drive. |\n",
    "| /dev/lp* | Printers.                                                    |\n",
    "| /dev/sd* | SCSI disks. On modern Linux systems, the kernel treats all disk- like devices (including PATA/SATA hard disks, flash drives, and USB mass storage devices such as portable music players and digital cameras) as SCSI disks. The rest of the naming system is similar to the older /dev/hd* naming scheme described above. |\n",
    "| /dev/sr* | Optical drives (CD/DVD readers and burners).                 |\n",
    "\n",
    "\n",
    "\n"
   ],
   "metadata": {}
  },
  {
   "cell_type": "code",
   "execution_count": null,
   "source": [
    "# Mt-Check the name of a device\n",
    "#$ sudo tail -f /var/log/messages  # Actually, different distributions contain different log files.\n",
    "\n",
    "# \n",
    "\n"
   ],
   "outputs": [],
   "metadata": {}
  },
  {
   "cell_type": "markdown",
   "source": [
    "### Mt-Create new file system and Reformat\n",
    "**Cc**\n",
    "- `fdisk`\n",
    "    - Def: A host of program on disk-like devices interactions\n",
    "    - F: Edit, delete, and create partitions on the device\n",
    "- \n",
    "\n",
    "**Pc-Workflow**\n",
    "- (optional) Create a new partition layout if the existing one is not to our liking.\n",
    "- Create a new, empty file system on the drive.\n",
    "\n",
    "**Problem**\n",
    "- make absolutely sure you are specifying the correct device name for your\n",
    "system, not the one shown in the text. Failure to heed this warning could re-\n",
    "sult in you formatting (i.e., erasing) the wrong drive!\n",
    "\n"
   ],
   "metadata": {}
  },
  {
   "cell_type": "markdown",
   "source": [
    "#### Pc-Manipulating Partitions with `fdisk`\n",
    "\n",
    "**Change the partition type for particular system**\n",
    "- Command p: examine the existing partition layout and find out what ID is used to identify a Linux partition\n",
    "- Command l: see ID for our existing partition type and what partition type for Linux.\n",
    "- Command t: change a partition's system id\n",
    "- Command w: write the modified partition table to the device and exit. \n",
    "\n"
   ],
   "metadata": {}
  },
  {
   "cell_type": "code",
   "execution_count": null,
   "source": [
    "sudo umount /dev/sdb1\n",
    "sudo fdisk /dev/sdb\n",
    "\n",
    "# prompt:\n",
    "Command (m for help):\n",
    "\n",
    "# Help and Options\n",
    "Command action\n",
    "a toggle a bootable flag\n",
    "b edit bsd disklabel\n",
    "c toggle the dos compatibility flag\n",
    "d delete a partition\n",
    "l list known partition types\n",
    "m print this menu\n",
    "n add a new partition\n",
    "o create a new empty DOS partition table\n",
    "p print the partition table\n",
    "q quit without saving changes\n",
    "s create a new empty Sun disklabel\n",
    "t change a partition's system id\n",
    "u change display/entry units\n",
    "v verify the partition table\n",
    "w write table to disk and exit\n",
    "x extra functionality (experts only)\n",
    "Command (m for help):\n",
    "\n"
   ],
   "outputs": [],
   "metadata": {}
  },
  {
   "cell_type": "markdown",
   "source": [
    "#### Pc- Manipulating Partitions with `mkfs`\n",
    "**Cc**\n",
    "- `mkfs`(MaKe File System): \n",
    "    - F: create file systems in a variety of formats\n",
    "\n",
    "**Cpn**\n",
    "- file_system_type\n",
    "    - FAT32: vfat\n",
    "    - EXT4: ext4\n"
   ],
   "metadata": {}
  },
  {
   "cell_type": "code",
   "execution_count": null,
   "source": [
    "# Create file systems\n",
    "#$ mkfs -t [file_system_type] [dev_name]\n",
    "## Options\n",
    "#-t [file_system_type]\n",
    "\n",
    "sudo mkfs -t ext4 /dev/sdb1\n",
    "\n"
   ],
   "outputs": [],
   "metadata": {}
  },
  {
   "cell_type": "markdown",
   "source": [
    "### Mt-Moving Data Directly to and from Devices\n",
    "**Cc**\n",
    "- `dd`(Data Definition) \n",
    "    - F: copy blocks of data in hardware level from one space to another\n"
   ],
   "metadata": {}
  },
  {
   "cell_type": "code",
   "execution_count": null,
   "source": [
    "# \n",
    "#$ dd if=input_file of=output_file [bs=block_size [count=blocks]]\n",
    "#$ dd if=[dev_name1] of=[dev_name2]\n",
    "#$ dd if=[dev_name1] of=[file/image_name]\n"
   ],
   "outputs": [],
   "metadata": {}
  },
  {
   "cell_type": "markdown",
   "source": [
    "---\n",
    "## Testing and Repairing File Systems\n",
    "**Cc**\n",
    "- `fsck`(File System Check)\n",
    "    - F\n",
    "        - checking the integrity of file systems\n",
    "        - repair corrupt file systems\n",
    "- `fstab`\n"
   ],
   "metadata": {}
  },
  {
   "cell_type": "code",
   "execution_count": null,
   "source": [
    "#$ mkfs [dev_name]\n",
    "\n",
    "sudo fsck /dev/sdb1\n"
   ],
   "outputs": [],
   "metadata": {}
  },
  {
   "cell_type": "markdown",
   "source": [
    "---\n",
    "## Mt-Create and Maintain Images\n",
    "**Pc**\n",
    "- Create the iso image file of the system\n",
    "- Write the iso image onto CD-ROM device\n"
   ],
   "metadata": {}
  },
  {
   "cell_type": "markdown",
   "source": [
    "### Pc-Create Images\n",
    "Ref: TLCL 15 Creating CD-ROM Images\n",
    "\n",
    "\n",
    "Tips: Not Completed, Not comprehensive at all\n",
    "\n"
   ],
   "metadata": {}
  },
  {
   "cell_type": "code",
   "execution_count": null,
   "source": [
    "# make an ISO image of an existing CD-ROM (not work for audio CD)\n",
    "\n",
    "dd if=/dev/cdrom of=ubuntu.iso\n",
    "\n",
    "# audio CD\n",
    "cdrdao\n"
   ],
   "outputs": [],
   "metadata": {}
  },
  {
   "cell_type": "code",
   "execution_count": null,
   "source": [
    "# create an ISO image file containing the contents of a directory\n",
    "#$ genisoimage [options] [ISO_image_name] [dir]\n",
    "## Options\n",
    "#-R  # adds metadata for the Rock Ridge extensions, which allows the use of long filenames and POSIX-style file permissions\n",
    "#-J  # enables the Jolietextensions, which permit long filenames for Windows\n",
    "\n",
    "genisoimage -o cd-rom.iso -R -J ~/cd-rom-files\n",
    "\n",
    "\n"
   ],
   "outputs": [],
   "metadata": {}
  },
  {
   "cell_type": "markdown",
   "source": [
    "### Pc-Writing CD-ROM Images"
   ],
   "metadata": {}
  },
  {
   "cell_type": "code",
   "execution_count": null,
   "source": [
    "# Mounting an ISO Image rather than really write it on a new device\n",
    "mkdir /mnt/iso_image\n",
    "mount -t iso9660 -o loop image.iso /mnt/iso_image\n",
    "\n",
    "# Blanking a Rewritable CD-ROM\n",
    "\n",
    "wodim dev=/dev/cdrw blank=fast  # specifying the device name for the CD writer and the type of blanking to be performed\n",
    "\n",
    "\n",
    "# Writing an Image\n",
    "## Options\n",
    "-v for verbose output\n",
    "-dao disc-at-once mode. This mode should be used if you are preparing a disc for commercial re-production. \n",
    "The default mode for wodim is track-at-once, which is useful for recording music tracks.\n",
    "\n",
    "wodim dev=/dev/cdrw image.iso  # specifying the name of the optical media writer device and the name of the image file\n",
    "\n",
    "\n",
    "\n"
   ],
   "outputs": [],
   "metadata": {}
  },
  {
   "cell_type": "markdown",
   "source": [
    "## Checksum file\n",
    "- `checksum`: The result of an exotic mathematical calculation resulting in a number that represents the content of the target file.\n",
    "- `md5sum`: The program to generate checksum \n",
    "    - F\n",
    "        - Verify the integrity of an ISO image after downloading the image\n",
    "        - Verify newly written optical media/image device\n",
    "        - "
   ],
   "metadata": {}
  },
  {
   "cell_type": "code",
   "execution_count": null,
   "source": [
    "# Verify the integrity of an ISO image after downloading the image\n",
    "\n",
    "md5sum image.iso\n",
    "\n",
    "\n",
    "# Verify newly written optical media/image device\n",
    "\n",
    "md5sum /dev/cdrom\n",
    "\n",
    "## e.g. check the integrity of the image file dvd-image.iso and the disc in the DVD reader /dev/dvd. by determining the number of 2,048-byte blocks the image contains\n",
    "md5sum dvd-image.iso; dd if=/dev/dvd bs=2048 count=$(( $(stat -c \"%s\"\n",
    "dvd-image.iso) / 2048 )) | md5sum\n",
    "\n"
   ],
   "outputs": [],
   "metadata": {}
  },
  {
   "source": [
    "---\n",
    "## Back Up and Recovery"
   ],
   "cell_type": "markdown",
   "metadata": {}
  },
  {
   "cell_type": "markdown",
   "source": [
    "---\n",
    "---\n",
    "# Edit in command line\n",
    "**Ref**\n",
    "- TLCL Vim\n",
    "\n",
    "**Lk**\n",
    "- Wiznote > NeoVim/Vim\n",
    "\n"
   ],
   "metadata": {
    "pycharm": {
     "name": "#%% md\n"
    }
   }
  },
  {
   "source": [
    "---\n",
    "## Less\n",
    "\n",
    "How to move after use less to view a text document(see `help(h)` after `less`)\n",
    "![Screenshot from 2020-09-23 14-40-34.png](https://i.loli.net/2020/09/23/Pm3DJjGhHZLkWqa.png)"
   ],
   "cell_type": "markdown",
   "metadata": {}
  },
  {
   "cell_type": "code",
   "execution_count": null,
   "source": [],
   "outputs": [],
   "metadata": {
    "pycharm": {
     "name": "#%%\n"
    }
   }
  },
  {
   "cell_type": "markdown",
   "source": [
    "---\n",
    "---\n",
    "# Networking and Servers\n",
    "**Tips**\n",
    "- Totally not enough\n",
    "\n",
    "**Ref**\n",
    "- TLCL 16 Networking\n",
    "- Linux Network Administrator’s Guide: http://tldp.org/LDP/nag2/index.html\n",
    "- (TODO) TCP/IP\n",
    "\n",
    "**Cc**\n",
    "- Firewalls\n",
    "- Routers\n",
    "- Name servers\n",
    "- Network-attached storage (NAS) boxes\n",
    "- Internet protocol (IP) address: A numerical label assigned to each device connected to a computer network that uses the Internet Protocol for communication\n",
    "    - F: host or network interface identification and location addressing\n",
    "- Host and domain name*: a label that is assigned to a device connected to a computer network and that is used to identify the device in various forms of electronic communication\n",
    "    - F: \n",
    "- Uniform resource identifier (URI): a unique sequence of characters that identifies a logical or physical resource used by web technologies\n",
    "- Dynamic Host Configuration Protocol(DHCP): \n",
    "- Local Area Network(LAN):\n",
    "\n",
    "\n"
   ],
   "metadata": {}
  },
  {
   "cell_type": "markdown",
   "source": [
    "---\n",
    "## TCP/IP Related\n",
    "**P**\n",
    "- `net-tools` on Ubuntu\n",
    "\n",
    "**Cc-Program**\n",
    "- `ping`\n",
    "    - Tips: The test will continue until interruption.\n",
    "    - F: Send an ICMP ECHO_REQUEST to network hosts and verify the network connections and performance.\n",
    "- `traceroute` / `tracepath`\n",
    "    - F: Lists all the “hops” network traffic/route packets takes to get from the local system to a specified host\n",
    "- `ip`\n",
    "    - Def: multi-purpose network configuration tool\n",
    "    - F: Show / manipulate routing, devices, policy routing and tunnels\n",
    "- `netstat`\n",
    "    - F: Print network connections, routing tables, interface statistics, masquerade connections, and multicast memberships\n",
    "\n",
    "**Cc-Network Interface**\n",
    "- lo(loopback interface)\n",
    "    - Def: A virtual interface\n",
    "    - F: Talk to system itself\n",
    "- eth0(Ethernet interface)\n",
    "- docker0\n",
    "\n",
    "\n"
   ],
   "metadata": {}
  },
  {
   "cell_type": "code",
   "execution_count": null,
   "source": [
    "# Verify the connection to network hosts\n",
    "#$ ping [url/website]\n",
    "## Options\n",
    "# \n",
    "\n",
    "ping linuxcommand.org\n",
    " "
   ],
   "outputs": [],
   "metadata": {}
  },
  {
   "cell_type": "code",
   "execution_count": null,
   "source": [
    "# Trace the network route\n",
    "#$ traceroute [host]\n",
    "## Options\n",
    "#-T overcome the not-provided identifying information\n",
    "#-I \n",
    "## Outputs\n",
    "# [num] [host_name] ([IP address]) [round_trip time]\n",
    "\n",
    "traceroute slashdot.org\n",
    "traceroute6 slashdot.org  # Ubuntu\n",
    "\n"
   ],
   "outputs": [],
   "metadata": {}
  },
  {
   "cell_type": "code",
   "execution_count": null,
   "source": [
    "# Examine a system's network interfaces and routing table\n",
    "#$ ip \n",
    "## Outputs\n",
    "# [num]: [network interface]: <UP/enable stat> ... \n",
    "# ...\n",
    "# inet [IP address]\n",
    "\n",
    "ip a"
   ],
   "outputs": [],
   "metadata": {}
  },
  {
   "cell_type": "code",
   "execution_count": null,
   "source": [
    "# Check the network settings\n",
    "#$ netstat [options]\n",
    "## options\n",
    "#-ie network interface\n",
    "#-r display the kernel’s network routing table\n",
    "\n",
    "netstat -ie\n",
    "netstat -r"
   ],
   "outputs": [],
   "metadata": {}
  },
  {
   "cell_type": "markdown",
   "source": [
    "---\n",
    "## Examining and Monitoring a Network\n"
   ],
   "metadata": {}
  },
  {
   "cell_type": "code",
   "execution_count": null,
   "source": [],
   "outputs": [],
   "metadata": {}
  },
  {
   "cell_type": "markdown",
   "source": [
    "---\n",
    "## Mt-Files Transfermation\n",
    "**Cc**\n",
    "- `ftp`: Internet file transfer program\n",
    "- `lftp`: \n",
    "- `wget`: Non-interactive network downloader\n",
    "- `curl`\n",
    "    - F: Search and Download the documents from the repos or webisite remotely\n"
   ],
   "metadata": {}
  },
  {
   "cell_type": "code",
   "execution_count": null,
   "source": [
    "ftp"
   ],
   "outputs": [],
   "metadata": {}
  },
  {
   "cell_type": "code",
   "execution_count": null,
   "source": [
    "\n",
    "echo \"---------- Download ----------\"\n",
    "# From website http or ftp etc.wget [download_link_to_file]\n",
    "#$ wget <url_file>\n",
    "# Options\n",
    "#-O  # the outputfile\n",
    "#-q  # quiet\n",
    "\n"
   ],
   "outputs": [],
   "metadata": {}
  },
  {
   "source": [
    "\n"
   ],
   "cell_type": "markdown",
   "metadata": {}
  },
  {
   "cell_type": "code",
   "execution_count": null,
   "source": [
    "# common usage\n",
    "#$ curl [options] <website>\n",
    "curl -s https://get.nextflow.io | bash\n",
    "\n",
    "\n",
    "# GitHub repo related methods\n",
    "## use the github API to search repos in specific user\n",
    "curl -u [user] -X [command] [API] -d [search_pattern]\n",
    "## get repo\n",
    "curl -u B000000-2019 https://api.github.com/user/repos -d '{\"name\":\"Assignment1\"}'\n",
    "## delete the repo\n",
    "curl -u Bxxxxxx-2020 -X \"DELETE\" https://api.github.com/repos/Bxxxxxx-2020/repositoryname"
   ],
   "outputs": [],
   "metadata": {}
  },
  {
   "cell_type": "markdown",
   "source": [
    "---\n",
    "## Remote Hosts Communication\n",
    "\n",
    "**Ref**\n",
    "- https://www.digitalocean.com/community/tutorials/how-to-use-ssh-to-connect-to-a-remote-server\n",
    "\n",
    "**Cc**\n",
    "- `ssh`(OpenSSH SSH client (remote login program))\n",
    "    - F: Link to Remote Host"
   ],
   "metadata": {}
  },
  {
   "cell_type": "code",
   "execution_count": null,
   "source": [
    "echo \"---------- ssh usage ----------\"\n",
    "#$ ssh [remote_host]ssh -l [login_name] [server_dir]\n",
    "## Options\n",
    "#+X  # X11\n",
    "\n",
    "## For Bioinformsc5ssh \n",
    "s2059232@bioinfmsc5.bio.ed.ac.uk\n",
    "## Enable the X11 \n",
    "ssh +X s2059232@bioinfmsc5.bio.ed.ac.uk\n",
    "\n",
    "\n",
    "echo \"---------- Configure ssh ----------\"\n",
    "# Configure ssh\n"
   ],
   "outputs": [],
   "metadata": {}
  },
  {
   "source": [
    "---\n",
    "---\n",
    "# Tricks Colletions (Other 'strange' methods)\n"
   ],
   "cell_type": "markdown",
   "metadata": {}
  },
  {
   "source": [
    "---\n",
    "# Time and Date"
   ],
   "cell_type": "markdown",
   "metadata": {}
  },
  {
   "cell_type": "code",
   "execution_count": null,
   "metadata": {},
   "outputs": [],
   "source": [
    "# Show the date\n",
    "date\n",
    "\n",
    "# The date in calendar\n",
    "cal\n"
   ]
  },
  {
   "source": [
    "---\n",
    "# Others\n"
   ],
   "cell_type": "markdown",
   "metadata": {}
  },
  {
   "cell_type": "code",
   "execution_count": null,
   "metadata": {},
   "outputs": [],
   "source": [
    "# Check if the X11 is activated by using an animation\n",
    "xeyes"
   ]
  },
  {
   "cell_type": "code",
   "execution_count": null,
   "metadata": {},
   "outputs": [],
   "source": [
    "# The command to show the user usage log\n",
    "who\n",
    "# The command to call the env var $USER which store the info of user\n",
    "echo $USER "
   ]
  },
  {
   "source": [
    "---\n",
    "---\n",
    "# Key Directorys of Linux System\n",
    "\n",
    "**Ref**: TLCL Table 3-4: Directories Found on Linux Systems\n",
    "\n",
    "**Shell Functions**\n",
    "\n",
    "1. /etc/profile.d contain most of important shell scripts\n",
    "\n",
    "**Common and Core**\n",
    "\n",
    "1. Root Directory: /\n",
    "2. Root user's home directory: /root\n",
    "3. Binary for the system to boot and run: /bin\n",
    "4. Shared library files for core system: /lib\n",
    "5. Boot: /boot\n",
    "   1. Kernel: /boot/vmlinuz\n",
    "   2. Boot loader: /boot/grub/grub.conf\n",
    "6. Device Nodes: /dev\n",
    "7. Configuration Files and Device Starting Scripts: /etc\n",
    "8. System Recovery: /lost+found\n",
    "9. The <u>mount points</u> for <u>removable media</u> such as USB drives, CD-ROMs, etc. that are mounted automatically at insertion: /media\n",
    "10. The same as /media: /mnt\n",
    "11. \"Optional\" Software but needed to be installed in the system: /opt\n",
    "12. Virtual file system used to supervise the real file sytstem by the Linux kernel: /proc\n",
    "13. Virtual file system binaries: /sbin\n",
    "14. Storage of temporary, transient files created by various programs: /tmp\n",
    "15. The /var directory tree is where data that is likely to change is stored: /var\n",
    "16. System activity log files: /var/log\n",
    "\n",
    "**User**\n",
    "\n",
    "1.  It contains all the programs and support files used by regular users: /usr\n",
    "2.  Home Directory for Normal User:/home\n",
    "3.  Executable programs installed by the Linux distribution: /usr/bin\n",
    "4.  The shared libraries for the programs in /usr/bin: /usr/lib\n",
    "5.  Programs that are not included with the distribution but are intended for systemwide use are installed: /usr/local\n",
    "6.  More system administration programs: /usr/sbin\n",
    "7.  Contains all the shared data used by programs in /usr/bin: /usr/share \n",
    "8.  Documents for each packages: /usr/share/doc\n",
    "\n",
    "\n",
    "\n",
    "\n",
    "\n"
   ],
   "cell_type": "markdown",
   "metadata": {}
  }
 ],
 "metadata": {
  "interpreter": {
   "hash": "817d0a3841ebdd2a1cc36d840618b60456b5940c254da1e77a1b0a18f63766d5"
  },
  "kernelspec": {
   "name": "bash",
   "display_name": "Bash",
   "language": "bash"
  },
  "language_info": {
   "name": "bash",
   "codemirror_mode": "shell",
   "mimetype": "text/x-sh",
   "file_extension": ".sh",
   "version": "3.8.5"
  }
 },
 "nbformat": 4,
 "nbformat_minor": 1
}