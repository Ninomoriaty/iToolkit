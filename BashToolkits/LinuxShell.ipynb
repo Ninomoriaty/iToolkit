{
 "cells": [
  {
   "cell_type": "markdown",
   "metadata": {
    "collapsed": true,
    "pycharm": {
     "name": "#%% md\n"
    }
   },
   "source": [
    "Guideline Level\n",
    "\n",
    "<center><p style=\"font-size:50px; font-weight:bold\">\n",
    "Qiskit Textbook\n",
    "</p></center>\n",
    "\n",
    "Basic Quantum Information,"
   ]
  },
  {
   "cell_type": "markdown",
   "source": [
    "# References\n",
    "- Qiskit Textbook: https://qiskit.org/textbook/preface.html\n",
    "\n"
   ],
   "metadata": {
    "collapsed": false,
    "pycharm": {
     "name": "#%% md\n"
    }
   }
  },
  {
   "cell_type": "markdown",
   "source": [
    "# Package for Qiskit"
   ],
   "metadata": {
    "collapsed": false
   }
  },
  {
   "cell_type": "code",
   "execution_count": 7,
   "outputs": [
    {
     "ename": "SyntaxError",
     "evalue": "invalid syntax (<ipython-input-7-ead4c6069573>, line 27)",
     "output_type": "error",
     "traceback": [
      "\u001B[0;36m  File \u001B[0;32m\"<ipython-input-7-ead4c6069573>\"\u001B[0;36m, line \u001B[0;32m27\u001B[0m\n\u001B[0;31m    cd ~\u001B[0m\n\u001B[0m       ^\u001B[0m\n\u001B[0;31mSyntaxError\u001B[0m\u001B[0;31m:\u001B[0m invalid syntax\n"
     ]
    }
   ],
   "source": [
    "# Packages and modules\n",
    "import re\n",
    "import os\n",
    "import shutil\n",
    "import subprocess\n",
    "import sys\n",
    "\n",
    "## String\n",
    "import string\n",
    "\n",
    "## Scientific Calculation\n",
    "import numpy as np  # Algebra\n",
    "import matplotlib.pylab as plt  # Visualisation\n",
    "import pandas  # Algebra\n",
    "import scipy  # Scientific calculation\n",
    "import Bio  # BioPython Bioinformatics\n",
    "import networkx  # Graph theory\n",
    "import random  # Random number\n",
    "\n",
    "## Quantum Computing Package in Python\n",
    "import qiskit  # The principal quantum computing package for Python\n",
    "import qiskit_textbook  # Some widgets for the textbook learning\n",
    "import math"
   ],
   "metadata": {
    "collapsed": false,
    "pycharm": {
     "name": "#%%\n"
    }
   }
  },
  {
   "cell_type": "markdown",
   "source": [],
   "metadata": {
    "collapsed": false,
    "pycharm": {
     "name": "#%% md\n"
    }
   }
  },
  {
   "cell_type": "code",
   "execution_count": 9,
   "outputs": [
    {
     "name": "stdout",
     "output_type": "stream",
     "text": [
      "0 QProject\n",
      "anaconda3\n",
      "assembly-stats\n",
      "beast\n",
      "clion\n",
      "Desktop\n",
      "Documents\n",
      "Downloads\n",
      "edprint.ppd\n",
      "Eduroam_WiFi Setting\n",
      "FastQC\n",
      "go\n",
      "goland\n",
      "idea\n",
      "illumina\n",
      "iToolkit\n",
      "juliapro\n",
      "Music\n",
      "Nextflow\n",
      "phpstorm\n",
      "Pictures\n",
      "Public\n",
      "pycharm\n",
      "PyMOL\n",
      "R\n",
      "scaffold Toolkits\n",
      "snap\n",
      "sratoolkit\n",
      "standard-RAxML-master\n",
      "Templates\n",
      "Videos\n",
      "webstorm\n",
      "wizdata\n",
      "wiznote\n",
      "Zotero\n",
      "Zotero_linux-x86_64\n",
      "zotero plugins\n"
     ]
    }
   ],
   "source": [
    "%%bash\n"
   ],
   "metadata": {
    "collapsed": false,
    "pycharm": {
     "name": "#%%\n"
    }
   }
  },
  {
   "cell_type": "markdown",
   "source": [
    "# Cc/Symbol-Quantum Computing\n",
    "- **Vector** $|v\\rangle$: elements of a set known as a vector space\n",
    "- **State vectors** $|v\\rangle$: vectors that point to a specific point in space(e.g. Bloch sphere) that <u>corresponds to a particular quantum state </u>\n",
    "- **Vector space** $V$:\n",
    "    - **Hilbert Spaces**: the state space in which all quantum state vectors\n",
    "        - Cpn\n",
    "        - - **Inner Product** $\\langle a | b \\rangle$: $\\langle a | = | a \\rangle^\\dagger$\n",
    "- **Determinant** $det \\space A$:\n",
    "- **Matrix** $M$:\n",
    "    - e.g.\n",
    "    - **Hermitian matrix** : a matrix that is equal to its conjugate transpose (denoted with a $\\dagger$ symbol)\n",
    "        $$\\sigma_y \\ = \\ \\begin{pmatrix} 0 & -i \\\\ i & 0 \\end{pmatrix} \\ \\Rightarrow \\ \\sigma_y^{\\dagger} \\ = \\ \\begin{pmatrix} 0 & -(i) \\\\ -(-i) & 0 \\end{pmatrix} \\ = \\ \\begin{pmatrix} 0 & -i \\\\ i & 0 \\end{pmatrix} \\ = \\ \\sigma_y$$\n",
    "    - **Unitary matrix** $M_u$:  a matrix is equal to the conjugate transpose of the original matrix (such as the inverse matrix) **Hilbert spaces**\n",
    "        $$M M^{\\dagger} = M_u$$\n",
    "- **Field** $F$:\n",
    "- **Quantum gates** : Quantum gate is used to manipulate qubits by expressing as a matrix that can be applied to state vectors, thus changing the quantum state\n",
    "    - Cat\n",
    "        - logic gates\n",
    "    - e.g.\n",
    "        - **Pauli-X gate**: NOT logic gate(x)\n",
    "        - **XOR gate**: XOR logic gate or controlled-NOT gate(CNOT, cx)\n",
    "        - **Toffoli**: AND logic gate and Boolean logic gates\n",
    "\n",
    "    $$\\sigma_x \\ = \\ \\begin{pmatrix} 0 & 1 \\\\ 1 & 0 \\end{pmatrix}$$\n",
    "    $$|0\\rangle \\ = \\ \\begin{pmatrix} 1 \\\\ 0 \\end{pmatrix} \\ \\ \\ \\ \\ \\ \\ |1\\rangle \\ = \\ \\begin{pmatrix} 0 \\\\ 1 \\end{pmatrix}$$\n",
    "\n",
    "    $$\\sigma_x |0\\rangle \\ = \\ \\begin{pmatrix} 0 & 1 \\\\ 1 & 0 \\end{pmatrix} \\begin{pmatrix} 1 \\\\ 0 \\end{pmatrix} \\ = \\ \\begin{pmatrix} (0)(1) \\ + \\ (1)(0) \\\\ (1)(1) \\ + \\ (0)(0) \\end{pmatrix} \\ = \\ \\begin{pmatrix} 0 \\\\ 1 \\end{pmatrix} \\ = \\ |1\\rangle$$\n",
    "    $$\\sigma_x |1\\rangle \\ = \\ \\begin{pmatrix} 0 & 1 \\\\ 1 & 0 \\end{pmatrix} \\begin{pmatrix} 0 \\\\ 1 \\end{pmatrix} \\ = \\ \\begin{pmatrix} (0)(0) \\ + \\ (1)(1) \\\\ (1)(0) \\ + \\ (0)(1) \\end{pmatrix} \\ = \\ \\begin{pmatrix} 1 \\\\ 0 \\end{pmatrix} \\ = \\ |0\\rangle$$\n",
    "\n",
    "- **Linear combination**:\n",
    "- **Linearly dependent**:\n",
    "- **Linearly independent**:\n",
    "    - **Linearly independent spanning set**:\n",
    "- **Eigenstates**:\n",
    "- **Eigenvector**:\n",
    "- **Eigenvalues**:\n",
    "- **Computational basis**:\n",
    "   - X-basis: $| + \\rangle$ and $| - \\rangle$ are the eigenvectors for X-gate/matrix\n",
    "      - $$ |+\\rangle = \\tfrac{1}{\\sqrt{2}}(|0\\rangle + |1\\rangle) = \\tfrac{1}{\\sqrt{2}}\\begin{bmatrix} 1 \\\\ 1 \\end{bmatrix}$$\n",
    "      - $$ |-\\rangle = \\tfrac{1}{\\sqrt{2}}(|0\\rangle - |1\\rangle) = \\tfrac{1}{\\sqrt{2}}\\begin{bmatrix} 1 \\\\ -1 \\end{bmatrix} $$\n",
    "   - Y-basis: $$ |\\circlearrowleft\\rangle, \\quad |\\circlearrowright\\rangle$$\n",
    "      - one of Y-basis is $\\frac{1}{\\sqrt{2}}\\begin{bmatrix} i \\\\ -1 \\end{bmatrix}$ and $\\frac{1}{\\sqrt{2}}\\begin{bmatrix} i \\\\ 1 \\end{bmatrix}$\n",
    "   - Z-basis: $| 0 \\rangle$ and $| 1 \\rangle$ are the eigenvectors for Z-gate/matrix\n",
    "      - $| 0 \\rangle = \\begin{bmatrix} 1 \\\\ 0 \\end{bmatrix}$\n",
    "      - $| 1 \\rangle = \\begin{bmatrix} 0 \\\\ 1 \\end{bmatrix}$\n",
    "- **Orthonormality**:\n",
    "\n",
    "\n",
    "\n",
    "# Pcp\n",
    "Conditions for vector space:\n",
    "- For $n \\ \\in \\ F$ and $|v\\rangle \\in V$, $n|v\\rangle \\in V$\n",
    "- For $|v_1\\rangle, |v_2\\rangle \\in V$ and $|v_1\\rangle$\n",
    "-\n",
    "\n",
    "The physical significance of this is that the length of a vector in a particular direction is representative of the \"probability amplitude\" of the quantum system with regards to measurement in that particular state. \n",
    "\n",
    "\n",
    "\n"
   ],
   "metadata": {
    "collapsed": false,
    "pycharm": {
     "name": "#%% md\n"
    }
   }
  },
  {
   "cell_type": "markdown",
   "source": [
    "# Basic Binary Knowledge\n",
    "**Ref**\n",
    "- ASCII, decimal, hexadecimal, octal, and binary conversion table: https://www.ibm.com/docs/en/aix/7.2?topic=adapters-ascii-decimal-hexadecimal-octal-binary-conversion-table\n"
   ],
   "metadata": {
    "collapsed": false,
    "pycharm": {
     "name": "#%% md\n"
    }
   }
  },
  {
   "cell_type": "code",
   "execution_count": 9,
   "outputs": [
    {
     "ename": "AttributeError",
     "evalue": "module 'qiskit_textbook' has no attribute 'widgets'",
     "output_type": "error",
     "traceback": [
      "\u001B[0;31m---------------------------------------------------------------------------\u001B[0m",
      "\u001B[0;31mAttributeError\u001B[0m                            Traceback (most recent call last)",
      "\u001B[0;32m<ipython-input-9-3dd5f67f4eaf>\u001B[0m in \u001B[0;36m<module>\u001B[0;34m\u001B[0m\n\u001B[1;32m      1\u001B[0m \u001B[0;31m# A visualised widgets to show the relationship between binary strings and decimal\u001B[0m\u001B[0;34m\u001B[0m\u001B[0;34m\u001B[0m\u001B[0;34m\u001B[0m\u001B[0m\n\u001B[0;32m----> 2\u001B[0;31m \u001B[0mqiskit_textbook\u001B[0m\u001B[0;34m.\u001B[0m\u001B[0mwidgets\u001B[0m\u001B[0;34m.\u001B[0m\u001B[0mbinary_widget\u001B[0m\u001B[0;34m(\u001B[0m\u001B[0mnbits\u001B[0m\u001B[0;34m=\u001B[0m\u001B[0;36m5\u001B[0m\u001B[0;34m)\u001B[0m\u001B[0;34m\u001B[0m\u001B[0;34m\u001B[0m\u001B[0m\n\u001B[0m\u001B[1;32m      3\u001B[0m \u001B[0;34m\u001B[0m\u001B[0m\n\u001B[1;32m      4\u001B[0m \u001B[0;34m\u001B[0m\u001B[0m\n\u001B[1;32m      5\u001B[0m \u001B[0;34m\u001B[0m\u001B[0m\n",
      "\u001B[0;31mAttributeError\u001B[0m: module 'qiskit_textbook' has no attribute 'widgets'"
     ]
    }
   ],
   "source": [
    "# A visualised widgets to show the relationship between binary strings and decimal\n",
    "qiskit_textbook.widgets.binary_widget(nbits=5)\n",
    "\n"
   ],
   "metadata": {
    "collapsed": false,
    "pycharm": {
     "name": "#%%\n"
    }
   }
  },
  {
   "cell_type": "markdown",
   "source": [
    "# Quantum Circuit\n",
    "## Cc\n",
    "- Circuit Diagram\n",
    "    - Cpn: inputs, gates,manipulation, outputs\n",
    "- Quantum circuit:\n",
    "- Quantum stimulator: Standard computer calculating what an ideal quantum computer would do\n",
    "    - Ab: Simulations are only possible for small numbers of qubits (~30 qubits)\n",
    "    - Pcp: To run on a real device you simply need to replace Aer.get_backend('qasm_simulator') with the backend object of the device you want to use.\n",
    "- Half adder:\n",
    "    0+0 = 00 (in decimal, this is 0+0=0)\n",
    "    0+1 = 01 (in decimal, this is 0+1=1)\n",
    "    1+0 = 01 (in decimal, this is 1+0=1)\n",
    "    1+1 = 10 (in decimal, this is 1+1=2)\n",
    "-\n"
   ],
   "metadata": {
    "collapsed": false,
    "pycharm": {
     "name": "#%% md\n"
    }
   }
  },
  {
   "cell_type": "code",
   "execution_count": 4,
   "outputs": [
    {
     "data": {
      "text/plain": "<Figure size 568.197x565.88 with 1 Axes>",
      "image/png": "[encoded data removed]"
     },
     "execution_count": 4,
     "metadata": {},
     "output_type": "execute_result"
    }
   ],
   "source": [
    "# Create a quantum circuit\n",
    "n = 8\n",
    "n_qubits = n\n",
    "n_outputs = n\n",
    "qc_output = qiskit.QuantumCircuit(n_qubits, n_outputs)\n",
    "\n",
    "# Adds a Measurement to our circuit qc that tells qubit j to write an output to bit j\n",
    "for j in range(0, n):\n",
    "   qc_output.measure(j,j)\n",
    "\n",
    "# Show the circuit diagram of the quantum circuit\n",
    "qc_output.draw(output=\"mpl\")"
   ],
   "metadata": {
    "collapsed": false,
    "pycharm": {
     "name": "#%%\n"
    }
   }
  },
  {
   "cell_type": "code",
   "execution_count": 15,
   "outputs": [
    {
     "data": {
      "text/plain": "<Figure size 504x360 with 1 Axes>",
      "image/png": "[encoded data removed]"
     },
     "execution_count": 15,
     "metadata": {},
     "output_type": "execute_result"
    }
   ],
   "source": [
    "# specify the quantum simulator we'll use\n",
    "## Tips: This simulator like a real quantum computer does not allow peeking at the quantum states before measurement\n",
    "sim = qiskit.Aer.get_backend('qasm_simulator')\n",
    "# (TODO: Try to use the QuEST stimulator to stimulate the quantum circuits)\n",
    "#sim = qiskit.Aer.get_backend('quest')\n",
    "\n",
    "# this turns the circuit into an object our backend can run\n",
    "qobj = qiskit.assemble(qc_output)\n",
    "# we run the experiment and get the result from that experiment\n",
    "result = sim.run(qobj).result()\n",
    "# from the results, we get a dictionary containing the number of times\n",
    "\n",
    "# (counts) each result appeared\n",
    "counts = result.get_counts()\n",
    "# and display it on a histogram\n",
    "qiskit.visualization.plot_histogram(counts)"
   ],
   "metadata": {
    "collapsed": false,
    "pycharm": {
     "name": "#%%\n"
    }
   }
  },
  {
   "cell_type": "code",
   "execution_count": 5,
   "outputs": [
    {
     "data": {
      "text/plain": "<Figure size 146.797x505.68 with 1 Axes>",
      "image/png": "[encoded data removed]"
     },
     "execution_count": 5,
     "metadata": {},
     "output_type": "execute_result"
    }
   ],
   "source": [
    "# Add the results from different quantum circuits\n",
    "## Create another quantum circuit\n",
    "qc_encode = qiskit.QuantumCircuit(n)\n",
    "## Settle the input qubit position (Pcp: First API then operation.)\n",
    "### Tips: The last inputs + 1 will be the total position for inputs\n",
    "### Tips: The last qubit will be inputed in the non-numbered last position(final + 1)\n",
    "qc_encode.x(1)\n",
    "qc_encode.x(3)\n",
    "qc_encode.x(5)\n",
    "qc_encode.x(0)\n",
    "\n",
    "## Show the quantum circuit with proper inputs\n",
    "qc_encode.draw(output=\"mpl\")"
   ],
   "metadata": {
    "collapsed": false,
    "pycharm": {
     "name": "#%%\n"
    }
   }
  },
  {
   "cell_type": "code",
   "execution_count": 6,
   "outputs": [
    {
     "name": "stderr",
     "output_type": "stream",
     "text": [
      "<ipython-input-6-cdf29cf379a1>:2: DeprecationWarning: The QuantumCircuit.__add__() method is being deprecated.Use the compose() method which is more flexible w.r.t circuit register compatibility.\n",
      "  qc = qc_encode + qc_output\n",
      "/home/ninomoriaty/anaconda3/envs/qproject/lib/python3.9/site-packages/qiskit/circuit/quantumcircuit.py:869: DeprecationWarning: The QuantumCircuit.combine() method is being deprecated. Use the compose() method which is more flexible w.r.t circuit register compatibility.\n",
      "  return self.combine(rhs)\n"
     ]
    },
    {
     "data": {
      "text/plain": "<Figure size 568.197x565.88 with 1 Axes>",
      "image/png": "[encoded data removed]"
     },
     "execution_count": 6,
     "metadata": {},
     "output_type": "execute_result"
    }
   ],
   "source": [
    "## Add the quantum circuits\n",
    "qc = qc_encode + qc_output\n",
    "qc.draw(output=\"mpl\")"
   ],
   "metadata": {
    "collapsed": false,
    "pycharm": {
     "name": "#%%\n"
    }
   }
  },
  {
   "cell_type": "code",
   "execution_count": 65,
   "outputs": [
    {
     "data": {
      "text/plain": "<Figure size 504x360 with 1 Axes>",
      "image/png": "[encoded data removed]"
     },
     "execution_count": 65,
     "metadata": {},
     "output_type": "execute_result"
    }
   ],
   "source": [
    "# this turns the circuit into an object our backend can run\n",
    "qobjPlus = qiskit.assemble(qc)\n",
    "# The get_counts method is used to count the results from circuits\n",
    "counts = sim.run(qobjPlus).result().get_counts()\n",
    "qiskit.visualization.plot_histogram(counts)"
   ],
   "metadata": {
    "collapsed": false,
    "pycharm": {
     "name": "#%%\n"
    }
   }
  },
  {
   "cell_type": "code",
   "execution_count": 12,
   "outputs": [
    {
     "data": {
      "text/plain": "<Figure size 146.652x144.48 with 1 Axes>",
      "image/png": "[encoded data removed]"
     },
     "execution_count": 12,
     "metadata": {},
     "output_type": "execute_result"
    }
   ],
   "source": [
    "# Build the half adder\n",
    "## Tips: cx is applied to a pair of qubits. One acts as the control qubit (this is the one with the little dot). The other acts as the target qubit (with the big circle).\n",
    "qc_cnot = qiskit.QuantumCircuit(2)\n",
    "qc_cnot.cx(0, 1)\n",
    "qc_cnot.draw(output=\"mpl\")\n"
   ],
   "metadata": {
    "collapsed": false,
    "pycharm": {
     "name": "#%%\n"
    }
   }
  },
  {
   "cell_type": "code",
   "execution_count": 21,
   "outputs": [
    {
     "data": {
      "text/plain": "<Figure size 327.252x204.68 with 1 Axes>",
      "image/png": "[encoded data removed]"
     },
     "execution_count": 21,
     "metadata": {},
     "output_type": "execute_result"
    }
   ],
   "source": [
    "qc = qiskit.QuantumCircuit(2,2)\n",
    "qc.x(1)\n",
    "qc.x(0)\n",
    "qc.cx(1,0)\n",
    "qc.measure(0,0)\n",
    "qc.measure(1,1)\n",
    "qc.draw(output=\"mpl\")"
   ],
   "metadata": {
    "collapsed": false,
    "pycharm": {
     "name": "#%%\n"
    }
   }
  },
  {
   "cell_type": "code",
   "execution_count": 22,
   "outputs": [
    {
     "data": {
      "text/plain": "<Figure size 504x360 with 1 Axes>",
      "image/png": "[encoded data removed]"
     },
     "execution_count": 22,
     "metadata": {},
     "output_type": "execute_result"
    }
   ],
   "source": [
    "qobj = qiskit.assemble(qc)\n",
    "counts = sim.run(qobj).result().get_counts()\n",
    "qiskit.visualization.plot_histogram(counts)"
   ],
   "metadata": {
    "collapsed": false,
    "pycharm": {
     "name": "#%%\n"
    }
   }
  },
  {
   "cell_type": "code",
   "execution_count": 38,
   "outputs": [
    {
     "data": {
      "text/plain": "<Figure size 447.797x325.08 with 1 Axes>",
      "image/png": "[encoded data removed]"
     },
     "execution_count": 38,
     "metadata": {},
     "output_type": "execute_result"
    }
   ],
   "source": [
    "qc_ha = qiskit.QuantumCircuit(4,2)\n",
    "# encode inputs in qubits 0 and 1\n",
    "qc_ha.x(0) # For a=0, remove this line. For a=1, leave it.\n",
    "qc_ha.x(1) # For b=0, remove this line. For b=1, leave it.\n",
    "qc_ha.barrier()\n",
    "# use cnots to write the XOR of the inputs on qubit 2\n",
    "qc_ha.cx(0,2)\n",
    "qc_ha.cx(1,2)\n",
    "qc_ha.barrier()\n",
    "# extract outputs\n",
    "qc_ha.measure(2,0) # extract XOR value\n",
    "qc_ha.measure(3,1)\n",
    "\n",
    "qc_ha.draw(output=\"mpl\")"
   ],
   "metadata": {
    "collapsed": false,
    "pycharm": {
     "name": "#%%\n"
    }
   }
  },
  {
   "cell_type": "code",
   "execution_count": 48,
   "outputs": [
    {
     "data": {
      "text/plain": "<Figure size 628.397x325.08 with 1 Axes>",
      "image/png": "[encoded data removed]"
     },
     "execution_count": 48,
     "metadata": {},
     "output_type": "execute_result"
    }
   ],
   "source": [
    "# Construct the half adder with count test\n",
    "# Build the quantum circuit in a QuantumCircuit object\n",
    "qc_half_adder = qiskit.QuantumCircuit(4, 2)\n",
    "## Input\n",
    "qc_half_adder.x(0)\n",
    "qc_half_adder.x(0)\n",
    "qc_half_adder.x(1)\n",
    "qc_half_adder.barrier()\n",
    "## Logic gates\n",
    "qc_half_adder.cx(0, 2)\n",
    "qc_half_adder.cx(1, 2)\n",
    "qc_half_adder.ccx(0, 1, 3)\n",
    "qc_half_adder.barrier()\n",
    "## Measurement\n",
    "qc_half_adder.measure(2, 0)\n",
    "qc_half_adder.measure(3, 1)\n",
    "\n",
    "# Visualise the quantum circuit\n",
    "qc_half_adder.draw(output=\"mpl\")"
   ],
   "metadata": {
    "collapsed": false,
    "pycharm": {
     "name": "#%%\n"
    }
   }
  },
  {
   "cell_type": "code",
   "execution_count": 47,
   "outputs": [
    {
     "name": "stdout",
     "output_type": "stream",
     "text": [
      "{'10': 1024}\n"
     ]
    },
    {
     "data": {
      "text/plain": "<Figure size 504x360 with 1 Axes>",
      "image/png": "[encoded data removed]"
     },
     "execution_count": 47,
     "metadata": {},
     "output_type": "execute_result"
    }
   ],
   "source": [
    "# Test if the qc_half_adder is workable\n",
    "# specify the quantum simulator\n",
    "simulator = qiskit.Aer.get_backend('qasm_simulator')\n",
    "\n",
    "# Assemble the circuit into an backend object\n",
    "qobj = qiskit.assemble(qc_half_adder)\n",
    "\n",
    "# Use the simulator to run the backend object and return the results\n",
    "result = simulator.run(qobj).result()\n",
    "# Get the result and count the results\n",
    "counts = result.get_counts()\n",
    "# Print the results in dictionary\n",
    "print(counts)\n",
    "\n",
    "# display the result in a probability distribution\n",
    "qiskit.visualization.plot_histogram(counts)"
   ],
   "metadata": {
    "collapsed": false,
    "pycharm": {
     "name": "#%%\n"
    }
   }
  },
  {
   "cell_type": "markdown",
   "source": [
    "# Qubit States\n",
    "## Cc\n",
    "- Statevector: Each element in the statevector contains the probability distribution\n",
    "   - $$ |q\\rangle = \\alpha|0\\rangle + \\beta|1\\rangle; \\space \\alpha, \\beta \\in \\mathbb{C}$$\n",
    "   - $$ |q\\rangle = \\cos{\\tfrac{\\theta}{2}}|0\\rangle + e^{i\\phi}\\sin{\\tfrac{\\theta}{2}}|1\\rangle; \\space \\theta, \\phi \\in \\mathbb{R}$$\n",
    "\n",
    "- Superposition: expressed by the linear combinations\n",
    "- Statevector simulator: svsim = Aer.get_backend('statevector_simulator')\n",
    "- Global phase: States that differ only by a global phase are physically indistinguishable.\n",
    "   - $$ |\\langle x| ( \\gamma |a\\rangle) |^2 = | \\gamma \\langle x|a\\rangle|^2 = |\\langle x|a\\rangle|^2 $$\n",
    "- Relative phase:\n",
    "- Observer Effect:\n",
    "   - Measurements are therefore only used when we need to extract an output in the end.\n",
    "- Bloch Sphere\n",
    "\n",
    "## Pcp-Measurement\n",
    "- Probability of measuring a state $|\\psi\\rangle$ in the state $|x\\rangle$\n",
    "   - $$p(|x\\rangle) = | \\langle x| \\psi \\rangle|^2 $$\n",
    "-\n",
    "\n",
    "## Tips:\n",
    "Python uses j to represent i in complex numbers.\n"
   ],
   "metadata": {
    "collapsed": false,
    "pycharm": {
     "name": "#%% md\n"
    }
   }
  },
  {
   "cell_type": "code",
   "execution_count": 105,
   "outputs": [
    {
     "data": {
      "text/plain": "<Figure size 193.726x84.28 with 1 Axes>",
      "image/png": "[encoded data removed]"
     },
     "execution_count": 105,
     "metadata": {},
     "output_type": "execute_result"
    }
   ],
   "source": [
    "# Create a quantum circuit with one qubit\n",
    "qc = qiskit.QuantumCircuit(1)\n",
    "\n",
    "# Define normalised initial_state\n",
    "#initial_state = [0, 1]  # |1>\n",
    "#initial_state = [1, 0]  # |0>\n",
    "#initial_state = [1/math.sqrt(3), math.sqrt(2)/math.sqrt(3)]\n",
    "initial_state = [1/math.sqrt(3), math.sqrt(2)*1j/math.sqrt(3)]\n",
    "\n",
    "# Apply initialisation operation to the xth qubit\n",
    "qc.initialize(params=initial_state, qubits=0)\n",
    "#qc.initialize(params=ini_state, qubits=1)\n",
    "\n",
    "# Auto setting the measure for different combinations of inputs\n",
    "#qc.measure_all()  # Tips: Need to be careful for the observer effect\n",
    "qc.draw(output=\"mpl\")"
   ],
   "metadata": {
    "collapsed": false,
    "pycharm": {
     "name": "#%%\n"
    }
   }
  },
  {
   "cell_type": "code",
   "execution_count": 12,
   "outputs": [
    {
     "name": "stdout",
     "output_type": "stream",
     "text": [
      "[0.70710678+0.j         0.        +0.70710678j]\n"
     ]
    },
    {
     "data": {
      "text/plain": "<Figure size 504x360 with 1 Axes>",
      "image/png": "[encoded data removed]"
     },
     "execution_count": 12,
     "metadata": {},
     "output_type": "execute_result"
    }
   ],
   "source": [
    "# Tell Qiskit how to simulate our circuit\n",
    "## Tips: This simulator allow peeking at the quantum states before measurement\n",
    "svsim = qiskit.Aer.get_backend('statevector_simulator')\n",
    "\n",
    "# Run the simulator and find the result of the quantum circuit\n",
    "qobj = qiskit.assemble(qc)\n",
    "result = svsim.run(qobj).result()\n",
    "out_state = result.get_statevector()\n",
    "counts = result.get_counts()\n",
    "# Display the output state vector\n",
    "print(out_state)\n",
    "\n",
    "# View the state vector superposition\n",
    "qiskit.visualization.plot_histogram(counts)\n"
   ],
   "metadata": {
    "collapsed": false,
    "pycharm": {
     "name": "#%%\n"
    }
   }
  },
  {
   "cell_type": "code",
   "execution_count": 13,
   "outputs": [
    {
     "name": "stdout",
     "output_type": "stream",
     "text": [
      "[0.70710678+0.j         0.        +0.70710678j]\n"
     ]
    },
    {
     "data": {
      "text/plain": "<Figure size 504x360 with 1 Axes>",
      "image/png": "[encoded data removed]"
     },
     "execution_count": 13,
     "metadata": {},
     "output_type": "execute_result"
    }
   ],
   "source": [
    "initial_state = [1/math.sqrt(2), 1j/math.sqrt(2)]\n",
    "qc = qiskit.QuantumCircuit(1) # Must redefine qc\n",
    "qc.initialize(initial_state, 0) # Initialise the 0th qubit in the state `initial_state`\n",
    "qobj = qiskit.assemble(qc)\n",
    "state = svsim.run(qobj).result().get_statevector() # Execute the circuit\n",
    "print(state)\n",
    "qobj = qiskit.assemble(qc)\n",
    "results = svsim.run(qobj).result().get_counts()\n",
    "qiskit.visualization.plot_histogram(results)# Print the result"
   ],
   "metadata": {
    "collapsed": false,
    "pycharm": {
     "name": "#%%\n"
    }
   }
  },
  {
   "cell_type": "code",
   "execution_count": 8,
   "outputs": [
    {
     "ename": "AttributeError",
     "evalue": "module 'qiskit_textbook' has no attribute 'widgets'",
     "output_type": "error",
     "traceback": [
      "\u001B[0;31m---------------------------------------------------------------------------\u001B[0m",
      "\u001B[0;31mAttributeError\u001B[0m                            Traceback (most recent call last)",
      "\u001B[0;32m<ipython-input-8-022651754fb6>\u001B[0m in \u001B[0;36m<module>\u001B[0;34m\u001B[0m\n\u001B[1;32m      1\u001B[0m \u001B[0;31m#qiskit.visualization.plot_bloch_vector(1, 0)\u001B[0m\u001B[0;34m\u001B[0m\u001B[0;34m\u001B[0m\u001B[0;34m\u001B[0m\u001B[0m\n\u001B[0;32m----> 2\u001B[0;31m \u001B[0mqiskit_textbook\u001B[0m\u001B[0;34m.\u001B[0m\u001B[0mwidgets\u001B[0m\u001B[0;34m.\u001B[0m\u001B[0mplot_bloch_sphere_spherical\u001B[0m\u001B[0;34m(\u001B[0m\u001B[0;34m[\u001B[0m\u001B[0mmath\u001B[0m\u001B[0;34m.\u001B[0m\u001B[0mpi\u001B[0m\u001B[0;34m/\u001B[0m\u001B[0;36m2\u001B[0m\u001B[0;34m,\u001B[0m\u001B[0;36m0\u001B[0m\u001B[0;34m,\u001B[0m\u001B[0;36m1\u001B[0m\u001B[0;34m]\u001B[0m\u001B[0;34m)\u001B[0m\u001B[0;34m\u001B[0m\u001B[0;34m\u001B[0m\u001B[0m\n\u001B[0m",
      "\u001B[0;31mAttributeError\u001B[0m: module 'qiskit_textbook' has no attribute 'widgets'"
     ]
    }
   ],
   "source": [
    "qiskit.visualization.plot_bloch_vector(1, 0)\n",
    "qiskit_textbook.widgets.plot_bloch_sphere_spherical([math.pi/2,0,1])\n",
    "qiskit_textbook.widgets.bloch_calc()"
   ],
   "metadata": {
    "collapsed": false,
    "pycharm": {
     "name": "#%%\n"
    }
   }
  },
  {
   "cell_type": "markdown",
   "source": [
    "# Pauli Gates (X-Gate, Y-Gate, Z-Gate)\n",
    "### Cc\n",
    "- **Pauli matrices**:\n",
    "   - $$ X = \\begin{bmatrix} 0 & 1 \\\\ 1 & 0 \\end{bmatrix} = |0\\rangle\\langle1| + |1\\rangle\\langle0| $$\n",
    "   - $$ Y = \\begin{bmatrix} 0 & -i \\\\ i & 0 \\end{bmatrix} \\quad\\quad\\quad\\quad Z = \\begin{bmatrix} 1 & 0 \\\\ 0 & -1 \\end{bmatrix} $$\n",
    "   - $$ Y = -i|0\\rangle\\langle1| + i|1\\rangle\\langle0| \\quad\\quad Z = |0\\rangle\\langle0| - |1\\rangle\\langle1| $$\n",
    "\n",
    "   - F:\n",
    "      - Switch the amplitudes of $| 0 \\rangle$ anmd $| 1 \\rangle$ (both directions are applicable.)\n",
    "\n",
    "- F: In Bloch sphere, rotate around the x/y/z-axis for $\\pi$\n",
    "- F: The Pauli gates could not change the qubit to any states other than $| 0 \\rangle$, $| 1 \\rangle$\n",
    "\n"
   ],
   "metadata": {
    "collapsed": false,
    "pycharm": {
     "name": "#%% md\n"
    }
   }
  },
  {
   "cell_type": "code",
   "execution_count": 18,
   "outputs": [
    {
     "name": "stderr",
     "output_type": "stream",
     "text": [
      "/home/ninomoriaty/anaconda3/envs/qproject/lib/python3.9/site-packages/qiskit/visualization/bloch.py:69: MatplotlibDeprecationWarning: \n",
      "The M attribute was deprecated in Matplotlib 3.4 and will be removed two minor releases later. Use self.axes.M instead.\n",
      "  x_s, y_s, _ = proj3d.proj_transform(xs3d, ys3d, zs3d, renderer.M)\n"
     ]
    },
    {
     "data": {
      "text/plain": "HBox(children=(Button(description='X', layout=Layout(height='3em', width='3em'), style=ButtonStyle()), Button(…",
      "application/vnd.jupyter.widget-view+json": {
       "version_major": 2,
       "version_minor": 0,
       "model_id": "b34ff6d7a90f46618befb559b2a8efc1"
      }
     },
     "metadata": {},
     "output_type": "display_data"
    },
    {
     "data": {
      "text/plain": "Image(value=b'\\x89PNG\\r\\n\\x1a\\n\\x00\\x00\\x00\\rIHDR\\x00\\x00\\x01 \\x00\\x00\\x01 \\x08\\x06\\x00\\x00\\x00\\x14\\x83\\xae\\x8…",
      "application/vnd.jupyter.widget-view+json": {
       "version_major": 2,
       "version_minor": 0,
       "model_id": "591cd4fb8c7341d8998cab7dbe9b8764"
      }
     },
     "metadata": {},
     "output_type": "display_data"
    },
    {
     "name": "stderr",
     "output_type": "stream",
     "text": [
      "/home/ninomoriaty/anaconda3/envs/qproject/lib/python3.9/site-packages/qiskit/visualization/bloch.py:69: MatplotlibDeprecationWarning: \n",
      "The M attribute was deprecated in Matplotlib 3.4 and will be removed two minor releases later. Use self.axes.M instead.\n",
      "  x_s, y_s, _ = proj3d.proj_transform(xs3d, ys3d, zs3d, renderer.M)\n",
      "/home/ninomoriaty/anaconda3/envs/qproject/lib/python3.9/site-packages/qiskit/visualization/bloch.py:69: MatplotlibDeprecationWarning: \n",
      "The M attribute was deprecated in Matplotlib 3.4 and will be removed two minor releases later. Use self.axes.M instead.\n",
      "  x_s, y_s, _ = proj3d.proj_transform(xs3d, ys3d, zs3d, renderer.M)\n",
      "/home/ninomoriaty/anaconda3/envs/qproject/lib/python3.9/site-packages/qiskit/visualization/bloch.py:69: MatplotlibDeprecationWarning: \n",
      "The M attribute was deprecated in Matplotlib 3.4 and will be removed two minor releases later. Use self.axes.M instead.\n",
      "  x_s, y_s, _ = proj3d.proj_transform(xs3d, ys3d, zs3d, renderer.M)\n",
      "/home/ninomoriaty/anaconda3/envs/qproject/lib/python3.9/site-packages/qiskit/visualization/bloch.py:69: MatplotlibDeprecationWarning: \n",
      "The M attribute was deprecated in Matplotlib 3.4 and will be removed two minor releases later. Use self.axes.M instead.\n",
      "  x_s, y_s, _ = proj3d.proj_transform(xs3d, ys3d, zs3d, renderer.M)\n",
      "/home/ninomoriaty/anaconda3/envs/qproject/lib/python3.9/site-packages/qiskit/visualization/bloch.py:69: MatplotlibDeprecationWarning: \n",
      "The M attribute was deprecated in Matplotlib 3.4 and will be removed two minor releases later. Use self.axes.M instead.\n",
      "  x_s, y_s, _ = proj3d.proj_transform(xs3d, ys3d, zs3d, renderer.M)\n",
      "/home/ninomoriaty/anaconda3/envs/qproject/lib/python3.9/site-packages/qiskit/visualization/bloch.py:69: MatplotlibDeprecationWarning: \n",
      "The M attribute was deprecated in Matplotlib 3.4 and will be removed two minor releases later. Use self.axes.M instead.\n",
      "  x_s, y_s, _ = proj3d.proj_transform(xs3d, ys3d, zs3d, renderer.M)\n",
      "/home/ninomoriaty/anaconda3/envs/qproject/lib/python3.9/site-packages/qiskit/visualization/bloch.py:69: MatplotlibDeprecationWarning: \n",
      "The M attribute was deprecated in Matplotlib 3.4 and will be removed two minor releases later. Use self.axes.M instead.\n",
      "  x_s, y_s, _ = proj3d.proj_transform(xs3d, ys3d, zs3d, renderer.M)\n",
      "/home/ninomoriaty/anaconda3/envs/qproject/lib/python3.9/site-packages/qiskit/visualization/bloch.py:69: MatplotlibDeprecationWarning: \n",
      "The M attribute was deprecated in Matplotlib 3.4 and will be removed two minor releases later. Use self.axes.M instead.\n",
      "  x_s, y_s, _ = proj3d.proj_transform(xs3d, ys3d, zs3d, renderer.M)\n"
     ]
    }
   ],
   "source": [
    "# A demo to show the Pauli Gates\n",
    "qiskit_textbook.widgets.gate_demo(gates='pauli')"
   ],
   "metadata": {
    "collapsed": false,
    "pycharm": {
     "name": "#%%\n"
    }
   }
  },
  {
   "cell_type": "code",
   "execution_count": 38,
   "outputs": [
    {
     "data": {
      "text/plain": "<Figure size 193.726x84.28 with 1 Axes>",
      "image/png": "[encoded data removed]"
     },
     "execution_count": 38,
     "metadata": {},
     "output_type": "execute_result"
    }
   ],
   "source": [
    "# Build Pauli-Gates and compare the difference between \\0> and |1>\n",
    "qc = qiskit.QuantumCircuit(1)\n",
    "# Now you know that this is the X-gate and why the method is called x(qubit_position)\n",
    "qc.x(0)\n",
    "#qc.x(0)  # The X-gate can be applied for twice and you and find the switch methods\n",
    "#qc.y(0)  # The Y-gate\n",
    "qc.z(0)  # The Z-gate\n",
    "qc.draw(output=\"mpl\")"
   ],
   "metadata": {
    "collapsed": false,
    "pycharm": {
     "name": "#%%\n"
    }
   }
  },
  {
   "cell_type": "code",
   "execution_count": 39,
   "outputs": [
    {
     "name": "stderr",
     "output_type": "stream",
     "text": [
      "/home/ninomoriaty/anaconda3/envs/qproject/lib/python3.9/site-packages/qiskit/visualization/bloch.py:69: MatplotlibDeprecationWarning: \n",
      "The M attribute was deprecated in Matplotlib 3.4 and will be removed two minor releases later. Use self.axes.M instead.\n",
      "  x_s, y_s, _ = proj3d.proj_transform(xs3d, ys3d, zs3d, renderer.M)\n"
     ]
    },
    {
     "data": {
      "text/plain": "<Figure size 288x288 with 1 Axes>",
      "image/png": "[encoded data removed]"
     },
     "execution_count": 39,
     "metadata": {},
     "output_type": "execute_result"
    }
   ],
   "source": [
    "# Verify the statevector after applied the gates\n",
    "qobj = qiskit.assemble(qc)\n",
    "state = svsim.run(qobj).result().get_statevector()\n",
    "qiskit.visualization.plot_bloch_multivector(state)\n",
    "\n"
   ],
   "metadata": {
    "collapsed": false,
    "pycharm": {
     "name": "#%%\n"
    }
   }
  },
  {
   "cell_type": "markdown",
   "source": [
    "# Hadamard Gates (H-Gate)\n",
    "**Def**\n",
    "\n",
    "$$ H = \\tfrac{1}{\\sqrt{2}}\\begin{bmatrix} 1 & 1 \\\\ 1 & -1 \\end{bmatrix} = \\tfrac{1}{\\sqrt{2}} (| 0 \\rangle \\langle + | + | 1 \\rangle \\langle - |)$$\n",
    "\n",
    "**Mt-Transform**\n",
    "\n",
    "$$ H|0\\rangle = |+\\rangle $$\n",
    "\n",
    "$$ H|1\\rangle = |-\\rangle $$\n",
    "\n",
    "$$ H|+\\rangle = |0\\rangle $$\n",
    "\n",
    "$$ H|-\\rangle = |1\\rangle $$\n",
    "\n",
    "**Tips-Gate Transform**\n",
    "\n",
    "- HZH = X\n",
    "- HZXH * i = Y\n",
    "\n",
    "**F**\n",
    "- Create a superposition for $| 0 \\rangle$, $| 1 \\rangle$."
   ],
   "metadata": {
    "collapsed": false,
    "pycharm": {
     "name": "#%% md\n"
    }
   }
  },
  {
   "cell_type": "code",
   "execution_count": 40,
   "outputs": [
    {
     "name": "stderr",
     "output_type": "stream",
     "text": [
      "/home/ninomoriaty/anaconda3/envs/qproject/lib/python3.9/site-packages/qiskit/visualization/bloch.py:69: MatplotlibDeprecationWarning: \n",
      "The M attribute was deprecated in Matplotlib 3.4 and will be removed two minor releases later. Use self.axes.M instead.\n",
      "  x_s, y_s, _ = proj3d.proj_transform(xs3d, ys3d, zs3d, renderer.M)\n"
     ]
    },
    {
     "data": {
      "text/plain": "HBox(children=(Button(description='X', layout=Layout(height='3em', width='3em'), style=ButtonStyle()), Button(…",
      "application/vnd.jupyter.widget-view+json": {
       "version_major": 2,
       "version_minor": 0,
       "model_id": "dc4a8c37178444deb59a524eb984e5a9"
      }
     },
     "metadata": {},
     "output_type": "display_data"
    },
    {
     "data": {
      "text/plain": "Image(value=b'\\x89PNG\\r\\n\\x1a\\n\\x00\\x00\\x00\\rIHDR\\x00\\x00\\x01 \\x00\\x00\\x01 \\x08\\x06\\x00\\x00\\x00\\x14\\x83\\xae\\x8…",
      "application/vnd.jupyter.widget-view+json": {
       "version_major": 2,
       "version_minor": 0,
       "model_id": "42e504ba3ac84224881393aceedf0b0d"
      }
     },
     "metadata": {},
     "output_type": "display_data"
    },
    {
     "name": "stderr",
     "output_type": "stream",
     "text": [
      "/home/ninomoriaty/anaconda3/envs/qproject/lib/python3.9/site-packages/qiskit/visualization/bloch.py:69: MatplotlibDeprecationWarning: \n",
      "The M attribute was deprecated in Matplotlib 3.4 and will be removed two minor releases later. Use self.axes.M instead.\n",
      "  x_s, y_s, _ = proj3d.proj_transform(xs3d, ys3d, zs3d, renderer.M)\n"
     ]
    }
   ],
   "source": [
    "\n"
   ],
   "metadata": {
    "collapsed": false,
    "pycharm": {
     "name": "#%%\n"
    }
   }
  },
  {
   "cell_type": "markdown",
   "source": [
    "# $R_{\\phi}$-Gate"
   ],
   "metadata": {
    "collapsed": false,
    "pycharm": {
     "name": "#%% md\n"
    }
   }
  },
  {
   "cell_type": "markdown",
   "source": [
    "# I, S, T Gate\n",
    "## I-Gate\n",
    "## S-Gate\n",
    "## T-Gate"
   ],
   "metadata": {
    "collapsed": false,
    "pycharm": {
     "name": "#%% md\n"
    }
   }
  },
  {
   "cell_type": "markdown",
   "source": [
    "# General $U_3$-Gate"
   ],
   "metadata": {
    "collapsed": false,
    "pycharm": {
     "name": "#%% md\n"
    }
   }
  },
  {
   "cell_type": "code",
   "execution_count": 17,
   "outputs": [
    {
     "data": {
      "text/plain": "1216.313261769788"
     },
     "execution_count": 17,
     "metadata": {},
     "output_type": "execute_result"
    }
   ],
   "source": [
    "# How to use log to scale the overflow problems\n",
    "## Example of overflow\n",
    "#np.e**1000 + np.e**1200+np.e**1215+np.e**1216\n",
    "\n",
    "## Log e transformation and sum the exp results pulsed by the maximum\n",
    "\n",
    "1216+np.log(sum([np.e**(-216), np.e**(-16), np.e**(-1), 1]))\n"
   ],
   "metadata": {
    "collapsed": false,
    "pycharm": {
     "name": "#%%\n"
    }
   }
  },
  {
   "cell_type": "code",
   "execution_count": 11,
   "outputs": [
    {
     "data": {
      "text/plain": "1.0130093598630717e-05"
     },
     "execution_count": 11,
     "metadata": {},
     "output_type": "execute_result"
    }
   ],
   "source": [
    "np.e**-11.5"
   ],
   "metadata": {
    "collapsed": false,
    "pycharm": {
     "name": "#%%\n"
    }
   }
  }
 ],
 "metadata": {
  "kernelspec": {
   "display_name": "Python 3",
   "language": "python",
   "name": "python3"
  },
  "language_info": {
   "codemirror_mode": {
    "name": "ipython",
    "version": 2
   },
   "file_extension": ".py",
   "mimetype": "text/x-python",
   "name": "python",
   "nbconvert_exporter": "python",
   "pygments_lexer": "ipython2",
   "version": "2.7.6"
  }
 },
 "nbformat": 4,
 "nbformat_minor": 0
}