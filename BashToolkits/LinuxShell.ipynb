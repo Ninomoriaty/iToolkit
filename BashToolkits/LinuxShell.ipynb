{
 "cells": [
  {
   "cell_type": "markdown",
   "metadata": {},
   "source": [
    "Guideline Level\n",
    "\n",
    "<center><p style=\"font-size:50px; font-weight:bold\">\n",
    "Linux Command Collections\n",
    "</p></center>\n",
    "\n",
    "Linux Command line, Linux System Usage, Customisation,"
   ]
  },
  {
   "cell_type": "markdown",
   "metadata": {},
   "source": [
    "---\n",
    "---\n",
    "# References\n",
    "## Textbook\n",
    "- TLCL 19.01 Part I - Part III\n",
    "\n",
    "## Web Resource\n",
    "\n",
    "\n",
    "# Lk\n",
    "- `ShellScript.ipynb` in the same folder, which contains the script writing methods(TLCL 19.01 Part IV and MSc BPSM), and the cooperation with IPython console.\n",
    "\n",
    "\n",
    "# Pcp-Edit\n",
    "- This notebook summarises the preliminary usage of bash/shell practice.\n",
    "\n"
   ]
  },
  {
   "source": [
    "---\n",
    "---\n",
    "# Mt-Notebook Environment\n",
    "## Pc-Config the environment for the notebook\n",
    "- conda/pip\n",
    "- bash kernel\n"
   ],
   "cell_type": "markdown",
   "metadata": {}
  },
  {
   "cell_type": "code",
   "execution_count": null,
   "metadata": {},
   "outputs": [],
   "source": [
    "# Install the bash kernel by pip or conda\n",
    "pip install bash_kernel\n",
    "python -m bash_kernel.install\n",
    "\n",
    "conda install -c conda-forge bash_kernel"
   ]
  },
  {
   "source": [
    "## Pc-Use the bash kernel with jupyter notebook server in VScode\n"
   ],
   "cell_type": "markdown",
   "metadata": {}
  },
  {
   "cell_type": "code",
   "execution_count": null,
   "metadata": {},
   "outputs": [],
   "source": [
    "# Enter the conda env or pip management\n",
    "conda activate PSBenv\n",
    "\n",
    "# Start the terminal and activate the jupyter server\n",
    "jupyter notebook\n",
    "\n",
    "# Then copy the URL to vscode and link the jupyter server\n",
    "# Select the bash kernel `Bash` in your conda env dir as the interpreter and the cells in this notebook could be executed normally."
   ]
  },
  {
   "cell_type": "markdown",
   "metadata": {
    "pycharm": {
     "name": "#%% md\n"
    }
   },
   "source": [
    "---\n",
    "---\n",
    "# Introduction to Shell Command\n",
    "## Cc\n",
    "- POSIX: The Portable Operating System Interface (POSIX) is a family of standards specified by the Institute of Electrical and Electronics Engineers (IEEE, \"I triple E\") Computer Society for maintaining compatibility between operating systems.\n",
    "  - F: defines the application programming interface (API), along with command line shells and utility interfaces, for software compatibility with variants of Unix and other operating systems.\"\n",
    "- Basic format of command in shell\n",
    "  - St: command -options arguments\n",
    "  - Short options could be list <u>together</u> with one dash.\n",
    "  - Long options should be separated by two dashes for each one.\n",
    "\n",
    "## How to read the command instruction\n",
    "**Def**\n",
    "\n",
    "1. **Square brackets:** indicate <u>optional items</u> in the description of a command's syntax.\n",
    "2. **Vertical bar character: ** indicates mutually exclusive items.\n",
    "\n",
    "**e.g.-cd notation**\n",
    "\n",
    "`cd [-L|[-P[-e]]] [dir]`\n",
    "\n",
    "This notation says that the command `cd` may be followed optionally by either a `-L` or a `-P` ,and further, if the `-P` option is specified the `-e` option may also be included followed by the optional argument `[dir]`.\n",
    "\n",
    "## Pcp/Ab-Conventions on BASH\n",
    "1. Case-sensitive\n",
    "2. hyphens(-), underscores(_), and full stops(.) are naturally supported.\n",
    "3. commas(,), space( ) are not permitted in the filenames and pathnames.(Although this could be walk-around by the \"\")\n",
    "\n",
    "## Cat-Shell\n",
    "1. Bash(Bourne-Again Shell): default shell in most Unix distribution\n",
    "2. CSH(C Shell): syntax and usage to C programming language\n",
    "3. TCSH: enhanced CSH\n",
    "4. Korn Shell: Base POSIX shell standard specifications."
   ]
  },
  {
   "cell_type": "markdown",
   "metadata": {
    "pycharm": {
     "name": "#%% md\n"
    }
   },
   "source": [
    "---\n",
    "---\n",
    "# Help and Manual"
   ]
  },
  {
   "cell_type": "code",
   "execution_count": null,
   "metadata": {
    "pycharm": {
     "name": "#%%\n"
    },
    "tags": []
   },
   "outputs": [],
   "source": [
    "echo \"---------- Help Page ----------\"\n",
    "# Mt-Call help page\n",
    "#$ [command] --help\n",
    "#$ help [command]  # special for the shell builtins\n",
    "\n",
    "cd --help\n",
    "help cd\n",
    "\n"
   ]
  },
  {
   "cell_type": "code",
   "execution_count": null,
   "metadata": {},
   "outputs": [],
   "source": [
    "\n",
    "echo \"---------- Manual Page ----------\"\n",
    "# man [program]  # show the manual page\n",
    "# man [section_num] [search_term] # use to search other section/manual of\n",
    "#     1. user commands\n",
    "#     2. programming interfaces for kernel system calls\n",
    "#     3. programming interfaces for the C library\n",
    "#     4. special files such as device nodes and drivers\n",
    "#     5. file formats\n",
    "#     6. Games and amusements such as screen savers\n",
    "#     7. Miscellaneous\n",
    "#     8. system administration commands\n",
    "# e.g.\n",
    "# man 5 passwd\n",
    "\n",
    "man mkdir\n",
    "\n",
    "# Options\n",
    "man -k [program] # the same as `apropos`\n",
    "\n",
    "echo \"---------- Other methods ----------\"\n",
    "# whatis [command]\n",
    "\n",
    "whatis python"
   ]
  },
  {
   "cell_type": "markdown",
   "metadata": {
    "pycharm": {
     "name": "#%% md\n"
    }
   },
   "source": [
    "---\n",
    "## Mt-Search the list of man page for possible match text\n",
    "\n",
    "```bash\n",
    "apropos [text_to_match]\n",
    "```"
   ]
  },
  {
   "cell_type": "code",
   "execution_count": null,
   "metadata": {
    "pycharm": {
     "name": "#%%\n"
    }
   },
   "outputs": [],
   "source": [
    "apropos python"
   ]
  },
  {
   "cell_type": "markdown",
   "metadata": {
    "pycharm": {
     "name": "#%% md\n"
    }
   },
   "source": [
    "---\n",
    "## Mt-Search items in Manual Page\n",
    "\n",
    "1. Type the `/` in the manual page\n",
    "2. type the item that you want to search\n",
    "3. Press `Enter`\n",
    "4. The search results could be jumped forwards and backwards by `N` and `Shift+N`"
   ]
  },
  {
   "cell_type": "markdown",
   "metadata": {
    "pycharm": {
     "name": "#%% md\n"
    }
   },
   "source": [
    "---\n",
    "## Info Entry for GNU Project\n",
    "\n",
    "**Tips:**  Info files contain hyperlinks that can move the reader from node to node by press `Enter` key when the cursor upon the hyperlink.\n",
    "\n",
    "```bash\n",
    "info [command]\n",
    "```\n",
    "\n",
    "How to move in the <u>Info files</u>?(same)\n",
    "\n",
    "![Screenshot from 2020-09-23 14-40-34.png](https://i.loli.net/2020/09/23/Pm3DJjGhHZLkWqa.png)"
   ]
  },
  {
   "cell_type": "markdown",
   "metadata": {
    "pycharm": {
     "name": "#%% md\n"
    }
   },
   "source": [
    "---\n",
    "---\n",
    "# Terminal Operations\n",
    "**Tips**: bash uses a library *Readline* to implement command line editing, even for the shortcut keys.\n",
    "\n",
    "---\n",
    "## Basic Operation\n",
    "- Open/Add new terminals\n",
    "    - (Open/Add) New windows:`Ctrl+Alt+T`\n",
    "    - Tabs: `Ctrl+Shift+N`\n",
    "- Exit the terminal\n",
    "    - (`Ctrl+D`)\n",
    "    - End of File (EOF)\n",
    "    - ```bash\n",
    "      exit\n",
    "      ```"
   ]
  },
  {
   "source": [
    "---\n",
    "## Virtual terminals/consoles"
   ],
   "cell_type": "markdown",
   "metadata": {}
  },
  {
   "cell_type": "code",
   "execution_count": null,
   "metadata": {},
   "outputs": [],
   "source": []
  },
  {
   "source": [
    "---\n",
    "## Edit Commands"
   ],
   "cell_type": "markdown",
   "metadata": {}
  },
  {
   "cell_type": "code",
   "execution_count": null,
   "metadata": {},
   "outputs": [],
   "source": []
  },
  {
   "cell_type": "markdown",
   "metadata": {
    "pycharm": {
     "name": "#%% md\n"
    }
   },
   "source": [
    "---\n",
    "---\n",
    "# Linux File System\n",
    "\n",
    "## Special Symbol when using file system\n",
    "\n",
    "## Show Directory Inforamtion\n",
    "\n",
    "## Manipulate Files and Directories\n",
    "\n",
    "## Download files and further process\n",
    "\n",
    "## Navigate in file system\n",
    "sdfsdf"
   ]
  },
  {
   "cell_type": "markdown",
   "metadata": {
    "pycharm": {
     "name": "#%% md\n"
    }
   },
   "source": [
    "---\n",
    "---\n",
    "# System Administration\n",
    "**Ref**\n",
    "- TLCL 19.01 Chapter 15 Storage Media"
   ]
  },
  {
   "source": [
    "---\n",
    "## Statistics of current system"
   ],
   "cell_type": "markdown",
   "metadata": {}
  },
  {
   "cell_type": "code",
   "execution_count": null,
   "metadata": {
    "pycharm": {
     "name": "#%%\n"
    }
   },
   "outputs": [],
   "source": [
    "\n",
    "echo \"---------- Mt-Memory, Swap and Buffers ----------\"\n",
    "# Mt-Check the memory/swap space resource usage\n",
    "#$ free\n",
    "\n",
    "## Basic info\n",
    "free\n",
    "## Options\n",
    "free -h  # Show output in human readable style(With the unit of space, commonly Gigabytes)\n",
    "free --giga  # Show output in gigabytes (However, without units)\n",
    "## Help page\n",
    "echo \"----- free Help Page -----\"; free --help  # Other methods\n",
    "\n",
    "# output:\n",
    "#               total        used        free      shared  buff/cache   available\n",
    "# Mem:       16254076     6595876     4110600      181472     5547600     9178232\n",
    "# Swap:       2097148           0     2097148\n"
   ]
  },
  {
   "cell_type": "markdown",
   "metadata": {
    "pycharm": {
     "name": "#%% md\n"
    }
   },
   "source": [
    "---\n",
    "## Storage Media/Disk Management\n",
    "**Tips**: Not all the command is suitable for your system."
   ]
  },
  {
   "source": [
    "### Mt-Check existing devices\n",
    "\n",
    "**Tips**: Common devices directory `/dev/`\n",
    "\n"
   ],
   "cell_type": "markdown",
   "metadata": {}
  },
  {
   "cell_type": "code",
   "execution_count": null,
   "metadata": {},
   "outputs": [],
   "source": [
    "echo \"---------- Mt-Check existing devices ----------\"\n",
    "ls /dev"
   ]
  },
  {
   "cell_type": "markdown",
   "metadata": {
    "pycharm": {
     "name": "#%% md\n"
    }
   },
   "source": [
    "### Mt-Mount"
   ]
  },
  {
   "cell_type": "code",
   "execution_count": null,
   "metadata": {
    "pycharm": {
     "name": "#%%\n"
    }
   },
   "outputs": [],
   "source": [
    "echo \"---------- Mt-Mount ----------\"\n",
    "# Mt-Display mounted file systems\n",
    "#$ mount\n",
    "\n",
    "mount  \n",
    "\n",
    "# output-e.g.: [device] on [mount_point] type [file_system_type] ([options]).\n",
    "\n",
    "# Mt-Mount device to a mount point\n",
    "#$ mount [removable_dev] [dir_mount_point]\n",
    "#$ mount -t [file_system_type] [device_name] [dir_mount_point]\n",
    "\n",
    "mount /dev/sdb1 /mnt/flash\n",
    "mount -t iso9660 /dev/sdc /mnt/cdrom\n",
    "\n",
    "\n"
   ]
  },
  {
   "cell_type": "markdown",
   "metadata": {
    "pycharm": {
     "name": "#%% md\n"
    }
   },
   "source": [
    "### Mt-Unmount\n",
    "**Pcp**\n",
    "- If a device is used by other processes, it can not be unmounted.\n",
    "\n",
    "\n",
    "**F**\n",
    "- Unmounting a device entails writing all the remaining data to the device so that it\n",
    "can be safely removed. \n",
    "- file system corruption, one of the worst things that can happen on a computer.\n",
    "- \n",
    "\n"
   ]
  },
  {
   "cell_type": "code",
   "execution_count": null,
   "metadata": {
    "pycharm": {
     "name": "#%%\n"
    }
   },
   "outputs": [],
   "source": [
    "echo \"---------- Mt-Unmount ----------\"\n",
    "# Mt-Unmount a device\n",
    "# umount [device_name]  # Tips: umount not unmount\n",
    "\n",
    "su -\n",
    "umount /dev/sdc\n",
    "\n",
    "\n"
   ]
  },
  {
   "source": [
    "### Cpn-Device naming pattern\n",
    "\n",
    "**Common device names and meaning**\n",
    "\n",
    "| Pattern  | Device                                                       |\n",
    "| -------- | ------------------------------------------------------------ |\n",
    "| /dev/fd* | Floppy disk drives.                                          |\n",
    "| /dev/hd* | IDE (PATA) disks on older systems. Typical motherboards contain two IDE connectors or channels, each with a cable with two attachment points for drives. The first drive on the cable is called the master device, and the second is called the slave device. The device names are ordered such that /dev/hda refers to the master device on the first channel, /dev/hdb is the slave device on the first channel; /dev/hdc is the master device on the second channel, and so on. A trailing digit indicates the partition number on the device. For example, /dev/hda1 refers to the first partition on the first hard drive on the system, while /dev/hda refers to the entire drive. |\n",
    "| /dev/lp* | Printers.                                                    |\n",
    "| /dev/sd* | SCSI disks. On modern Linux systems, the kernel treats all disk- like devices (including PATA/SATA hard disks, flash drives, and USB mass storage devices such as portable music players and digital cameras) as SCSI disks. The rest of the naming system is similar to the older /dev/hd* naming scheme described above. |\n",
    "| /dev/sr* | Optical drives (CD/DVD readers and burners).                 |\n",
    "\n",
    "\n",
    "\n"
   ],
   "cell_type": "markdown",
   "metadata": {}
  },
  {
   "cell_type": "code",
   "execution_count": null,
   "metadata": {},
   "outputs": [],
   "source": [
    "# Mt-Check the name of a device\n",
    "#$ sudo tail -f /var/log/messages  # Actually, different distributions contain different log files.\n",
    "\n",
    "# \n",
    "\n"
   ]
  },
  {
   "source": [
    "### Mt-Create new file system and Reformat\n",
    "**Cc**\n",
    "- `fdisk`\n",
    "    - Def: A host of program on disk-like devices interactions\n",
    "    - F: Edit, delete, and create partitions on the device\n",
    "- \n",
    "\n",
    "**Pc-Workflow**\n",
    "- (optional) Create a new partition layout if the existing one is not to our liking.\n",
    "- Create a new, empty file system on the drive.\n",
    "\n",
    "**Problem**\n",
    "- make absolutely sure you are specifying the correct device name for your\n",
    "system, not the one shown in the text. Failure to heed this warning could re-\n",
    "sult in you formatting (i.e., erasing) the wrong drive!\n",
    "\n"
   ],
   "cell_type": "markdown",
   "metadata": {}
  },
  {
   "source": [
    "#### Pc-Manipulating Partitions with `fdisk`\n",
    "\n",
    "**Change the partition type for particular system**\n",
    "- Command p: examine the existing partition layout and find out what ID is used to identify a Linux partition\n",
    "- Command l: see ID for our existing partition type and what partition type for Linux.\n",
    "- Command t: change a partition's system id\n",
    "- Command w: write the modified partition table to the device and exit. \n",
    "\n"
   ],
   "cell_type": "markdown",
   "metadata": {}
  },
  {
   "cell_type": "code",
   "execution_count": null,
   "metadata": {},
   "outputs": [],
   "source": [
    "sudo umount /dev/sdb1\n",
    "sudo fdisk /dev/sdb\n",
    "\n",
    "# prompt:\n",
    "Command (m for help):\n",
    "\n",
    "# Help and Options\n",
    "Command action\n",
    "a toggle a bootable flag\n",
    "b edit bsd disklabel\n",
    "c toggle the dos compatibility flag\n",
    "d delete a partition\n",
    "l list known partition types\n",
    "m print this menu\n",
    "n add a new partition\n",
    "o create a new empty DOS partition table\n",
    "p print the partition table\n",
    "q quit without saving changes\n",
    "s create a new empty Sun disklabel\n",
    "t change a partition's system id\n",
    "u change display/entry units\n",
    "v verify the partition table\n",
    "w write table to disk and exit\n",
    "x extra functionality (experts only)\n",
    "Command (m for help):\n",
    "\n"
   ]
  },
  {
   "source": [
    "#### Pc- Manipulating Partitions with `mkfs`\n",
    "**Cc**\n",
    "- `mkfs`(MaKe File System): \n",
    "    - F: create file systems in a variety of formats\n",
    "\n",
    "**Cpn**\n",
    "- file_system_type\n",
    "    - FAT32: vfat\n",
    "    - EXT4: ext4\n"
   ],
   "cell_type": "markdown",
   "metadata": {}
  },
  {
   "cell_type": "code",
   "execution_count": null,
   "metadata": {},
   "outputs": [],
   "source": [
    "#$ mkfs -t [file_system_type] [dev_name]\n",
    "\n",
    "sudo mkfs -t ext4 /dev/sdb1\n",
    "\n",
    "## Options\n",
    "-t [file_system_type]"
   ]
  },
  {
   "source": [
    "### Mt-Moving Data Directly to and from Devices\n",
    "**Cc**\n",
    "- `dd`(Data Definition) \n",
    "    - F: copy blocks of data in hardware level from one space to another\n"
   ],
   "cell_type": "markdown",
   "metadata": {}
  },
  {
   "cell_type": "code",
   "execution_count": null,
   "metadata": {},
   "outputs": [],
   "source": [
    "# \n",
    "#$ dd if=input_file of=output_file [bs=block_size [count=blocks]]\n",
    "#$ dd if=[dev_name1] of=[dev_name2]\n",
    "#$ dd if=[dev_name1] of=[file/image_name]\n"
   ]
  },
  {
   "source": [
    "---\n",
    "## Testing and Repairing File Systems\n",
    "**Cc**\n",
    "- `fsck`(File System Check)\n",
    "    - F\n",
    "        - checking the integrity of file systems\n",
    "        - repair corrupt file systems\n",
    "- `fstab`\n"
   ],
   "cell_type": "markdown",
   "metadata": {}
  },
  {
   "cell_type": "code",
   "execution_count": null,
   "metadata": {},
   "outputs": [],
   "source": [
    "#$ mkfs [dev_name]\n",
    "\n",
    "sudo fsck /dev/sdb1\n"
   ]
  },
  {
   "source": [
    "---\n",
    "## Mt-Images\n",
    "**Pc**\n",
    "- Create the iso image file of the system\n",
    "- Write the iso image onto CD-ROM device\n"
   ],
   "cell_type": "markdown",
   "metadata": {}
  },
  {
   "source": [
    "### Pc-Create Images\n",
    "Ref: TLCL 15 Creating CD-ROM Images\n",
    "\n",
    "\n",
    "Tips: Not Completed, Not comprehensive at all\n",
    "\n"
   ],
   "cell_type": "markdown",
   "metadata": {}
  },
  {
   "cell_type": "code",
   "execution_count": null,
   "metadata": {},
   "outputs": [],
   "source": [
    "# make an ISO image of an existing CD-ROM (not work for audio CD)\n",
    "\n",
    "dd if=/dev/cdrom of=ubuntu.iso\n",
    "\n",
    "# audio CD\n",
    "cdrdao\n"
   ]
  },
  {
   "cell_type": "code",
   "execution_count": null,
   "metadata": {},
   "outputs": [],
   "source": [
    "# create an ISO image file containing the contents of a directory\n",
    "#$ genisoimage [options] [ISO_image_name] [dir]\n",
    "\n",
    "genisoimage -o cd-rom.iso -R -J ~/cd-rom-files\n",
    "\n",
    "## Options\n",
    "-R  # adds metadata for the Rock Ridge extensions, which allows the use of long filenames and POSIX-style file permissions\n",
    "-J  # enables the Jolietextensions, which permit long filenames for Windows\n"
   ]
  },
  {
   "source": [
    "### Pc-Writing CD-ROM Images"
   ],
   "cell_type": "markdown",
   "metadata": {}
  },
  {
   "cell_type": "code",
   "execution_count": null,
   "metadata": {},
   "outputs": [],
   "source": [
    "# Mounting an ISO Image rather than really write it on a new device\n",
    "mkdir /mnt/iso_image\n",
    "mount -t iso9660 -o loop image.iso /mnt/iso_image\n",
    "\n",
    "# Blanking a Rewritable CD-ROM\n",
    "wodim dev=/dev/cdrw blank=fast  # specifying the device name for the CD writer and the type of blanking to be performed\n",
    "\n",
    "# Writing an Image\n",
    "wodim dev=/dev/cdrw image.iso  # specifying the name of the optical media writer device and the name of the image file\n",
    "\n",
    "## Options\n",
    "-v for verbose output\n",
    "-dao”, disc-at-once mode. This mode should be used if you are preparing a disc for commercial re-production. \n",
    "The default mode for wodim is track-at-once, which is useful for recording music tracks.\n",
    "\n"
   ]
  },
  {
   "source": [
    "## Checksum file\n",
    "- `checksum`: The result of an exotic mathematical calculation resulting in a number that represents the content of the target file.\n",
    "- `md5sum`: The program to generate checksum \n",
    "    - F\n",
    "        - Verify the integrity of an ISO image after downloading the image\n",
    "        - Verify newly written optical media/image device\n",
    "        - "
   ],
   "cell_type": "markdown",
   "metadata": {}
  },
  {
   "cell_type": "code",
   "execution_count": null,
   "metadata": {},
   "outputs": [],
   "source": [
    "# Verify the integrity of an ISO image after downloading the image\n",
    "\n",
    "md5sum image.iso\n",
    "\n",
    "\n",
    "# Verify newly written optical media/image device\n",
    "\n",
    "md5sum /dev/cdrom\n",
    "\n",
    "## e.g. check the integrity of the image file dvd-image.iso and the disc in the DVD reader /dev/dvd. by determining the number of 2,048-byte blocks the image contains\n",
    "md5sum dvd-image.iso; dd if=/dev/dvd bs=2048 count=$(( $(stat -c \"%s\"\n",
    "dvd-image.iso) / 2048 )) | md5sum\n",
    "\n"
   ]
  },
  {
   "cell_type": "markdown",
   "metadata": {
    "pycharm": {
     "name": "#%% md\n"
    }
   },
   "source": [
    "---\n",
    "---\n",
    "# Edit in command line\n",
    "**Ref**\n",
    "- TLCL Vim\n",
    "\n",
    "**Lk**\n",
    "- Wiznote > NeoVim/Vim\n",
    "\n"
   ]
  },
  {
   "cell_type": "code",
   "execution_count": null,
   "metadata": {
    "pycharm": {
     "name": "#%%\n"
    }
   },
   "outputs": [],
   "source": []
  },
  {
   "source": [
    "---\n",
    "---\n",
    "# Networking and Servers\n",
    "**Ref**\n",
    "- TLCL 16 Networking\n",
    "- Linux Network Administrator’s Guide: http://tldp.org/LDP/nag2/index.html\n",
    "\n",
    "\n",
    "**Cc**\n",
    "- Firewalls\n",
    "- Routers\n",
    "- Name servers\n",
    "- Network-attached storage (NAS) boxes\n",
    "- Internet protocol (IP) address: A numerical label assigned to each device connected to a computer network that uses the Internet Protocol for communication\n",
    "    - F: host or network interface identification and location addressing\n",
    "- Host and domain name*: a label that is assigned to a device connected to a computer network and that is used to identify the device in various forms of electronic communication\n",
    "    - F: \n",
    "- Uniform resource identifier (URI): a unique sequence of characters that identifies a logical or physical resource used by web technologies\n",
    "\n",
    "\n"
   ],
   "cell_type": "markdown",
   "metadata": {}
  },
  {
   "source": [
    "---\n",
    "## TCP/IP Related\n",
    "**Cc**\n",
    "- `ping`\n",
    "    - F: Send an ICMP ECHO_REQUEST to network hosts\n",
    "- `traceroute`\n",
    "    - F: Print the route packets trace to a network host\n",
    "- `ip`\n",
    "    - F: Show / manipulate routing, devices, policy routing and tunnels\n",
    "- `netstat`\n",
    "    - F: Print network connections, routing tables, interface statistics, masquerade connections, and multicast memberships\n"
   ],
   "cell_type": "markdown",
   "metadata": {}
  },
  {
   "source": [
    "---\n",
    "## Examining and Monitoring a Network\n"
   ],
   "cell_type": "markdown",
   "metadata": {}
  },
  {
   "cell_type": "code",
   "execution_count": null,
   "metadata": {},
   "outputs": [],
   "source": []
  },
  {
   "source": [
    "---\n",
    "## Mt-Files Transfermation\n",
    "**Cc**\n",
    "- `ftp` Internet file transfer program\n",
    "- `wget`: Non-interactive network downloader\n"
   ],
   "cell_type": "markdown",
   "metadata": {}
  },
  {
   "cell_type": "code",
   "execution_count": null,
   "metadata": {},
   "outputs": [],
   "source": [
    "# From website http or ftp etc.wget [download_link_to_file]\n",
    "wget <url_file>\n",
    "\n",
    "# Options\n",
    "-O # the outputfile\n",
    "-q # quiet"
   ]
  },
  {
   "cell_type": "code",
   "execution_count": null,
   "metadata": {},
   "outputs": [],
   "source": [
    "ftp"
   ]
  },
  {
   "cell_type": "code",
   "execution_count": null,
   "metadata": {},
   "outputs": [],
   "source": [
    "# common usage\n",
    "#$ curl [options] <website>\n",
    "curl -s https://get.nextflow.io | bash\n",
    "\n",
    "\n",
    "# GitHub repo related methods\n",
    "## use the github API to search repos in specific user\n",
    "curl -u [user] -X [command] [API] -d [search_pattern]\n",
    "## get repo\n",
    "curl -u B000000-2019 https://api.github.com/user/repos -d '{\"name\":\"Assignment1\"}'\n",
    "## delete the repo\n",
    "curl -u Bxxxxxx-2020 -X \"DELETE\" https://api.github.com/repos/Bxxxxxx-2020/repositoryname"
   ]
  },
  {
   "source": [
    "---\n",
    "## Remote Linkage"
   ],
   "cell_type": "markdown",
   "metadata": {}
  },
  {
   "source": [
    "**Ref**\n",
    "- https://www.digitalocean.com/community/tutorials/how-to-use-ssh-to-connect-to-a-remote-server\n",
    "\n",
    "**Cc**\n",
    "- `ssh`(OpenSSH SSH client (remote login program))\n",
    "    - F: Link to Remote Host\n",
    "    "
   ],
   "cell_type": "markdown",
   "metadata": {}
  },
  {
   "cell_type": "code",
   "execution_count": null,
   "metadata": {},
   "outputs": [],
   "source": [
    "# Basic Usage\n",
    "#$ ssh [remote_host]ssh -l [login_name] [server_dir]\n",
    "\n",
    "# Options\n",
    "+X  # X11\n",
    "\n",
    "## For Bioinformsc5ssh \n",
    "s2059232@bioinfmsc5.bio.ed.ac.uk\n",
    "## Enable the X11 \n",
    "ssh +X s2059232@bioinfmsc5.bio.ed.ac.uk\n",
    "\n",
    "\n",
    "# Configure ssh"
   ]
  }
 ],
 "metadata": {
  "interpreter": {
   "hash": "817d0a3841ebdd2a1cc36d840618b60456b5940c254da1e77a1b0a18f63766d5"
  },
  "kernelspec": {
   "name": "bash",
   "display_name": "Bash",
   "language": "bash"
  }
 },
 "nbformat": 4,
 "nbformat_minor": 1
}